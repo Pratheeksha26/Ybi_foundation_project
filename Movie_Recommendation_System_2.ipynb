{
  "nbformat": 4,
  "nbformat_minor": 0,
  "metadata": {
    "colab": {
      "provenance": []
    },
    "kernelspec": {
      "name": "python3",
      "display_name": "Python 3"
    },
    "language_info": {
      "name": "python"
    }
  },
  "cells": [
    {
      "cell_type": "code",
      "source": [
        "from google.colab import drive\n",
        "drive.mount('/content/drive')"
      ],
      "metadata": {
        "colab": {
          "base_uri": "https://localhost:8080/"
        },
        "id": "p-3zPJgHGtCR",
        "outputId": "026e3265-1bab-4856-d1b9-43332de37540"
      },
      "execution_count": null,
      "outputs": [
        {
          "output_type": "stream",
          "name": "stdout",
          "text": [
            "Drive already mounted at /content/drive; to attempt to forcibly remount, call drive.mount(\"/content/drive\", force_remount=True).\n"
          ]
        }
      ]
    },
    {
      "cell_type": "markdown",
      "source": [
        "# **Import Libraries**"
      ],
      "metadata": {
        "id": "lrrTejf17Sso"
      }
    },
    {
      "cell_type": "code",
      "source": [
        "import pandas as pd\n",
        "import numpy as np\n",
        "import re\n",
        "import nltk\n",
        "from nltk.corpus import stopwords\n",
        "from sklearn.model_selection import train_test_split\n",
        "from sklearn.feature_extraction.text import TfidfVectorizer\n",
        "from sklearn.naive_bayes import MultinomialNB\n",
        "from sklearn.metrics import accuracy_score, classification_report\n",
        "from sklearn.ensemble import RandomForestClassifier\n",
        "from sklearn.svm import SVC"
      ],
      "metadata": {
        "id": "X2iMQVMPhmAA"
      },
      "execution_count": null,
      "outputs": []
    },
    {
      "cell_type": "markdown",
      "source": [
        "# **Import Dataset**"
      ],
      "metadata": {
        "id": "WTYn0slB7nY-"
      }
    },
    {
      "cell_type": "code",
      "source": [
        "df = pd.read_csv('/content/drive/MyDrive/cleaned.csv')"
      ],
      "metadata": {
        "id": "faGi8sq3i990"
      },
      "execution_count": null,
      "outputs": []
    },
    {
      "cell_type": "code",
      "source": [
        "df.head()"
      ],
      "metadata": {
        "colab": {
          "base_uri": "https://localhost:8080/",
          "height": 642
        },
        "id": "OMgLoAiw7tG8",
        "outputId": "98a911b2-336f-4503-f151-56c45de453a7"
      },
      "execution_count": null,
      "outputs": [
        {
          "output_type": "execute_result",
          "data": {
            "text/plain": [
              "   Movie_ID      Movie_Title                       Movie_Genre Movie_Language  \\\n",
              "0         1       Four Rooms                      Crime Comedy             en   \n",
              "1         2        Star Wars  Adventure Action Science Fiction             en   \n",
              "2         3     Finding Nemo                  Animation Family             en   \n",
              "3         4     Forrest Gump              Comedy Drama Romance             en   \n",
              "4         5  American Beauty                             Drama             en   \n",
              "\n",
              "   Movie_Budget  Movie_Popularity Movie_Release_Date  Movie_Revenue  \\\n",
              "0       4000000         22.876230         1995-12-09        4300000   \n",
              "1      11000000        126.393695         1977-05-25      775398007   \n",
              "2      94000000         85.688789         2003-05-30      940335536   \n",
              "3      55000000        138.133331         1994-07-06      677945399   \n",
              "4      15000000         80.878605         1999-09-15      356296601   \n",
              "\n",
              "   Movie_Runtime  Movie_Vote  Movie_Vote_Count  \\\n",
              "0           98.0         6.5               530   \n",
              "1          121.0         8.1              6624   \n",
              "2          100.0         7.6              6122   \n",
              "3          142.0         8.2              7927   \n",
              "4          122.0         7.9              3313   \n",
              "\n",
              "                                      Movie_Keywords  \\\n",
              "0          hotel new year's eve witch bet hotel room   \n",
              "1        android galaxy hermit death star lightsaber   \n",
              "2  father son relationship harbor underwater fish...   \n",
              "3  vietnam veteran hippie mentally disabled runni...   \n",
              "4  male nudity female nudity adultery midlife cri...   \n",
              "\n",
              "                                      Movie_Overview  \\\n",
              "0  It's Ted the Bellhop's first night on the job....   \n",
              "1  Princess Leia is captured and held hostage by ...   \n",
              "2  Nemo, an adventurous young clownfish, is unexp...   \n",
              "3  A man with a low IQ has accomplished great thi...   \n",
              "4  Lester Burnham, a depressed suburban father in...   \n",
              "\n",
              "                                       Movie_Tagline  \\\n",
              "0  Twelve outrageous guests. Four scandalous requ...   \n",
              "1       A long time ago in a galaxy far, far away...   \n",
              "2  There are 3.7 trillion fish in the ocean, they...   \n",
              "3  The world will never be the same, once you've ...   \n",
              "4                                       Look closer.   \n",
              "\n",
              "                                          Movie_Cast   Movie_Director  \n",
              "0  Tim Roth Antonio Banderas Jennifer Beals Madon...   Allison Anders  \n",
              "1  Mark Hamill Harrison Ford Carrie Fisher Peter ...     George Lucas  \n",
              "2  Albert Brooks Ellen DeGeneres Alexander Gould ...   Andrew Stanton  \n",
              "3  Tom Hanks Robin Wright Gary Sinise Mykelti Wil...  Robert Zemeckis  \n",
              "4  Kevin Spacey Annette Bening Thora Birch Wes Be...       Sam Mendes  "
            ],
            "text/html": [
              "\n",
              "  <div id=\"df-31033d92-3614-47eb-a2c7-e86e0ac82a8b\" class=\"colab-df-container\">\n",
              "    <div>\n",
              "<style scoped>\n",
              "    .dataframe tbody tr th:only-of-type {\n",
              "        vertical-align: middle;\n",
              "    }\n",
              "\n",
              "    .dataframe tbody tr th {\n",
              "        vertical-align: top;\n",
              "    }\n",
              "\n",
              "    .dataframe thead th {\n",
              "        text-align: right;\n",
              "    }\n",
              "</style>\n",
              "<table border=\"1\" class=\"dataframe\">\n",
              "  <thead>\n",
              "    <tr style=\"text-align: right;\">\n",
              "      <th></th>\n",
              "      <th>Movie_ID</th>\n",
              "      <th>Movie_Title</th>\n",
              "      <th>Movie_Genre</th>\n",
              "      <th>Movie_Language</th>\n",
              "      <th>Movie_Budget</th>\n",
              "      <th>Movie_Popularity</th>\n",
              "      <th>Movie_Release_Date</th>\n",
              "      <th>Movie_Revenue</th>\n",
              "      <th>Movie_Runtime</th>\n",
              "      <th>Movie_Vote</th>\n",
              "      <th>Movie_Vote_Count</th>\n",
              "      <th>Movie_Keywords</th>\n",
              "      <th>Movie_Overview</th>\n",
              "      <th>Movie_Tagline</th>\n",
              "      <th>Movie_Cast</th>\n",
              "      <th>Movie_Director</th>\n",
              "    </tr>\n",
              "  </thead>\n",
              "  <tbody>\n",
              "    <tr>\n",
              "      <th>0</th>\n",
              "      <td>1</td>\n",
              "      <td>Four Rooms</td>\n",
              "      <td>Crime Comedy</td>\n",
              "      <td>en</td>\n",
              "      <td>4000000</td>\n",
              "      <td>22.876230</td>\n",
              "      <td>1995-12-09</td>\n",
              "      <td>4300000</td>\n",
              "      <td>98.0</td>\n",
              "      <td>6.5</td>\n",
              "      <td>530</td>\n",
              "      <td>hotel new year's eve witch bet hotel room</td>\n",
              "      <td>It's Ted the Bellhop's first night on the job....</td>\n",
              "      <td>Twelve outrageous guests. Four scandalous requ...</td>\n",
              "      <td>Tim Roth Antonio Banderas Jennifer Beals Madon...</td>\n",
              "      <td>Allison Anders</td>\n",
              "    </tr>\n",
              "    <tr>\n",
              "      <th>1</th>\n",
              "      <td>2</td>\n",
              "      <td>Star Wars</td>\n",
              "      <td>Adventure Action Science Fiction</td>\n",
              "      <td>en</td>\n",
              "      <td>11000000</td>\n",
              "      <td>126.393695</td>\n",
              "      <td>1977-05-25</td>\n",
              "      <td>775398007</td>\n",
              "      <td>121.0</td>\n",
              "      <td>8.1</td>\n",
              "      <td>6624</td>\n",
              "      <td>android galaxy hermit death star lightsaber</td>\n",
              "      <td>Princess Leia is captured and held hostage by ...</td>\n",
              "      <td>A long time ago in a galaxy far, far away...</td>\n",
              "      <td>Mark Hamill Harrison Ford Carrie Fisher Peter ...</td>\n",
              "      <td>George Lucas</td>\n",
              "    </tr>\n",
              "    <tr>\n",
              "      <th>2</th>\n",
              "      <td>3</td>\n",
              "      <td>Finding Nemo</td>\n",
              "      <td>Animation Family</td>\n",
              "      <td>en</td>\n",
              "      <td>94000000</td>\n",
              "      <td>85.688789</td>\n",
              "      <td>2003-05-30</td>\n",
              "      <td>940335536</td>\n",
              "      <td>100.0</td>\n",
              "      <td>7.6</td>\n",
              "      <td>6122</td>\n",
              "      <td>father son relationship harbor underwater fish...</td>\n",
              "      <td>Nemo, an adventurous young clownfish, is unexp...</td>\n",
              "      <td>There are 3.7 trillion fish in the ocean, they...</td>\n",
              "      <td>Albert Brooks Ellen DeGeneres Alexander Gould ...</td>\n",
              "      <td>Andrew Stanton</td>\n",
              "    </tr>\n",
              "    <tr>\n",
              "      <th>3</th>\n",
              "      <td>4</td>\n",
              "      <td>Forrest Gump</td>\n",
              "      <td>Comedy Drama Romance</td>\n",
              "      <td>en</td>\n",
              "      <td>55000000</td>\n",
              "      <td>138.133331</td>\n",
              "      <td>1994-07-06</td>\n",
              "      <td>677945399</td>\n",
              "      <td>142.0</td>\n",
              "      <td>8.2</td>\n",
              "      <td>7927</td>\n",
              "      <td>vietnam veteran hippie mentally disabled runni...</td>\n",
              "      <td>A man with a low IQ has accomplished great thi...</td>\n",
              "      <td>The world will never be the same, once you've ...</td>\n",
              "      <td>Tom Hanks Robin Wright Gary Sinise Mykelti Wil...</td>\n",
              "      <td>Robert Zemeckis</td>\n",
              "    </tr>\n",
              "    <tr>\n",
              "      <th>4</th>\n",
              "      <td>5</td>\n",
              "      <td>American Beauty</td>\n",
              "      <td>Drama</td>\n",
              "      <td>en</td>\n",
              "      <td>15000000</td>\n",
              "      <td>80.878605</td>\n",
              "      <td>1999-09-15</td>\n",
              "      <td>356296601</td>\n",
              "      <td>122.0</td>\n",
              "      <td>7.9</td>\n",
              "      <td>3313</td>\n",
              "      <td>male nudity female nudity adultery midlife cri...</td>\n",
              "      <td>Lester Burnham, a depressed suburban father in...</td>\n",
              "      <td>Look closer.</td>\n",
              "      <td>Kevin Spacey Annette Bening Thora Birch Wes Be...</td>\n",
              "      <td>Sam Mendes</td>\n",
              "    </tr>\n",
              "  </tbody>\n",
              "</table>\n",
              "</div>\n",
              "    <div class=\"colab-df-buttons\">\n",
              "\n",
              "  <div class=\"colab-df-container\">\n",
              "    <button class=\"colab-df-convert\" onclick=\"convertToInteractive('df-31033d92-3614-47eb-a2c7-e86e0ac82a8b')\"\n",
              "            title=\"Convert this dataframe to an interactive table.\"\n",
              "            style=\"display:none;\">\n",
              "\n",
              "  <svg xmlns=\"http://www.w3.org/2000/svg\" height=\"24px\" viewBox=\"0 -960 960 960\">\n",
              "    <path d=\"M120-120v-720h720v720H120Zm60-500h600v-160H180v160Zm220 220h160v-160H400v160Zm0 220h160v-160H400v160ZM180-400h160v-160H180v160Zm440 0h160v-160H620v160ZM180-180h160v-160H180v160Zm440 0h160v-160H620v160Z\"/>\n",
              "  </svg>\n",
              "    </button>\n",
              "\n",
              "  <style>\n",
              "    .colab-df-container {\n",
              "      display:flex;\n",
              "      gap: 12px;\n",
              "    }\n",
              "\n",
              "    .colab-df-convert {\n",
              "      background-color: #E8F0FE;\n",
              "      border: none;\n",
              "      border-radius: 50%;\n",
              "      cursor: pointer;\n",
              "      display: none;\n",
              "      fill: #1967D2;\n",
              "      height: 32px;\n",
              "      padding: 0 0 0 0;\n",
              "      width: 32px;\n",
              "    }\n",
              "\n",
              "    .colab-df-convert:hover {\n",
              "      background-color: #E2EBFA;\n",
              "      box-shadow: 0px 1px 2px rgba(60, 64, 67, 0.3), 0px 1px 3px 1px rgba(60, 64, 67, 0.15);\n",
              "      fill: #174EA6;\n",
              "    }\n",
              "\n",
              "    .colab-df-buttons div {\n",
              "      margin-bottom: 4px;\n",
              "    }\n",
              "\n",
              "    [theme=dark] .colab-df-convert {\n",
              "      background-color: #3B4455;\n",
              "      fill: #D2E3FC;\n",
              "    }\n",
              "\n",
              "    [theme=dark] .colab-df-convert:hover {\n",
              "      background-color: #434B5C;\n",
              "      box-shadow: 0px 1px 3px 1px rgba(0, 0, 0, 0.15);\n",
              "      filter: drop-shadow(0px 1px 2px rgba(0, 0, 0, 0.3));\n",
              "      fill: #FFFFFF;\n",
              "    }\n",
              "  </style>\n",
              "\n",
              "    <script>\n",
              "      const buttonEl =\n",
              "        document.querySelector('#df-31033d92-3614-47eb-a2c7-e86e0ac82a8b button.colab-df-convert');\n",
              "      buttonEl.style.display =\n",
              "        google.colab.kernel.accessAllowed ? 'block' : 'none';\n",
              "\n",
              "      async function convertToInteractive(key) {\n",
              "        const element = document.querySelector('#df-31033d92-3614-47eb-a2c7-e86e0ac82a8b');\n",
              "        const dataTable =\n",
              "          await google.colab.kernel.invokeFunction('convertToInteractive',\n",
              "                                                    [key], {});\n",
              "        if (!dataTable) return;\n",
              "\n",
              "        const docLinkHtml = 'Like what you see? Visit the ' +\n",
              "          '<a target=\"_blank\" href=https://colab.research.google.com/notebooks/data_table.ipynb>data table notebook</a>'\n",
              "          + ' to learn more about interactive tables.';\n",
              "        element.innerHTML = '';\n",
              "        dataTable['output_type'] = 'display_data';\n",
              "        await google.colab.output.renderOutput(dataTable, element);\n",
              "        const docLink = document.createElement('div');\n",
              "        docLink.innerHTML = docLinkHtml;\n",
              "        element.appendChild(docLink);\n",
              "      }\n",
              "    </script>\n",
              "  </div>\n",
              "\n",
              "\n",
              "<div id=\"df-fe94e2bb-593b-4158-b7ec-24f159d65c01\">\n",
              "  <button class=\"colab-df-quickchart\" onclick=\"quickchart('df-fe94e2bb-593b-4158-b7ec-24f159d65c01')\"\n",
              "            title=\"Suggest charts\"\n",
              "            style=\"display:none;\">\n",
              "\n",
              "<svg xmlns=\"http://www.w3.org/2000/svg\" height=\"24px\"viewBox=\"0 0 24 24\"\n",
              "     width=\"24px\">\n",
              "    <g>\n",
              "        <path d=\"M19 3H5c-1.1 0-2 .9-2 2v14c0 1.1.9 2 2 2h14c1.1 0 2-.9 2-2V5c0-1.1-.9-2-2-2zM9 17H7v-7h2v7zm4 0h-2V7h2v10zm4 0h-2v-4h2v4z\"/>\n",
              "    </g>\n",
              "</svg>\n",
              "  </button>\n",
              "\n",
              "<style>\n",
              "  .colab-df-quickchart {\n",
              "      --bg-color: #E8F0FE;\n",
              "      --fill-color: #1967D2;\n",
              "      --hover-bg-color: #E2EBFA;\n",
              "      --hover-fill-color: #174EA6;\n",
              "      --disabled-fill-color: #AAA;\n",
              "      --disabled-bg-color: #DDD;\n",
              "  }\n",
              "\n",
              "  [theme=dark] .colab-df-quickchart {\n",
              "      --bg-color: #3B4455;\n",
              "      --fill-color: #D2E3FC;\n",
              "      --hover-bg-color: #434B5C;\n",
              "      --hover-fill-color: #FFFFFF;\n",
              "      --disabled-bg-color: #3B4455;\n",
              "      --disabled-fill-color: #666;\n",
              "  }\n",
              "\n",
              "  .colab-df-quickchart {\n",
              "    background-color: var(--bg-color);\n",
              "    border: none;\n",
              "    border-radius: 50%;\n",
              "    cursor: pointer;\n",
              "    display: none;\n",
              "    fill: var(--fill-color);\n",
              "    height: 32px;\n",
              "    padding: 0;\n",
              "    width: 32px;\n",
              "  }\n",
              "\n",
              "  .colab-df-quickchart:hover {\n",
              "    background-color: var(--hover-bg-color);\n",
              "    box-shadow: 0 1px 2px rgba(60, 64, 67, 0.3), 0 1px 3px 1px rgba(60, 64, 67, 0.15);\n",
              "    fill: var(--button-hover-fill-color);\n",
              "  }\n",
              "\n",
              "  .colab-df-quickchart-complete:disabled,\n",
              "  .colab-df-quickchart-complete:disabled:hover {\n",
              "    background-color: var(--disabled-bg-color);\n",
              "    fill: var(--disabled-fill-color);\n",
              "    box-shadow: none;\n",
              "  }\n",
              "\n",
              "  .colab-df-spinner {\n",
              "    border: 2px solid var(--fill-color);\n",
              "    border-color: transparent;\n",
              "    border-bottom-color: var(--fill-color);\n",
              "    animation:\n",
              "      spin 1s steps(1) infinite;\n",
              "  }\n",
              "\n",
              "  @keyframes spin {\n",
              "    0% {\n",
              "      border-color: transparent;\n",
              "      border-bottom-color: var(--fill-color);\n",
              "      border-left-color: var(--fill-color);\n",
              "    }\n",
              "    20% {\n",
              "      border-color: transparent;\n",
              "      border-left-color: var(--fill-color);\n",
              "      border-top-color: var(--fill-color);\n",
              "    }\n",
              "    30% {\n",
              "      border-color: transparent;\n",
              "      border-left-color: var(--fill-color);\n",
              "      border-top-color: var(--fill-color);\n",
              "      border-right-color: var(--fill-color);\n",
              "    }\n",
              "    40% {\n",
              "      border-color: transparent;\n",
              "      border-right-color: var(--fill-color);\n",
              "      border-top-color: var(--fill-color);\n",
              "    }\n",
              "    60% {\n",
              "      border-color: transparent;\n",
              "      border-right-color: var(--fill-color);\n",
              "    }\n",
              "    80% {\n",
              "      border-color: transparent;\n",
              "      border-right-color: var(--fill-color);\n",
              "      border-bottom-color: var(--fill-color);\n",
              "    }\n",
              "    90% {\n",
              "      border-color: transparent;\n",
              "      border-bottom-color: var(--fill-color);\n",
              "    }\n",
              "  }\n",
              "</style>\n",
              "\n",
              "  <script>\n",
              "    async function quickchart(key) {\n",
              "      const quickchartButtonEl =\n",
              "        document.querySelector('#' + key + ' button');\n",
              "      quickchartButtonEl.disabled = true;  // To prevent multiple clicks.\n",
              "      quickchartButtonEl.classList.add('colab-df-spinner');\n",
              "      try {\n",
              "        const charts = await google.colab.kernel.invokeFunction(\n",
              "            'suggestCharts', [key], {});\n",
              "      } catch (error) {\n",
              "        console.error('Error during call to suggestCharts:', error);\n",
              "      }\n",
              "      quickchartButtonEl.classList.remove('colab-df-spinner');\n",
              "      quickchartButtonEl.classList.add('colab-df-quickchart-complete');\n",
              "    }\n",
              "    (() => {\n",
              "      let quickchartButtonEl =\n",
              "        document.querySelector('#df-fe94e2bb-593b-4158-b7ec-24f159d65c01 button');\n",
              "      quickchartButtonEl.style.display =\n",
              "        google.colab.kernel.accessAllowed ? 'block' : 'none';\n",
              "    })();\n",
              "  </script>\n",
              "</div>\n",
              "\n",
              "    </div>\n",
              "  </div>\n"
            ],
            "application/vnd.google.colaboratory.intrinsic+json": {
              "type": "dataframe",
              "variable_name": "df",
              "summary": "{\n  \"name\": \"df\",\n  \"rows\": 3736,\n  \"fields\": [\n    {\n      \"column\": \"Movie_ID\",\n      \"properties\": {\n        \"dtype\": \"number\",\n        \"std\": 1370,\n        \"min\": 1,\n        \"max\": 4786,\n        \"num_unique_values\": 3736,\n        \"samples\": [\n          4019,\n          4216,\n          1679\n        ],\n        \"semantic_type\": \"\",\n        \"description\": \"\"\n      }\n    },\n    {\n      \"column\": \"Movie_Title\",\n      \"properties\": {\n        \"dtype\": \"string\",\n        \"num_unique_values\": 3733,\n        \"samples\": [\n          \"Black Knight\",\n          \"I Love You, Don't Touch Me!\",\n          \"Body Double\"\n        ],\n        \"semantic_type\": \"\",\n        \"description\": \"\"\n      }\n    },\n    {\n      \"column\": \"Movie_Genre\",\n      \"properties\": {\n        \"dtype\": \"category\",\n        \"num_unique_values\": 1018,\n        \"samples\": [\n          \"Drama Family Romance Music\",\n          \"Thriller Action Drama Crime\",\n          \"Action Adventure Crime Mystery\"\n        ],\n        \"semantic_type\": \"\",\n        \"description\": \"\"\n      }\n    },\n    {\n      \"column\": \"Movie_Language\",\n      \"properties\": {\n        \"dtype\": \"category\",\n        \"num_unique_values\": 29,\n        \"samples\": [\n          \"ta\",\n          \"cn\",\n          \"ro\"\n        ],\n        \"semantic_type\": \"\",\n        \"description\": \"\"\n      }\n    },\n    {\n      \"column\": \"Movie_Budget\",\n      \"properties\": {\n        \"dtype\": \"number\",\n        \"std\": 42972746,\n        \"min\": 0,\n        \"max\": 380000000,\n        \"num_unique_values\": 386,\n        \"samples\": [\n          1400000,\n          3950000,\n          45000000\n        ],\n        \"semantic_type\": \"\",\n        \"description\": \"\"\n      }\n    },\n    {\n      \"column\": \"Movie_Popularity\",\n      \"properties\": {\n        \"dtype\": \"number\",\n        \"std\": 33.819923204138945,\n        \"min\": 0.001117,\n        \"max\": 875.581305,\n        \"num_unique_values\": 3735,\n        \"samples\": [\n          0.289433,\n          0.020839,\n          13.661289\n        ],\n        \"semantic_type\": \"\",\n        \"description\": \"\"\n      }\n    },\n    {\n      \"column\": \"Movie_Release_Date\",\n      \"properties\": {\n        \"dtype\": \"object\",\n        \"num_unique_values\": 2786,\n        \"samples\": [\n          \"2010-12-11\",\n          \"2016-01-07\",\n          \"1953-08-04\"\n        ],\n        \"semantic_type\": \"\",\n        \"description\": \"\"\n      }\n    },\n    {\n      \"column\": \"Movie_Revenue\",\n      \"properties\": {\n        \"dtype\": \"number\",\n        \"std\": 175255993,\n        \"min\": 0,\n        \"max\": 2787965087,\n        \"num_unique_values\": 2947,\n        \"samples\": [\n          1185783,\n          6538177,\n          1431623\n        ],\n        \"semantic_type\": \"\",\n        \"description\": \"\"\n      }\n    },\n    {\n      \"column\": \"Movie_Runtime\",\n      \"properties\": {\n        \"dtype\": \"number\",\n        \"std\": 20.542265009984604,\n        \"min\": 0.0,\n        \"max\": 338.0,\n        \"num_unique_values\": 140,\n        \"samples\": [\n          167.0,\n          138.0,\n          118.0\n        ],\n        \"semantic_type\": \"\",\n        \"description\": \"\"\n      }\n    },\n    {\n      \"column\": \"Movie_Vote\",\n      \"properties\": {\n        \"dtype\": \"number\",\n        \"std\": 0.9268425996319376,\n        \"min\": 0.0,\n        \"max\": 10.0,\n        \"num_unique_values\": 65,\n        \"samples\": [\n          3.1,\n          2.3,\n          6.5\n        ],\n        \"semantic_type\": \"\",\n        \"description\": \"\"\n      }\n    },\n    {\n      \"column\": \"Movie_Vote_Count\",\n      \"properties\": {\n        \"dtype\": \"number\",\n        \"std\": 1326,\n        \"min\": 0,\n        \"max\": 13752,\n        \"num_unique_values\": 1575,\n        \"samples\": [\n          1685,\n          545,\n          11800\n        ],\n        \"semantic_type\": \"\",\n        \"description\": \"\"\n      }\n    },\n    {\n      \"column\": \"Movie_Keywords\",\n      \"properties\": {\n        \"dtype\": \"string\",\n        \"num_unique_values\": 3651,\n        \"samples\": [\n          \"camping summer camp gore slasher b horror\",\n          \"difficult childhood psychoterror murder loneliness artificial\",\n          \"washington d.c. rape cia usa president war veteran\"\n        ],\n        \"semantic_type\": \"\",\n        \"description\": \"\"\n      }\n    },\n    {\n      \"column\": \"Movie_Overview\",\n      \"properties\": {\n        \"dtype\": \"string\",\n        \"num_unique_values\": 3736,\n        \"samples\": [\n          \"Caroline is to be wed to Sir Ralph and invites her sister Barbara to be her bridesmaid. Barbara seduces Ralph, however, and she becomes the new Lady, but despite her new wealthy situation, she gets bored and turns to highway robbery for thrills. While on the road she meets a famous highwayman, and they continue as a team, but some people begin suspecting her identity, and she risks death if she continues her nefarious activities.\",\n          \"A pro ball player with a substance abuse problem is forced into rehab in his hometown, finding new hope when he gets honest about his checkered past, and takes on coaching duties for a misfit Little League team\",\n          \"A DEA agent provides former Marine Tim Kearney with a way out of his prison sentence: impersonate Bobby Z, a recently deceased drug dealer, in a hostage switch with a crime lord. When the negotiations go awry, Kearney flees, with Z's son in tow.\"\n        ],\n        \"semantic_type\": \"\",\n        \"description\": \"\"\n      }\n    },\n    {\n      \"column\": \"Movie_Tagline\",\n      \"properties\": {\n        \"dtype\": \"string\",\n        \"num_unique_values\": 3722,\n        \"samples\": [\n          \"Dave Spritz is about to take his best shot . . . at life\",\n          \"Act like a criminal to catch a criminal.\",\n          \"Not all girls want to play with dolls.\"\n        ],\n        \"semantic_type\": \"\",\n        \"description\": \"\"\n      }\n    },\n    {\n      \"column\": \"Movie_Cast\",\n      \"properties\": {\n        \"dtype\": \"string\",\n        \"num_unique_values\": 3721,\n        \"samples\": [\n          \"Sean Maguire Carmen Electra Ken Davitian Kevin Sorbo Diedrich Bader\",\n          \"Michael Fassbender Kodi Smit-McPhee Ben Mendelsohn Caren Pistorius Rory McCann\",\n          \"Michael Angarano Kurt Russell Kelly Preston Danielle Panabaker Kevin Heffernan\"\n        ],\n        \"semantic_type\": \"\",\n        \"description\": \"\"\n      }\n    },\n    {\n      \"column\": \"Movie_Director\",\n      \"properties\": {\n        \"dtype\": \"category\",\n        \"num_unique_values\": 1747,\n        \"samples\": [\n          \"Christian Sesma\",\n          \"Mike Disa\",\n          \"Hugh Hudson\"\n        ],\n        \"semantic_type\": \"\",\n        \"description\": \"\"\n      }\n    }\n  ]\n}"
            }
          },
          "metadata": {},
          "execution_count": 59
        }
      ]
    },
    {
      "cell_type": "code",
      "source": [
        "df.info()"
      ],
      "metadata": {
        "colab": {
          "base_uri": "https://localhost:8080/"
        },
        "id": "6kaMuKi870HW",
        "outputId": "b6602d22-ce19-4029-c402-15b893f2fd1e"
      },
      "execution_count": null,
      "outputs": [
        {
          "output_type": "stream",
          "name": "stdout",
          "text": [
            "<class 'pandas.core.frame.DataFrame'>\n",
            "RangeIndex: 3736 entries, 0 to 3735\n",
            "Data columns (total 16 columns):\n",
            " #   Column              Non-Null Count  Dtype  \n",
            "---  ------              --------------  -----  \n",
            " 0   Movie_ID            3736 non-null   int64  \n",
            " 1   Movie_Title         3736 non-null   object \n",
            " 2   Movie_Genre         3736 non-null   object \n",
            " 3   Movie_Language      3736 non-null   object \n",
            " 4   Movie_Budget        3736 non-null   int64  \n",
            " 5   Movie_Popularity    3736 non-null   float64\n",
            " 6   Movie_Release_Date  3736 non-null   object \n",
            " 7   Movie_Revenue       3736 non-null   int64  \n",
            " 8   Movie_Runtime       3736 non-null   float64\n",
            " 9   Movie_Vote          3736 non-null   float64\n",
            " 10  Movie_Vote_Count    3736 non-null   int64  \n",
            " 11  Movie_Keywords      3736 non-null   object \n",
            " 12  Movie_Overview      3736 non-null   object \n",
            " 13  Movie_Tagline       3736 non-null   object \n",
            " 14  Movie_Cast          3736 non-null   object \n",
            " 15  Movie_Director      3736 non-null   object \n",
            "dtypes: float64(3), int64(4), object(9)\n",
            "memory usage: 467.1+ KB\n"
          ]
        }
      ]
    },
    {
      "cell_type": "code",
      "source": [
        "df.shape"
      ],
      "metadata": {
        "colab": {
          "base_uri": "https://localhost:8080/"
        },
        "id": "CSrojM8U74QK",
        "outputId": "f106d15f-55f0-4b60-aa80-19cb98014325"
      },
      "execution_count": null,
      "outputs": [
        {
          "output_type": "execute_result",
          "data": {
            "text/plain": [
              "(3736, 16)"
            ]
          },
          "metadata": {},
          "execution_count": 61
        }
      ]
    },
    {
      "cell_type": "code",
      "source": [
        "df.columns"
      ],
      "metadata": {
        "colab": {
          "base_uri": "https://localhost:8080/"
        },
        "id": "eeDm-5Vr761m",
        "outputId": "3464b577-00fe-4cf7-d0bd-264b14cb2a4e"
      },
      "execution_count": null,
      "outputs": [
        {
          "output_type": "execute_result",
          "data": {
            "text/plain": [
              "Index(['Movie_ID', 'Movie_Title', 'Movie_Genre', 'Movie_Language',\n",
              "       'Movie_Budget', 'Movie_Popularity', 'Movie_Release_Date',\n",
              "       'Movie_Revenue', 'Movie_Runtime', 'Movie_Vote', 'Movie_Vote_Count',\n",
              "       'Movie_Keywords', 'Movie_Overview', 'Movie_Tagline', 'Movie_Cast',\n",
              "       'Movie_Director'],\n",
              "      dtype='object')"
            ]
          },
          "metadata": {},
          "execution_count": 62
        }
      ]
    },
    {
      "cell_type": "code",
      "source": [
        "# Select the relevant columns\n",
        "df[['Movie_Overview', 'Movie_Vote']]"
      ],
      "metadata": {
        "colab": {
          "base_uri": "https://localhost:8080/",
          "height": 423
        },
        "id": "GLMcFS8ZnFnY",
        "outputId": "96925389-6cc5-4d3b-fbfb-da42a28e2b32"
      },
      "execution_count": null,
      "outputs": [
        {
          "output_type": "execute_result",
          "data": {
            "text/plain": [
              "                                         Movie_Overview  Movie_Vote\n",
              "0     It's Ted the Bellhop's first night on the job....         6.5\n",
              "1     Princess Leia is captured and held hostage by ...         8.1\n",
              "2     Nemo, an adventurous young clownfish, is unexp...         7.6\n",
              "3     A man with a low IQ has accomplished great thi...         8.2\n",
              "4     Lester Burnham, a depressed suburban father in...         7.9\n",
              "...                                                 ...         ...\n",
              "3731  When his hard-earned kicks get snatched by a l...         7.5\n",
              "3732  Sara Gold is a young girl on a quest to save m...         5.3\n",
              "3733  A squad of soldiers fight in the Korean War's ...         5.8\n",
              "3734  Long before he even met Shrek, the notorious f...         6.4\n",
              "3735  After sneaking to a party with her friends, 16...         0.0\n",
              "\n",
              "[3736 rows x 2 columns]"
            ],
            "text/html": [
              "\n",
              "  <div id=\"df-77ba2df4-6558-4a57-aacc-4bde021efe46\" class=\"colab-df-container\">\n",
              "    <div>\n",
              "<style scoped>\n",
              "    .dataframe tbody tr th:only-of-type {\n",
              "        vertical-align: middle;\n",
              "    }\n",
              "\n",
              "    .dataframe tbody tr th {\n",
              "        vertical-align: top;\n",
              "    }\n",
              "\n",
              "    .dataframe thead th {\n",
              "        text-align: right;\n",
              "    }\n",
              "</style>\n",
              "<table border=\"1\" class=\"dataframe\">\n",
              "  <thead>\n",
              "    <tr style=\"text-align: right;\">\n",
              "      <th></th>\n",
              "      <th>Movie_Overview</th>\n",
              "      <th>Movie_Vote</th>\n",
              "    </tr>\n",
              "  </thead>\n",
              "  <tbody>\n",
              "    <tr>\n",
              "      <th>0</th>\n",
              "      <td>It's Ted the Bellhop's first night on the job....</td>\n",
              "      <td>6.5</td>\n",
              "    </tr>\n",
              "    <tr>\n",
              "      <th>1</th>\n",
              "      <td>Princess Leia is captured and held hostage by ...</td>\n",
              "      <td>8.1</td>\n",
              "    </tr>\n",
              "    <tr>\n",
              "      <th>2</th>\n",
              "      <td>Nemo, an adventurous young clownfish, is unexp...</td>\n",
              "      <td>7.6</td>\n",
              "    </tr>\n",
              "    <tr>\n",
              "      <th>3</th>\n",
              "      <td>A man with a low IQ has accomplished great thi...</td>\n",
              "      <td>8.2</td>\n",
              "    </tr>\n",
              "    <tr>\n",
              "      <th>4</th>\n",
              "      <td>Lester Burnham, a depressed suburban father in...</td>\n",
              "      <td>7.9</td>\n",
              "    </tr>\n",
              "    <tr>\n",
              "      <th>...</th>\n",
              "      <td>...</td>\n",
              "      <td>...</td>\n",
              "    </tr>\n",
              "    <tr>\n",
              "      <th>3731</th>\n",
              "      <td>When his hard-earned kicks get snatched by a l...</td>\n",
              "      <td>7.5</td>\n",
              "    </tr>\n",
              "    <tr>\n",
              "      <th>3732</th>\n",
              "      <td>Sara Gold is a young girl on a quest to save m...</td>\n",
              "      <td>5.3</td>\n",
              "    </tr>\n",
              "    <tr>\n",
              "      <th>3733</th>\n",
              "      <td>A squad of soldiers fight in the Korean War's ...</td>\n",
              "      <td>5.8</td>\n",
              "    </tr>\n",
              "    <tr>\n",
              "      <th>3734</th>\n",
              "      <td>Long before he even met Shrek, the notorious f...</td>\n",
              "      <td>6.4</td>\n",
              "    </tr>\n",
              "    <tr>\n",
              "      <th>3735</th>\n",
              "      <td>After sneaking to a party with her friends, 16...</td>\n",
              "      <td>0.0</td>\n",
              "    </tr>\n",
              "  </tbody>\n",
              "</table>\n",
              "<p>3736 rows × 2 columns</p>\n",
              "</div>\n",
              "    <div class=\"colab-df-buttons\">\n",
              "\n",
              "  <div class=\"colab-df-container\">\n",
              "    <button class=\"colab-df-convert\" onclick=\"convertToInteractive('df-77ba2df4-6558-4a57-aacc-4bde021efe46')\"\n",
              "            title=\"Convert this dataframe to an interactive table.\"\n",
              "            style=\"display:none;\">\n",
              "\n",
              "  <svg xmlns=\"http://www.w3.org/2000/svg\" height=\"24px\" viewBox=\"0 -960 960 960\">\n",
              "    <path d=\"M120-120v-720h720v720H120Zm60-500h600v-160H180v160Zm220 220h160v-160H400v160Zm0 220h160v-160H400v160ZM180-400h160v-160H180v160Zm440 0h160v-160H620v160ZM180-180h160v-160H180v160Zm440 0h160v-160H620v160Z\"/>\n",
              "  </svg>\n",
              "    </button>\n",
              "\n",
              "  <style>\n",
              "    .colab-df-container {\n",
              "      display:flex;\n",
              "      gap: 12px;\n",
              "    }\n",
              "\n",
              "    .colab-df-convert {\n",
              "      background-color: #E8F0FE;\n",
              "      border: none;\n",
              "      border-radius: 50%;\n",
              "      cursor: pointer;\n",
              "      display: none;\n",
              "      fill: #1967D2;\n",
              "      height: 32px;\n",
              "      padding: 0 0 0 0;\n",
              "      width: 32px;\n",
              "    }\n",
              "\n",
              "    .colab-df-convert:hover {\n",
              "      background-color: #E2EBFA;\n",
              "      box-shadow: 0px 1px 2px rgba(60, 64, 67, 0.3), 0px 1px 3px 1px rgba(60, 64, 67, 0.15);\n",
              "      fill: #174EA6;\n",
              "    }\n",
              "\n",
              "    .colab-df-buttons div {\n",
              "      margin-bottom: 4px;\n",
              "    }\n",
              "\n",
              "    [theme=dark] .colab-df-convert {\n",
              "      background-color: #3B4455;\n",
              "      fill: #D2E3FC;\n",
              "    }\n",
              "\n",
              "    [theme=dark] .colab-df-convert:hover {\n",
              "      background-color: #434B5C;\n",
              "      box-shadow: 0px 1px 3px 1px rgba(0, 0, 0, 0.15);\n",
              "      filter: drop-shadow(0px 1px 2px rgba(0, 0, 0, 0.3));\n",
              "      fill: #FFFFFF;\n",
              "    }\n",
              "  </style>\n",
              "\n",
              "    <script>\n",
              "      const buttonEl =\n",
              "        document.querySelector('#df-77ba2df4-6558-4a57-aacc-4bde021efe46 button.colab-df-convert');\n",
              "      buttonEl.style.display =\n",
              "        google.colab.kernel.accessAllowed ? 'block' : 'none';\n",
              "\n",
              "      async function convertToInteractive(key) {\n",
              "        const element = document.querySelector('#df-77ba2df4-6558-4a57-aacc-4bde021efe46');\n",
              "        const dataTable =\n",
              "          await google.colab.kernel.invokeFunction('convertToInteractive',\n",
              "                                                    [key], {});\n",
              "        if (!dataTable) return;\n",
              "\n",
              "        const docLinkHtml = 'Like what you see? Visit the ' +\n",
              "          '<a target=\"_blank\" href=https://colab.research.google.com/notebooks/data_table.ipynb>data table notebook</a>'\n",
              "          + ' to learn more about interactive tables.';\n",
              "        element.innerHTML = '';\n",
              "        dataTable['output_type'] = 'display_data';\n",
              "        await google.colab.output.renderOutput(dataTable, element);\n",
              "        const docLink = document.createElement('div');\n",
              "        docLink.innerHTML = docLinkHtml;\n",
              "        element.appendChild(docLink);\n",
              "      }\n",
              "    </script>\n",
              "  </div>\n",
              "\n",
              "\n",
              "<div id=\"df-3d0b39a6-3ae1-468f-a628-50b80183d3b4\">\n",
              "  <button class=\"colab-df-quickchart\" onclick=\"quickchart('df-3d0b39a6-3ae1-468f-a628-50b80183d3b4')\"\n",
              "            title=\"Suggest charts\"\n",
              "            style=\"display:none;\">\n",
              "\n",
              "<svg xmlns=\"http://www.w3.org/2000/svg\" height=\"24px\"viewBox=\"0 0 24 24\"\n",
              "     width=\"24px\">\n",
              "    <g>\n",
              "        <path d=\"M19 3H5c-1.1 0-2 .9-2 2v14c0 1.1.9 2 2 2h14c1.1 0 2-.9 2-2V5c0-1.1-.9-2-2-2zM9 17H7v-7h2v7zm4 0h-2V7h2v10zm4 0h-2v-4h2v4z\"/>\n",
              "    </g>\n",
              "</svg>\n",
              "  </button>\n",
              "\n",
              "<style>\n",
              "  .colab-df-quickchart {\n",
              "      --bg-color: #E8F0FE;\n",
              "      --fill-color: #1967D2;\n",
              "      --hover-bg-color: #E2EBFA;\n",
              "      --hover-fill-color: #174EA6;\n",
              "      --disabled-fill-color: #AAA;\n",
              "      --disabled-bg-color: #DDD;\n",
              "  }\n",
              "\n",
              "  [theme=dark] .colab-df-quickchart {\n",
              "      --bg-color: #3B4455;\n",
              "      --fill-color: #D2E3FC;\n",
              "      --hover-bg-color: #434B5C;\n",
              "      --hover-fill-color: #FFFFFF;\n",
              "      --disabled-bg-color: #3B4455;\n",
              "      --disabled-fill-color: #666;\n",
              "  }\n",
              "\n",
              "  .colab-df-quickchart {\n",
              "    background-color: var(--bg-color);\n",
              "    border: none;\n",
              "    border-radius: 50%;\n",
              "    cursor: pointer;\n",
              "    display: none;\n",
              "    fill: var(--fill-color);\n",
              "    height: 32px;\n",
              "    padding: 0;\n",
              "    width: 32px;\n",
              "  }\n",
              "\n",
              "  .colab-df-quickchart:hover {\n",
              "    background-color: var(--hover-bg-color);\n",
              "    box-shadow: 0 1px 2px rgba(60, 64, 67, 0.3), 0 1px 3px 1px rgba(60, 64, 67, 0.15);\n",
              "    fill: var(--button-hover-fill-color);\n",
              "  }\n",
              "\n",
              "  .colab-df-quickchart-complete:disabled,\n",
              "  .colab-df-quickchart-complete:disabled:hover {\n",
              "    background-color: var(--disabled-bg-color);\n",
              "    fill: var(--disabled-fill-color);\n",
              "    box-shadow: none;\n",
              "  }\n",
              "\n",
              "  .colab-df-spinner {\n",
              "    border: 2px solid var(--fill-color);\n",
              "    border-color: transparent;\n",
              "    border-bottom-color: var(--fill-color);\n",
              "    animation:\n",
              "      spin 1s steps(1) infinite;\n",
              "  }\n",
              "\n",
              "  @keyframes spin {\n",
              "    0% {\n",
              "      border-color: transparent;\n",
              "      border-bottom-color: var(--fill-color);\n",
              "      border-left-color: var(--fill-color);\n",
              "    }\n",
              "    20% {\n",
              "      border-color: transparent;\n",
              "      border-left-color: var(--fill-color);\n",
              "      border-top-color: var(--fill-color);\n",
              "    }\n",
              "    30% {\n",
              "      border-color: transparent;\n",
              "      border-left-color: var(--fill-color);\n",
              "      border-top-color: var(--fill-color);\n",
              "      border-right-color: var(--fill-color);\n",
              "    }\n",
              "    40% {\n",
              "      border-color: transparent;\n",
              "      border-right-color: var(--fill-color);\n",
              "      border-top-color: var(--fill-color);\n",
              "    }\n",
              "    60% {\n",
              "      border-color: transparent;\n",
              "      border-right-color: var(--fill-color);\n",
              "    }\n",
              "    80% {\n",
              "      border-color: transparent;\n",
              "      border-right-color: var(--fill-color);\n",
              "      border-bottom-color: var(--fill-color);\n",
              "    }\n",
              "    90% {\n",
              "      border-color: transparent;\n",
              "      border-bottom-color: var(--fill-color);\n",
              "    }\n",
              "  }\n",
              "</style>\n",
              "\n",
              "  <script>\n",
              "    async function quickchart(key) {\n",
              "      const quickchartButtonEl =\n",
              "        document.querySelector('#' + key + ' button');\n",
              "      quickchartButtonEl.disabled = true;  // To prevent multiple clicks.\n",
              "      quickchartButtonEl.classList.add('colab-df-spinner');\n",
              "      try {\n",
              "        const charts = await google.colab.kernel.invokeFunction(\n",
              "            'suggestCharts', [key], {});\n",
              "      } catch (error) {\n",
              "        console.error('Error during call to suggestCharts:', error);\n",
              "      }\n",
              "      quickchartButtonEl.classList.remove('colab-df-spinner');\n",
              "      quickchartButtonEl.classList.add('colab-df-quickchart-complete');\n",
              "    }\n",
              "    (() => {\n",
              "      let quickchartButtonEl =\n",
              "        document.querySelector('#df-3d0b39a6-3ae1-468f-a628-50b80183d3b4 button');\n",
              "      quickchartButtonEl.style.display =\n",
              "        google.colab.kernel.accessAllowed ? 'block' : 'none';\n",
              "    })();\n",
              "  </script>\n",
              "</div>\n",
              "\n",
              "    </div>\n",
              "  </div>\n"
            ],
            "application/vnd.google.colaboratory.intrinsic+json": {
              "type": "dataframe",
              "summary": "{\n  \"name\": \"df[['Movie_Overview', 'Movie_Vote']]\",\n  \"rows\": 3736,\n  \"fields\": [\n    {\n      \"column\": \"Movie_Overview\",\n      \"properties\": {\n        \"dtype\": \"string\",\n        \"num_unique_values\": 3736,\n        \"samples\": [\n          \"Caroline is to be wed to Sir Ralph and invites her sister Barbara to be her bridesmaid. Barbara seduces Ralph, however, and she becomes the new Lady, but despite her new wealthy situation, she gets bored and turns to highway robbery for thrills. While on the road she meets a famous highwayman, and they continue as a team, but some people begin suspecting her identity, and she risks death if she continues her nefarious activities.\",\n          \"A pro ball player with a substance abuse problem is forced into rehab in his hometown, finding new hope when he gets honest about his checkered past, and takes on coaching duties for a misfit Little League team\",\n          \"A DEA agent provides former Marine Tim Kearney with a way out of his prison sentence: impersonate Bobby Z, a recently deceased drug dealer, in a hostage switch with a crime lord. When the negotiations go awry, Kearney flees, with Z's son in tow.\"\n        ],\n        \"semantic_type\": \"\",\n        \"description\": \"\"\n      }\n    },\n    {\n      \"column\": \"Movie_Vote\",\n      \"properties\": {\n        \"dtype\": \"number\",\n        \"std\": 0.9268425996319376,\n        \"min\": 0.0,\n        \"max\": 10.0,\n        \"num_unique_values\": 65,\n        \"samples\": [\n          3.1,\n          2.3,\n          6.5\n        ],\n        \"semantic_type\": \"\",\n        \"description\": \"\"\n      }\n    }\n  ]\n}"
            }
          },
          "metadata": {},
          "execution_count": 63
        }
      ]
    },
    {
      "cell_type": "code",
      "source": [
        "# Define a function to clean the text data\n",
        "def clean_text(text):\n",
        "    text = re.sub(r'\\s+', ' ', text)  # Remove extra whitespace\n",
        "    text = re.sub(r'[^\\w\\s]', '', text)  # Remove punctuation\n",
        "    text = text.lower()  # Convert text to lowercase\n",
        "    return text"
      ],
      "metadata": {
        "id": "dyNzavvFnugA"
      },
      "execution_count": null,
      "outputs": []
    },
    {
      "cell_type": "code",
      "source": [
        "# Apply the clean_text function to the 'Movie_Overview' column\n",
        "df['Movie_Overview'] = df['Movie_Overview'].apply(clean_text)"
      ],
      "metadata": {
        "id": "iDQD_6Ubn2yo"
      },
      "execution_count": null,
      "outputs": []
    },
    {
      "cell_type": "code",
      "source": [
        "# Convert 'Movie_Vote' into binary sentiment labels (1 for positive, 0 for negative)\n",
        "df['Sentiment'] = df['Movie_Vote'].apply(lambda x: 1 if x >= 5 else 0)"
      ],
      "metadata": {
        "id": "G3QEPA3mn71N"
      },
      "execution_count": null,
      "outputs": []
    },
    {
      "cell_type": "code",
      "source": [
        "# Split the data into training and testing sets\n",
        "X_train, X_test, y_train, y_test = train_test_split(df['Movie_Overview'], df['Sentiment'], test_size=0.2, random_state=42)"
      ],
      "metadata": {
        "id": "9BL4ZvM2oAKo"
      },
      "execution_count": null,
      "outputs": []
    },
    {
      "cell_type": "code",
      "source": [
        "# Vectorize the text data using TF-IDF\n",
        "vectorizer = TfidfVectorizer()\n",
        "X_train_vec = vectorizer.fit_transform(X_train)\n",
        "X_test_vec = vectorizer.transform(X_test)"
      ],
      "metadata": {
        "id": "EH5ZRkcwoEPN"
      },
      "execution_count": null,
      "outputs": []
    },
    {
      "cell_type": "code",
      "source": [
        "# Train and evaluate different models\n",
        "\n",
        "# Naive Bayes\n",
        "nb_model = MultinomialNB()\n",
        "nb_model.fit(X_train_vec, y_train)\n",
        "nb_pred = nb_model.predict(X_test_vec)\n",
        "nb_accuracy = accuracy_score(y_test, nb_pred)\n",
        "nb_report = classification_report(y_test, nb_pred, zero_division=1)\n",
        "\n",
        "# Random Forest\n",
        "rf_model = RandomForestClassifier(random_state=42)\n",
        "rf_model.fit(X_train_vec, y_train)\n",
        "rf_pred = rf_model.predict(X_test_vec)\n",
        "rf_accuracy = accuracy_score(y_test, rf_pred)\n",
        "rf_report = classification_report(y_test, rf_pred, zero_division=1)\n",
        "\n",
        "# Support Vector Machine\n",
        "svm_model = SVC(random_state=42)\n",
        "svm_model.fit(X_train_vec, y_train)\n",
        "svm_pred = svm_model.predict(X_test_vec)\n",
        "svm_accuracy = accuracy_score(y_test, svm_pred)\n",
        "svm_report = classification_report(y_test, svm_pred, zero_division=1)\n",
        "\n",
        "# Print results\n",
        "print(f'Naive Bayes Accuracy: {nb_accuracy}')\n",
        "print(f'Naive Bayes Classification Report:\\n{nb_report}')\n",
        "\n",
        "print(f'Random Forest Accuracy: {rf_accuracy}')\n",
        "print(f'Random Forest Classification Report:\\n{rf_report}')\n",
        "\n",
        "print(f'SVM Accuracy: {svm_accuracy}')\n",
        "print(f'SVM Classification Report:\\n{svm_report}')\n"
      ],
      "metadata": {
        "colab": {
          "base_uri": "https://localhost:8080/"
        },
        "id": "znpFQmUOoKDh",
        "outputId": "93e5144f-f753-446e-90a9-7171cffc8331"
      },
      "execution_count": null,
      "outputs": [
        {
          "output_type": "stream",
          "name": "stdout",
          "text": [
            "Naive Bayes Accuracy: 0.9264705882352942\n",
            "Naive Bayes Classification Report:\n",
            "              precision    recall  f1-score   support\n",
            "\n",
            "           0       1.00      0.00      0.00        55\n",
            "           1       0.93      1.00      0.96       693\n",
            "\n",
            "    accuracy                           0.93       748\n",
            "   macro avg       0.96      0.50      0.48       748\n",
            "weighted avg       0.93      0.93      0.89       748\n",
            "\n",
            "Random Forest Accuracy: 0.9264705882352942\n",
            "Random Forest Classification Report:\n",
            "              precision    recall  f1-score   support\n",
            "\n",
            "           0       1.00      0.00      0.00        55\n",
            "           1       0.93      1.00      0.96       693\n",
            "\n",
            "    accuracy                           0.93       748\n",
            "   macro avg       0.96      0.50      0.48       748\n",
            "weighted avg       0.93      0.93      0.89       748\n",
            "\n",
            "SVM Accuracy: 0.9264705882352942\n",
            "SVM Classification Report:\n",
            "              precision    recall  f1-score   support\n",
            "\n",
            "           0       1.00      0.00      0.00        55\n",
            "           1       0.93      1.00      0.96       693\n",
            "\n",
            "    accuracy                           0.93       748\n",
            "   macro avg       0.96      0.50      0.48       748\n",
            "weighted avg       0.93      0.93      0.89       748\n",
            "\n"
          ]
        }
      ]
    },
    {
      "cell_type": "markdown",
      "source": [
        "# **Get Feature Selection**\n",
        "\n"
      ],
      "metadata": {
        "id": "_yVpd4kAkS-6"
      }
    },
    {
      "cell_type": "code",
      "source": [
        "df_features = df[[ 'Movie_Genre', 'Movie_Keywords', 'Movie_Tagline', 'Movie_Cast', 'Movie_Director']].fillna('')"
      ],
      "metadata": {
        "id": "Wcb1Zj72keAQ"
      },
      "execution_count": null,
      "outputs": []
    },
    {
      "cell_type": "code",
      "source": [
        "df_features.shape"
      ],
      "metadata": {
        "colab": {
          "base_uri": "https://localhost:8080/"
        },
        "id": "vfYbeers8FuI",
        "outputId": "b2edaffe-cb0d-4929-843d-4ed30d0ebc73"
      },
      "execution_count": null,
      "outputs": [
        {
          "output_type": "execute_result",
          "data": {
            "text/plain": [
              "(3736, 5)"
            ]
          },
          "metadata": {},
          "execution_count": 71
        }
      ]
    },
    {
      "cell_type": "code",
      "source": [
        "df_features"
      ],
      "metadata": {
        "colab": {
          "base_uri": "https://localhost:8080/",
          "height": 580
        },
        "id": "lb9jHzZw8LC3",
        "outputId": "437df1db-56fc-4096-db1f-1ab20a0e62a3"
      },
      "execution_count": null,
      "outputs": [
        {
          "output_type": "execute_result",
          "data": {
            "text/plain": [
              "                                    Movie_Genre  \\\n",
              "0                                  Crime Comedy   \n",
              "1              Adventure Action Science Fiction   \n",
              "2                              Animation Family   \n",
              "3                          Comedy Drama Romance   \n",
              "4                                         Drama   \n",
              "...                                         ...   \n",
              "3731                                  Adventure   \n",
              "3732                                      Drama   \n",
              "3733                   History Drama War Action   \n",
              "3734  Action Adventure Animation Family Fantasy   \n",
              "3735                             Thriller Drama   \n",
              "\n",
              "                                         Movie_Keywords  \\\n",
              "0             hotel new year's eve witch bet hotel room   \n",
              "1           android galaxy hermit death star lightsaber   \n",
              "2     father son relationship harbor underwater fish...   \n",
              "3     vietnam veteran hippie mentally disabled runni...   \n",
              "4     male nudity female nudity adultery midlife cri...   \n",
              "...                                                 ...   \n",
              "3731  blow job cigarette smoking illegal drugs smoki...   \n",
              "3732  undercover dog animal welfare animal rights or...   \n",
              "3733  korea fictionalized history operation \"trudy j...   \n",
              "3734                        adventure fairy-tale figure   \n",
              "3735                     christian film sex trafficking   \n",
              "\n",
              "                                          Movie_Tagline  \\\n",
              "0     Twelve outrageous guests. Four scandalous requ...   \n",
              "1          A long time ago in a galaxy far, far away...   \n",
              "2     There are 3.7 trillion fish in the ocean, they...   \n",
              "3     The world will never be the same, once you've ...   \n",
              "4                                          Look closer.   \n",
              "...                                                 ...   \n",
              "3731                             They aren't just shoes   \n",
              "3732           She ended up on the wrong side of right.   \n",
              "3733  The Odds Were 5000 to 1 … One was all They Nee...   \n",
              "3734  Live for danger. Fight for justice. Pray for m...   \n",
              "3735           She never knew it could happen to her...   \n",
              "\n",
              "                                             Movie_Cast   Movie_Director  \n",
              "0     Tim Roth Antonio Banderas Jennifer Beals Madon...   Allison Anders  \n",
              "1     Mark Hamill Harrison Ford Carrie Fisher Peter ...     George Lucas  \n",
              "2     Albert Brooks Ellen DeGeneres Alexander Gould ...   Andrew Stanton  \n",
              "3     Tom Hanks Robin Wright Gary Sinise Mykelti Wil...  Robert Zemeckis  \n",
              "4     Kevin Spacey Annette Bening Thora Birch Wes Be...       Sam Mendes  \n",
              "...                                                 ...              ...  \n",
              "3731  Mahershala Ali Kofi Siriboe Christopher Meyer ...   Justin Tipping  \n",
              "3732  Allison Paige James Remar Lea Thompson Jayson ...  Alex Ranarivelo  \n",
              "3733  Lee Jung-jae Liam Neeson Lee Beom-soo Jin Se-y...      John H. Lee  \n",
              "3734  Antonio Banderas Salma Hayek Zach Galifianakis...     Chris Miller  \n",
              "3735  Nicole Smolen Kim Baldwin Ariana Stephens Brys...     Jaco Booyens  \n",
              "\n",
              "[3736 rows x 5 columns]"
            ],
            "text/html": [
              "\n",
              "  <div id=\"df-c5f3862d-e317-4114-96b0-046c0c24ca00\" class=\"colab-df-container\">\n",
              "    <div>\n",
              "<style scoped>\n",
              "    .dataframe tbody tr th:only-of-type {\n",
              "        vertical-align: middle;\n",
              "    }\n",
              "\n",
              "    .dataframe tbody tr th {\n",
              "        vertical-align: top;\n",
              "    }\n",
              "\n",
              "    .dataframe thead th {\n",
              "        text-align: right;\n",
              "    }\n",
              "</style>\n",
              "<table border=\"1\" class=\"dataframe\">\n",
              "  <thead>\n",
              "    <tr style=\"text-align: right;\">\n",
              "      <th></th>\n",
              "      <th>Movie_Genre</th>\n",
              "      <th>Movie_Keywords</th>\n",
              "      <th>Movie_Tagline</th>\n",
              "      <th>Movie_Cast</th>\n",
              "      <th>Movie_Director</th>\n",
              "    </tr>\n",
              "  </thead>\n",
              "  <tbody>\n",
              "    <tr>\n",
              "      <th>0</th>\n",
              "      <td>Crime Comedy</td>\n",
              "      <td>hotel new year's eve witch bet hotel room</td>\n",
              "      <td>Twelve outrageous guests. Four scandalous requ...</td>\n",
              "      <td>Tim Roth Antonio Banderas Jennifer Beals Madon...</td>\n",
              "      <td>Allison Anders</td>\n",
              "    </tr>\n",
              "    <tr>\n",
              "      <th>1</th>\n",
              "      <td>Adventure Action Science Fiction</td>\n",
              "      <td>android galaxy hermit death star lightsaber</td>\n",
              "      <td>A long time ago in a galaxy far, far away...</td>\n",
              "      <td>Mark Hamill Harrison Ford Carrie Fisher Peter ...</td>\n",
              "      <td>George Lucas</td>\n",
              "    </tr>\n",
              "    <tr>\n",
              "      <th>2</th>\n",
              "      <td>Animation Family</td>\n",
              "      <td>father son relationship harbor underwater fish...</td>\n",
              "      <td>There are 3.7 trillion fish in the ocean, they...</td>\n",
              "      <td>Albert Brooks Ellen DeGeneres Alexander Gould ...</td>\n",
              "      <td>Andrew Stanton</td>\n",
              "    </tr>\n",
              "    <tr>\n",
              "      <th>3</th>\n",
              "      <td>Comedy Drama Romance</td>\n",
              "      <td>vietnam veteran hippie mentally disabled runni...</td>\n",
              "      <td>The world will never be the same, once you've ...</td>\n",
              "      <td>Tom Hanks Robin Wright Gary Sinise Mykelti Wil...</td>\n",
              "      <td>Robert Zemeckis</td>\n",
              "    </tr>\n",
              "    <tr>\n",
              "      <th>4</th>\n",
              "      <td>Drama</td>\n",
              "      <td>male nudity female nudity adultery midlife cri...</td>\n",
              "      <td>Look closer.</td>\n",
              "      <td>Kevin Spacey Annette Bening Thora Birch Wes Be...</td>\n",
              "      <td>Sam Mendes</td>\n",
              "    </tr>\n",
              "    <tr>\n",
              "      <th>...</th>\n",
              "      <td>...</td>\n",
              "      <td>...</td>\n",
              "      <td>...</td>\n",
              "      <td>...</td>\n",
              "      <td>...</td>\n",
              "    </tr>\n",
              "    <tr>\n",
              "      <th>3731</th>\n",
              "      <td>Adventure</td>\n",
              "      <td>blow job cigarette smoking illegal drugs smoki...</td>\n",
              "      <td>They aren't just shoes</td>\n",
              "      <td>Mahershala Ali Kofi Siriboe Christopher Meyer ...</td>\n",
              "      <td>Justin Tipping</td>\n",
              "    </tr>\n",
              "    <tr>\n",
              "      <th>3732</th>\n",
              "      <td>Drama</td>\n",
              "      <td>undercover dog animal welfare animal rights or...</td>\n",
              "      <td>She ended up on the wrong side of right.</td>\n",
              "      <td>Allison Paige James Remar Lea Thompson Jayson ...</td>\n",
              "      <td>Alex Ranarivelo</td>\n",
              "    </tr>\n",
              "    <tr>\n",
              "      <th>3733</th>\n",
              "      <td>History Drama War Action</td>\n",
              "      <td>korea fictionalized history operation \"trudy j...</td>\n",
              "      <td>The Odds Were 5000 to 1 … One was all They Nee...</td>\n",
              "      <td>Lee Jung-jae Liam Neeson Lee Beom-soo Jin Se-y...</td>\n",
              "      <td>John H. Lee</td>\n",
              "    </tr>\n",
              "    <tr>\n",
              "      <th>3734</th>\n",
              "      <td>Action Adventure Animation Family Fantasy</td>\n",
              "      <td>adventure fairy-tale figure</td>\n",
              "      <td>Live for danger. Fight for justice. Pray for m...</td>\n",
              "      <td>Antonio Banderas Salma Hayek Zach Galifianakis...</td>\n",
              "      <td>Chris Miller</td>\n",
              "    </tr>\n",
              "    <tr>\n",
              "      <th>3735</th>\n",
              "      <td>Thriller Drama</td>\n",
              "      <td>christian film sex trafficking</td>\n",
              "      <td>She never knew it could happen to her...</td>\n",
              "      <td>Nicole Smolen Kim Baldwin Ariana Stephens Brys...</td>\n",
              "      <td>Jaco Booyens</td>\n",
              "    </tr>\n",
              "  </tbody>\n",
              "</table>\n",
              "<p>3736 rows × 5 columns</p>\n",
              "</div>\n",
              "    <div class=\"colab-df-buttons\">\n",
              "\n",
              "  <div class=\"colab-df-container\">\n",
              "    <button class=\"colab-df-convert\" onclick=\"convertToInteractive('df-c5f3862d-e317-4114-96b0-046c0c24ca00')\"\n",
              "            title=\"Convert this dataframe to an interactive table.\"\n",
              "            style=\"display:none;\">\n",
              "\n",
              "  <svg xmlns=\"http://www.w3.org/2000/svg\" height=\"24px\" viewBox=\"0 -960 960 960\">\n",
              "    <path d=\"M120-120v-720h720v720H120Zm60-500h600v-160H180v160Zm220 220h160v-160H400v160Zm0 220h160v-160H400v160ZM180-400h160v-160H180v160Zm440 0h160v-160H620v160ZM180-180h160v-160H180v160Zm440 0h160v-160H620v160Z\"/>\n",
              "  </svg>\n",
              "    </button>\n",
              "\n",
              "  <style>\n",
              "    .colab-df-container {\n",
              "      display:flex;\n",
              "      gap: 12px;\n",
              "    }\n",
              "\n",
              "    .colab-df-convert {\n",
              "      background-color: #E8F0FE;\n",
              "      border: none;\n",
              "      border-radius: 50%;\n",
              "      cursor: pointer;\n",
              "      display: none;\n",
              "      fill: #1967D2;\n",
              "      height: 32px;\n",
              "      padding: 0 0 0 0;\n",
              "      width: 32px;\n",
              "    }\n",
              "\n",
              "    .colab-df-convert:hover {\n",
              "      background-color: #E2EBFA;\n",
              "      box-shadow: 0px 1px 2px rgba(60, 64, 67, 0.3), 0px 1px 3px 1px rgba(60, 64, 67, 0.15);\n",
              "      fill: #174EA6;\n",
              "    }\n",
              "\n",
              "    .colab-df-buttons div {\n",
              "      margin-bottom: 4px;\n",
              "    }\n",
              "\n",
              "    [theme=dark] .colab-df-convert {\n",
              "      background-color: #3B4455;\n",
              "      fill: #D2E3FC;\n",
              "    }\n",
              "\n",
              "    [theme=dark] .colab-df-convert:hover {\n",
              "      background-color: #434B5C;\n",
              "      box-shadow: 0px 1px 3px 1px rgba(0, 0, 0, 0.15);\n",
              "      filter: drop-shadow(0px 1px 2px rgba(0, 0, 0, 0.3));\n",
              "      fill: #FFFFFF;\n",
              "    }\n",
              "  </style>\n",
              "\n",
              "    <script>\n",
              "      const buttonEl =\n",
              "        document.querySelector('#df-c5f3862d-e317-4114-96b0-046c0c24ca00 button.colab-df-convert');\n",
              "      buttonEl.style.display =\n",
              "        google.colab.kernel.accessAllowed ? 'block' : 'none';\n",
              "\n",
              "      async function convertToInteractive(key) {\n",
              "        const element = document.querySelector('#df-c5f3862d-e317-4114-96b0-046c0c24ca00');\n",
              "        const dataTable =\n",
              "          await google.colab.kernel.invokeFunction('convertToInteractive',\n",
              "                                                    [key], {});\n",
              "        if (!dataTable) return;\n",
              "\n",
              "        const docLinkHtml = 'Like what you see? Visit the ' +\n",
              "          '<a target=\"_blank\" href=https://colab.research.google.com/notebooks/data_table.ipynb>data table notebook</a>'\n",
              "          + ' to learn more about interactive tables.';\n",
              "        element.innerHTML = '';\n",
              "        dataTable['output_type'] = 'display_data';\n",
              "        await google.colab.output.renderOutput(dataTable, element);\n",
              "        const docLink = document.createElement('div');\n",
              "        docLink.innerHTML = docLinkHtml;\n",
              "        element.appendChild(docLink);\n",
              "      }\n",
              "    </script>\n",
              "  </div>\n",
              "\n",
              "\n",
              "<div id=\"df-aa46df48-a2a0-404b-860d-273acf946320\">\n",
              "  <button class=\"colab-df-quickchart\" onclick=\"quickchart('df-aa46df48-a2a0-404b-860d-273acf946320')\"\n",
              "            title=\"Suggest charts\"\n",
              "            style=\"display:none;\">\n",
              "\n",
              "<svg xmlns=\"http://www.w3.org/2000/svg\" height=\"24px\"viewBox=\"0 0 24 24\"\n",
              "     width=\"24px\">\n",
              "    <g>\n",
              "        <path d=\"M19 3H5c-1.1 0-2 .9-2 2v14c0 1.1.9 2 2 2h14c1.1 0 2-.9 2-2V5c0-1.1-.9-2-2-2zM9 17H7v-7h2v7zm4 0h-2V7h2v10zm4 0h-2v-4h2v4z\"/>\n",
              "    </g>\n",
              "</svg>\n",
              "  </button>\n",
              "\n",
              "<style>\n",
              "  .colab-df-quickchart {\n",
              "      --bg-color: #E8F0FE;\n",
              "      --fill-color: #1967D2;\n",
              "      --hover-bg-color: #E2EBFA;\n",
              "      --hover-fill-color: #174EA6;\n",
              "      --disabled-fill-color: #AAA;\n",
              "      --disabled-bg-color: #DDD;\n",
              "  }\n",
              "\n",
              "  [theme=dark] .colab-df-quickchart {\n",
              "      --bg-color: #3B4455;\n",
              "      --fill-color: #D2E3FC;\n",
              "      --hover-bg-color: #434B5C;\n",
              "      --hover-fill-color: #FFFFFF;\n",
              "      --disabled-bg-color: #3B4455;\n",
              "      --disabled-fill-color: #666;\n",
              "  }\n",
              "\n",
              "  .colab-df-quickchart {\n",
              "    background-color: var(--bg-color);\n",
              "    border: none;\n",
              "    border-radius: 50%;\n",
              "    cursor: pointer;\n",
              "    display: none;\n",
              "    fill: var(--fill-color);\n",
              "    height: 32px;\n",
              "    padding: 0;\n",
              "    width: 32px;\n",
              "  }\n",
              "\n",
              "  .colab-df-quickchart:hover {\n",
              "    background-color: var(--hover-bg-color);\n",
              "    box-shadow: 0 1px 2px rgba(60, 64, 67, 0.3), 0 1px 3px 1px rgba(60, 64, 67, 0.15);\n",
              "    fill: var(--button-hover-fill-color);\n",
              "  }\n",
              "\n",
              "  .colab-df-quickchart-complete:disabled,\n",
              "  .colab-df-quickchart-complete:disabled:hover {\n",
              "    background-color: var(--disabled-bg-color);\n",
              "    fill: var(--disabled-fill-color);\n",
              "    box-shadow: none;\n",
              "  }\n",
              "\n",
              "  .colab-df-spinner {\n",
              "    border: 2px solid var(--fill-color);\n",
              "    border-color: transparent;\n",
              "    border-bottom-color: var(--fill-color);\n",
              "    animation:\n",
              "      spin 1s steps(1) infinite;\n",
              "  }\n",
              "\n",
              "  @keyframes spin {\n",
              "    0% {\n",
              "      border-color: transparent;\n",
              "      border-bottom-color: var(--fill-color);\n",
              "      border-left-color: var(--fill-color);\n",
              "    }\n",
              "    20% {\n",
              "      border-color: transparent;\n",
              "      border-left-color: var(--fill-color);\n",
              "      border-top-color: var(--fill-color);\n",
              "    }\n",
              "    30% {\n",
              "      border-color: transparent;\n",
              "      border-left-color: var(--fill-color);\n",
              "      border-top-color: var(--fill-color);\n",
              "      border-right-color: var(--fill-color);\n",
              "    }\n",
              "    40% {\n",
              "      border-color: transparent;\n",
              "      border-right-color: var(--fill-color);\n",
              "      border-top-color: var(--fill-color);\n",
              "    }\n",
              "    60% {\n",
              "      border-color: transparent;\n",
              "      border-right-color: var(--fill-color);\n",
              "    }\n",
              "    80% {\n",
              "      border-color: transparent;\n",
              "      border-right-color: var(--fill-color);\n",
              "      border-bottom-color: var(--fill-color);\n",
              "    }\n",
              "    90% {\n",
              "      border-color: transparent;\n",
              "      border-bottom-color: var(--fill-color);\n",
              "    }\n",
              "  }\n",
              "</style>\n",
              "\n",
              "  <script>\n",
              "    async function quickchart(key) {\n",
              "      const quickchartButtonEl =\n",
              "        document.querySelector('#' + key + ' button');\n",
              "      quickchartButtonEl.disabled = true;  // To prevent multiple clicks.\n",
              "      quickchartButtonEl.classList.add('colab-df-spinner');\n",
              "      try {\n",
              "        const charts = await google.colab.kernel.invokeFunction(\n",
              "            'suggestCharts', [key], {});\n",
              "      } catch (error) {\n",
              "        console.error('Error during call to suggestCharts:', error);\n",
              "      }\n",
              "      quickchartButtonEl.classList.remove('colab-df-spinner');\n",
              "      quickchartButtonEl.classList.add('colab-df-quickchart-complete');\n",
              "    }\n",
              "    (() => {\n",
              "      let quickchartButtonEl =\n",
              "        document.querySelector('#df-aa46df48-a2a0-404b-860d-273acf946320 button');\n",
              "      quickchartButtonEl.style.display =\n",
              "        google.colab.kernel.accessAllowed ? 'block' : 'none';\n",
              "    })();\n",
              "  </script>\n",
              "</div>\n",
              "\n",
              "  <div id=\"id_0d1d15cf-496f-4038-b55e-f1ad396d5bf5\">\n",
              "    <style>\n",
              "      .colab-df-generate {\n",
              "        background-color: #E8F0FE;\n",
              "        border: none;\n",
              "        border-radius: 50%;\n",
              "        cursor: pointer;\n",
              "        display: none;\n",
              "        fill: #1967D2;\n",
              "        height: 32px;\n",
              "        padding: 0 0 0 0;\n",
              "        width: 32px;\n",
              "      }\n",
              "\n",
              "      .colab-df-generate:hover {\n",
              "        background-color: #E2EBFA;\n",
              "        box-shadow: 0px 1px 2px rgba(60, 64, 67, 0.3), 0px 1px 3px 1px rgba(60, 64, 67, 0.15);\n",
              "        fill: #174EA6;\n",
              "      }\n",
              "\n",
              "      [theme=dark] .colab-df-generate {\n",
              "        background-color: #3B4455;\n",
              "        fill: #D2E3FC;\n",
              "      }\n",
              "\n",
              "      [theme=dark] .colab-df-generate:hover {\n",
              "        background-color: #434B5C;\n",
              "        box-shadow: 0px 1px 3px 1px rgba(0, 0, 0, 0.15);\n",
              "        filter: drop-shadow(0px 1px 2px rgba(0, 0, 0, 0.3));\n",
              "        fill: #FFFFFF;\n",
              "      }\n",
              "    </style>\n",
              "    <button class=\"colab-df-generate\" onclick=\"generateWithVariable('df_features')\"\n",
              "            title=\"Generate code using this dataframe.\"\n",
              "            style=\"display:none;\">\n",
              "\n",
              "  <svg xmlns=\"http://www.w3.org/2000/svg\" height=\"24px\"viewBox=\"0 0 24 24\"\n",
              "       width=\"24px\">\n",
              "    <path d=\"M7,19H8.4L18.45,9,17,7.55,7,17.6ZM5,21V16.75L18.45,3.32a2,2,0,0,1,2.83,0l1.4,1.43a1.91,1.91,0,0,1,.58,1.4,1.91,1.91,0,0,1-.58,1.4L9.25,21ZM18.45,9,17,7.55Zm-12,3A5.31,5.31,0,0,0,4.9,8.1,5.31,5.31,0,0,0,1,6.5,5.31,5.31,0,0,0,4.9,4.9,5.31,5.31,0,0,0,6.5,1,5.31,5.31,0,0,0,8.1,4.9,5.31,5.31,0,0,0,12,6.5,5.46,5.46,0,0,0,6.5,12Z\"/>\n",
              "  </svg>\n",
              "    </button>\n",
              "    <script>\n",
              "      (() => {\n",
              "      const buttonEl =\n",
              "        document.querySelector('#id_0d1d15cf-496f-4038-b55e-f1ad396d5bf5 button.colab-df-generate');\n",
              "      buttonEl.style.display =\n",
              "        google.colab.kernel.accessAllowed ? 'block' : 'none';\n",
              "\n",
              "      buttonEl.onclick = () => {\n",
              "        google.colab.notebook.generateWithVariable('df_features');\n",
              "      }\n",
              "      })();\n",
              "    </script>\n",
              "  </div>\n",
              "\n",
              "    </div>\n",
              "  </div>\n"
            ],
            "application/vnd.google.colaboratory.intrinsic+json": {
              "type": "dataframe",
              "variable_name": "df_features",
              "summary": "{\n  \"name\": \"df_features\",\n  \"rows\": 3736,\n  \"fields\": [\n    {\n      \"column\": \"Movie_Genre\",\n      \"properties\": {\n        \"dtype\": \"category\",\n        \"num_unique_values\": 1018,\n        \"samples\": [\n          \"Drama Family Romance Music\",\n          \"Thriller Action Drama Crime\",\n          \"Action Adventure Crime Mystery\"\n        ],\n        \"semantic_type\": \"\",\n        \"description\": \"\"\n      }\n    },\n    {\n      \"column\": \"Movie_Keywords\",\n      \"properties\": {\n        \"dtype\": \"string\",\n        \"num_unique_values\": 3651,\n        \"samples\": [\n          \"camping summer camp gore slasher b horror\",\n          \"difficult childhood psychoterror murder loneliness artificial\",\n          \"washington d.c. rape cia usa president war veteran\"\n        ],\n        \"semantic_type\": \"\",\n        \"description\": \"\"\n      }\n    },\n    {\n      \"column\": \"Movie_Tagline\",\n      \"properties\": {\n        \"dtype\": \"string\",\n        \"num_unique_values\": 3722,\n        \"samples\": [\n          \"Dave Spritz is about to take his best shot . . . at life\",\n          \"Act like a criminal to catch a criminal.\",\n          \"Not all girls want to play with dolls.\"\n        ],\n        \"semantic_type\": \"\",\n        \"description\": \"\"\n      }\n    },\n    {\n      \"column\": \"Movie_Cast\",\n      \"properties\": {\n        \"dtype\": \"string\",\n        \"num_unique_values\": 3721,\n        \"samples\": [\n          \"Sean Maguire Carmen Electra Ken Davitian Kevin Sorbo Diedrich Bader\",\n          \"Michael Fassbender Kodi Smit-McPhee Ben Mendelsohn Caren Pistorius Rory McCann\",\n          \"Michael Angarano Kurt Russell Kelly Preston Danielle Panabaker Kevin Heffernan\"\n        ],\n        \"semantic_type\": \"\",\n        \"description\": \"\"\n      }\n    },\n    {\n      \"column\": \"Movie_Director\",\n      \"properties\": {\n        \"dtype\": \"category\",\n        \"num_unique_values\": 1747,\n        \"samples\": [\n          \"Christian Sesma\",\n          \"Mike Disa\",\n          \"Hugh Hudson\"\n        ],\n        \"semantic_type\": \"\",\n        \"description\": \"\"\n      }\n    }\n  ]\n}"
            }
          },
          "metadata": {},
          "execution_count": 72
        }
      ]
    },
    {
      "cell_type": "code",
      "source": [
        "x = df_features['Movie_Genre'] + '' + df_features['Movie_Keywords'] + '' + df_features['Movie_Tagline'] +''+ df_features['Movie_Cast']+ ''+ df_features['Movie_Director']"
      ],
      "metadata": {
        "id": "_ytxKvp08OFN"
      },
      "execution_count": null,
      "outputs": []
    },
    {
      "cell_type": "code",
      "source": [
        "x"
      ],
      "metadata": {
        "colab": {
          "base_uri": "https://localhost:8080/"
        },
        "id": "98Dglwm_nY7S",
        "outputId": "b6e46c99-8e86-475a-97eb-a694b165bd33"
      },
      "execution_count": null,
      "outputs": [
        {
          "output_type": "execute_result",
          "data": {
            "text/plain": [
              "0       Crime Comedyhotel new year's eve witch bet hot...\n",
              "1       Adventure Action Science Fictionandroid galaxy...\n",
              "2       Animation Familyfather son relationship harbor...\n",
              "3       Comedy Drama Romancevietnam veteran hippie men...\n",
              "4       Dramamale nudity female nudity adultery midlif...\n",
              "                              ...                        \n",
              "3731    Adventureblow job cigarette smoking illegal dr...\n",
              "3732    Dramaundercover dog animal welfare animal righ...\n",
              "3733    History Drama War Actionkorea fictionalized hi...\n",
              "3734    Action Adventure Animation Family Fantasyadven...\n",
              "3735    Thriller Dramachristian film sex traffickingSh...\n",
              "Length: 3736, dtype: object"
            ]
          },
          "metadata": {},
          "execution_count": 74
        }
      ]
    },
    {
      "cell_type": "code",
      "source": [
        "x.shape"
      ],
      "metadata": {
        "colab": {
          "base_uri": "https://localhost:8080/"
        },
        "id": "q-mCZkWo8TxF",
        "outputId": "8de6540f-82c6-4453-ed1c-12dcf2ca2791"
      },
      "execution_count": null,
      "outputs": [
        {
          "output_type": "execute_result",
          "data": {
            "text/plain": [
              "(3736,)"
            ]
          },
          "metadata": {},
          "execution_count": 75
        }
      ]
    },
    {
      "cell_type": "markdown",
      "source": [
        "# Get Feature Text Conversion to Tokens"
      ],
      "metadata": {
        "id": "6ktGaplEnqQ6"
      }
    },
    {
      "cell_type": "code",
      "source": [
        "from sklearn.feature_extraction.text import TfidfVectorizer\n"
      ],
      "metadata": {
        "id": "n3RfUY3an2Hf"
      },
      "execution_count": null,
      "outputs": []
    },
    {
      "cell_type": "code",
      "source": [
        "tfidf = TfidfVectorizer()\n"
      ],
      "metadata": {
        "id": "DhXgmLLVofc9"
      },
      "execution_count": null,
      "outputs": []
    },
    {
      "cell_type": "code",
      "source": [
        "x = tfidf.fit_transform(x)\n"
      ],
      "metadata": {
        "id": "pRHHv0PPolfF"
      },
      "execution_count": null,
      "outputs": []
    },
    {
      "cell_type": "code",
      "source": [
        "x.shape"
      ],
      "metadata": {
        "colab": {
          "base_uri": "https://localhost:8080/"
        },
        "id": "CPSJBOc3o1FJ",
        "outputId": "ebecc2c9-14bb-4b5d-de67-52498d3f1b38"
      },
      "execution_count": null,
      "outputs": [
        {
          "output_type": "execute_result",
          "data": {
            "text/plain": [
              "(3736, 23144)"
            ]
          },
          "metadata": {},
          "execution_count": 79
        }
      ]
    },
    {
      "cell_type": "code",
      "source": [
        "print(x)"
      ],
      "metadata": {
        "colab": {
          "base_uri": "https://localhost:8080/"
        },
        "id": "w_a-F7a4o5-Z",
        "outputId": "43a8f600-f055-48e3-ef44-869a48af4208"
      },
      "execution_count": null,
      "outputs": [
        {
          "output_type": "stream",
          "name": "stdout",
          "text": [
            "  (0, 882)\t0.16399376793991047\n",
            "  (0, 20873)\t0.19580522160421626\n",
            "  (0, 13250)\t0.1418479473495443\n",
            "  (0, 13012)\t0.17477899443518957\n",
            "  (0, 1811)\t0.17989949477206338\n",
            "  (0, 11153)\t0.09897970055040688\n",
            "  (0, 1608)\t0.14296754077088375\n",
            "  (0, 1044)\t0.14078044728365882\n",
            "  (0, 17755)\t0.14296754077088375\n",
            "  (0, 20800)\t0.11455042707933032\n",
            "  (0, 12495)\t0.09036048613230543\n",
            "  (0, 15157)\t0.060577321769720346\n",
            "  (0, 22538)\t0.17477899443518957\n",
            "  (0, 8162)\t0.08519367475403691\n",
            "  (0, 22484)\t0.11031131269716153\n",
            "  (0, 11222)\t0.13608100670933915\n",
            "  (0, 20286)\t0.10235662073927458\n",
            "  (0, 15235)\t0.07121741273261348\n",
            "  (0, 5236)\t0.11893459322907225\n",
            "  (0, 8023)\t0.11700512841834275\n",
            "  (0, 10000)\t0.19795940110081375\n",
            "  (0, 10720)\t0.1502023992069678\n",
            "  (0, 1959)\t0.19580522160421626\n",
            "  (0, 12692)\t0.15285276512076806\n",
            "  (0, 15238)\t0.08384609896687899\n",
            "  :\t:\n",
            "  (3734, 379)\t0.0847408618864912\n",
            "  (3734, 1608)\t0.18880589898275651\n",
            "  (3734, 1044)\t0.1859175779709501\n",
            "  (3734, 8162)\t0.3375256004862958\n",
            "  (3735, 2432)\t0.28444824987693956\n",
            "  (3735, 8453)\t0.28444824987693956\n",
            "  (3735, 2797)\t0.28444824987693956\n",
            "  (3735, 1131)\t0.28444824987693956\n",
            "  (3735, 19016)\t0.28444824987693956\n",
            "  (3735, 20989)\t0.28444824987693956\n",
            "  (3735, 6070)\t0.26134183768139707\n",
            "  (3735, 19492)\t0.2539032344236039\n",
            "  (3735, 1569)\t0.19417402537192038\n",
            "  (3735, 4584)\t0.19530415076095245\n",
            "  (3735, 9480)\t0.21958034986869135\n",
            "  (3735, 18482)\t0.16498983177357254\n",
            "  (3735, 14901)\t0.19202260109476935\n",
            "  (3735, 7925)\t0.14580977670368422\n",
            "  (3735, 11865)\t0.23430906836020024\n",
            "  (3735, 9834)\t0.1699745478315043\n",
            "  (3735, 11758)\t0.17992496272821146\n",
            "  (3735, 20400)\t0.10867013993979495\n",
            "  (3735, 20837)\t0.09375876068283863\n",
            "  (3735, 10961)\t0.12031675383219925\n",
            "  (3735, 14840)\t0.1452929367959359\n"
          ]
        }
      ]
    },
    {
      "cell_type": "markdown",
      "source": [
        "# **Get Similarity Score using Cosine Similarity**\n"
      ],
      "metadata": {
        "id": "F1s2B2S9pO2H"
      }
    },
    {
      "cell_type": "code",
      "source": [
        " from sklearn.metrics.pairwise import cosine_similarity\n"
      ],
      "metadata": {
        "id": "1zFMR2LZpg_G"
      },
      "execution_count": null,
      "outputs": []
    },
    {
      "cell_type": "code",
      "source": [
        "Similarity_Score = cosine_similarity(x)\n"
      ],
      "metadata": {
        "id": "6Dw7zlukppaW"
      },
      "execution_count": null,
      "outputs": []
    },
    {
      "cell_type": "code",
      "source": [
        "Similarity_Score"
      ],
      "metadata": {
        "colab": {
          "base_uri": "https://localhost:8080/"
        },
        "id": "tkTqhzqQqAZ6",
        "outputId": "cc25706e-bb20-466a-8d28-f1eb6493f5c0"
      },
      "execution_count": null,
      "outputs": [
        {
          "output_type": "execute_result",
          "data": {
            "text/plain": [
              "array([[1.        , 0.01382658, 0.03604693, ..., 0.00676268, 0.08192172,\n",
              "        0.        ],\n",
              "       [0.01382658, 1.        , 0.00808918, ..., 0.        , 0.01172742,\n",
              "        0.        ],\n",
              "       [0.03604693, 0.00808918, 1.        , ..., 0.01954575, 0.04699168,\n",
              "        0.        ],\n",
              "       ...,\n",
              "       [0.00676268, 0.        , 0.01954575, ..., 1.        , 0.        ,\n",
              "        0.005821  ],\n",
              "       [0.08192172, 0.01172742, 0.04699168, ..., 0.        , 1.        ,\n",
              "        0.        ],\n",
              "       [0.        , 0.        , 0.        , ..., 0.005821  , 0.        ,\n",
              "        1.        ]])"
            ]
          },
          "metadata": {},
          "execution_count": 83
        }
      ]
    },
    {
      "cell_type": "code",
      "source": [
        "Similarity_Score.shape"
      ],
      "metadata": {
        "colab": {
          "base_uri": "https://localhost:8080/"
        },
        "id": "_Cj3mKCWqJqO",
        "outputId": "b2700e66-14ce-4c85-92ba-604288345dd8"
      },
      "execution_count": null,
      "outputs": [
        {
          "output_type": "execute_result",
          "data": {
            "text/plain": [
              "(3736, 3736)"
            ]
          },
          "metadata": {},
          "execution_count": 84
        }
      ]
    },
    {
      "cell_type": "markdown",
      "source": [
        "**Get Movie Name as Input from User and Validate for Closest Spelling**"
      ],
      "metadata": {
        "id": "07ygpSC0qN01"
      }
    },
    {
      "cell_type": "code",
      "source": [
        "Favourite_Movie_Name = input(' Enter your favourite movie name :')"
      ],
      "metadata": {
        "id": "UjzxHG6QrA2e",
        "colab": {
          "base_uri": "https://localhost:8080/"
        },
        "outputId": "c8d1eb59-edc0-494b-84f1-5923180b86ad"
      },
      "execution_count": null,
      "outputs": [
        {
          "name": "stdout",
          "output_type": "stream",
          "text": [
            " Enter your favourite movie name :harry\n"
          ]
        }
      ]
    },
    {
      "cell_type": "code",
      "source": [
        "All_Movies_Title_List = df['Movie_Title'].tolist()"
      ],
      "metadata": {
        "id": "Qtq2jnvfshlJ"
      },
      "execution_count": null,
      "outputs": []
    },
    {
      "cell_type": "code",
      "source": [
        "import difflib"
      ],
      "metadata": {
        "id": "r6dk2ESPsqLB"
      },
      "execution_count": null,
      "outputs": []
    },
    {
      "cell_type": "code",
      "source": [
        "Movie_Recommendation = difflib.get_close_matches (Favourite_Movie_Name, All_Movies_Title_List)\n",
        "print(Movie_Recommendation)"
      ],
      "metadata": {
        "id": "9NGk22JGsvan",
        "colab": {
          "base_uri": "https://localhost:8080/"
        },
        "outputId": "af16aa32-f553-43e1-a43d-eded012cee09"
      },
      "execution_count": null,
      "outputs": [
        {
          "output_type": "stream",
          "name": "stdout",
          "text": [
            "['Charly']\n"
          ]
        }
      ]
    },
    {
      "cell_type": "code",
      "source": [
        "Close_Match = Movie_Recommendation[0]\n",
        "print (Close_Match)"
      ],
      "metadata": {
        "id": "RNLvKO979-nq",
        "colab": {
          "base_uri": "https://localhost:8080/"
        },
        "outputId": "dcede724-92a7-423e-a928-e67872763bc2"
      },
      "execution_count": null,
      "outputs": [
        {
          "output_type": "stream",
          "name": "stdout",
          "text": [
            "Charly\n"
          ]
        }
      ]
    },
    {
      "cell_type": "code",
      "source": [
        "\n",
        "Index_of_Close_Match_Movie = df [df.Movie_Title == Close_Match]['Movie_ID'].values[0]\n",
        "print(Index_of_Close_Match_Movie)\n"
      ],
      "metadata": {
        "id": "tzQUudQmtYiQ",
        "colab": {
          "base_uri": "https://localhost:8080/"
        },
        "outputId": "a0012c77-2c72-4217-cf86-c33c8a762013"
      },
      "execution_count": null,
      "outputs": [
        {
          "output_type": "stream",
          "name": "stdout",
          "text": [
            "2996\n"
          ]
        }
      ]
    },
    {
      "cell_type": "code",
      "source": [
        "# getting a list of similar movies\n",
        "\n",
        "Recommendation_Score = list(enumerate(Similarity_Score[Index_of_Close_Match_Movie]))\n",
        "print (Recommendation_Score)\n",
        "\n",
        "\n"
      ],
      "metadata": {
        "id": "rz-GrRlxuOEW",
        "colab": {
          "base_uri": "https://localhost:8080/"
        },
        "outputId": "cee71e8c-de24-4b26-9df3-387676d174ae"
      },
      "execution_count": null,
      "outputs": [
        {
          "output_type": "stream",
          "name": "stdout",
          "text": [
            "[(0, 0.0), (1, 0.004920287286691915), (2, 0.07759724929156522), (3, 0.0037205877838630756), (4, 0.0), (5, 0.004268616667863646), (6, 0.035517139582648065), (7, 0.01614241063637173), (8, 0.0), (9, 0.005838915157464608), (10, 0.00448429369375106), (11, 0.004775763542382202), (12, 0.0), (13, 0.0), (14, 0.003957445030427018), (15, 0.003748536376701837), (16, 0.0), (17, 0.013166230868043135), (18, 0.004319033015105753), (19, 0.0), (20, 0.004875828526644268), (21, 0.02358065480004672), (22, 0.004485158314581468), (23, 0.0), (24, 0.0036381109317697243), (25, 0.03263695719882572), (26, 0.009905471789256591), (27, 0.0), (28, 0.004181523025978563), (29, 0.01680852478177742), (30, 0.0040755156933337065), (31, 0.008975975973861206), (32, 0.0038548021124813155), (33, 0.02718645125979511), (34, 0.0), (35, 0.0), (36, 0.0), (37, 0.005992186805466483), (38, 0.014859549315144313), (39, 0.010534854016171684), (40, 0.0), (41, 0.0), (42, 0.008268344441571773), (43, 0.0), (44, 0.005092219815047479), (45, 0.008922581495872417), (46, 0.010695997678020664), (47, 0.0), (48, 0.0), (49, 0.014557496899219691), (50, 0.0201863701375219), (51, 0.0), (52, 0.0), (53, 0.0), (54, 0.0), (55, 0.0), (56, 0.0), (57, 0.00541873995678496), (58, 0.0037627414030650167), (59, 0.004171157860545743), (60, 0.004773969528179612), (61, 0.008230682411521015), (62, 0.0), (63, 0.0), (64, 0.0), (65, 0.004949225332459838), (66, 0.010388244223063132), (67, 0.010237761170395885), (68, 0.004368735318565003), (69, 0.00944806977184264), (70, 0.0), (71, 0.004586233197192853), (72, 0.0), (73, 0.004635254898534134), (74, 0.007393030097151757), (75, 0.004607616946072388), (76, 0.004257234037045342), (77, 0.004884442033112067), (78, 0.017508768734220557), (79, 0.0), (80, 0.017272886183151048), (81, 0.01455438398022511), (82, 0.004172851907308109), (83, 0.0), (84, 0.01430074460825706), (85, 0.012688443840619054), (86, 0.01879980070841199), (87, 0.00543159901399071), (88, 0.0), (89, 0.009153801583024118), (90, 0.005479431145196993), (91, 0.005029066827720702), (92, 0.005574110871955765), (93, 0.004071014776876663), (94, 0.0037836035440817414), (95, 0.0), (96, 0.008635686856451007), (97, 0.04081839907590836), (98, 0.0), (99, 0.016456798480592824), (100, 0.003924701236979633), (101, 0.004234264842396536), (102, 0.0), (103, 0.0), (104, 0.004864652159024456), (105, 0.012144895988932704), (106, 0.004260343640623499), (107, 0.0), (108, 0.0040398704689472015), (109, 0.004195987934255405), (110, 0.0035301563117693673), (111, 0.004217211063573531), (112, 0.0), (113, 0.013266048817179382), (114, 0.0), (115, 0.005621453192362908), (116, 0.037979000784921876), (117, 0.03595640027983727), (118, 0.0), (119, 0.0057658698319851135), (120, 0.003962313288147706), (121, 0.0065756176902085324), (122, 0.02746872395574572), (123, 0.004121908493789102), (124, 0.016819414823625298), (125, 0.0030386372897618624), (126, 0.0), (127, 0.0), (128, 0.004075893936668872), (129, 0.015121873490865918), (130, 0.003956609481724053), (131, 0.01744090833744875), (132, 0.009272306260920255), (133, 0.0), (134, 0.003649303378249917), (135, 0.006072113934911633), (136, 0.031478016091987776), (137, 0.0), (138, 0.0), (139, 0.05560017940506125), (140, 0.004913205470709136), (141, 0.0038811176989905502), (142, 0.0), (143, 0.005665654716773711), (144, 0.014821411995904386), (145, 0.0064339953567788995), (146, 0.0), (147, 0.0), (148, 0.023021403021993292), (149, 0.0), (150, 0.0044022195617514194), (151, 0.029532363553482495), (152, 0.0038832573703485827), (153, 0.005870967075069968), (154, 0.0), (155, 0.0), (156, 0.00851494177539459), (157, 0.0039066812802573785), (158, 0.0), (159, 0.0), (160, 0.00439176769254195), (161, 0.0050484483513872575), (162, 0.0), (163, 0.0), (164, 0.004418855613661067), (165, 0.0), (166, 0.0), (167, 0.03986178571956735), (168, 0.0), (169, 0.005861732800385747), (170, 0.005421193999213453), (171, 0.017664625120655423), (172, 0.003934562981987564), (173, 0.003940463391417108), (174, 0.0), (175, 0.0), (176, 0.008772365254870592), (177, 0.0), (178, 0.012215628222108041), (179, 0.013755617004592963), (180, 0.022203002009483858), (181, 0.004412319651671156), (182, 0.0037814941850747956), (183, 0.0036991047544993995), (184, 0.032417219856582725), (185, 0.0043555588341085095), (186, 0.00392840557850701), (187, 0.019955767517916615), (188, 0.0056647578014495945), (189, 0.002831702572145243), (190, 0.0), (191, 0.0045025723819654175), (192, 0.0), (193, 0.004636538149616489), (194, 0.0), (195, 0.010827871518587178), (196, 0.0), (197, 0.0), (198, 0.03261045712421599), (199, 0.0), (200, 0.0), (201, 0.02091673173909225), (202, 0.004457690202605671), (203, 0.005206604993618391), (204, 0.019704553581094353), (205, 0.0), (206, 0.005616197688817739), (207, 0.004137209250260321), (208, 0.0038164663201200218), (209, 0.0), (210, 0.0033754465188017726), (211, 0.0), (212, 0.0), (213, 0.003288798080807557), (214, 0.0), (215, 0.0), (216, 0.005624816676454164), (217, 0.005767847142933229), (218, 0.005453158333802674), (219, 0.012952206624167094), (220, 0.0), (221, 0.026571131684492086), (222, 0.017288348997504335), (223, 0.00437185244006946), (224, 0.03513604694604839), (225, 0.022458405064787596), (226, 0.0), (227, 0.003807097479296315), (228, 0.02014447928538148), (229, 0.0055946792659475235), (230, 0.0), (231, 0.03814984373656714), (232, 0.0), (233, 0.0), (234, 0.010677136740396049), (235, 0.003840131259151148), (236, 0.0), (237, 0.00453223833021515), (238, 0.003466386664159546), (239, 0.0), (240, 0.0055707583482300345), (241, 0.0054809040620534865), (242, 0.015077189557743651), (243, 0.014926987813201995), (244, 0.0), (245, 0.005211018042548552), (246, 0.005498778521301341), (247, 0.0), (248, 0.007512986084504734), (249, 0.003847025615751061), (250, 0.0), (251, 0.008419810350427104), (252, 0.004360723495969691), (253, 0.04460455336958739), (254, 0.0), (255, 0.0), (256, 0.0048951129163692046), (257, 0.0), (258, 0.020287983357136136), (259, 0.0), (260, 0.0), (261, 0.019629180475887825), (262, 0.004361208800314737), (263, 0.004221407998826085), (264, 0.003095610876795519), (265, 0.005098975369827858), (266, 0.015359995287312885), (267, 0.003934497438611202), (268, 0.0), (269, 0.012849633748917736), (270, 0.004470804369460308), (271, 0.004888264718271513), (272, 0.00897130069971703), (273, 0.005258129955061013), (274, 0.0), (275, 0.012005758814336489), (276, 0.00471357568585454), (277, 0.01097432965847013), (278, 0.0), (279, 0.0), (280, 0.0), (281, 0.0), (282, 0.0), (283, 0.0), (284, 0.016487323238674315), (285, 0.025158411760523663), (286, 0.005267527020830784), (287, 0.005002269130553469), (288, 0.003992358566308349), (289, 0.0035094106510705028), (290, 0.005230150648693321), (291, 0.0), (292, 0.0), (293, 0.0), (294, 0.012936611379243823), (295, 0.005295393882613197), (296, 0.005030222114709522), (297, 0.0), (298, 0.004641938004263343), (299, 0.03858258872620032), (300, 0.005567220335898079), (301, 0.005339209170484259), (302, 0.04527277929710456), (303, 0.036465305648724355), (304, 0.0), (305, 0.004121086404260164), (306, 0.004957286311363977), (307, 0.005450563590292931), (308, 0.009324542494570043), (309, 0.0030394765564252697), (310, 0.0), (311, 0.011594298915451062), (312, 0.004824469116521406), (313, 0.013316667177878404), (314, 0.0), (315, 0.013076151355799766), (316, 0.0), (317, 0.08150502097378559), (318, 0.0), (319, 0.0), (320, 0.0), (321, 0.004609651590959806), (322, 0.004197513534951999), (323, 0.0), (324, 0.0), (325, 0.03633437100154066), (326, 0.026852397488087154), (327, 0.004238772969115053), (328, 0.004218415170181784), (329, 0.010709419350761747), (330, 0.003423559422585492), (331, 0.0), (332, 0.004290844233080992), (333, 0.015646969498201165), (334, 0.02416773709911279), (335, 0.02439600478442707), (336, 0.003830580215397696), (337, 0.004163872116800999), (338, 0.004015104843533748), (339, 0.0), (340, 0.0), (341, 0.0), (342, 0.0), (343, 0.003875795155206383), (344, 0.0), (345, 0.0), (346, 0.0), (347, 0.0), (348, 0.0), (349, 0.04119128376015565), (350, 0.0150714701784606), (351, 0.004063099828691101), (352, 0.020678931763744583), (353, 0.004180160393384476), (354, 0.005542704303167253), (355, 0.0), (356, 0.0), (357, 0.017267941660294748), (358, 0.004895560384410593), (359, 0.0), (360, 0.0), (361, 0.005035111859257761), (362, 0.0), (363, 0.018396606431729294), (364, 0.0), (365, 0.024597477960277603), (366, 0.004349536575590369), (367, 0.004114307085416049), (368, 0.009492385799004402), (369, 0.0051668865892685), (370, 0.017857326280768512), (371, 0.0), (372, 0.031410828939391545), (373, 0.0), (374, 0.0), (375, 0.014066164284666257), (376, 0.0), (377, 0.0), (378, 0.004240393940103313), (379, 0.0), (380, 0.003758700162324246), (381, 0.0), (382, 0.0), (383, 0.0034522967417974933), (384, 0.004103920456775454), (385, 0.0), (386, 0.00389756631994145), (387, 0.0), (388, 0.01953562354707213), (389, 0.0), (390, 0.0), (391, 0.0), (392, 0.003910192225805911), (393, 0.013988266690385885), (394, 0.01158554884247099), (395, 0.0), (396, 0.0), (397, 0.0), (398, 0.0), (399, 0.006126212685557587), (400, 0.006097912591037364), (401, 0.004948825472511546), (402, 0.06695739339377707), (403, 0.003962757996261236), (404, 0.07319002725588836), (405, 0.004455761099375954), (406, 0.0), (407, 0.011476850448245056), (408, 0.036276360812536296), (409, 0.04612879970048511), (410, 0.016462824503797373), (411, 0.008126940558950446), (412, 0.0), (413, 0.0), (414, 0.018526069949898645), (415, 0.008257861295071282), (416, 0.004855312970335426), (417, 0.0), (418, 0.0), (419, 0.0), (420, 0.009812557087235661), (421, 0.005076874944335849), (422, 0.0), (423, 0.004600614765364859), (424, 0.014769941672718317), (425, 0.007527504713231376), (426, 0.017286812594642348), (427, 0.0), (428, 0.0030057986033409055), (429, 0.004579509286742034), (430, 0.003887695252679641), (431, 0.030532420987038747), (432, 0.017466001473013405), (433, 0.0), (434, 0.012664967001144261), (435, 0.004375808515203548), (436, 0.003985872739102289), (437, 0.0), (438, 0.038721837975906385), (439, 0.014091296908851556), (440, 0.012636898060408604), (441, 0.014836456312923053), (442, 0.004115898228909822), (443, 0.0045738375070269914), (444, 0.04081398958763219), (445, 0.0015720090136393003), (446, 0.018492809652158666), (447, 0.004386612258736224), (448, 0.003803901027307732), (449, 0.04122753827569576), (450, 0.0), (451, 0.0), (452, 0.0), (453, 0.0), (454, 0.0042814987478233925), (455, 0.005140111925496161), (456, 0.014899061131227614), (457, 0.0), (458, 0.0239676479852276), (459, 0.02359400835049886), (460, 0.00480546069754477), (461, 0.022432003196749296), (462, 0.0), (463, 0.005194711123989536), (464, 0.02082202637536061), (465, 0.004418628697330774), (466, 0.0), (467, 0.004360797331060182), (468, 0.0), (469, 0.0), (470, 0.021786705049245556), (471, 0.0043639445022748535), (472, 0.0034447896449292686), (473, 0.008970971285925052), (474, 0.006182164368888355), (475, 0.005738844495520725), (476, 0.006027212934478639), (477, 0.008941365206818893), (478, 0.06354545981822739), (479, 0.005698370752595992), (480, 0.008703811621008993), (481, 0.029800874980072684), (482, 0.0), (483, 0.004210007941205214), (484, 0.009821514231707816), (485, 0.01609297919819816), (486, 0.0), (487, 0.0), (488, 0.005451817235766308), (489, 0.0), (490, 0.0), (491, 0.0), (492, 0.01476414253654494), (493, 0.010490863860358076), (494, 0.0), (495, 0.0), (496, 0.016817592380577385), (497, 0.0), (498, 0.005361019966894541), (499, 0.005146092718408633), (500, 0.056357075302141214), (501, 0.0712929875458319), (502, 0.004483325532657709), (503, 0.0), (504, 0.0), (505, 0.016073809740410297), (506, 0.0036510509575878153), (507, 0.03866951184417105), (508, 0.0), (509, 0.005848455656454195), (510, 0.0044683361088714525), (511, 0.0), (512, 0.0), (513, 0.005326980426085319), (514, 0.00455148806127762), (515, 0.0), (516, 0.017414088250694872), (517, 0.003929455259947203), (518, 0.01593369413393589), (519, 0.015439098441956872), (520, 0.004107755611822999), (521, 0.04081426221644515), (522, 0.003977816050733249), (523, 0.004926180973817459), (524, 0.0037456651468058674), (525, 0.005242333431339719), (526, 0.005252393585650913), (527, 0.0050099608670875215), (528, 0.003400529642587513), (529, 0.005407459419626726), (530, 0.0), (531, 0.015924728420018016), (532, 0.0), (533, 0.004183663412310845), (534, 0.04269235869880002), (535, 0.004446325924691945), (536, 0.056659524023772494), (537, 0.0), (538, 0.0), (539, 0.004560101819024437), (540, 0.0), (541, 0.0), (542, 0.00472121599190086), (543, 0.004409726595223558), (544, 0.004073184249505056), (545, 0.00395299308906295), (546, 0.0), (547, 0.005499146596684858), (548, 0.004057898673859745), (549, 0.0), (550, 0.0042049409693804655), (551, 0.005698103286765432), (552, 0.0055587426903131116), (553, 0.004842407680729421), (554, 0.004708968083069883), (555, 0.0), (556, 0.012682013305892425), (557, 0.004031788998148029), (558, 0.004531157513330645), (559, 0.003366464626976345), (560, 0.003976462303573813), (561, 0.0035171781751096452), (562, 0.0), (563, 0.0037115753910232667), (564, 0.004712863049842548), (565, 0.005382252507346971), (566, 0.01121000794567909), (567, 0.005429590786035734), (568, 0.003583481392918333), (569, 0.0038016993659005746), (570, 0.03569385064735575), (571, 0.0148315444150886), (572, 0.0), (573, 0.02733576656104809), (574, 0.004465751889043853), (575, 0.004756831918883647), (576, 0.0), (577, 0.0), (578, 0.003700135479734139), (579, 0.004259480234394836), (580, 0.008512338793321287), (581, 0.0), (582, 0.00561101595311157), (583, 0.005042988483028414), (584, 0.0), (585, 0.0), (586, 0.0059751533137428255), (587, 0.004420642469645598), (588, 0.004319259464930899), (589, 0.003967069729752983), (590, 0.004607348220195466), (591, 0.004761833440660372), (592, 0.02739219660861054), (593, 0.01858319147347863), (594, 0.004130981673214224), (595, 0.019673682604378625), (596, 0.0), (597, 0.0), (598, 0.0), (599, 0.0), (600, 0.0), (601, 0.020671257515412877), (602, 0.03924229899865584), (603, 0.008613026886079641), (604, 0.0601857671691615), (605, 0.0040586787904158825), (606, 0.02342993061677611), (607, 0.00384374063677656), (608, 0.018052412335257298), (609, 0.00405509853519889), (610, 0.014264000461997668), (611, 0.014327201226880436), (612, 0.0), (613, 0.0), (614, 0.0), (615, 0.01960696748076666), (616, 0.040408797747320806), (617, 0.004348513306312395), (618, 0.03099749625521433), (619, 0.011614399454876738), (620, 0.0), (621, 0.03472047827700016), (622, 0.020666478639412546), (623, 0.005494699343811046), (624, 0.01035440239218573), (625, 0.004183391059225162), (626, 0.0), (627, 0.010681051314526345), (628, 0.0), (629, 0.0), (630, 0.0), (631, 0.030094801654919567), (632, 0.005948816389377318), (633, 0.007620020795836478), (634, 0.0), (635, 0.0), (636, 0.010644760263967115), (637, 0.004185140513894274), (638, 0.005271142244560841), (639, 0.0), (640, 0.004607277335881351), (641, 0.009147353067493267), (642, 0.008723612754989897), (643, 0.01420969352418298), (644, 0.004345603148839516), (645, 0.004280367151008684), (646, 0.015104625064677805), (647, 0.03427367202365455), (648, 0.004824904926010953), (649, 0.0), (650, 0.003936318049132162), (651, 0.003855344722397978), (652, 0.014369846353200759), (653, 0.0036411585343420773), (654, 0.0), (655, 0.0), (656, 0.0), (657, 0.05891324563421222), (658, 0.0036880571840556), (659, 0.0), (660, 0.0054748926500433), (661, 0.0058503754901944325), (662, 0.0107648750596952), (663, 0.0), (664, 0.0), (665, 0.008097688162266612), (666, 0.03688487666303423), (667, 0.004628222854826642), (668, 0.0), (669, 0.004617459248803391), (670, 0.0), (671, 0.009601899956663485), (672, 0.010323908335683243), (673, 0.010607290429579277), (674, 0.03368567258643623), (675, 0.0), (676, 0.0037373768184062657), (677, 0.0037648169329038963), (678, 0.004019952823872084), (679, 0.0), (680, 0.0), (681, 0.004426989803759717), (682, 0.004817315541895165), (683, 0.02569001226970133), (684, 0.0), (685, 0.013281608640744475), (686, 0.004501209813863292), (687, 0.003954643023757775), (688, 0.0), (689, 0.0), (690, 0.0), (691, 0.0), (692, 0.009749620488417567), (693, 0.013964670354335545), (694, 0.03763479363089035), (695, 0.0), (696, 0.0), (697, 0.004347032524633852), (698, 0.013421214392506913), (699, 0.0), (700, 0.0), (701, 0.03596684004306075), (702, 0.023364070259749466), (703, 0.008511099586887519), (704, 0.0050663452506343664), (705, 0.0), (706, 0.0), (707, 0.0), (708, 0.033602128002806535), (709, 0.004303936363285455), (710, 0.0), (711, 0.0), (712, 0.0), (713, 0.0), (714, 0.004594199896480082), (715, 0.0), (716, 0.0), (717, 0.03512575856279569), (718, 0.004795020210342314), (719, 0.0), (720, 0.0), (721, 0.0), (722, 0.0), (723, 0.0), (724, 0.013483963194747171), (725, 0.0039888675872683), (726, 0.0), (727, 0.0), (728, 0.0), (729, 0.0045632355951720225), (730, 0.005589716660755372), (731, 0.004408372776682942), (732, 0.006263402678485807), (733, 0.022038664550185154), (734, 0.0), (735, 0.00410271737141647), (736, 0.004249426841747119), (737, 0.017213979286235987), (738, 0.0), (739, 0.0), (740, 0.004840626436387523), (741, 0.03325203748525948), (742, 0.0), (743, 0.021345454270553645), (744, 0.0), (745, 0.01246855516657898), (746, 0.005574580918708664), (747, 0.05025424708598026), (748, 0.0), (749, 0.0), (750, 0.004966557062098033), (751, 0.0), (752, 0.02292565347057057), (753, 0.003765309045543223), (754, 0.0), (755, 0.0041744517728247105), (756, 0.0), (757, 0.015495787694032795), (758, 0.00539887548254024), (759, 0.0), (760, 0.0030457647873084275), (761, 0.015313950015481963), (762, 0.021055183538927633), (763, 0.0), (764, 0.009021962516594224), (765, 0.004494497251335631), (766, 0.015971075455191254), (767, 0.004315177645677844), (768, 0.0), (769, 0.0), (770, 0.01668708710605102), (771, 0.0), (772, 0.0270648388729768), (773, 0.004130880215694058), (774, 0.0), (775, 0.0), (776, 0.0), (777, 0.006443955912162361), (778, 0.0035994945030356404), (779, 0.004490483717602529), (780, 0.01559588389093028), (781, 0.0), (782, 0.004813587521416711), (783, 0.005787297332157361), (784, 0.0056387756206280355), (785, 0.004314503552157733), (786, 0.024200675949412755), (787, 0.004172543345439595), (788, 0.020691948593562486), (789, 0.009461226602539025), (790, 0.0), (791, 0.013629076659871876), (792, 0.0048475046951206606), (793, 0.0030397468026981452), (794, 0.0), (795, 0.0037269882840148933), (796, 0.0), (797, 0.008872740136165605), (798, 0.0042913344495839655), (799, 0.004588064160940732), (800, 0.009264835682860646), (801, 0.004325456555760076), (802, 0.014359740695721794), (803, 0.02964044111578383), (804, 0.0042041382694864154), (805, 0.004427686534802127), (806, 0.010307272162331571), (807, 0.0), (808, 0.0), (809, 0.03434688890716978), (810, 0.0), (811, 0.03227816814798182), (812, 0.022375439321798522), (813, 0.013447492468694708), (814, 0.0), (815, 0.0), (816, 0.0), (817, 0.0), (818, 0.0), (819, 0.003994756071721629), (820, 0.0), (821, 0.01516076001226743), (822, 0.0), (823, 0.005762966658907736), (824, 0.0), (825, 0.0), (826, 0.021221459587080424), (827, 0.0), (828, 0.004590020210526658), (829, 0.004378896832806991), (830, 0.0), (831, 0.0), (832, 0.026507885862008435), (833, 0.0), (834, 0.015376528672063508), (835, 0.006622743406212716), (836, 0.006171359247956972), (837, 0.0), (838, 0.004055027552842127), (839, 0.005589340445279111), (840, 0.0), (841, 0.003972211865254749), (842, 0.01421803176938449), (843, 0.0), (844, 0.005681009876568538), (845, 0.044947397455498424), (846, 0.0), (847, 0.030253973705135533), (848, 0.005942713631488924), (849, 0.0), (850, 0.0), (851, 0.004358694220493203), (852, 0.0036746397614057865), (853, 0.030715289058377074), (854, 0.0), (855, 0.01554678873960796), (856, 0.020788449989642972), (857, 0.02962238140199904), (858, 0.01753276285999713), (859, 0.0), (860, 0.003984591138620214), (861, 0.0), (862, 0.01270053084375723), (863, 0.0), (864, 0.018997421492064737), (865, 0.015197598347967507), (866, 0.019950715615941323), (867, 0.003948281825157857), (868, 0.005334039364367507), (869, 0.00553309929628094), (870, 0.006721893408435493), (871, 0.0), (872, 0.0), (873, 0.0039191140367927264), (874, 0.004534338887732479), (875, 0.03057971526587718), (876, 0.0052056297643538595), (877, 0.0), (878, 0.005807804259340795), (879, 0.0039216390275241065), (880, 0.0), (881, 0.0042552280970278465), (882, 0.0), (883, 0.0), (884, 0.004151272005695172), (885, 0.0182902520779668), (886, 0.0), (887, 0.005578920485801306), (888, 0.00958079543644964), (889, 0.004729712815914255), (890, 0.003928667837929963), (891, 0.004321538460123359), (892, 0.008664064046578322), (893, 0.0), (894, 0.0), (895, 0.06005727101451439), (896, 0.005151177104287418), (897, 0.004064719697638842), (898, 0.01010695940519526), (899, 0.0), (900, 0.0), (901, 0.0), (902, 0.021765730469059403), (903, 0.008827199107669855), (904, 0.0), (905, 0.0), (906, 0.0), (907, 0.02449147193712735), (908, 0.04585853448689546), (909, 0.013643597823108655), (910, 0.1429941879538134), (911, 0.005759227808138032), (912, 0.014862086716135082), (913, 0.016165646120648414), (914, 0.0), (915, 0.023139285215982127), (916, 0.0), (917, 0.004913899826939506), (918, 0.008922696034983468), (919, 0.00926407470499719), (920, 0.039276118445183715), (921, 0.01057346269807792), (922, 0.0), (923, 0.026763640625347827), (924, 0.00445294660624731), (925, 0.010632061319809587), (926, 0.015510294462480596), (927, 0.029077618472954238), (928, 0.004584479002170788), (929, 0.0059921060424523755), (930, 0.005372257317973258), (931, 0.0), (932, 0.006195365218946537), (933, 0.020310765461123023), (934, 0.0), (935, 0.019588559211720376), (936, 0.0), (937, 0.004176266987879932), (938, 0.0), (939, 0.010949671814351632), (940, 0.07834656660932358), (941, 0.0), (942, 0.0042273869488813785), (943, 0.004221994105939629), (944, 0.0), (945, 0.0199874689359865), (946, 0.004125318338093259), (947, 0.005646315714769901), (948, 0.07827068621019231), (949, 0.0), (950, 0.004062220732314438), (951, 0.01397480037634417), (952, 0.01856813557014214), (953, 0.0), (954, 0.0), (955, 0.015300242041488141), (956, 0.004063375678325532), (957, 0.0), (958, 0.0), (959, 0.018979670012749666), (960, 0.005537209050931006), (961, 0.004719288930531665), (962, 0.009928448412152669), (963, 0.0), (964, 0.003811677816549424), (965, 0.004025714973950901), (966, 0.013993767985650909), (967, 0.0), (968, 0.005575845446863064), (969, 0.0), (970, 0.0), (971, 0.0), (972, 0.004171208315568222), (973, 0.009101587256241904), (974, 0.0), (975, 0.01459557982987935), (976, 0.005113083673461217), (977, 0.0), (978, 0.009309566371556189), (979, 0.0), (980, 0.014618352388887904), (981, 0.0), (982, 0.014868410886900761), (983, 0.0043320015805690115), (984, 0.005067188917326946), (985, 0.0036964666267451547), (986, 0.019716174153924786), (987, 0.0038869226024682052), (988, 0.0), (989, 0.02144387110874659), (990, 0.004124153828181955), (991, 0.0), (992, 0.0), (993, 0.0), (994, 0.0037356092541603802), (995, 0.0), (996, 0.0), (997, 0.005999039585370926), (998, 0.013801297221169248), (999, 0.0), (1000, 0.05678422255693305), (1001, 0.0), (1002, 0.0052060114728519), (1003, 0.0), (1004, 0.0), (1005, 0.005889591854669081), (1006, 0.017433378897245444), (1007, 0.0), (1008, 0.004318765274438915), (1009, 0.0), (1010, 0.01033340496854932), (1011, 0.0), (1012, 0.0), (1013, 0.045025928476116556), (1014, 0.005617539679554584), (1015, 0.004796525318598712), (1016, 0.0), (1017, 0.005455662719598912), (1018, 0.036871435619480204), (1019, 0.005230869289810734), (1020, 0.0), (1021, 0.013046843319096786), (1022, 0.03885257463715025), (1023, 0.0), (1024, 0.0), (1025, 0.004759565831456008), (1026, 0.008527088776726467), (1027, 0.027532521005977816), (1028, 0.004232504146686896), (1029, 0.0), (1030, 0.0), (1031, 0.0), (1032, 0.005483985550814588), (1033, 0.0), (1034, 0.014971573938129406), (1035, 0.0), (1036, 0.004396863404731626), (1037, 0.00415621736713489), (1038, 0.0), (1039, 0.04243269004169642), (1040, 0.005221314931469269), (1041, 0.003850435346190125), (1042, 0.012314146320419989), (1043, 0.009687204652481393), (1044, 0.0), (1045, 0.004496149198568099), (1046, 0.01068518950374219), (1047, 0.0), (1048, 0.0), (1049, 0.0), (1050, 0.0), (1051, 0.0), (1052, 0.015691913614403297), (1053, 0.005395380169075605), (1054, 0.0), (1055, 0.004047697131456831), (1056, 0.014538692754031822), (1057, 0.0), (1058, 0.0), (1059, 0.0), (1060, 0.0), (1061, 0.016697176913482215), (1062, 0.0043594194040875575), (1063, 0.019936046610011565), (1064, 0.0), (1065, 0.0), (1066, 0.0), (1067, 0.0), (1068, 0.04427738573504613), (1069, 0.00426517250112389), (1070, 0.0), (1071, 0.0), (1072, 0.01391444505852258), (1073, 0.01622899585801328), (1074, 0.004343222657056014), (1075, 0.004429559135870415), (1076, 0.013371216969710347), (1077, 0.0), (1078, 0.009921854533451274), (1079, 0.0), (1080, 0.0), (1081, 0.025638017324428896), (1082, 0.01584817701413551), (1083, 0.00559487707266247), (1084, 0.0228596615277921), (1085, 0.0045981655586481126), (1086, 0.0), (1087, 0.0), (1088, 0.0043075501537382516), (1089, 0.004385738323951738), (1090, 0.0), (1091, 0.0), (1092, 0.0), (1093, 0.0), (1094, 0.0), (1095, 0.0), (1096, 0.003869474917077258), (1097, 0.0), (1098, 0.0), (1099, 0.003645336226093356), (1100, 0.0), (1101, 0.0), (1102, 0.0), (1103, 0.0040686022660733), (1104, 0.021463700994916346), (1105, 0.005256940653085851), (1106, 0.003947532544032987), (1107, 0.0040703069838838035), (1108, 0.0), (1109, 0.004660461712105133), (1110, 0.0), (1111, 0.02500738890134517), (1112, 0.012155267718800319), (1113, 0.003910350445585436), (1114, 0.004030325623605576), (1115, 0.0), (1116, 0.0039137373639464915), (1117, 0.013326030420747217), (1118, 0.0), (1119, 0.0), (1120, 0.0044273571010333785), (1121, 0.004601460618649377), (1122, 0.010315931353927776), (1123, 0.014985697113222968), (1124, 0.01762339404301327), (1125, 0.01810788487991686), (1126, 0.010215500662780767), (1127, 0.005261061140336925), (1128, 0.0), (1129, 0.004386783868029845), (1130, 0.0), (1131, 0.0), (1132, 0.01651385530379011), (1133, 0.00891847562192628), (1134, 0.02518737307264013), (1135, 0.0), (1136, 0.02145846665195466), (1137, 0.04189921185509296), (1138, 0.0), (1139, 0.0), (1140, 0.005560167283952096), (1141, 0.004180490869888792), (1142, 0.02331644965501911), (1143, 0.00423186121274497), (1144, 0.025114362794733194), (1145, 0.0), (1146, 0.017469839181150998), (1147, 0.0038592978008432535), (1148, 0.009863076270007584), (1149, 0.00525658351770979), (1150, 0.005656195232382449), (1151, 0.013326080641397477), (1152, 0.0), (1153, 0.009622018919119475), (1154, 0.006566507422312748), (1155, 0.013991981824190466), (1156, 0.026244893520907277), (1157, 0.004177512591198389), (1158, 0.005290155778608756), (1159, 0.0), (1160, 0.005695653650680902), (1161, 0.01637947327604807), (1162, 0.0), (1163, 0.0054992429553656534), (1164, 0.0), (1165, 0.0), (1166, 0.017124933029546065), (1167, 0.008896777138181175), (1168, 0.005235266717175894), (1169, 0.004820735504427214), (1170, 0.004092389628202002), (1171, 0.0), (1172, 0.0), (1173, 0.028506112604856696), (1174, 0.005882600203768596), (1175, 0.004937176026902732), (1176, 0.0), (1177, 0.0), (1178, 0.0), (1179, 0.005417688790317157), (1180, 0.004497793070725402), (1181, 0.0), (1182, 0.0), (1183, 0.0), (1184, 0.008669526257640267), (1185, 0.0), (1186, 0.009175873618154674), (1187, 0.021676622877771164), (1188, 0.0), (1189, 0.0), (1190, 0.004547795189228033), (1191, 0.0), (1192, 0.0), (1193, 0.0), (1194, 0.0), (1195, 0.004680749382038166), (1196, 0.015192739238961975), (1197, 0.01140062623538075), (1198, 0.0), (1199, 0.0035999238599643264), (1200, 0.0032013853298560897), (1201, 0.02035161298064831), (1202, 0.004038531592913293), (1203, 0.0046827883595948055), (1204, 0.005060490074642397), (1205, 0.0), (1206, 0.0), (1207, 0.004264198829361742), (1208, 0.02768028602740975), (1209, 0.00529800767223746), (1210, 0.0), (1211, 0.0), (1212, 0.037169715478099996), (1213, 0.0), (1214, 0.004465456806465578), (1215, 0.024942154701752157), (1216, 0.0), (1217, 0.0), (1218, 0.00453762510763664), (1219, 0.015658474312548076), (1220, 0.03285186118191567), (1221, 0.0), (1222, 0.005770405126176077), (1223, 0.020992635241227797), (1224, 0.0), (1225, 0.0), (1226, 0.006150887630706812), (1227, 0.0), (1228, 0.004294106934018943), (1229, 0.019894468402256206), (1230, 0.0), (1231, 0.04645974235276931), (1232, 0.009741253461411564), (1233, 0.05615114360305559), (1234, 0.004036035859114683), (1235, 0.018764109929186944), (1236, 0.028755566155157435), (1237, 0.0114187811036624), (1238, 0.013968626434999853), (1239, 0.0), (1240, 0.005712644130388945), (1241, 0.0), (1242, 0.013601293703610904), (1243, 0.00476162304805303), (1244, 0.0031849061955010844), (1245, 0.008697734730462727), (1246, 0.0), (1247, 0.004977647565849442), (1248, 0.0), (1249, 0.003621148933461896), (1250, 0.009153418319289001), (1251, 0.0), (1252, 0.0), (1253, 0.0270523929369621), (1254, 0.0), (1255, 0.0), (1256, 0.0), (1257, 0.004570185124083907), (1258, 0.0037254298342922574), (1259, 0.004916588191657696), (1260, 0.0), (1261, 0.005138123641044071), (1262, 0.01257035511796378), (1263, 0.00374788445299793), (1264, 0.004019471580485196), (1265, 0.016895557313803797), (1266, 0.0), (1267, 0.0040396843799330815), (1268, 0.0), (1269, 0.022811211552333295), (1270, 0.004288956899022737), (1271, 0.01946101751735681), (1272, 0.005655659360474722), (1273, 0.006265130974665496), (1274, 0.0045540819600429355), (1275, 0.024260741538093156), (1276, 0.004871408290983514), (1277, 0.00925025426991559), (1278, 0.0), (1279, 0.008645587740913216), (1280, 0.0), (1281, 0.0), (1282, 0.025641406489101078), (1283, 0.0), (1284, 0.0), (1285, 0.0058116634020153645), (1286, 0.031706895985266145), (1287, 0.0), (1288, 0.015446285799435319), (1289, 0.011228525605571655), (1290, 0.0), (1291, 0.014570740492352277), (1292, 0.0), (1293, 0.0), (1294, 0.03184670185665476), (1295, 0.0), (1296, 0.0), (1297, 0.0054001833981890904), (1298, 0.017479841797322048), (1299, 0.004182756681190621), (1300, 0.04048354571297345), (1301, 0.0043330904125452145), (1302, 0.017682038092672218), (1303, 0.00513594731701014), (1304, 0.01995621496877503), (1305, 0.012343640993380697), (1306, 0.0), (1307, 0.03709174717561732), (1308, 0.0042732680652148025), (1309, 0.005536562758689979), (1310, 0.009617986000068435), (1311, 0.013663503348220588), (1312, 0.00425063642787062), (1313, 0.0038334826424214884), (1314, 0.0), (1315, 0.0), (1316, 0.03962479293832233), (1317, 0.0), (1318, 0.0), (1319, 0.0), (1320, 0.005788969741822412), (1321, 0.024684788189582543), (1322, 0.0), (1323, 0.005537643650434377), (1324, 0.004206029663728745), (1325, 0.0), (1326, 0.005484759785601659), (1327, 0.0), (1328, 0.03349103092147581), (1329, 0.005588562405461524), (1330, 0.0), (1331, 0.004167191200810132), (1332, 0.0383469196079672), (1333, 0.023248840306414012), (1334, 0.03293183780329177), (1335, 0.0), (1336, 0.0), (1337, 0.0), (1338, 0.010384228323214513), (1339, 0.005431521937649026), (1340, 0.0), (1341, 0.0), (1342, 0.004843210661419627), (1343, 0.0), (1344, 0.025538706627853403), (1345, 0.0), (1346, 0.003977223206179553), (1347, 0.00454445622868091), (1348, 0.0), (1349, 0.0), (1350, 0.006227843224425457), (1351, 0.004259264811275316), (1352, 0.005044820578724365), (1353, 0.005555573957131777), (1354, 0.0), (1355, 0.010653242246599116), (1356, 0.01383778599669946), (1357, 0.0), (1358, 0.004732646394528367), (1359, 0.004455554601291387), (1360, 0.0042843207381437105), (1361, 0.003916029939911862), (1362, 0.01855411169024597), (1363, 0.0), (1364, 0.0), (1365, 0.05250388426309417), (1366, 0.0), (1367, 0.01912044389842347), (1368, 0.015596799244967964), (1369, 0.0), (1370, 0.005948719901964055), (1371, 0.015793037628256543), (1372, 0.020956805354929275), (1373, 0.02426982765642816), (1374, 0.0), (1375, 0.0), (1376, 0.0), (1377, 0.0), (1378, 0.0), (1379, 0.0), (1380, 0.00500614431534405), (1381, 0.0), (1382, 0.0), (1383, 0.04393781228970204), (1384, 0.003964557493855225), (1385, 0.005494096471262033), (1386, 0.05277796439234221), (1387, 0.002964480101451816), (1388, 0.0), (1389, 0.0), (1390, 0.009859679532533971), (1391, 0.009367454111455183), (1392, 0.0058837805164506434), (1393, 0.00551178227726016), (1394, 0.0040616169591906415), (1395, 0.00536536257157335), (1396, 0.005699734985089716), (1397, 0.0), (1398, 0.004670987343966903), (1399, 0.013423257608118428), (1400, 0.0), (1401, 0.0), (1402, 0.005498334552410352), (1403, 0.0), (1404, 0.0), (1405, 0.0), (1406, 0.0), (1407, 0.02626087417025392), (1408, 0.0), (1409, 0.0), (1410, 0.01286685428886749), (1411, 0.057803208526272506), (1412, 0.0), (1413, 0.004354441868230133), (1414, 0.0), (1415, 0.004593742241022224), (1416, 0.0054777986753938215), (1417, 0.010462040426057306), (1418, 0.0), (1419, 0.0038939862198546127), (1420, 0.026098684586336386), (1421, 0.0), (1422, 0.0), (1423, 0.00395891519913011), (1424, 0.005252635087190357), (1425, 0.005175369197867515), (1426, 0.01360378902803357), (1427, 0.0), (1428, 0.0), (1429, 0.016379876406246344), (1430, 0.0), (1431, 0.005261649005785338), (1432, 0.0), (1433, 0.005878907825816838), (1434, 0.028845098111629375), (1435, 0.0), (1436, 0.0), (1437, 0.00421917354376712), (1438, 0.0), (1439, 0.0), (1440, 0.0), (1441, 0.0), (1442, 0.005753812950885171), (1443, 0.04344967219618305), (1444, 0.009528200234080415), (1445, 0.004942080390304479), (1446, 0.0), (1447, 0.0), (1448, 0.0), (1449, 0.005709164979977164), (1450, 0.0), (1451, 0.0), (1452, 0.010161181189856447), (1453, 0.018634266087854626), (1454, 0.005597081431123925), (1455, 0.0), (1456, 0.005074738910478024), (1457, 0.0), (1458, 0.0), (1459, 0.004054873552977167), (1460, 0.0), (1461, 0.015549648159884778), (1462, 0.0), (1463, 0.055538967752053636), (1464, 0.005703504631567161), (1465, 0.0), (1466, 0.0), (1467, 0.008760636903511103), (1468, 0.005217201757869038), (1469, 0.0), (1470, 0.04706469377677114), (1471, 0.0), (1472, 0.004137629106189949), (1473, 0.004189064555430594), (1474, 0.00559946409698161), (1475, 0.0), (1476, 0.0), (1477, 0.0), (1478, 0.0), (1479, 0.005380512387450458), (1480, 0.003975377628930903), (1481, 0.0), (1482, 0.0), (1483, 0.0040594508841304226), (1484, 0.0), (1485, 0.0), (1486, 0.005423700921739671), (1487, 0.0), (1488, 0.0), (1489, 0.029149831246312766), (1490, 0.0), (1491, 0.0038210542483280256), (1492, 0.0354996134096945), (1493, 0.017785397387527734), (1494, 0.0044525105244709005), (1495, 0.004276246930417318), (1496, 0.004287807902565889), (1497, 0.0), (1498, 0.009316752889573557), (1499, 0.0036102163036264272), (1500, 0.016217326352593858), (1501, 0.0), (1502, 0.00878101854137099), (1503, 0.013970072754277793), (1504, 0.0), (1505, 0.0), (1506, 0.0), (1507, 0.0), (1508, 0.020909290002775444), (1509, 0.0), (1510, 0.0), (1511, 0.0), (1512, 0.017386172339447226), (1513, 0.0), (1514, 0.0), (1515, 0.05922959125371845), (1516, 0.0), (1517, 0.004503230022603786), (1518, 0.0), (1519, 0.027461415628167757), (1520, 0.04169104806156352), (1521, 0.0), (1522, 0.003317733090630217), (1523, 0.005065994106198755), (1524, 0.0), (1525, 0.009806901872024038), (1526, 0.0), (1527, 0.009669716899463388), (1528, 0.0), (1529, 0.005262161578083058), (1530, 0.031255740274906345), (1531, 0.0), (1532, 0.0), (1533, 0.021021450075420528), (1534, 0.0), (1535, 0.025527608473492704), (1536, 0.0042331221866516635), (1537, 0.01353840666662151), (1538, 0.0), (1539, 0.0), (1540, 0.004295898773783739), (1541, 0.0), (1542, 0.0), (1543, 0.008938297328403079), (1544, 0.0), (1545, 0.0035222147308331957), (1546, 0.01960180875377131), (1547, 0.0), (1548, 0.03013960247482932), (1549, 0.017057598902047152), (1550, 0.0040459952297883135), (1551, 0.0), (1552, 0.02091195437518522), (1553, 0.0), (1554, 0.0), (1555, 0.0039194014332413025), (1556, 0.0), (1557, 0.0), (1558, 0.004214958350228403), (1559, 0.015357523874675934), (1560, 0.0), (1561, 0.01492367137192895), (1562, 0.0), (1563, 0.0), (1564, 0.0), (1565, 0.0), (1566, 0.0), (1567, 0.04814818357940959), (1568, 0.004603504995432384), (1569, 0.0), (1570, 0.005897281641106233), (1571, 0.004241814539372256), (1572, 0.0036578423487350783), (1573, 0.010674433353724807), (1574, 0.024978692597825383), (1575, 0.005034192962098073), (1576, 0.0), (1577, 0.004747707111458842), (1578, 0.004346719394841674), (1579, 0.0), (1580, 0.00390521310499119), (1581, 0.0), (1582, 0.00529779200369804), (1583, 0.004430921752586139), (1584, 0.04416992829118586), (1585, 0.0), (1586, 0.0), (1587, 0.0), (1588, 0.005752296364891019), (1589, 0.004527682763413968), (1590, 0.0), (1591, 0.004290187317335399), (1592, 0.0), (1593, 0.0), (1594, 0.030513343753718163), (1595, 0.00568466816222579), (1596, 0.005812518139276682), (1597, 0.0), (1598, 0.0), (1599, 0.025903010638412306), (1600, 0.019637422435367993), (1601, 0.0), (1602, 0.020708967830481945), (1603, 0.003633994509730482), (1604, 0.004076804135807009), (1605, 0.0048281727871006385), (1606, 0.0), (1607, 0.0034227228767567167), (1608, 0.005235059749017508), (1609, 0.0), (1610, 0.0), (1611, 0.0), (1612, 0.0427219183697318), (1613, 0.0), (1614, 0.0), (1615, 0.0354250925603884), (1616, 0.0), (1617, 0.0), (1618, 0.0), (1619, 0.03279267393937801), (1620, 0.0), (1621, 0.0038899646521996325), (1622, 0.04072150861127641), (1623, 0.008645024889081046), (1624, 0.03961833490166204), (1625, 0.0), (1626, 0.0), (1627, 0.004315194496071813), (1628, 0.01779801615221006), (1629, 0.0), (1630, 0.0), (1631, 0.004876820258008929), (1632, 0.009779359522726924), (1633, 0.010801739201423285), (1634, 0.0), (1635, 0.015982440956688635), (1636, 0.0), (1637, 0.0), (1638, 0.024988831725789012), (1639, 0.0), (1640, 0.012723123335779562), (1641, 0.004167339873612524), (1642, 0.0), (1643, 0.008827490565033446), (1644, 0.0), (1645, 0.018821061956735774), (1646, 0.0), (1647, 0.005102267014939586), (1648, 0.014406188731244426), (1649, 0.021849894050772527), (1650, 0.0), (1651, 0.0), (1652, 0.0), (1653, 0.018616288875118507), (1654, 0.021216015724532442), (1655, 0.010656546173339547), (1656, 0.00602722950630874), (1657, 0.0), (1658, 0.0), (1659, 0.0046478498026890965), (1660, 0.0), (1661, 0.0), (1662, 0.0), (1663, 0.0), (1664, 0.06024780572954418), (1665, 0.0), (1666, 0.00486404727207162), (1667, 0.0), (1668, 0.0094358614946076), (1669, 0.005891632301096041), (1670, 0.0041576629501260155), (1671, 0.03153350358293383), (1672, 0.006245376535235092), (1673, 0.0), (1674, 0.03119067041470257), (1675, 0.005117154851243088), (1676, 0.013424400918586158), (1677, 0.0), (1678, 0.004566646577086158), (1679, 0.0), (1680, 0.0), (1681, 0.0), (1682, 0.003938062469870197), (1683, 0.008324266667349013), (1684, 0.023281472560665928), (1685, 0.01885667890933696), (1686, 0.0), (1687, 0.0), (1688, 0.0), (1689, 0.0), (1690, 0.0), (1691, 0.0), (1692, 0.019714601118446654), (1693, 0.005839034577118949), (1694, 0.01660687536579882), (1695, 0.0), (1696, 0.0036194968270145313), (1697, 0.005343707447973684), (1698, 0.05419555078085433), (1699, 0.0), (1700, 0.0), (1701, 0.0), (1702, 0.004558223232832074), (1703, 0.0), (1704, 0.0), (1705, 0.0), (1706, 0.0), (1707, 0.0), (1708, 0.0), (1709, 0.06194117337724328), (1710, 0.0), (1711, 0.0), (1712, 0.004129493814055674), (1713, 0.003920734816945542), (1714, 0.004597034397024577), (1715, 0.0), (1716, 0.030990917556929107), (1717, 0.003922616795862099), (1718, 0.026279870850767512), (1719, 0.003465954060432622), (1720, 0.0), (1721, 0.017012496914969265), (1722, 0.02534329472886474), (1723, 0.003943061341201804), (1724, 0.010267906775590852), (1725, 0.0), (1726, 0.004126008929996928), (1727, 0.0), (1728, 0.0), (1729, 0.005532691705064165), (1730, 0.004259490514674156), (1731, 0.05187184965791527), (1732, 0.004054393786236066), (1733, 0.008029214334221012), (1734, 0.0), (1735, 0.0), (1736, 0.0), (1737, 0.0), (1738, 0.004215353793580116), (1739, 0.023239818486043062), (1740, 0.005077612337304186), (1741, 0.04845955932575967), (1742, 0.004692486365172163), (1743, 0.0373645742164537), (1744, 0.0), (1745, 0.04034164967938651), (1746, 0.041068913173733235), (1747, 0.06136342267820728), (1748, 0.019576269911055044), (1749, 0.0), (1750, 0.004642168479808345), (1751, 0.0), (1752, 0.0), (1753, 0.0), (1754, 0.0), (1755, 0.0), (1756, 0.008926983834446473), (1757, 0.0), (1758, 0.004606755947525175), (1759, 0.004541566466872112), (1760, 0.0), (1761, 0.003880869848848166), (1762, 0.0), (1763, 0.0), (1764, 0.004691973379748883), (1765, 0.015561938471112752), (1766, 0.0), (1767, 0.0), (1768, 0.0), (1769, 0.01919007204852461), (1770, 0.0), (1771, 0.0), (1772, 0.009992399709701704), (1773, 0.0), (1774, 0.008673772734416578), (1775, 0.0), (1776, 0.005484563348397263), (1777, 0.038936227358353045), (1778, 0.0), (1779, 0.0), (1780, 0.00441293709061942), (1781, 0.0037190800965617053), (1782, 0.0), (1783, 0.005464001889746016), (1784, 0.004501700526398941), (1785, 0.0039027391959343466), (1786, 0.03913702880705739), (1787, 0.003619764638141714), (1788, 0.004545099423224192), (1789, 0.010604301071374288), (1790, 0.0), (1791, 0.017459062197555462), (1792, 0.0), (1793, 0.02174551069229442), (1794, 0.0), (1795, 0.0097755485610424), (1796, 0.0), (1797, 0.0), (1798, 0.0), (1799, 0.014771362248139571), (1800, 0.0038733133710341146), (1801, 0.0), (1802, 0.0), (1803, 0.004356872472600715), (1804, 0.010902517397755501), (1805, 0.0043082139595523004), (1806, 0.0), (1807, 0.008688621530193157), (1808, 0.005147340842885486), (1809, 0.0), (1810, 0.010225205357416835), (1811, 0.005884892489054595), (1812, 0.008728064066160265), (1813, 0.0), (1814, 0.03002634121785627), (1815, 0.0), (1816, 0.020241133102267026), (1817, 0.0), (1818, 0.014207782622513538), (1819, 0.0), (1820, 0.009853089141932801), (1821, 0.0), (1822, 0.03411941497899697), (1823, 0.0), (1824, 0.011404618140475711), (1825, 0.008907760674017488), (1826, 0.009630639074636326), (1827, 0.0), (1828, 0.009782274988625177), (1829, 0.0), (1830, 0.0), (1831, 0.015253841823440611), (1832, 0.02721590866834525), (1833, 0.0), (1834, 0.00353067823317907), (1835, 0.0), (1836, 0.0), (1837, 0.0040905850071902535), (1838, 0.0), (1839, 0.0), (1840, 0.0), (1841, 0.00428331648069709), (1842, 0.0038825649527941685), (1843, 0.0060547476444963635), (1844, 0.004346959330685174), (1845, 0.0217024534043372), (1846, 0.005778859403524116), (1847, 0.010372768163515534), (1848, 0.0), (1849, 0.0), (1850, 0.0), (1851, 0.0), (1852, 0.005920388477680878), (1853, 0.0), (1854, 0.004079355371258884), (1855, 0.009630084450365332), (1856, 0.004595436674448829), (1857, 0.0), (1858, 0.0042829065388417685), (1859, 0.0), (1860, 0.023297268353283523), (1861, 0.0), (1862, 0.003937913584565944), (1863, 0.0), (1864, 0.004833897815065845), (1865, 0.01818613471853228), (1866, 0.0036941758372504023), (1867, 0.0), (1868, 0.00454010190503133), (1869, 0.0), (1870, 0.01789901354959157), (1871, 0.010496290313378811), (1872, 0.0), (1873, 0.0), (1874, 0.016048942280495155), (1875, 0.009738517384903975), (1876, 0.01809303467109974), (1877, 0.0), (1878, 0.0), (1879, 0.06932371166118441), (1880, 0.02490913728507651), (1881, 0.008825913423382825), (1882, 0.0), (1883, 0.05881244458944315), (1884, 0.004922960748805738), (1885, 0.0), (1886, 0.0), (1887, 0.019295197692370723), (1888, 0.0), (1889, 0.03269344334113182), (1890, 0.0), (1891, 0.008628262609318062), (1892, 0.016690725623980364), (1893, 0.010342641772544299), (1894, 0.004153675302901377), (1895, 0.004189080152828792), (1896, 0.003661102017009584), (1897, 0.031850275839699564), (1898, 0.0), (1899, 0.03834531898363897), (1900, 0.0), (1901, 0.014861913866581533), (1902, 0.012247612085842328), (1903, 0.0), (1904, 0.027868102564855488), (1905, 0.0060456991235536585), (1906, 0.010138165988971378), (1907, 0.0), (1908, 0.023896412269565726), (1909, 0.017978176155669122), (1910, 0.028379537946178264), (1911, 0.0), (1912, 0.01011952521587881), (1913, 0.0), (1914, 0.01422259249307144), (1915, 0.005080521242551511), (1916, 0.020615399847319065), (1917, 0.015001834430688454), (1918, 0.004714621635357011), (1919, 0.0), (1920, 0.0), (1921, 0.0), (1922, 0.0), (1923, 0.03724772120206124), (1924, 0.009554261627480198), (1925, 0.014980180947133442), (1926, 0.004530206740326835), (1927, 0.0), (1928, 0.0), (1929, 0.0), (1930, 0.0), (1931, 0.0), (1932, 0.004610911882367048), (1933, 0.004622076156881049), (1934, 0.0046470454036808585), (1935, 0.0), (1936, 0.009344954583742206), (1937, 0.011180162129038159), (1938, 0.01583300850846917), (1939, 0.0), (1940, 0.021073267251479125), (1941, 0.004273874782444437), (1942, 0.0), (1943, 0.005523594613103602), (1944, 0.005519526494472317), (1945, 0.02241157159979719), (1946, 0.003635688158766981), (1947, 0.0), (1948, 0.016058985676404416), (1949, 0.009943159385250247), (1950, 0.004204772088320835), (1951, 0.0036415488952804835), (1952, 0.0), (1953, 0.0), (1954, 0.005799032592512042), (1955, 0.0051605708475008895), (1956, 0.0), (1957, 0.01637124506096868), (1958, 0.004075017339194076), (1959, 0.02462197601749367), (1960, 0.06154166315189419), (1961, 0.039921135130838725), (1962, 0.0), (1963, 0.038785125185515704), (1964, 0.005181805078971157), (1965, 0.0), (1966, 0.0), (1967, 0.005362830013423471), (1968, 0.004353716198336167), (1969, 0.015180707317061058), (1970, 0.003672323953788373), (1971, 0.0), (1972, 0.0), (1973, 0.0), (1974, 0.004894559487040007), (1975, 0.0), (1976, 0.0), (1977, 0.005220750916325208), (1978, 0.0), (1979, 0.0), (1980, 0.004324988303479539), (1981, 0.0), (1982, 0.0), (1983, 0.0), (1984, 0.013803737441660567), (1985, 0.03534460859532551), (1986, 0.0), (1987, 0.03850365075955409), (1988, 0.0), (1989, 0.0061810736178258), (1990, 0.010674309379686404), (1991, 0.0), (1992, 0.0), (1993, 0.0052609194747965625), (1994, 0.02016929423946042), (1995, 0.024187975013691465), (1996, 0.018722651065603616), (1997, 0.01288109197687239), (1998, 0.0), (1999, 0.0), (2000, 0.057452573534812645), (2001, 0.02848597845863969), (2002, 0.0046311641020509225), (2003, 0.0), (2004, 0.004016007749784044), (2005, 0.0), (2006, 0.0), (2007, 0.01505686324338087), (2008, 0.02092906134081441), (2009, 0.005282201145589324), (2010, 0.0), (2011, 0.005680269827135511), (2012, 0.009541388410539028), (2013, 0.018605655904803082), (2014, 0.009837062461019567), (2015, 0.0), (2016, 0.004739467636963705), (2017, 0.0), (2018, 0.004232157374851552), (2019, 0.005491676351814167), (2020, 0.0), (2021, 0.0), (2022, 0.0), (2023, 0.0), (2024, 0.0), (2025, 0.009054706964828298), (2026, 0.0), (2027, 0.004297901150686477), (2028, 0.004834141517017552), (2029, 0.004516057317064107), (2030, 0.014749254445113252), (2031, 0.005696184358610041), (2032, 0.0), (2033, 0.0), (2034, 0.008515995810020442), (2035, 0.005364462680363491), (2036, 0.0038467681224780073), (2037, 0.004465690548961096), (2038, 0.02140032910658799), (2039, 0.0), (2040, 0.0), (2041, 0.0), (2042, 0.004243994384453962), (2043, 0.0), (2044, 0.04341604135364052), (2045, 0.0), (2046, 0.0), (2047, 0.0), (2048, 0.0), (2049, 0.0), (2050, 0.0), (2051, 0.003942895122637216), (2052, 0.0), (2053, 0.0), (2054, 0.0), (2055, 0.0), (2056, 0.03481542750202339), (2057, 0.020166620442147693), (2058, 0.005410682950353695), (2059, 0.01020363233846314), (2060, 0.0), (2061, 0.0), (2062, 0.0), (2063, 0.0), (2064, 0.0), (2065, 0.003999391848172237), (2066, 0.0), (2067, 0.03822310776990764), (2068, 0.03911799304781333), (2069, 0.0), (2070, 0.004789607643075866), (2071, 0.018761120967503216), (2072, 0.0), (2073, 0.00528864849966554), (2074, 0.0), (2075, 0.003977294316356455), (2076, 0.0), (2077, 0.0), (2078, 0.0), (2079, 0.01864482444424144), (2080, 0.0043042249523617925), (2081, 0.004979050209599871), (2082, 0.005699616592435253), (2083, 0.0), (2084, 0.008042639807277756), (2085, 0.004481975977868819), (2086, 0.005017471972980381), (2087, 0.00435350334676024), (2088, 0.031153363221715295), (2089, 0.0), (2090, 0.018115409264317758), (2091, 0.0), (2092, 0.0), (2093, 0.005662639016273217), (2094, 0.0), (2095, 0.004576795390100961), (2096, 0.0), (2097, 0.009834784319599645), (2098, 0.0), (2099, 0.0038867004047740024), (2100, 0.0), (2101, 0.017777259128835866), (2102, 0.0), (2103, 0.004030624586222072), (2104, 0.04484753996350988), (2105, 0.0), (2106, 0.0), (2107, 0.0), (2108, 0.0037240386931972676), (2109, 0.0), (2110, 0.062124704898802126), (2111, 0.0), (2112, 0.00423197669754201), (2113, 0.0), (2114, 0.0), (2115, 0.004002401812008278), (2116, 0.0), (2117, 0.0), (2118, 0.0), (2119, 0.0), (2120, 0.014037815198293627), (2121, 0.004597544998213732), (2122, 0.0), (2123, 0.0), (2124, 0.006034952043448289), (2125, 0.0), (2126, 0.0), (2127, 0.03885348980133124), (2128, 0.004641576946091646), (2129, 0.004436527718985747), (2130, 0.037674328574315505), (2131, 0.004201431447815919), (2132, 0.0), (2133, 0.008804995727366385), (2134, 0.0), (2135, 0.040192520693598355), (2136, 0.00438963309218252), (2137, 0.005161110322473042), (2138, 0.0), (2139, 0.0), (2140, 0.0), (2141, 0.008389924882558242), (2142, 0.015948642981911957), (2143, 0.0), (2144, 0.0), (2145, 0.0), (2146, 0.0), (2147, 0.0), (2148, 0.0), (2149, 0.004332336196326513), (2150, 0.027461677973980546), (2151, 0.004850658602643227), (2152, 0.011320838589527779), (2153, 0.011516295269046817), (2154, 0.01454426132833686), (2155, 0.004174809986368637), (2156, 0.005237359725326364), (2157, 0.0051225504413224855), (2158, 0.0), (2159, 0.004766789605274686), (2160, 0.00484115293217974), (2161, 0.0), (2162, 0.03448715752382222), (2163, 0.005104382302427011), (2164, 0.06407803086539136), (2165, 0.0), (2166, 0.05270154647968789), (2167, 0.0037151092237431597), (2168, 0.005551005608388257), (2169, 0.0), (2170, 0.004018338568743686), (2171, 0.0), (2172, 0.019850917252748543), (2173, 0.011295106499434542), (2174, 0.03242837914415307), (2175, 0.004123308497358951), (2176, 0.0), (2177, 0.016320421791315157), (2178, 0.004070253891019381), (2179, 0.0034162231418184918), (2180, 0.0), (2181, 0.020380618267896715), (2182, 0.0034462569375579895), (2183, 0.0045819856763569524), (2184, 0.0), (2185, 0.0), (2186, 0.004023193504664334), (2187, 0.04788902445034268), (2188, 0.0), (2189, 0.0043878172021782035), (2190, 0.0), (2191, 0.006043788806057144), (2192, 0.0), (2193, 0.013667202834383423), (2194, 0.0), (2195, 0.0), (2196, 0.021793273176815335), (2197, 0.005501115558888377), (2198, 0.003888650881811857), (2199, 0.0), (2200, 0.0), (2201, 0.005819983659278826), (2202, 0.0), (2203, 0.08509129646819479), (2204, 0.0), (2205, 0.0), (2206, 0.05447232782440131), (2207, 0.005047722956139075), (2208, 0.03404505214398204), (2209, 0.0), (2210, 0.0), (2211, 0.0), (2212, 0.0), (2213, 0.0038531803323967376), (2214, 0.006992337095835285), (2215, 0.010535078317193889), (2216, 0.0), (2217, 0.007857854213047175), (2218, 0.0), (2219, 0.0036436758660621953), (2220, 0.004090819086568494), (2221, 0.0041319279099214495), (2222, 0.01203891265472708), (2223, 0.0), (2224, 0.037314184780413165), (2225, 0.0020098240781917733), (2226, 0.01373452601143944), (2227, 0.0), (2228, 0.0188194618759434), (2229, 0.0), (2230, 0.045372179245965524), (2231, 0.0), (2232, 0.0), (2233, 0.0), (2234, 0.005477664013288378), (2235, 0.0), (2236, 0.038751736645956145), (2237, 0.004176926556181917), (2238, 0.02759181984179706), (2239, 0.010702747575400665), (2240, 0.004210525307790486), (2241, 0.013004421722962753), (2242, 0.0036215053850686186), (2243, 0.0), (2244, 0.04454009528511653), (2245, 0.0), (2246, 0.0), (2247, 0.012656311745772423), (2248, 0.0), (2249, 0.0), (2250, 0.016279309900206002), (2251, 0.0038226619775339216), (2252, 0.0), (2253, 0.005032880954318877), (2254, 0.019532451578554332), (2255, 0.0), (2256, 0.0), (2257, 0.01791155973792046), (2258, 0.0), (2259, 0.0), (2260, 0.004780712425759318), (2261, 0.004210757524937591), (2262, 0.01677323592849392), (2263, 0.0), (2264, 0.0), (2265, 0.004027035897181318), (2266, 0.004588312130339182), (2267, 0.02495608203640285), (2268, 0.0037009415429251624), (2269, 0.03785512851612214), (2270, 0.0), (2271, 0.004328768783114246), (2272, 0.03833014500242124), (2273, 0.0), (2274, 0.004522899129817054), (2275, 0.022270967599854988), (2276, 0.003914452408182309), (2277, 0.004220794727124414), (2278, 0.009018622145832197), (2279, 0.0), (2280, 0.005310918896055803), (2281, 0.00825821119714679), (2282, 0.0), (2283, 0.0), (2284, 0.01198349961827982), (2285, 0.012859618951549637), (2286, 0.0), (2287, 0.13352123872959556), (2288, 0.0058514381410879265), (2289, 0.0), (2290, 0.0047953661789237835), (2291, 0.0), (2292, 0.004373611741544972), (2293, 0.009474720543071096), (2294, 0.012759003934101457), (2295, 0.0), (2296, 0.005506787059427987), (2297, 0.0), (2298, 0.009464643980590295), (2299, 0.0), (2300, 0.0181447886889282), (2301, 0.009818879752144863), (2302, 0.0), (2303, 0.022183842333076728), (2304, 0.0), (2305, 0.004090460134173151), (2306, 0.015331444338120672), (2307, 0.022723548630861366), (2308, 0.036171097392464414), (2309, 0.0), (2310, 0.0), (2311, 0.0), (2312, 0.020045637381318242), (2313, 0.0), (2314, 0.00612169024212019), (2315, 0.016801528817387636), (2316, 0.0), (2317, 0.005109460203110593), (2318, 0.016434142517478406), (2319, 0.01379894128754617), (2320, 0.011122071567196915), (2321, 0.03795637258115834), (2322, 0.0), (2323, 0.004288792051504648), (2324, 0.0), (2325, 0.005725996402745526), (2326, 0.0), (2327, 0.0055871382039036945), (2328, 0.003777721861399799), (2329, 0.0), (2330, 0.004332532775499434), (2331, 0.0050268997318221355), (2332, 0.016013323061909664), (2333, 0.04075102598561588), (2334, 0.0), (2335, 0.0), (2336, 0.009828661621382549), (2337, 0.0), (2338, 0.006050228582103166), (2339, 0.014415690904449004), (2340, 0.0055960820364394604), (2341, 0.01037364216883578), (2342, 0.004212060740139371), (2343, 0.005013269790312435), (2344, 0.0), (2345, 0.006163056476089265), (2346, 0.0), (2347, 0.0), (2348, 0.0038706565066554204), (2349, 0.0), (2350, 0.038012687899767514), (2351, 0.0), (2352, 0.005585099350373088), (2353, 0.0), (2354, 0.0), (2355, 0.016148171234385094), (2356, 0.009204060555444864), (2357, 0.0), (2358, 0.043882329878288606), (2359, 0.004951869930991279), (2360, 0.004003995480365225), (2361, 0.004996840901263871), (2362, 0.02617386384814007), (2363, 0.00434861738239844), (2364, 0.004401418601536116), (2365, 0.003878389876054173), (2366, 0.02259840235957871), (2367, 0.0), (2368, 0.0), (2369, 0.0), (2370, 0.0047362660331049635), (2371, 0.003588210707882583), (2372, 0.026589524009385235), (2373, 0.003661150190481376), (2374, 0.0), (2375, 0.0), (2376, 0.0), (2377, 0.01708772458787053), (2378, 0.007657017505155298), (2379, 0.004982000079979731), (2380, 0.015484275158439191), (2381, 0.012656882407578791), (2382, 0.0), (2383, 0.0043843651973530596), (2384, 0.009455064010976476), (2385, 0.004227984550213327), (2386, 0.005823677880470035), (2387, 0.0), (2388, 0.0047206018273016044), (2389, 0.0), (2390, 0.004309367016727717), (2391, 0.0), (2392, 0.04230779615577668), (2393, 0.03287445234614487), (2394, 0.014286471626292999), (2395, 0.01026358374568772), (2396, 0.005164081018279704), (2397, 0.0), (2398, 0.0), (2399, 0.0), (2400, 0.012501974045691568), (2401, 0.004536962319938112), (2402, 0.0), (2403, 0.00405024930508515), (2404, 0.0), (2405, 0.004291527756387189), (2406, 0.028811530271178703), (2407, 0.0), (2408, 0.0), (2409, 0.004253963372070783), (2410, 0.008995573628597462), (2411, 0.00626691058342491), (2412, 0.004311827781433447), (2413, 0.01707423947868951), (2414, 0.0), (2415, 0.005412693022459373), (2416, 0.018064421486660442), (2417, 0.018445496448567307), (2418, 0.0058641539567716545), (2419, 0.004746473584524072), (2420, 0.00463469021775598), (2421, 0.004749359393674166), (2422, 0.0), (2423, 0.060488846310911115), (2424, 0.028603975710212115), (2425, 0.005351764977072497), (2426, 0.0), (2427, 0.0), (2428, 0.0), (2429, 0.004713044468463251), (2430, 0.017672420010163087), (2431, 0.07059551034052788), (2432, 0.0169188538950378), (2433, 0.0316660052730157), (2434, 0.009755018021583595), (2435, 0.020633711378539532), (2436, 0.007985532921398109), (2437, 0.022102961025229666), (2438, 0.00529780416578302), (2439, 0.005374351544127719), (2440, 0.0), (2441, 0.0), (2442, 0.0), (2443, 0.0), (2444, 0.0050427920482262216), (2445, 0.09031195826065214), (2446, 0.005841756431181913), (2447, 0.009179072047596857), (2448, 0.0), (2449, 0.0067451743104999665), (2450, 0.0), (2451, 0.0), (2452, 0.014064292615215464), (2453, 0.0), (2454, 0.0), (2455, 0.02231520841613307), (2456, 0.0), (2457, 0.0037133665999136306), (2458, 0.0), (2459, 0.004452678842458981), (2460, 0.021114713753617797), (2461, 0.0440295200836915), (2462, 0.004495669807315463), (2463, 0.0), (2464, 0.047684883604989126), (2465, 0.024918181202153594), (2466, 0.030946121804847578), (2467, 0.01553597852648515), (2468, 0.02449088548870729), (2469, 0.0340836964931201), (2470, 0.004167699282337196), (2471, 0.021496408317973618), (2472, 0.0), (2473, 0.020188349148908415), (2474, 0.004586667298293844), (2475, 0.03714101564478762), (2476, 0.004685693249216236), (2477, 0.04205736333636648), (2478, 0.022339843744099325), (2479, 0.0044961104299887636), (2480, 0.038465318181611835), (2481, 0.0), (2482, 0.004892786666151351), (2483, 0.06140415806832983), (2484, 0.04897654535189952), (2485, 0.003887629958330561), (2486, 0.003787805539668481), (2487, 0.005074799044434646), (2488, 0.0), (2489, 0.005634439440758495), (2490, 0.0), (2491, 0.015527640571404273), (2492, 0.04096479612373879), (2493, 0.006083614833099449), (2494, 0.0), (2495, 0.005413995706627825), (2496, 0.0), (2497, 0.02085789339867703), (2498, 0.0), (2499, 0.016364355685818264), (2500, 0.0), (2501, 0.0), (2502, 0.005782614665308569), (2503, 0.010571171280326972), (2504, 0.02117579267231779), (2505, 0.016070356795567637), (2506, 0.0), (2507, 0.0042080734571563975), (2508, 0.0), (2509, 0.008332908086415689), (2510, 0.005010189876027286), (2511, 0.004321398684763953), (2512, 0.017838000903320002), (2513, 0.003802958121062714), (2514, 0.0037807561549671113), (2515, 0.0221955143478832), (2516, 0.010364798806842076), (2517, 0.004278356026649852), (2518, 0.027723427880574872), (2519, 0.0), (2520, 0.0), (2521, 0.0), (2522, 0.0044992494393452254), (2523, 0.005125460251221376), (2524, 0.0), (2525, 0.0041763090547104606), (2526, 0.025475130409031457), (2527, 0.0), (2528, 0.0), (2529, 0.05011261071348999), (2530, 0.0), (2531, 0.0), (2532, 0.0), (2533, 0.04864612914886893), (2534, 0.045249174277706965), (2535, 0.004117181551210104), (2536, 0.03498879940585313), (2537, 0.006248033253475997), (2538, 0.0), (2539, 0.08105302586972365), (2540, 0.003970691622510174), (2541, 0.004082224432334163), (2542, 0.0), (2543, 0.004315585138156181), (2544, 0.0), (2545, 0.0), (2546, 0.02363752109610178), (2547, 0.012638655613856293), (2548, 0.0), (2549, 0.0), (2550, 0.0), (2551, 0.0036666149004109787), (2552, 0.032606385106382474), (2553, 0.0), (2554, 0.0), (2555, 0.0), (2556, 0.0), (2557, 0.0), (2558, 0.0041076400084869595), (2559, 0.0), (2560, 0.0), (2561, 0.03596692649832334), (2562, 0.003970942771780219), (2563, 0.0), (2564, 0.004521530175356986), (2565, 0.12426875214049662), (2566, 0.0), (2567, 0.0), (2568, 0.0), (2569, 0.0144749342488968), (2570, 0.004560203387101608), (2571, 0.0), (2572, 0.0036073924224968236), (2573, 0.0), (2574, 0.010138634427891268), (2575, 0.008482985326863052), (2576, 0.010389664110356052), (2577, 0.0), (2578, 0.004977072302265652), (2579, 0.005305752798427819), (2580, 0.0), (2581, 0.0), (2582, 0.0), (2583, 0.0), (2584, 0.0), (2585, 0.0), (2586, 0.05625209288083234), (2587, 0.018205351628856403), (2588, 0.0037896906759467626), (2589, 0.005101979176462202), (2590, 0.0), (2591, 0.0), (2592, 0.003967324495336492), (2593, 0.0), (2594, 0.004291435723287862), (2595, 0.005541347678512522), (2596, 0.0043735058054073595), (2597, 0.00534313449766996), (2598, 0.0), (2599, 0.0046994707999574266), (2600, 0.0), (2601, 0.03683235880768309), (2602, 0.005902587873642564), (2603, 0.021149246533616183), (2604, 0.005696337112465573), (2605, 0.005068737046701221), (2606, 0.005307793698039894), (2607, 0.0038743540929615647), (2608, 0.005534507455514481), (2609, 0.0), (2610, 0.005004554622029199), (2611, 0.0), (2612, 0.004005332760365457), (2613, 0.0), (2614, 0.0), (2615, 0.004180733044775474), (2616, 0.03424593516974676), (2617, 0.0044932591824321565), (2618, 0.005270396587756144), (2619, 0.01731219490738734), (2620, 0.023013922892549603), (2621, 0.0), (2622, 0.032917886874160154), (2623, 0.0), (2624, 0.008689259299074683), (2625, 0.014788524247536416), (2626, 0.11621291338219178), (2627, 0.00592817490722748), (2628, 0.0), (2629, 0.0), (2630, 0.018302480724206496), (2631, 0.005505941594387249), (2632, 0.03148408857894443), (2633, 0.0), (2634, 0.0054712399953058466), (2635, 0.0), (2636, 0.0), (2637, 0.010578082054630109), (2638, 0.0058016553349064665), (2639, 0.00443481695962405), (2640, 0.004649649802281475), (2641, 0.004455428525222072), (2642, 0.0), (2643, 0.00470019191124416), (2644, 0.0), (2645, 0.0), (2646, 0.0), (2647, 0.01657360054358629), (2648, 0.0), (2649, 0.004989111348634449), (2650, 0.004135338495371611), (2651, 0.00422859846029081), (2652, 0.004772681505225621), (2653, 0.0), (2654, 0.0046387280663186875), (2655, 0.003426795132134586), (2656, 0.0036922493591490272), (2657, 0.0), (2658, 0.00590679044558678), (2659, 0.004354323929687877), (2660, 0.029876153304283705), (2661, 0.0), (2662, 0.0), (2663, 0.0), (2664, 0.010356050789220157), (2665, 0.0), (2666, 0.0), (2667, 0.050351088841039844), (2668, 0.021763930769201703), (2669, 0.013191111953792266), (2670, 0.0), (2671, 0.004674654577788442), (2672, 0.005599739567158297), (2673, 0.03953590466299217), (2674, 0.006059567780311284), (2675, 0.0), (2676, 0.008534204900036344), (2677, 0.00567275397076252), (2678, 0.0381900616232536), (2679, 0.0), (2680, 0.0), (2681, 0.0), (2682, 0.005134311315380038), (2683, 0.01459762433761853), (2684, 0.0), (2685, 0.004265790200573534), (2686, 0.0), (2687, 0.004104056259903418), (2688, 0.00999034684261586), (2689, 0.0), (2690, 0.0), (2691, 0.0), (2692, 0.0), (2693, 0.036257200995471105), (2694, 0.0), (2695, 0.0), (2696, 0.0), (2697, 0.018399792454632066), (2698, 0.005787427066969898), (2699, 0.0), (2700, 0.0), (2701, 0.0), (2702, 0.005076247800143118), (2703, 0.03908938184187873), (2704, 0.022474017994999824), (2705, 0.0), (2706, 0.0), (2707, 0.004703588354280245), (2708, 0.004079888378981344), (2709, 0.0), (2710, 0.0), (2711, 0.0), (2712, 0.005339281905302028), (2713, 0.018232143028947382), (2714, 0.0), (2715, 0.0), (2716, 0.0), (2717, 0.0), (2718, 0.020390454303400276), (2719, 0.0), (2720, 0.0), (2721, 0.0), (2722, 0.009831185424756559), (2723, 0.09150527597746182), (2724, 0.0), (2725, 0.004106663581946082), (2726, 0.045534760911222764), (2727, 0.01438236937468202), (2728, 0.003937649416621955), (2729, 0.0), (2730, 0.004944609362422698), (2731, 0.044328868470055315), (2732, 0.005786857759236662), (2733, 0.009015340591275144), (2734, 0.0), (2735, 0.004522644780593852), (2736, 0.004243962313701306), (2737, 0.011595729430194868), (2738, 0.01283140109533068), (2739, 0.0), (2740, 0.0), (2741, 0.0), (2742, 0.0045136087725126325), (2743, 0.0038663766822415206), (2744, 0.00639023786699989), (2745, 0.03412500396825845), (2746, 0.0043532247773977895), (2747, 0.02715323922361988), (2748, 0.022852052560718684), (2749, 0.0), (2750, 0.010149156086449581), (2751, 0.0), (2752, 0.004833986748162954), (2753, 0.0), (2754, 0.0047315618317589824), (2755, 0.0), (2756, 0.019937351682827665), (2757, 0.005285465583796536), (2758, 0.01795234845009004), (2759, 0.004324162617195447), (2760, 0.0036311418540590527), (2761, 0.03750693524963606), (2762, 0.0), (2763, 0.0), (2764, 0.004084612343192793), (2765, 0.013522105007947939), (2766, 0.005149203493102888), (2767, 0.01926339378296959), (2768, 0.014062536645913346), (2769, 0.0), (2770, 0.019387099812573024), (2771, 0.0), (2772, 0.035732182846013164), (2773, 0.005431745437656129), (2774, 0.0), (2775, 0.022842345610254212), (2776, 0.00595352348994808), (2777, 0.020644489961325972), (2778, 0.0), (2779, 0.03258107469346747), (2780, 0.0), (2781, 0.004151921177960498), (2782, 0.0038815488377983163), (2783, 0.0), (2784, 0.0), (2785, 0.017414314870030312), (2786, 0.011036727131400664), (2787, 0.004483635575018135), (2788, 0.029026528767445513), (2789, 0.02516795433099439), (2790, 0.003972055450335989), (2791, 0.0), (2792, 0.0), (2793, 0.003806669830206743), (2794, 0.0), (2795, 0.0), (2796, 0.0), (2797, 0.0), (2798, 0.004109279604303152), (2799, 0.0), (2800, 0.0), (2801, 0.004242979345002723), (2802, 0.0666009318312126), (2803, 0.005848295231387841), (2804, 0.012608848254589192), (2805, 0.04715705783002603), (2806, 0.02049594723446007), (2807, 0.004733494822305233), (2808, 0.003740574258505986), (2809, 0.030544981151075595), (2810, 0.0), (2811, 0.0), (2812, 0.01963679344254807), (2813, 0.018640142880043818), (2814, 0.015094413724774968), (2815, 0.01911156235173648), (2816, 0.0), (2817, 0.006144818139651866), (2818, 0.004789535310012642), (2819, 0.0), (2820, 0.005477998096692637), (2821, 0.0038339409293624603), (2822, 0.0), (2823, 0.005603687960064471), (2824, 0.013634659521603868), (2825, 0.004341182239817424), (2826, 0.004350563121678102), (2827, 0.004568228790223734), (2828, 0.005845261956171136), (2829, 0.006151364989855728), (2830, 0.018188955926447564), (2831, 0.005538837252733566), (2832, 0.0), (2833, 0.009867471801112124), (2834, 0.0), (2835, 0.004067142263892802), (2836, 0.006797791048856457), (2837, 0.0045173400515702246), (2838, 0.011028808557517505), (2839, 0.0057564519302444085), (2840, 0.009680972450392645), (2841, 0.0062343911627860665), (2842, 0.0), (2843, 0.0), (2844, 0.0), (2845, 0.0), (2846, 0.0), (2847, 0.013155961107886594), (2848, 0.022668640966261942), (2849, 0.022720564573636356), (2850, 0.005699472563326914), (2851, 0.05203886128094527), (2852, 0.005174130808679542), (2853, 0.014220176707838563), (2854, 0.005450218196082977), (2855, 0.016941861931914638), (2856, 0.005963961554200993), (2857, 0.0106965891443662), (2858, 0.0037094879053846284), (2859, 0.012670212845397183), (2860, 0.0), (2861, 0.021319521047650485), (2862, 0.0), (2863, 0.0), (2864, 0.0), (2865, 0.02651124880468827), (2866, 0.027990958521351132), (2867, 0.0), (2868, 0.015686918898177853), (2869, 0.013625311576214796), (2870, 0.0), (2871, 0.0), (2872, 0.0), (2873, 0.004310342276645686), (2874, 0.0694711497528241), (2875, 0.0), (2876, 0.00893381260180966), (2877, 0.004540564967700445), (2878, 0.0), (2879, 0.004190581874950318), (2880, 0.00941647765188493), (2881, 0.004286055546837781), (2882, 0.004073629320492186), (2883, 0.03700495832757665), (2884, 0.0), (2885, 0.004882035817575743), (2886, 0.01575824293060414), (2887, 0.0), (2888, 0.014812266289922112), (2889, 0.0), (2890, 0.004575456184742343), (2891, 0.015762824967105765), (2892, 0.01999057190809702), (2893, 0.0), (2894, 0.0), (2895, 0.0), (2896, 0.005425759409250908), (2897, 0.005820530325050913), (2898, 0.004933814692270938), (2899, 0.004950419021473352), (2900, 0.004459748865827005), (2901, 0.0), (2902, 0.0), (2903, 0.005378752461675087), (2904, 0.006050975802105354), (2905, 0.0), (2906, 0.018319435582755162), (2907, 0.0), (2908, 0.0), (2909, 0.03080368434539646), (2910, 0.0), (2911, 0.004298446719838982), (2912, 0.0), (2913, 0.015922902647007586), (2914, 0.0), (2915, 0.0), (2916, 0.0), (2917, 0.004494644217971517), (2918, 0.04896170267001665), (2919, 0.023549303509386367), (2920, 0.0042411938057541265), (2921, 0.004121261590873016), (2922, 0.0), (2923, 0.011124974016153422), (2924, 0.0), (2925, 0.0), (2926, 0.00402381777051391), (2927, 0.00440041956632725), (2928, 0.0), (2929, 0.0), (2930, 0.0), (2931, 0.005408201242914882), (2932, 0.003874434354437475), (2933, 0.0), (2934, 0.004367504319273127), (2935, 0.0), (2936, 0.0), (2937, 0.003707386767226891), (2938, 0.0), (2939, 0.02185173456753199), (2940, 0.0), (2941, 0.0), (2942, 0.0), (2943, 0.005840440672430562), (2944, 0.0), (2945, 0.0), (2946, 0.0056973604483968815), (2947, 0.00587871449490538), (2948, 0.03649022879683658), (2949, 0.02225216922393919), (2950, 0.005395315029726386), (2951, 0.0), (2952, 0.09577937625394546), (2953, 0.0051696269808471865), (2954, 0.02719832115164137), (2955, 0.005645156947079023), (2956, 0.015982715163896474), (2957, 0.014872503078915265), (2958, 0.0), (2959, 0.0), (2960, 0.0), (2961, 0.0), (2962, 0.01885550722718219), (2963, 0.00455077065059176), (2964, 0.004027450028078203), (2965, 0.004710037109165034), (2966, 0.008290000885647726), (2967, 0.016923259600382705), (2968, 0.020315502738401773), (2969, 0.004457811396353373), (2970, 0.003320613240935197), (2971, 0.0), (2972, 0.004955447119944888), (2973, 0.0), (2974, 0.0), (2975, 0.0), (2976, 0.003915092714357768), (2977, 0.01749098953128002), (2978, 0.04622617864396293), (2979, 0.01561633383177503), (2980, 0.004256291673052157), (2981, 0.01566843690477575), (2982, 0.0044979738299920705), (2983, 0.0), (2984, 0.00802443232063685), (2985, 0.039945614171981156), (2986, 0.03748021098340898), (2987, 0.0), (2988, 0.0), (2989, 0.00439350450361215), (2990, 0.004511803232047275), (2991, 0.08654031638120063), (2992, 0.0), (2993, 0.008611763109204137), (2994, 0.004614481789689961), (2995, 0.0), (2996, 1.0000000000000002), (2997, 0.0), (2998, 0.0), (2999, 0.0), (3000, 0.004460554310629394), (3001, 0.006644570556955789), (3002, 0.004682757776485083), (3003, 0.004052769747893747), (3004, 0.00992720559362253), (3005, 0.0), (3006, 0.004353350147752671), (3007, 0.023016646910831585), (3008, 0.03535874647089123), (3009, 0.061180756485166535), (3010, 0.0), (3011, 0.03517230540797124), (3012, 0.027657198278775174), (3013, 0.01672321168969874), (3014, 0.0), (3015, 0.004465641925418622), (3016, 0.005592701025281102), (3017, 0.0), (3018, 0.010586196676761634), (3019, 0.004871028858123909), (3020, 0.015270974315119862), (3021, 0.0), (3022, 0.09386808866918477), (3023, 0.005861102018441544), (3024, 0.0), (3025, 0.010194581905619213), (3026, 0.005351600263879657), (3027, 0.019925903196267934), (3028, 0.012966959128225812), (3029, 0.00938942028074286), (3030, 0.0), (3031, 0.05807396274689637), (3032, 0.008860461577305728), (3033, 0.01658213977294546), (3034, 0.028477378132497667), (3035, 0.0), (3036, 0.0), (3037, 0.014906421347813371), (3038, 0.0), (3039, 0.0051405602015890724), (3040, 0.005745517290085335), (3041, 0.0), (3042, 0.004451160122831088), (3043, 0.0), (3044, 0.0), (3045, 0.0), (3046, 0.017447666399024092), (3047, 0.009431546063709226), (3048, 0.0), (3049, 0.0), (3050, 0.0), (3051, 0.004970383348624108), (3052, 0.004245948068498828), (3053, 0.006494854015862582), (3054, 0.09840953143447427), (3055, 0.005444408377812935), (3056, 0.0), (3057, 0.005629522270896209), (3058, 0.01287767459329007), (3059, 0.0), (3060, 0.0), (3061, 0.030972821567274243), (3062, 0.003616691757695485), (3063, 0.0), (3064, 0.0), (3065, 0.0), (3066, 0.005343772622446273), (3067, 0.0), (3068, 0.004458208559676179), (3069, 0.01954201205974581), (3070, 0.017211898096108208), (3071, 0.0), (3072, 0.010326433148227145), (3073, 0.005068409179479615), (3074, 0.005265255311779974), (3075, 0.0), (3076, 0.024470234715976674), (3077, 0.013269496596701583), (3078, 0.029775407535800345), (3079, 0.004414596191129081), (3080, 0.004642685103839035), (3081, 0.006000820329648258), (3082, 0.005158473076272472), (3083, 0.004266348781960892), (3084, 0.030672399462910952), (3085, 0.00536147881581721), (3086, 0.04054288133879701), (3087, 0.009137939803986429), (3088, 0.0), (3089, 0.0), (3090, 0.0), (3091, 0.0), (3092, 0.0), (3093, 0.005187852964256131), (3094, 0.02124027410655689), (3095, 0.023556061384896465), (3096, 0.005705633488613993), (3097, 0.025851287268630223), (3098, 0.0), (3099, 0.0), (3100, 0.019763975241637935), (3101, 0.0042565716854958404), (3102, 0.0), (3103, 0.005503092216093875), (3104, 0.0), (3105, 0.0186457824046654), (3106, 0.0), (3107, 0.0), (3108, 0.15458309447000693), (3109, 0.0), (3110, 0.004610694043068308), (3111, 0.0), (3112, 0.0), (3113, 0.0), (3114, 0.0041166529445461515), (3115, 0.03850128294249285), (3116, 0.0), (3117, 0.0), (3118, 0.0028193109959993214), (3119, 0.0), (3120, 0.003935525036891145), (3121, 0.005559477028120198), (3122, 0.009061524634303883), (3123, 0.0), (3124, 0.0), (3125, 0.0046406688279944765), (3126, 0.006010821288759155), (3127, 0.0), (3128, 0.015610082282771026), (3129, 0.03375285992100605), (3130, 0.0), (3131, 0.009026074504434429), (3132, 0.004023422507503833), (3133, 0.0036278954263093198), (3134, 0.01881374018351268), (3135, 0.0), (3136, 0.0), (3137, 0.0), (3138, 0.05643483808445694), (3139, 0.0), (3140, 0.11426010685062842), (3141, 0.0), (3142, 0.0), (3143, 0.0), (3144, 0.005065297683640904), (3145, 0.004738518661240119), (3146, 0.004229860911028596), (3147, 0.006172068114317175), (3148, 0.005506620790814844), (3149, 0.0), (3150, 0.0), (3151, 0.0047469735521633435), (3152, 0.0035459983680427376), (3153, 0.004277100462931655), (3154, 0.0), (3155, 0.0), (3156, 0.0), (3157, 0.0038790833082930345), (3158, 0.009388629792696335), (3159, 0.004395180854984557), (3160, 0.0), (3161, 0.009361124254398128), (3162, 0.004353213325694449), (3163, 0.0), (3164, 0.004263741234272635), (3165, 0.023524212088069096), (3166, 0.0), (3167, 0.022431424613359553), (3168, 0.0), (3169, 0.005216737057875816), (3170, 0.004965002854275129), (3171, 0.0), (3172, 0.0), (3173, 0.015928471118776676), (3174, 0.005600160021370629), (3175, 0.0), (3176, 0.020027418459947682), (3177, 0.0), (3178, 0.003884933263722524), (3179, 0.0), (3180, 0.004678154034396426), (3181, 0.0), (3182, 0.004322484694274442), (3183, 0.0046001976184449804), (3184, 0.004690530544296419), (3185, 0.004960094607230102), (3186, 0.004685867342570618), (3187, 0.0), (3188, 0.003708791542335998), (3189, 0.0), (3190, 0.00804081428398657), (3191, 0.0), (3192, 0.0), (3193, 0.005488993479034653), (3194, 0.0), (3195, 0.0), (3196, 0.0), (3197, 0.0), (3198, 0.0), (3199, 0.012354073850287913), (3200, 0.01782219984262852), (3201, 0.0), (3202, 0.0), (3203, 0.04309304047186188), (3204, 0.004147188033670124), (3205, 0.004022034588153561), (3206, 0.02937741841948514), (3207, 0.03992586041948573), (3208, 0.008381419286261852), (3209, 0.0), (3210, 0.014937668246219553), (3211, 0.015629712224934034), (3212, 0.010664012887554399), (3213, 0.004850247958466071), (3214, 0.00556788002679136), (3215, 0.005138621317680694), (3216, 0.0), (3217, 0.005656202524814661), (3218, 0.017699639536011662), (3219, 0.0), (3220, 0.0), (3221, 0.0060270275839265815), (3222, 0.026748579569222608), (3223, 0.0040739040919038115), (3224, 0.0), (3225, 0.005882266487578439), (3226, 0.015058845330535848), (3227, 0.0057135519911916495), (3228, 0.004767189884987112), (3229, 0.0053765777179044134), (3230, 0.03177929500644758), (3231, 0.0), (3232, 0.0), (3233, 0.0), (3234, 0.0), (3235, 0.005062306311282976), (3236, 0.016459931815732794), (3237, 0.0103832696927379), (3238, 0.0), (3239, 0.005815866376488609), (3240, 0.00533316832527917), (3241, 0.009887568193371193), (3242, 0.005581345938618731), (3243, 0.0), (3244, 0.00984037631004615), (3245, 0.010268714861109338), (3246, 0.01782161647412251), (3247, 0.0), (3248, 0.0), (3249, 0.0), (3250, 0.004147096791488328), (3251, 0.005354452371616994), (3252, 0.010149418314215595), (3253, 0.01907554725695656), (3254, 0.004395420825084354), (3255, 0.0), (3256, 0.004241915411176693), (3257, 0.0), (3258, 0.0044312294927781075), (3259, 0.0), (3260, 0.0), (3261, 0.0), (3262, 0.01025729186154593), (3263, 0.0), (3264, 0.0), (3265, 0.004296392320993343), (3266, 0.00535383640875351), (3267, 0.010284797517132814), (3268, 0.005300967180417329), (3269, 0.005311138364524027), (3270, 0.005233442975598474), (3271, 0.056269873937289994), (3272, 0.010447973548760493), (3273, 0.0), (3274, 0.010824284393088485), (3275, 0.004932541761553337), (3276, 0.004273671248011274), (3277, 0.00442156560517992), (3278, 0.004925689257265525), (3279, 0.010124568893122358), (3280, 0.0), (3281, 0.0), (3282, 0.023407395073101744), (3283, 0.01646642774226451), (3284, 0.0), (3285, 0.0), (3286, 0.003914839366075744), (3287, 0.009719593390139517), (3288, 0.004175886744059592), (3289, 0.005309591072045347), (3290, 0.0), (3291, 0.040293889944042205), (3292, 0.003840704445437347), (3293, 0.0), (3294, 0.005904987089294958), (3295, 0.0), (3296, 0.0), (3297, 0.0), (3298, 0.0), (3299, 0.0041275395151777776), (3300, 0.0), (3301, 0.0047935833042649185), (3302, 0.009836943818818243), (3303, 0.009884489009399712), (3304, 0.0), (3305, 0.00576452860036736), (3306, 0.005758361830918466), (3307, 0.008350498013886556), (3308, 0.0), (3309, 0.0), (3310, 0.029365961047971734), (3311, 0.005399896185505103), (3312, 0.005720262293973257), (3313, 0.00482505003809081), (3314, 0.005512869820979767), (3315, 0.0), (3316, 0.027786964090037634), (3317, 0.0), (3318, 0.0), (3319, 0.09451332743333611), (3320, 0.0), (3321, 0.09674092090406851), (3322, 0.00475979826811306), (3323, 0.004684049693392198), (3324, 0.04016654687813605), (3325, 0.00513455215684482), (3326, 0.0), (3327, 0.005847573547462286), (3328, 0.0), (3329, 0.006123680734802055), (3330, 0.014929702178795412), (3331, 0.009768193834147962), (3332, 0.0), (3333, 0.0), (3334, 0.005771266246799234), (3335, 0.004795933772496721), (3336, 0.0), (3337, 0.004313230693463577), (3338, 0.0), (3339, 0.004248628859159044), (3340, 0.0), (3341, 0.0), (3342, 0.003927026486840196), (3343, 0.0068870369605867525), (3344, 0.00391930346453799), (3345, 0.0), (3346, 0.0), (3347, 0.014973069583246606), (3348, 0.0), (3349, 0.0), (3350, 0.0037359064422591995), (3351, 0.004175163703356586), (3352, 0.004996828771876556), (3353, 0.013471177803365833), (3354, 0.0), (3355, 0.0037376116123720602), (3356, 0.008391719078534343), (3357, 0.0), (3358, 0.015399431497569054), (3359, 0.0), (3360, 0.0), (3361, 0.003106516474561302), (3362, 0.0), (3363, 0.0), (3364, 0.0), (3365, 0.004036280161394276), (3366, 0.01432098438921127), (3367, 0.0), (3368, 0.005992402611058874), (3369, 0.0034967853448108093), (3370, 0.004284075921400886), (3371, 0.0), (3372, 0.0), (3373, 0.027231971037472942), (3374, 0.004741661403820722), (3375, 0.005706370902846068), (3376, 0.020757215886190186), (3377, 0.0), (3378, 0.004107559421225336), (3379, 0.05263201249483057), (3380, 0.0), (3381, 0.0), (3382, 0.0), (3383, 0.0), (3384, 0.004905955637447215), (3385, 0.004119215137313284), (3386, 0.0), (3387, 0.0), (3388, 0.0), (3389, 0.027283801619762845), (3390, 0.005661063241003945), (3391, 0.0), (3392, 0.0), (3393, 0.0), (3394, 0.0), (3395, 0.0), (3396, 0.005447689629646638), (3397, 0.0), (3398, 0.044625161811572264), (3399, 0.0), (3400, 0.0), (3401, 0.0), (3402, 0.005299562809897278), (3403, 0.010498682624988098), (3404, 0.0), (3405, 0.0), (3406, 0.003812883251136057), (3407, 0.022977203061657576), (3408, 0.009869671476834636), (3409, 0.016512013438689865), (3410, 0.0), (3411, 0.0), (3412, 0.019668268118349787), (3413, 0.0), (3414, 0.0040770438588058925), (3415, 0.0), (3416, 0.004655059020835321), (3417, 0.004057156848106152), (3418, 0.0), (3419, 0.005300289382993625), (3420, 0.010152879919923898), (3421, 0.004376693684071779), (3422, 0.0), (3423, 0.03774786439430419), (3424, 0.004941064364525875), (3425, 0.0), (3426, 0.0), (3427, 0.005166694793341156), (3428, 0.0), (3429, 0.005167656622206515), (3430, 0.0), (3431, 0.015666558894434458), (3432, 0.0), (3433, 0.0), (3434, 0.0), (3435, 0.0), (3436, 0.01332083829252754), (3437, 0.0194742165558851), (3438, 0.004402929843687869), (3439, 0.004629171203214174), (3440, 0.021830074449370407), (3441, 0.00900746552066067), (3442, 0.023970707251254098), (3443, 0.015331162146356048), (3444, 0.0), (3445, 0.009255775850786286), (3446, 0.00565095210406191), (3447, 0.0), (3448, 0.009277099817599185), (3449, 0.0), (3450, 0.0), (3451, 0.0), (3452, 0.0), (3453, 0.0), (3454, 0.004242317880291881), (3455, 0.005340808629434814), (3456, 0.01615929535974497), (3457, 0.0), (3458, 0.0), (3459, 0.0), (3460, 0.004074405629722748), (3461, 0.009086245395224969), (3462, 0.0), (3463, 0.0), (3464, 0.021049742036003575), (3465, 0.0), (3466, 0.014650546656476386), (3467, 0.0), (3468, 0.004628316263834851), (3469, 0.012344655885045545), (3470, 0.005039060564523498), (3471, 0.004440646323641693), (3472, 0.03607715477726081), (3473, 0.004469627919845704), (3474, 0.0), (3475, 0.0), (3476, 0.0), (3477, 0.0), (3478, 0.0), (3479, 0.0), (3480, 0.0), (3481, 0.0037255810027740474), (3482, 0.00417737648735105), (3483, 0.0), (3484, 0.0), (3485, 0.0), (3486, 0.0), (3487, 0.003932305645985813), (3488, 0.0), (3489, 0.020232317871087476), (3490, 0.0), (3491, 0.03974360820141595), (3492, 0.015317698253877339), (3493, 0.0), (3494, 0.009517347582941657), (3495, 0.0), (3496, 0.004214206433401944), (3497, 0.0), (3498, 0.0), (3499, 0.019133547037249524), (3500, 0.0), (3501, 0.0), (3502, 0.004909048199395063), (3503, 0.004941789202539919), (3504, 0.0), (3505, 0.004600605754518658), (3506, 0.004186990031518199), (3507, 0.10741881939884965), (3508, 0.021173183467487196), (3509, 0.010204221490797099), (3510, 0.0), (3511, 0.0), (3512, 0.010291485891518362), (3513, 0.0), (3514, 0.0), (3515, 0.004071421993432662), (3516, 0.047867629717033205), (3517, 0.005840374371442802), (3518, 0.0), (3519, 0.004214185523172852), (3520, 0.017039570587343983), (3521, 0.010738736148203757), (3522, 0.005722650405268526), (3523, 0.004186608725003285), (3524, 0.0), (3525, 0.0), (3526, 0.0), (3527, 0.0), (3528, 0.004649399241674478), (3529, 0.003991689257547584), (3530, 0.017472540698012313), (3531, 0.0), (3532, 0.0), (3533, 0.038027687778359215), (3534, 0.0), (3535, 0.0), (3536, 0.018546656326570973), (3537, 0.0), (3538, 0.004446498002360248), (3539, 0.0), (3540, 0.0), (3541, 0.0), (3542, 0.0), (3543, 0.010401837314385506), (3544, 0.023717263987267763), (3545, 0.0), (3546, 0.0), (3547, 0.005685509355520557), (3548, 0.005864478512114252), (3549, 0.0), (3550, 0.009472749448167355), (3551, 0.0), (3552, 0.0), (3553, 0.0), (3554, 0.004513964672308452), (3555, 0.005229403330832742), (3556, 0.004798037069947186), (3557, 0.0), (3558, 0.052168713155370604), (3559, 0.0), (3560, 0.0), (3561, 0.0061723663808428905), (3562, 0.04186058209879732), (3563, 0.005571543429855136), (3564, 0.0), (3565, 0.0), (3566, 0.0), (3567, 0.010638930700458312), (3568, 0.0), (3569, 0.0), (3570, 0.0), (3571, 0.0), (3572, 0.008686115604112081), (3573, 0.022539038431881993), (3574, 0.039208404888771343), (3575, 0.004003130235863509), (3576, 0.010137247481440207), (3577, 0.0), (3578, 0.011684402234759798), (3579, 0.0), (3580, 0.0040462735750042625), (3581, 0.005277140120739261), (3582, 0.0), (3583, 0.0), (3584, 0.005578377120453627), (3585, 0.00427126254153081), (3586, 0.0), (3587, 0.004590155988532148), (3588, 0.0), (3589, 0.005991602155584749), (3590, 0.004845704582482734), (3591, 0.0), (3592, 0.0), (3593, 0.0), (3594, 0.014392862867238095), (3595, 0.004566277278813313), (3596, 0.004073870692925595), (3597, 0.0096764281269772), (3598, 0.0), (3599, 0.0), (3600, 0.0), (3601, 0.005290689079538968), (3602, 0.0), (3603, 0.027807639257467622), (3604, 0.0), (3605, 0.004566985544568204), (3606, 0.011251381554348256), (3607, 0.015204438370174858), (3608, 0.004055732218991301), (3609, 0.0), (3610, 0.0), (3611, 0.010558248374768969), (3612, 0.0), (3613, 0.004388726478788894), (3614, 0.014464729853089994), (3615, 0.004839665459031091), (3616, 0.00411771479983518), (3617, 0.0), (3618, 0.0), (3619, 0.015029490548082319), (3620, 0.0), (3621, 0.009390533408423418), (3622, 0.0), (3623, 0.005359390276710997), (3624, 0.0045656118389138176), (3625, 0.0), (3626, 0.00511745287722141), (3627, 0.0056857638423749865), (3628, 0.0), (3629, 0.004389005273610029), (3630, 0.0052400402551208165), (3631, 0.0), (3632, 0.004479537897686694), (3633, 0.0), (3634, 0.0), (3635, 0.015873506628000893), (3636, 0.0), (3637, 0.004875236482369191), (3638, 0.0295519200762042), (3639, 0.0), (3640, 0.0), (3641, 0.005483869288071276), (3642, 0.0), (3643, 0.0), (3644, 0.0), (3645, 0.020512124416213962), (3646, 0.0), (3647, 0.0), (3648, 0.017170412885693598), (3649, 0.00935556791643784), (3650, 0.0), (3651, 0.005137365008425741), (3652, 0.12893389146541778), (3653, 0.0), (3654, 0.0), (3655, 0.0), (3656, 0.025789582146788708), (3657, 0.004619547457846502), (3658, 0.02323378987488007), (3659, 0.0), (3660, 0.0), (3661, 0.007074516570748936), (3662, 0.005756331117696056), (3663, 0.00359125614197241), (3664, 0.012246571856391171), (3665, 0.0), (3666, 0.00958170067696312), (3667, 0.0), (3668, 0.0), (3669, 0.0), (3670, 0.016773673065023004), (3671, 0.015393695458551002), (3672, 0.008436156482981762), (3673, 0.015464532191692894), (3674, 0.0), (3675, 0.010233895659965821), (3676, 0.005841015776337425), (3677, 0.07108934190441538), (3678, 0.0), (3679, 0.0), (3680, 0.0037596132515278005), (3681, 0.004055016111070377), (3682, 0.0), (3683, 0.004345208496031187), (3684, 0.07076275894304075), (3685, 0.0410971151812803), (3686, 0.0), (3687, 0.005077650514754144), (3688, 0.004869105634108552), (3689, 0.0), (3690, 0.006451189670412504), (3691, 0.0), (3692, 0.09221551409701169), (3693, 0.028287196672074612), (3694, 0.0), (3695, 0.0), (3696, 0.009011323736101676), (3697, 0.0), (3698, 0.016839205925837333), (3699, 0.044581946097893184), (3700, 0.013848829117561093), (3701, 0.03267893009812865), (3702, 0.0034929188967316597), (3703, 0.0), (3704, 0.009875246865693674), (3705, 0.0), (3706, 0.008961795501280227), (3707, 0.0), (3708, 0.0), (3709, 0.01707698865078617), (3710, 0.005499604779107036), (3711, 0.0), (3712, 0.0), (3713, 0.0), (3714, 0.0), (3715, 0.0), (3716, 0.005099474756364281), (3717, 0.0), (3718, 0.0), (3719, 0.032485191330702504), (3720, 0.015246468520972101), (3721, 0.003959680015053704), (3722, 0.010031024970110151), (3723, 0.0), (3724, 0.03890425277701854), (3725, 0.0), (3726, 0.01701201662883574), (3727, 0.0), (3728, 0.0), (3729, 0.0), (3730, 0.02184168888437285), (3731, 0.0), (3732, 0.0), (3733, 0.003066003576827123), (3734, 0.005301241254312892), (3735, 0.0292186162278884)]\n"
          ]
        }
      ]
    },
    {
      "cell_type": "code",
      "source": [
        " len(Recommendation_Score)\n",
        "\n"
      ],
      "metadata": {
        "id": "qQPdvpMevJnh",
        "colab": {
          "base_uri": "https://localhost:8080/"
        },
        "outputId": "1fd32f0b-0bb8-435f-8b6a-ca5e13d09afc"
      },
      "execution_count": null,
      "outputs": [
        {
          "output_type": "execute_result",
          "data": {
            "text/plain": [
              "3736"
            ]
          },
          "metadata": {},
          "execution_count": 92
        }
      ]
    },
    {
      "cell_type": "markdown",
      "source": [
        "# **Get All Movies Sorted Based on Recommendation Score for your Favourite Movie**\n"
      ],
      "metadata": {
        "id": "gxu7GYlmvUeP"
      }
    },
    {
      "cell_type": "code",
      "source": [
        "#sorting the movies based on their similarity score\n",
        "\n",
        "Sorted_Similar_Movies = sorted(Recommendation_Score, key = lambda x:x[1], reverse=True)\n",
        "print (Sorted_Similar_Movies)\n"
      ],
      "metadata": {
        "id": "JDksS_ukvMbC",
        "colab": {
          "base_uri": "https://localhost:8080/"
        },
        "outputId": "a132aab6-a9ed-400b-de43-52709b1f7a82"
      },
      "execution_count": null,
      "outputs": [
        {
          "output_type": "stream",
          "name": "stdout",
          "text": [
            "[(2996, 1.0000000000000002), (3108, 0.15458309447000693), (910, 0.1429941879538134), (2287, 0.13352123872959556), (3652, 0.12893389146541778), (2565, 0.12426875214049662), (2626, 0.11621291338219178), (3140, 0.11426010685062842), (3507, 0.10741881939884965), (3054, 0.09840953143447427), (3321, 0.09674092090406851), (2952, 0.09577937625394546), (3319, 0.09451332743333611), (3022, 0.09386808866918477), (3692, 0.09221551409701169), (2723, 0.09150527597746182), (2445, 0.09031195826065214), (2991, 0.08654031638120063), (2203, 0.08509129646819479), (317, 0.08150502097378559), (2539, 0.08105302586972365), (940, 0.07834656660932358), (948, 0.07827068621019231), (2, 0.07759724929156522), (404, 0.07319002725588836), (501, 0.0712929875458319), (3677, 0.07108934190441538), (3684, 0.07076275894304075), (2431, 0.07059551034052788), (2874, 0.0694711497528241), (1879, 0.06932371166118441), (402, 0.06695739339377707), (2802, 0.0666009318312126), (2164, 0.06407803086539136), (478, 0.06354545981822739), (2110, 0.062124704898802126), (1709, 0.06194117337724328), (1960, 0.06154166315189419), (2483, 0.06140415806832983), (1747, 0.06136342267820728), (3009, 0.061180756485166535), (2423, 0.060488846310911115), (1664, 0.06024780572954418), (604, 0.0601857671691615), (895, 0.06005727101451439), (1515, 0.05922959125371845), (657, 0.05891324563421222), (1883, 0.05881244458944315), (3031, 0.05807396274689637), (1411, 0.057803208526272506), (2000, 0.057452573534812645), (1000, 0.05678422255693305), (536, 0.056659524023772494), (3138, 0.05643483808445694), (500, 0.056357075302141214), (3271, 0.056269873937289994), (2586, 0.05625209288083234), (1233, 0.05615114360305559), (139, 0.05560017940506125), (1463, 0.055538967752053636), (2206, 0.05447232782440131), (1698, 0.05419555078085433), (1386, 0.05277796439234221), (2166, 0.05270154647968789), (3379, 0.05263201249483057), (1365, 0.05250388426309417), (3558, 0.052168713155370604), (2851, 0.05203886128094527), (1731, 0.05187184965791527), (2667, 0.050351088841039844), (747, 0.05025424708598026), (2529, 0.05011261071348999), (2484, 0.04897654535189952), (2918, 0.04896170267001665), (2533, 0.04864612914886893), (1741, 0.04845955932575967), (1567, 0.04814818357940959), (2187, 0.04788902445034268), (3516, 0.047867629717033205), (2464, 0.047684883604989126), (2805, 0.04715705783002603), (1470, 0.04706469377677114), (1231, 0.04645974235276931), (2978, 0.04622617864396293), (409, 0.04612879970048511), (908, 0.04585853448689546), (2726, 0.045534760911222764), (2230, 0.045372179245965524), (302, 0.04527277929710456), (2534, 0.045249174277706965), (1013, 0.045025928476116556), (845, 0.044947397455498424), (2104, 0.04484753996350988), (3398, 0.044625161811572264), (253, 0.04460455336958739), (3699, 0.044581946097893184), (2244, 0.04454009528511653), (2731, 0.044328868470055315), (1068, 0.04427738573504613), (1584, 0.04416992829118586), (2461, 0.0440295200836915), (1383, 0.04393781228970204), (2358, 0.043882329878288606), (1443, 0.04344967219618305), (2044, 0.04341604135364052), (3203, 0.04309304047186188), (1612, 0.0427219183697318), (534, 0.04269235869880002), (1039, 0.04243269004169642), (2392, 0.04230779615577668), (2477, 0.04205736333636648), (1137, 0.04189921185509296), (3562, 0.04186058209879732), (1520, 0.04169104806156352), (449, 0.04122753827569576), (349, 0.04119128376015565), (3685, 0.0410971151812803), (1746, 0.041068913173733235), (2492, 0.04096479612373879), (97, 0.04081839907590836), (521, 0.04081426221644515), (444, 0.04081398958763219), (2333, 0.04075102598561588), (1622, 0.04072150861127641), (3086, 0.04054288133879701), (1300, 0.04048354571297345), (616, 0.040408797747320806), (1745, 0.04034164967938651), (3291, 0.040293889944042205), (2135, 0.040192520693598355), (3324, 0.04016654687813605), (2985, 0.039945614171981156), (3207, 0.03992586041948573), (1961, 0.039921135130838725), (167, 0.03986178571956735), (3491, 0.03974360820141595), (1316, 0.03962479293832233), (1624, 0.03961833490166204), (2673, 0.03953590466299217), (920, 0.039276118445183715), (602, 0.03924229899865584), (3574, 0.039208404888771343), (1786, 0.03913702880705739), (2068, 0.03911799304781333), (2703, 0.03908938184187873), (1777, 0.038936227358353045), (3724, 0.03890425277701854), (2127, 0.03885348980133124), (1022, 0.03885257463715025), (1963, 0.038785125185515704), (2236, 0.038751736645956145), (438, 0.038721837975906385), (507, 0.03866951184417105), (299, 0.03858258872620032), (1987, 0.03850365075955409), (3115, 0.03850128294249285), (2480, 0.038465318181611835), (1332, 0.0383469196079672), (1899, 0.03834531898363897), (2272, 0.03833014500242124), (2067, 0.03822310776990764), (2678, 0.0381900616232536), (231, 0.03814984373656714), (3533, 0.038027687778359215), (2350, 0.038012687899767514), (116, 0.037979000784921876), (2321, 0.03795637258115834), (2269, 0.03785512851612214), (3423, 0.03774786439430419), (2130, 0.037674328574315505), (694, 0.03763479363089035), (2761, 0.03750693524963606), (2986, 0.03748021098340898), (1743, 0.0373645742164537), (2224, 0.037314184780413165), (1923, 0.03724772120206124), (1212, 0.037169715478099996), (2475, 0.03714101564478762), (1307, 0.03709174717561732), (2883, 0.03700495832757665), (666, 0.03688487666303423), (1018, 0.036871435619480204), (2601, 0.03683235880768309), (2948, 0.03649022879683658), (303, 0.036465305648724355), (325, 0.03633437100154066), (408, 0.036276360812536296), (2693, 0.036257200995471105), (2308, 0.036171097392464414), (3472, 0.03607715477726081), (2561, 0.03596692649832334), (701, 0.03596684004306075), (117, 0.03595640027983727), (2772, 0.035732182846013164), (570, 0.03569385064735575), (6, 0.035517139582648065), (1492, 0.0354996134096945), (1615, 0.0354250925603884), (3008, 0.03535874647089123), (1985, 0.03534460859532551), (3011, 0.03517230540797124), (224, 0.03513604694604839), (717, 0.03512575856279569), (2536, 0.03498879940585313), (2056, 0.03481542750202339), (621, 0.03472047827700016), (2162, 0.03448715752382222), (809, 0.03434688890716978), (647, 0.03427367202365455), (2616, 0.03424593516974676), (2745, 0.03412500396825845), (1822, 0.03411941497899697), (2469, 0.0340836964931201), (2208, 0.03404505214398204), (3129, 0.03375285992100605), (674, 0.03368567258643623), (708, 0.033602128002806535), (1328, 0.03349103092147581), (741, 0.03325203748525948), (1334, 0.03293183780329177), (2622, 0.032917886874160154), (2393, 0.03287445234614487), (1220, 0.03285186118191567), (1619, 0.03279267393937801), (1889, 0.03269344334113182), (3701, 0.03267893009812865), (25, 0.03263695719882572), (198, 0.03261045712421599), (2552, 0.032606385106382474), (2779, 0.03258107469346747), (3719, 0.032485191330702504), (2174, 0.03242837914415307), (184, 0.032417219856582725), (811, 0.03227816814798182), (1897, 0.031850275839699564), (1294, 0.03184670185665476), (3230, 0.03177929500644758), (1286, 0.031706895985266145), (2433, 0.0316660052730157), (1671, 0.03153350358293383), (2632, 0.03148408857894443), (136, 0.031478016091987776), (372, 0.031410828939391545), (1530, 0.031255740274906345), (1674, 0.03119067041470257), (2088, 0.031153363221715295), (618, 0.03099749625521433), (1716, 0.030990917556929107), (3061, 0.030972821567274243), (2466, 0.030946121804847578), (2909, 0.03080368434539646), (853, 0.030715289058377074), (3084, 0.030672399462910952), (875, 0.03057971526587718), (2809, 0.030544981151075595), (431, 0.030532420987038747), (1594, 0.030513343753718163), (847, 0.030253973705135533), (1548, 0.03013960247482932), (631, 0.030094801654919567), (1814, 0.03002634121785627), (2660, 0.029876153304283705), (481, 0.029800874980072684), (3078, 0.029775407535800345), (803, 0.02964044111578383), (857, 0.02962238140199904), (3638, 0.0295519200762042), (151, 0.029532363553482495), (3206, 0.02937741841948514), (3310, 0.029365961047971734), (3735, 0.0292186162278884), (1489, 0.029149831246312766), (927, 0.029077618472954238), (2788, 0.029026528767445513), (1434, 0.028845098111629375), (2406, 0.028811530271178703), (1236, 0.028755566155157435), (2424, 0.028603975710212115), (1173, 0.028506112604856696), (2001, 0.02848597845863969), (3034, 0.028477378132497667), (1910, 0.028379537946178264), (3693, 0.028287196672074612), (2866, 0.027990958521351132), (1904, 0.027868102564855488), (3603, 0.027807639257467622), (3316, 0.027786964090037634), (2518, 0.027723427880574872), (1208, 0.02768028602740975), (3012, 0.027657198278775174), (2238, 0.02759181984179706), (1027, 0.027532521005977816), (122, 0.02746872395574572), (2150, 0.027461677973980546), (1519, 0.027461415628167757), (592, 0.02739219660861054), (573, 0.02733576656104809), (3389, 0.027283801619762845), (3373, 0.027231971037472942), (1832, 0.02721590866834525), (2954, 0.02719832115164137), (33, 0.02718645125979511), (2747, 0.02715323922361988), (772, 0.0270648388729768), (1253, 0.0270523929369621), (326, 0.026852397488087154), (923, 0.026763640625347827), (3222, 0.026748579569222608), (2372, 0.026589524009385235), (221, 0.026571131684492086), (2865, 0.02651124880468827), (832, 0.026507885862008435), (1718, 0.026279870850767512), (1407, 0.02626087417025392), (1156, 0.026244893520907277), (2362, 0.02617386384814007), (1420, 0.026098684586336386), (1599, 0.025903010638412306), (3097, 0.025851287268630223), (3656, 0.025789582146788708), (683, 0.02569001226970133), (1282, 0.025641406489101078), (1081, 0.025638017324428896), (1344, 0.025538706627853403), (1535, 0.025527608473492704), (2526, 0.025475130409031457), (1722, 0.02534329472886474), (1134, 0.02518737307264013), (2789, 0.02516795433099439), (285, 0.025158411760523663), (1144, 0.025114362794733194), (1111, 0.02500738890134517), (1638, 0.024988831725789012), (1574, 0.024978692597825383), (2267, 0.02495608203640285), (1215, 0.024942154701752157), (2465, 0.024918181202153594), (1880, 0.02490913728507651), (1321, 0.024684788189582543), (1959, 0.02462197601749367), (365, 0.024597477960277603), (907, 0.02449147193712735), (2468, 0.02449088548870729), (3076, 0.024470234715976674), (335, 0.02439600478442707), (1373, 0.02426982765642816), (1275, 0.024260741538093156), (786, 0.024200675949412755), (1995, 0.024187975013691465), (334, 0.02416773709911279), (3442, 0.023970707251254098), (458, 0.0239676479852276), (1908, 0.023896412269565726), (3544, 0.023717263987267763), (2546, 0.02363752109610178), (459, 0.02359400835049886), (21, 0.02358065480004672), (3095, 0.023556061384896465), (2919, 0.023549303509386367), (3165, 0.023524212088069096), (606, 0.02342993061677611), (3282, 0.023407395073101744), (702, 0.023364070259749466), (1142, 0.02331644965501911), (1860, 0.023297268353283523), (1684, 0.023281472560665928), (1333, 0.023248840306414012), (1739, 0.023239818486043062), (3658, 0.02323378987488007), (915, 0.023139285215982127), (148, 0.023021403021993292), (3007, 0.023016646910831585), (2620, 0.023013922892549603), (3407, 0.022977203061657576), (752, 0.02292565347057057), (1084, 0.0228596615277921), (2748, 0.022852052560718684), (2775, 0.022842345610254212), (1269, 0.022811211552333295), (2307, 0.022723548630861366), (2849, 0.022720564573636356), (2848, 0.022668640966261942), (2366, 0.02259840235957871), (3573, 0.022539038431881993), (2704, 0.022474017994999824), (225, 0.022458405064787596), (461, 0.022432003196749296), (3167, 0.022431424613359553), (1945, 0.02241157159979719), (812, 0.022375439321798522), (2478, 0.022339843744099325), (2455, 0.02231520841613307), (2275, 0.022270967599854988), (2949, 0.02225216922393919), (180, 0.022203002009483858), (2515, 0.0221955143478832), (2303, 0.022183842333076728), (2437, 0.022102961025229666), (733, 0.022038664550185154), (2939, 0.02185173456753199), (1649, 0.021849894050772527), (3730, 0.02184168888437285), (3440, 0.021830074449370407), (2196, 0.021793273176815335), (470, 0.021786705049245556), (902, 0.021765730469059403), (2668, 0.021763930769201703), (1793, 0.02174551069229442), (1845, 0.0217024534043372), (1187, 0.021676622877771164), (2471, 0.021496408317973618), (1104, 0.021463700994916346), (1136, 0.02145846665195466), (989, 0.02144387110874659), (2038, 0.02140032910658799), (743, 0.021345454270553645), (2861, 0.021319521047650485), (3094, 0.02124027410655689), (826, 0.021221459587080424), (1654, 0.021216015724532442), (2504, 0.02117579267231779), (3508, 0.021173183467487196), (2603, 0.021149246533616183), (2460, 0.021114713753617797), (1940, 0.021073267251479125), (762, 0.021055183538927633), (3464, 0.021049742036003575), (1533, 0.021021450075420528), (1223, 0.020992635241227797), (1372, 0.020956805354929275), (2008, 0.02092906134081441), (201, 0.02091673173909225), (1552, 0.02091195437518522), (1508, 0.020909290002775444), (2497, 0.02085789339867703), (464, 0.02082202637536061), (856, 0.020788449989642972), (3376, 0.020757215886190186), (1602, 0.020708967830481945), (788, 0.020691948593562486), (352, 0.020678931763744583), (601, 0.020671257515412877), (622, 0.020666478639412546), (2777, 0.020644489961325972), (2435, 0.020633711378539532), (1916, 0.020615399847319065), (3645, 0.020512124416213962), (2806, 0.02049594723446007), (2718, 0.020390454303400276), (2181, 0.020380618267896715), (1201, 0.02035161298064831), (2968, 0.020315502738401773), (933, 0.020310765461123023), (258, 0.020287983357136136), (1816, 0.020241133102267026), (3489, 0.020232317871087476), (2473, 0.020188349148908415), (50, 0.0201863701375219), (1994, 0.02016929423946042), (2057, 0.020166620442147693), (228, 0.02014447928538148), (2312, 0.020045637381318242), (3176, 0.020027418459947682), (2892, 0.01999057190809702), (945, 0.0199874689359865), (1304, 0.01995621496877503), (187, 0.019955767517916615), (866, 0.019950715615941323), (2756, 0.019937351682827665), (1063, 0.019936046610011565), (3027, 0.019925903196267934), (1229, 0.019894468402256206), (2172, 0.019850917252748543), (3100, 0.019763975241637935), (986, 0.019716174153924786), (1692, 0.019714601118446654), (204, 0.019704553581094353), (595, 0.019673682604378625), (3412, 0.019668268118349787), (1600, 0.019637422435367993), (2812, 0.01963679344254807), (261, 0.019629180475887825), (615, 0.01960696748076666), (1546, 0.01960180875377131), (935, 0.019588559211720376), (1748, 0.019576269911055044), (3069, 0.01954201205974581), (388, 0.01953562354707213), (2254, 0.019532451578554332), (3437, 0.0194742165558851), (1271, 0.01946101751735681), (2770, 0.019387099812573024), (1887, 0.019295197692370723), (2767, 0.01926339378296959), (1769, 0.01919007204852461), (3499, 0.019133547037249524), (1367, 0.01912044389842347), (2815, 0.01911156235173648), (3253, 0.01907554725695656), (864, 0.018997421492064737), (959, 0.018979670012749666), (1685, 0.01885667890933696), (2962, 0.01885550722718219), (1645, 0.018821061956735774), (2228, 0.0188194618759434), (3134, 0.01881374018351268), (86, 0.01879980070841199), (1235, 0.018764109929186944), (2071, 0.018761120967503216), (1996, 0.018722651065603616), (3105, 0.0186457824046654), (2079, 0.01864482444424144), (2813, 0.018640142880043818), (1453, 0.018634266087854626), (1653, 0.018616288875118507), (2013, 0.018605655904803082), (593, 0.01858319147347863), (952, 0.01856813557014214), (1362, 0.01855411169024597), (3536, 0.018546656326570973), (414, 0.018526069949898645), (446, 0.018492809652158666), (2417, 0.018445496448567307), (2697, 0.018399792454632066), (363, 0.018396606431729294), (2906, 0.018319435582755162), (2630, 0.018302480724206496), (885, 0.0182902520779668), (2713, 0.018232143028947382), (2587, 0.018205351628856403), (2830, 0.018188955926447564), (1865, 0.01818613471853228), (2300, 0.0181447886889282), (2090, 0.018115409264317758), (1125, 0.01810788487991686), (1876, 0.01809303467109974), (2416, 0.018064421486660442), (608, 0.018052412335257298), (1909, 0.017978176155669122), (2758, 0.01795234845009004), (2257, 0.01791155973792046), (1870, 0.01789901354959157), (370, 0.017857326280768512), (2512, 0.017838000903320002), (3200, 0.01782219984262852), (3246, 0.01782161647412251), (1628, 0.01779801615221006), (1493, 0.017785397387527734), (2101, 0.017777259128835866), (3218, 0.017699639536011662), (1302, 0.017682038092672218), (2430, 0.017672420010163087), (171, 0.017664625120655423), (1124, 0.01762339404301327), (858, 0.01753276285999713), (78, 0.017508768734220557), (2977, 0.01749098953128002), (1298, 0.017479841797322048), (3530, 0.017472540698012313), (1146, 0.017469839181150998), (432, 0.017466001473013405), (1791, 0.017459062197555462), (3046, 0.017447666399024092), (131, 0.01744090833744875), (1006, 0.017433378897245444), (2785, 0.017414314870030312), (516, 0.017414088250694872), (1512, 0.017386172339447226), (2619, 0.01731219490738734), (222, 0.017288348997504335), (426, 0.017286812594642348), (80, 0.017272886183151048), (357, 0.017267941660294748), (737, 0.017213979286235987), (3070, 0.017211898096108208), (3648, 0.017170412885693598), (1166, 0.017124933029546065), (2377, 0.01708772458787053), (3709, 0.01707698865078617), (2413, 0.01707423947868951), (1549, 0.017057598902047152), (3520, 0.017039570587343983), (1721, 0.017012496914969265), (3726, 0.01701201662883574), (2855, 0.016941861931914638), (2967, 0.016923259600382705), (2432, 0.0169188538950378), (1265, 0.016895557313803797), (3698, 0.016839205925837333), (124, 0.016819414823625298), (496, 0.016817592380577385), (29, 0.01680852478177742), (2315, 0.016801528817387636), (3670, 0.016773673065023004), (2262, 0.01677323592849392), (3013, 0.01672321168969874), (1061, 0.016697176913482215), (1892, 0.016690725623980364), (770, 0.01668708710605102), (1694, 0.01660687536579882), (3033, 0.01658213977294546), (2647, 0.01657360054358629), (1132, 0.01651385530379011), (3409, 0.016512013438689865), (284, 0.016487323238674315), (3283, 0.01646642774226451), (410, 0.016462824503797373), (3236, 0.016459931815732794), (99, 0.016456798480592824), (2318, 0.016434142517478406), (1429, 0.016379876406246344), (1161, 0.01637947327604807), (1957, 0.01637124506096868), (2499, 0.016364355685818264), (2177, 0.016320421791315157), (2250, 0.016279309900206002), (1073, 0.01622899585801328), (1500, 0.016217326352593858), (913, 0.016165646120648414), (3456, 0.01615929535974497), (2355, 0.016148171234385094), (7, 0.01614241063637173), (485, 0.01609297919819816), (505, 0.016073809740410297), (2505, 0.016070356795567637), (1948, 0.016058985676404416), (1874, 0.016048942280495155), (2332, 0.016013323061909664), (2956, 0.015982715163896474), (1635, 0.015982440956688635), (766, 0.015971075455191254), (2142, 0.015948642981911957), (518, 0.01593369413393589), (3173, 0.015928471118776676), (531, 0.015924728420018016), (2913, 0.015922902647007586), (3635, 0.015873506628000893), (1082, 0.01584817701413551), (1938, 0.01583300850846917), (1371, 0.015793037628256543), (2891, 0.015762824967105765), (2886, 0.01575824293060414), (1052, 0.015691913614403297), (2868, 0.015686918898177853), (2981, 0.01566843690477575), (3431, 0.015666558894434458), (1219, 0.015658474312548076), (333, 0.015646969498201165), (3211, 0.015629712224934034), (2979, 0.01561633383177503), (3128, 0.015610082282771026), (1368, 0.015596799244967964), (780, 0.01559588389093028), (1765, 0.015561938471112752), (1461, 0.015549648159884778), (855, 0.01554678873960796), (2467, 0.01553597852648515), (2491, 0.015527640571404273), (926, 0.015510294462480596), (757, 0.015495787694032795), (2380, 0.015484275158439191), (3673, 0.015464532191692894), (1288, 0.015446285799435319), (519, 0.015439098441956872), (3358, 0.015399431497569054), (3671, 0.015393695458551002), (834, 0.015376528672063508), (266, 0.015359995287312885), (1559, 0.015357523874675934), (2306, 0.015331444338120672), (3443, 0.015331162146356048), (3492, 0.015317698253877339), (761, 0.015313950015481963), (955, 0.015300242041488141), (3020, 0.015270974315119862), (1831, 0.015253841823440611), (3720, 0.015246468520972101), (3607, 0.015204438370174858), (865, 0.015197598347967507), (1196, 0.015192739238961975), (1969, 0.015180707317061058), (821, 0.01516076001226743), (129, 0.015121873490865918), (646, 0.015104625064677805), (2814, 0.015094413724774968), (242, 0.015077189557743651), (350, 0.0150714701784606), (3226, 0.015058845330535848), (2007, 0.01505686324338087), (3619, 0.015029490548082319), (1917, 0.015001834430688454), (1123, 0.014985697113222968), (1925, 0.014980180947133442), (3347, 0.014973069583246606), (1034, 0.014971573938129406), (3210, 0.014937668246219553), (3330, 0.014929702178795412), (243, 0.014926987813201995), (1561, 0.01492367137192895), (3037, 0.014906421347813371), (456, 0.014899061131227614), (2957, 0.014872503078915265), (982, 0.014868410886900761), (912, 0.014862086716135082), (1901, 0.014861913866581533), (38, 0.014859549315144313), (441, 0.014836456312923053), (571, 0.0148315444150886), (144, 0.014821411995904386), (2888, 0.014812266289922112), (2625, 0.014788524247536416), (1799, 0.014771362248139571), (424, 0.014769941672718317), (492, 0.01476414253654494), (2030, 0.014749254445113252), (3466, 0.014650546656476386), (980, 0.014618352388887904), (2683, 0.01459762433761853), (975, 0.01459557982987935), (1291, 0.014570740492352277), (49, 0.014557496899219691), (81, 0.01455438398022511), (2154, 0.01454426132833686), (1056, 0.014538692754031822), (2569, 0.0144749342488968), (3614, 0.014464729853089994), (2339, 0.014415690904449004), (1648, 0.014406188731244426), (3594, 0.014392862867238095), (2727, 0.01438236937468202), (652, 0.014369846353200759), (802, 0.014359740695721794), (611, 0.014327201226880436), (3366, 0.01432098438921127), (84, 0.01430074460825706), (2394, 0.014286471626292999), (610, 0.014264000461997668), (1914, 0.01422259249307144), (2853, 0.014220176707838563), (842, 0.01421803176938449), (643, 0.01420969352418298), (1818, 0.014207782622513538), (439, 0.014091296908851556), (375, 0.014066164284666257), (2452, 0.014064292615215464), (2768, 0.014062536645913346), (2120, 0.014037815198293627), (966, 0.013993767985650909), (1155, 0.013991981824190466), (393, 0.013988266690385885), (951, 0.01397480037634417), (1503, 0.013970072754277793), (1238, 0.013968626434999853), (693, 0.013964670354335545), (1072, 0.01391444505852258), (3700, 0.013848829117561093), (1356, 0.01383778599669946), (1984, 0.013803737441660567), (998, 0.013801297221169248), (2319, 0.01379894128754617), (179, 0.013755617004592963), (2226, 0.01373452601143944), (2193, 0.013667202834383423), (1311, 0.013663503348220588), (909, 0.013643597823108655), (2824, 0.013634659521603868), (791, 0.013629076659871876), (2869, 0.013625311576214796), (1426, 0.01360378902803357), (1242, 0.013601293703610904), (1537, 0.01353840666662151), (2765, 0.013522105007947939), (724, 0.013483963194747171), (3353, 0.013471177803365833), (813, 0.013447492468694708), (1676, 0.013424400918586158), (1399, 0.013423257608118428), (698, 0.013421214392506913), (1076, 0.013371216969710347), (1151, 0.013326080641397477), (1117, 0.013326030420747217), (3436, 0.01332083829252754), (313, 0.013316667177878404), (685, 0.013281608640744475), (3077, 0.013269496596701583), (113, 0.013266048817179382), (2669, 0.013191111953792266), (17, 0.013166230868043135), (2847, 0.013155961107886594), (315, 0.013076151355799766), (1021, 0.013046843319096786), (2241, 0.013004421722962753), (3028, 0.012966959128225812), (219, 0.012952206624167094), (294, 0.012936611379243823), (1997, 0.01288109197687239), (3058, 0.01287767459329007), (1410, 0.01286685428886749), (2285, 0.012859618951549637), (269, 0.012849633748917736), (2738, 0.01283140109533068), (2294, 0.012759003934101457), (1640, 0.012723123335779562), (862, 0.01270053084375723), (85, 0.012688443840619054), (556, 0.012682013305892425), (2859, 0.012670212845397183), (434, 0.012664967001144261), (2381, 0.012656882407578791), (2247, 0.012656311745772423), (2547, 0.012638655613856293), (440, 0.012636898060408604), (2804, 0.012608848254589192), (1262, 0.01257035511796378), (2400, 0.012501974045691568), (745, 0.01246855516657898), (3199, 0.012354073850287913), (3469, 0.012344655885045545), (1305, 0.012343640993380697), (1042, 0.012314146320419989), (1902, 0.012247612085842328), (3664, 0.012246571856391171), (178, 0.012215628222108041), (1112, 0.012155267718800319), (105, 0.012144895988932704), (2222, 0.01203891265472708), (275, 0.012005758814336489), (2284, 0.01198349961827982), (3578, 0.011684402234759798), (619, 0.011614399454876738), (2737, 0.011595729430194868), (311, 0.011594298915451062), (394, 0.01158554884247099), (2153, 0.011516295269046817), (407, 0.011476850448245056), (1237, 0.0114187811036624), (1824, 0.011404618140475711), (1197, 0.01140062623538075), (2152, 0.011320838589527779), (2173, 0.011295106499434542), (3606, 0.011251381554348256), (1289, 0.011228525605571655), (566, 0.01121000794567909), (1937, 0.011180162129038159), (2923, 0.011124974016153422), (2320, 0.011122071567196915), (2786, 0.011036727131400664), (2838, 0.011028808557517505), (277, 0.01097432965847013), (939, 0.010949671814351632), (1804, 0.010902517397755501), (195, 0.010827871518587178), (3274, 0.010824284393088485), (1633, 0.010801739201423285), (662, 0.0107648750596952), (3521, 0.010738736148203757), (329, 0.010709419350761747), (2239, 0.010702747575400665), (2857, 0.0106965891443662), (46, 0.010695997678020664), (1046, 0.01068518950374219), (627, 0.010681051314526345), (234, 0.010677136740396049), (1573, 0.010674433353724807), (1990, 0.010674309379686404), (3212, 0.010664012887554399), (1655, 0.010656546173339547), (1355, 0.010653242246599116), (636, 0.010644760263967115), (3567, 0.010638930700458312), (925, 0.010632061319809587), (673, 0.010607290429579277), (1789, 0.010604301071374288), (3018, 0.010586196676761634), (2637, 0.010578082054630109), (921, 0.01057346269807792), (2503, 0.010571171280326972), (3611, 0.010558248374768969), (2215, 0.010535078317193889), (39, 0.010534854016171684), (3403, 0.010498682624988098), (1871, 0.010496290313378811), (493, 0.010490863860358076), (1417, 0.010462040426057306), (3272, 0.010447973548760493), (3543, 0.010401837314385506), (2576, 0.010389664110356052), (66, 0.010388244223063132), (1338, 0.010384228323214513), (3237, 0.0103832696927379), (2341, 0.01037364216883578), (1847, 0.010372768163515534), (2516, 0.010364798806842076), (2664, 0.010356050789220157), (624, 0.01035440239218573), (1893, 0.010342641772544299), (1010, 0.01033340496854932), (3072, 0.010326433148227145), (672, 0.010323908335683243), (1122, 0.010315931353927776), (806, 0.010307272162331571), (3512, 0.010291485891518362), (3267, 0.010284797517132814), (3245, 0.010268714861109338), (1724, 0.010267906775590852), (2395, 0.01026358374568772), (3262, 0.01025729186154593), (67, 0.010237761170395885), (3675, 0.010233895659965821), (1810, 0.010225205357416835), (1126, 0.010215500662780767), (3509, 0.010204221490797099), (2059, 0.01020363233846314), (3025, 0.010194581905619213), (1452, 0.010161181189856447), (3420, 0.010152879919923898), (3252, 0.010149418314215595), (2750, 0.010149156086449581), (2574, 0.010138634427891268), (1906, 0.010138165988971378), (3576, 0.010137247481440207), (3279, 0.010124568893122358), (1912, 0.01011952521587881), (898, 0.01010695940519526), (3722, 0.010031024970110151), (1772, 0.009992399709701704), (2688, 0.00999034684261586), (1949, 0.009943159385250247), (962, 0.009928448412152669), (3004, 0.00992720559362253), (1078, 0.009921854533451274), (26, 0.009905471789256591), (3241, 0.009887568193371193), (3303, 0.009884489009399712), (3704, 0.009875246865693674), (3408, 0.009869671476834636), (2833, 0.009867471801112124), (1148, 0.009863076270007584), (1390, 0.009859679532533971), (1820, 0.009853089141932801), (3244, 0.00984037631004615), (2014, 0.009837062461019567), (3302, 0.009836943818818243), (2097, 0.009834784319599645), (2722, 0.009831185424756559), (2336, 0.009828661621382549), (484, 0.009821514231707816), (2301, 0.009818879752144863), (420, 0.009812557087235661), (1525, 0.009806901872024038), (1828, 0.009782274988625177), (1632, 0.009779359522726924), (1795, 0.0097755485610424), (3331, 0.009768193834147962), (2434, 0.009755018021583595), (692, 0.009749620488417567), (1232, 0.009741253461411564), (1875, 0.009738517384903975), (3287, 0.009719593390139517), (1043, 0.009687204652481393), (2840, 0.009680972450392645), (3597, 0.0096764281269772), (1527, 0.009669716899463388), (1826, 0.009630639074636326), (1855, 0.009630084450365332), (1153, 0.009622018919119475), (1310, 0.009617986000068435), (671, 0.009601899956663485), (3666, 0.00958170067696312), (888, 0.00958079543644964), (1924, 0.009554261627480198), (2012, 0.009541388410539028), (1444, 0.009528200234080415), (3494, 0.009517347582941657), (368, 0.009492385799004402), (2293, 0.009474720543071096), (3550, 0.009472749448167355), (2298, 0.009464643980590295), (789, 0.009461226602539025), (2384, 0.009455064010976476), (69, 0.00944806977184264), (1668, 0.0094358614946076), (3047, 0.009431546063709226), (2880, 0.00941647765188493), (3621, 0.009390533408423418), (3029, 0.00938942028074286), (3158, 0.009388629792696335), (1391, 0.009367454111455183), (3161, 0.009361124254398128), (3649, 0.00935556791643784), (1936, 0.009344954583742206), (308, 0.009324542494570043), (1498, 0.009316752889573557), (978, 0.009309566371556189), (3448, 0.009277099817599185), (132, 0.009272306260920255), (800, 0.009264835682860646), (919, 0.00926407470499719), (3445, 0.009255775850786286), (1277, 0.00925025426991559), (2356, 0.009204060555444864), (2447, 0.009179072047596857), (1186, 0.009175873618154674), (89, 0.009153801583024118), (1250, 0.009153418319289001), (641, 0.009147353067493267), (3087, 0.009137939803986429), (973, 0.009101587256241904), (3461, 0.009086245395224969), (3122, 0.009061524634303883), (2025, 0.009054706964828298), (3131, 0.009026074504434429), (764, 0.009021962516594224), (2278, 0.009018622145832197), (2733, 0.009015340591275144), (3696, 0.009011323736101676), (3441, 0.00900746552066067), (2410, 0.008995573628597462), (31, 0.008975975973861206), (272, 0.00897130069971703), (473, 0.008970971285925052), (3706, 0.008961795501280227), (477, 0.008941365206818893), (1543, 0.008938297328403079), (2876, 0.00893381260180966), (1756, 0.008926983834446473), (918, 0.008922696034983468), (45, 0.008922581495872417), (1133, 0.00891847562192628), (1825, 0.008907760674017488), (1167, 0.008896777138181175), (797, 0.008872740136165605), (3032, 0.008860461577305728), (1643, 0.008827490565033446), (903, 0.008827199107669855), (1881, 0.008825913423382825), (2133, 0.008804995727366385), (1502, 0.00878101854137099), (176, 0.008772365254870592), (1467, 0.008760636903511103), (1812, 0.008728064066160265), (642, 0.008723612754989897), (480, 0.008703811621008993), (1245, 0.008697734730462727), (2624, 0.008689259299074683), (1807, 0.008688621530193157), (3572, 0.008686115604112081), (1774, 0.008673772734416578), (1184, 0.008669526257640267), (892, 0.008664064046578322), (1279, 0.008645587740913216), (1623, 0.008645024889081046), (96, 0.008635686856451007), (1891, 0.008628262609318062), (603, 0.008613026886079641), (2993, 0.008611763109204137), (2676, 0.008534204900036344), (1026, 0.008527088776726467), (2034, 0.008515995810020442), (156, 0.00851494177539459), (580, 0.008512338793321287), (703, 0.008511099586887519), (2575, 0.008482985326863052), (3672, 0.008436156482981762), (251, 0.008419810350427104), (3356, 0.008391719078534343), (2141, 0.008389924882558242), (3208, 0.008381419286261852), (3307, 0.008350498013886556), (2509, 0.008332908086415689), (1683, 0.008324266667349013), (2966, 0.008290000885647726), (42, 0.008268344441571773), (2281, 0.00825821119714679), (415, 0.008257861295071282), (61, 0.008230682411521015), (411, 0.008126940558950446), (665, 0.008097688162266612), (2084, 0.008042639807277756), (3190, 0.00804081428398657), (1733, 0.008029214334221012), (2984, 0.00802443232063685), (2436, 0.007985532921398109), (2217, 0.007857854213047175), (2378, 0.007657017505155298), (633, 0.007620020795836478), (425, 0.007527504713231376), (248, 0.007512986084504734), (74, 0.007393030097151757), (3661, 0.007074516570748936), (2214, 0.006992337095835285), (3343, 0.0068870369605867525), (2836, 0.006797791048856457), (2449, 0.0067451743104999665), (870, 0.006721893408435493), (3001, 0.006644570556955789), (835, 0.006622743406212716), (121, 0.0065756176902085324), (1154, 0.006566507422312748), (3053, 0.006494854015862582), (3690, 0.006451189670412504), (777, 0.006443955912162361), (145, 0.0064339953567788995), (2744, 0.00639023786699989), (2411, 0.00626691058342491), (1273, 0.006265130974665496), (732, 0.006263402678485807), (2537, 0.006248033253475997), (1672, 0.006245376535235092), (2841, 0.0062343911627860665), (1350, 0.006227843224425457), (932, 0.006195365218946537), (474, 0.006182164368888355), (1989, 0.0061810736178258), (3561, 0.0061723663808428905), (3147, 0.006172068114317175), (836, 0.006171359247956972), (2345, 0.006163056476089265), (2829, 0.006151364989855728), (1226, 0.006150887630706812), (2817, 0.006144818139651866), (399, 0.006126212685557587), (3329, 0.006123680734802055), (2314, 0.00612169024212019), (400, 0.006097912591037364), (2493, 0.006083614833099449), (135, 0.006072113934911633), (2674, 0.006059567780311284), (1843, 0.0060547476444963635), (2904, 0.006050975802105354), (2338, 0.006050228582103166), (1905, 0.0060456991235536585), (2191, 0.006043788806057144), (2124, 0.006034952043448289), (1656, 0.00602722950630874), (476, 0.006027212934478639), (3221, 0.0060270275839265815), (3126, 0.006010821288759155), (3081, 0.006000820329648258), (997, 0.005999039585370926), (3368, 0.005992402611058874), (37, 0.005992186805466483), (929, 0.0059921060424523755), (3589, 0.005991602155584749), (586, 0.0059751533137428255), (2856, 0.005963961554200993), (2776, 0.00595352348994808), (632, 0.005948816389377318), (1370, 0.005948719901964055), (848, 0.005942713631488924), (2627, 0.00592817490722748), (1852, 0.005920388477680878), (2658, 0.00590679044558678), (3294, 0.005904987089294958), (2602, 0.005902587873642564), (1570, 0.005897281641106233), (1669, 0.005891632301096041), (1005, 0.005889591854669081), (1811, 0.005884892489054595), (1392, 0.0058837805164506434), (1174, 0.005882600203768596), (3225, 0.005882266487578439), (1433, 0.005878907825816838), (2947, 0.00587871449490538), (153, 0.005870967075069968), (3548, 0.005864478512114252), (2418, 0.0058641539567716545), (169, 0.005861732800385747), (3023, 0.005861102018441544), (2288, 0.0058514381410879265), (661, 0.0058503754901944325), (509, 0.005848455656454195), (2803, 0.005848295231387841), (3327, 0.005847573547462286), (2828, 0.005845261956171136), (2446, 0.005841756431181913), (3676, 0.005841015776337425), (2943, 0.005840440672430562), (3517, 0.005840374371442802), (1693, 0.005839034577118949), (9, 0.005838915157464608), (2386, 0.005823677880470035), (2897, 0.005820530325050913), (2201, 0.005819983659278826), (3239, 0.005815866376488609), (1596, 0.005812518139276682), (1285, 0.0058116634020153645), (878, 0.005807804259340795), (2638, 0.0058016553349064665), (1954, 0.005799032592512042), (1320, 0.005788969741822412), (2698, 0.005787427066969898), (783, 0.005787297332157361), (2732, 0.005786857759236662), (2502, 0.005782614665308569), (1846, 0.005778859403524116), (3334, 0.005771266246799234), (1222, 0.005770405126176077), (217, 0.005767847142933229), (119, 0.0057658698319851135), (3305, 0.00576452860036736), (823, 0.005762966658907736), (911, 0.005759227808138032), (3306, 0.005758361830918466), (2839, 0.0057564519302444085), (3662, 0.005756331117696056), (1442, 0.005753812950885171), (1588, 0.005752296364891019), (3040, 0.005745517290085335), (475, 0.005738844495520725), (2325, 0.005725996402745526), (3522, 0.005722650405268526), (3312, 0.005720262293973257), (3227, 0.0057135519911916495), (1240, 0.005712644130388945), (1449, 0.005709164979977164), (3375, 0.005706370902846068), (3096, 0.005705633488613993), (1464, 0.005703504631567161), (1396, 0.005699734985089716), (2082, 0.005699616592435253), (2850, 0.005699472563326914), (479, 0.005698370752595992), (551, 0.005698103286765432), (2946, 0.0056973604483968815), (2604, 0.005696337112465573), (2031, 0.005696184358610041), (1160, 0.005695653650680902), (3627, 0.0056857638423749865), (3547, 0.005685509355520557), (1595, 0.00568466816222579), (844, 0.005681009876568538), (2011, 0.005680269827135511), (2677, 0.00567275397076252), (143, 0.005665654716773711), (188, 0.0056647578014495945), (2093, 0.005662639016273217), (3390, 0.005661063241003945), (3217, 0.005656202524814661), (1150, 0.005656195232382449), (1272, 0.005655659360474722), (3446, 0.00565095210406191), (947, 0.005646315714769901), (2955, 0.005645156947079023), (784, 0.0056387756206280355), (2489, 0.005634439440758495), (3057, 0.005629522270896209), (216, 0.005624816676454164), (115, 0.005621453192362908), (1014, 0.005617539679554584), (206, 0.005616197688817739), (582, 0.00561101595311157), (2823, 0.005603687960064471), (3174, 0.005600160021370629), (2672, 0.005599739567158297), (1474, 0.00559946409698161), (1454, 0.005597081431123925), (2340, 0.0055960820364394604), (1083, 0.00559487707266247), (229, 0.0055946792659475235), (3016, 0.005592701025281102), (730, 0.005589716660755372), (839, 0.005589340445279111), (1329, 0.005588562405461524), (2327, 0.0055871382039036945), (2352, 0.005585099350373088), (3242, 0.005581345938618731), (887, 0.005578920485801306), (3584, 0.005578377120453627), (968, 0.005575845446863064), (746, 0.005574580918708664), (92, 0.005574110871955765), (3563, 0.005571543429855136), (240, 0.0055707583482300345), (3214, 0.00556788002679136), (300, 0.005567220335898079), (1140, 0.005560167283952096), (3121, 0.005559477028120198), (552, 0.0055587426903131116), (1353, 0.005555573957131777), (2168, 0.005551005608388257), (354, 0.005542704303167253), (2595, 0.005541347678512522), (2831, 0.005538837252733566), (1323, 0.005537643650434377), (960, 0.005537209050931006), (1309, 0.005536562758689979), (2608, 0.005534507455514481), (869, 0.00553309929628094), (1729, 0.005532691705064165), (1943, 0.005523594613103602), (1944, 0.005519526494472317), (3314, 0.005512869820979767), (1393, 0.00551178227726016), (2296, 0.005506787059427987), (3148, 0.005506620790814844), (2631, 0.005505941594387249), (3103, 0.005503092216093875), (2197, 0.005501115558888377), (3710, 0.005499604779107036), (1163, 0.0054992429553656534), (547, 0.005499146596684858), (246, 0.005498778521301341), (1402, 0.005498334552410352), (623, 0.005494699343811046), (1385, 0.005494096471262033), (2019, 0.005491676351814167), (3193, 0.005488993479034653), (1326, 0.005484759785601659), (1776, 0.005484563348397263), (1032, 0.005483985550814588), (3641, 0.005483869288071276), (241, 0.0054809040620534865), (90, 0.005479431145196993), (2820, 0.005477998096692637), (1416, 0.0054777986753938215), (2234, 0.005477664013288378), (660, 0.0054748926500433), (2634, 0.0054712399953058466), (1783, 0.005464001889746016), (1017, 0.005455662719598912), (218, 0.005453158333802674), (488, 0.005451817235766308), (307, 0.005450563590292931), (2854, 0.005450218196082977), (3396, 0.005447689629646638), (3055, 0.005444408377812935), (2773, 0.005431745437656129), (87, 0.00543159901399071), (1339, 0.005431521937649026), (567, 0.005429590786035734), (2896, 0.005425759409250908), (1486, 0.005423700921739671), (170, 0.005421193999213453), (57, 0.00541873995678496), (1179, 0.005417688790317157), (2495, 0.005413995706627825), (2415, 0.005412693022459373), (2058, 0.005410682950353695), (2931, 0.005408201242914882), (529, 0.005407459419626726), (1297, 0.0054001833981890904), (3311, 0.005399896185505103), (758, 0.00539887548254024), (1053, 0.005395380169075605), (2950, 0.005395315029726386), (565, 0.005382252507346971), (1479, 0.005380512387450458), (2903, 0.005378752461675087), (3229, 0.0053765777179044134), (2439, 0.005374351544127719), (930, 0.005372257317973258), (1395, 0.00536536257157335), (2035, 0.005364462680363491), (1967, 0.005362830013423471), (3085, 0.00536147881581721), (498, 0.005361019966894541), (3623, 0.005359390276710997), (3251, 0.005354452371616994), (3266, 0.00535383640875351), (2425, 0.005351764977072497), (3026, 0.005351600263879657), (3066, 0.005343772622446273), (1697, 0.005343707447973684), (2597, 0.00534313449766996), (3455, 0.005340808629434814), (2712, 0.005339281905302028), (301, 0.005339209170484259), (868, 0.005334039364367507), (3240, 0.00533316832527917), (513, 0.005326980426085319), (3269, 0.005311138364524027), (2280, 0.005310918896055803), (3289, 0.005309591072045347), (2606, 0.005307793698039894), (2579, 0.005305752798427819), (3734, 0.005301241254312892), (3268, 0.005300967180417329), (3419, 0.005300289382993625), (3402, 0.005299562809897278), (1209, 0.00529800767223746), (2438, 0.00529780416578302), (1582, 0.00529779200369804), (295, 0.005295393882613197), (3601, 0.005290689079538968), (1158, 0.005290155778608756), (2073, 0.00528864849966554), (2757, 0.005285465583796536), (2009, 0.005282201145589324), (3581, 0.005277140120739261), (638, 0.005271142244560841), (2618, 0.005270396587756144), (286, 0.005267527020830784), (3074, 0.005265255311779974), (1529, 0.005262161578083058), (1431, 0.005261649005785338), (1127, 0.005261061140336925), (1993, 0.0052609194747965625), (273, 0.005258129955061013), (1105, 0.005256940653085851), (1149, 0.00525658351770979), (1424, 0.005252635087190357), (526, 0.005252393585650913), (525, 0.005242333431339719), (3630, 0.0052400402551208165), (2156, 0.005237359725326364), (1168, 0.005235266717175894), (1608, 0.005235059749017508), (3270, 0.005233442975598474), (1019, 0.005230869289810734), (290, 0.005230150648693321), (3555, 0.005229403330832742), (1040, 0.005221314931469269), (1977, 0.005220750916325208), (1468, 0.005217201757869038), (3169, 0.005216737057875816), (245, 0.005211018042548552), (203, 0.005206604993618391), (1002, 0.0052060114728519), (876, 0.0052056297643538595), (463, 0.005194711123989536), (3093, 0.005187852964256131), (1964, 0.005181805078971157), (1425, 0.005175369197867515), (2852, 0.005174130808679542), (2953, 0.0051696269808471865), (3429, 0.005167656622206515), (369, 0.0051668865892685), (3427, 0.005166694793341156), (2396, 0.005164081018279704), (2137, 0.005161110322473042), (1955, 0.0051605708475008895), (3082, 0.005158473076272472), (896, 0.005151177104287418), (2766, 0.005149203493102888), (1808, 0.005147340842885486), (499, 0.005146092718408633), (3039, 0.0051405602015890724), (455, 0.005140111925496161), (3215, 0.005138621317680694), (1261, 0.005138123641044071), (3651, 0.005137365008425741), (1303, 0.00513594731701014), (3325, 0.00513455215684482), (2682, 0.005134311315380038), (2523, 0.005125460251221376), (2157, 0.0051225504413224855), (3626, 0.00511745287722141), (1675, 0.005117154851243088), (976, 0.005113083673461217), (2317, 0.005109460203110593), (2163, 0.005104382302427011), (1647, 0.005102267014939586), (2589, 0.005101979176462202), (3716, 0.005099474756364281), (265, 0.005098975369827858), (44, 0.005092219815047479), (1915, 0.005080521242551511), (3687, 0.005077650514754144), (1740, 0.005077612337304186), (421, 0.005076874944335849), (2702, 0.005076247800143118), (2487, 0.005074799044434646), (1456, 0.005074738910478024), (2605, 0.005068737046701221), (3073, 0.005068409179479615), (984, 0.005067188917326946), (704, 0.0050663452506343664), (1523, 0.005065994106198755), (3144, 0.005065297683640904), (3235, 0.005062306311282976), (1204, 0.005060490074642397), (161, 0.0050484483513872575), (2207, 0.005047722956139075), (1352, 0.005044820578724365), (583, 0.005042988483028414), (2444, 0.0050427920482262216), (3470, 0.005039060564523498), (361, 0.005035111859257761), (1575, 0.005034192962098073), (2253, 0.005032880954318877), (296, 0.005030222114709522), (91, 0.005029066827720702), (2331, 0.0050268997318221355), (2086, 0.005017471972980381), (2343, 0.005013269790312435), (2510, 0.005010189876027286), (527, 0.0050099608670875215), (1380, 0.00500614431534405), (2610, 0.005004554622029199), (287, 0.005002269130553469), (2361, 0.004996840901263871), (3352, 0.004996828771876556), (2649, 0.004989111348634449), (2379, 0.004982000079979731), (2081, 0.004979050209599871), (1247, 0.004977647565849442), (2578, 0.004977072302265652), (3051, 0.004970383348624108), (750, 0.004966557062098033), (3170, 0.004965002854275129), (3185, 0.004960094607230102), (306, 0.004957286311363977), (2972, 0.004955447119944888), (2359, 0.004951869930991279), (2899, 0.004950419021473352), (65, 0.004949225332459838), (401, 0.004948825472511546), (2730, 0.004944609362422698), (1445, 0.004942080390304479), (3503, 0.004941789202539919), (3424, 0.004941064364525875), (1175, 0.004937176026902732), (2898, 0.004933814692270938), (3275, 0.004932541761553337), (523, 0.004926180973817459), (3278, 0.004925689257265525), (1884, 0.004922960748805738), (1, 0.004920287286691915), (1259, 0.004916588191657696), (917, 0.004913899826939506), (140, 0.004913205470709136), (3502, 0.004909048199395063), (3384, 0.004905955637447215), (358, 0.004895560384410593), (256, 0.0048951129163692046), (1974, 0.004894559487040007), (2482, 0.004892786666151351), (271, 0.004888264718271513), (77, 0.004884442033112067), (2885, 0.004882035817575743), (1631, 0.004876820258008929), (20, 0.004875828526644268), (3637, 0.004875236482369191), (1276, 0.004871408290983514), (3019, 0.004871028858123909), (3688, 0.004869105634108552), (104, 0.004864652159024456), (1666, 0.00486404727207162), (416, 0.004855312970335426), (2151, 0.004850658602643227), (3213, 0.004850247958466071), (792, 0.0048475046951206606), (3590, 0.004845704582482734), (1342, 0.004843210661419627), (553, 0.004842407680729421), (2160, 0.00484115293217974), (740, 0.004840626436387523), (3615, 0.004839665459031091), (2028, 0.004834141517017552), (2752, 0.004833986748162954), (1864, 0.004833897815065845), (1605, 0.0048281727871006385), (3313, 0.00482505003809081), (648, 0.004824904926010953), (312, 0.004824469116521406), (1169, 0.004820735504427214), (682, 0.004817315541895165), (782, 0.004813587521416711), (460, 0.00480546069754477), (3556, 0.004798037069947186), (1015, 0.004796525318598712), (3335, 0.004795933772496721), (2290, 0.0047953661789237835), (718, 0.004795020210342314), (3301, 0.0047935833042649185), (2070, 0.004789607643075866), (2818, 0.004789535310012642), (2260, 0.004780712425759318), (11, 0.004775763542382202), (60, 0.004773969528179612), (2652, 0.004772681505225621), (3228, 0.004767189884987112), (2159, 0.004766789605274686), (591, 0.004761833440660372), (1243, 0.00476162304805303), (3322, 0.00475979826811306), (1025, 0.004759565831456008), (575, 0.004756831918883647), (2421, 0.004749359393674166), (1577, 0.004747707111458842), (3151, 0.0047469735521633435), (2419, 0.004746473584524072), (3374, 0.004741661403820722), (2016, 0.004739467636963705), (3145, 0.004738518661240119), (2370, 0.0047362660331049635), (2807, 0.004733494822305233), (1358, 0.004732646394528367), (2754, 0.0047315618317589824), (889, 0.004729712815914255), (542, 0.00472121599190086), (2388, 0.0047206018273016044), (961, 0.004719288930531665), (1918, 0.004714621635357011), (276, 0.00471357568585454), (2429, 0.004713044468463251), (564, 0.004712863049842548), (2965, 0.004710037109165034), (554, 0.004708968083069883), (2707, 0.004703588354280245), (2643, 0.00470019191124416), (2599, 0.0046994707999574266), (1742, 0.004692486365172163), (1764, 0.004691973379748883), (3184, 0.004690530544296419), (3186, 0.004685867342570618), (2476, 0.004685693249216236), (3323, 0.004684049693392198), (1203, 0.0046827883595948055), (3002, 0.004682757776485083), (1195, 0.004680749382038166), (3180, 0.004678154034396426), (2671, 0.004674654577788442), (1398, 0.004670987343966903), (1109, 0.004660461712105133), (3416, 0.004655059020835321), (2640, 0.004649649802281475), (3528, 0.004649399241674478), (1659, 0.0046478498026890965), (1934, 0.0046470454036808585), (3080, 0.004642685103839035), (1750, 0.004642168479808345), (298, 0.004641938004263343), (2128, 0.004641576946091646), (3125, 0.0046406688279944765), (2654, 0.0046387280663186875), (193, 0.004636538149616489), (73, 0.004635254898534134), (2420, 0.00463469021775598), (2002, 0.0046311641020509225), (3439, 0.004629171203214174), (3468, 0.004628316263834851), (667, 0.004628222854826642), (1933, 0.004622076156881049), (3657, 0.004619547457846502), (669, 0.004617459248803391), (2994, 0.004614481789689961), (1932, 0.004610911882367048), (3110, 0.004610694043068308), (321, 0.004609651590959806), (75, 0.004607616946072388), (590, 0.004607348220195466), (640, 0.004607277335881351), (1758, 0.004606755947525175), (1568, 0.004603504995432384), (1121, 0.004601460618649377), (423, 0.004600614765364859), (3505, 0.004600605754518658), (3183, 0.0046001976184449804), (1085, 0.0045981655586481126), (2121, 0.004597544998213732), (1714, 0.004597034397024577), (1856, 0.004595436674448829), (714, 0.004594199896480082), (1415, 0.004593742241022224), (3587, 0.004590155988532148), (828, 0.004590020210526658), (2266, 0.004588312130339182), (799, 0.004588064160940732), (2474, 0.004586667298293844), (71, 0.004586233197192853), (928, 0.004584479002170788), (2183, 0.0045819856763569524), (429, 0.004579509286742034), (2095, 0.004576795390100961), (2890, 0.004575456184742343), (443, 0.0045738375070269914), (1257, 0.004570185124083907), (2827, 0.004568228790223734), (3605, 0.004566985544568204), (1678, 0.004566646577086158), (3595, 0.004566277278813313), (3624, 0.0045656118389138176), (729, 0.0045632355951720225), (2570, 0.004560203387101608), (539, 0.004560101819024437), (1702, 0.004558223232832074), (1274, 0.0045540819600429355), (514, 0.00455148806127762), (2963, 0.00455077065059176), (1190, 0.004547795189228033), (1788, 0.004545099423224192), (1347, 0.00454445622868091), (1759, 0.004541566466872112), (2877, 0.004540564967700445), (1868, 0.00454010190503133), (1218, 0.00453762510763664), (2401, 0.004536962319938112), (874, 0.004534338887732479), (237, 0.00453223833021515), (558, 0.004531157513330645), (1926, 0.004530206740326835), (1589, 0.004527682763413968), (2274, 0.004522899129817054), (2735, 0.004522644780593852), (2564, 0.004521530175356986), (2837, 0.0045173400515702246), (2029, 0.004516057317064107), (3554, 0.004513964672308452), (2742, 0.0045136087725126325), (2990, 0.004511803232047275), (1517, 0.004503230022603786), (191, 0.0045025723819654175), (1784, 0.004501700526398941), (686, 0.004501209813863292), (2522, 0.0044992494393452254), (2982, 0.0044979738299920705), (1180, 0.004497793070725402), (1045, 0.004496149198568099), (2479, 0.0044961104299887636), (2462, 0.004495669807315463), (2917, 0.004494644217971517), (765, 0.004494497251335631), (2617, 0.0044932591824321565), (779, 0.004490483717602529), (22, 0.004485158314581468), (10, 0.00448429369375106), (2787, 0.004483635575018135), (502, 0.004483325532657709), (2085, 0.004481975977868819), (3632, 0.004479537897686694), (270, 0.004470804369460308), (3473, 0.004469627919845704), (510, 0.0044683361088714525), (574, 0.004465751889043853), (2037, 0.004465690548961096), (3015, 0.004465641925418622), (1214, 0.004465456806465578), (3000, 0.004460554310629394), (2900, 0.004459748865827005), (3068, 0.004458208559676179), (2969, 0.004457811396353373), (202, 0.004457690202605671), (405, 0.004455761099375954), (1359, 0.004455554601291387), (2641, 0.004455428525222072), (924, 0.00445294660624731), (2459, 0.004452678842458981), (1494, 0.0044525105244709005), (3042, 0.004451160122831088), (3538, 0.004446498002360248), (535, 0.004446325924691945), (3471, 0.004440646323641693), (2129, 0.004436527718985747), (2639, 0.00443481695962405), (3258, 0.0044312294927781075), (1583, 0.004430921752586139), (1075, 0.004429559135870415), (805, 0.004427686534802127), (1120, 0.0044273571010333785), (681, 0.004426989803759717), (3277, 0.00442156560517992), (587, 0.004420642469645598), (164, 0.004418855613661067), (465, 0.004418628697330774), (3079, 0.004414596191129081), (1780, 0.00441293709061942), (181, 0.004412319651671156), (543, 0.004409726595223558), (731, 0.004408372776682942), (3438, 0.004402929843687869), (150, 0.0044022195617514194), (2364, 0.004401418601536116), (2927, 0.00440041956632725), (1036, 0.004396863404731626), (3254, 0.004395420825084354), (3159, 0.004395180854984557), (2989, 0.00439350450361215), (160, 0.00439176769254195), (2136, 0.00438963309218252), (3629, 0.004389005273610029), (3613, 0.004388726478788894), (2189, 0.0043878172021782035), (1129, 0.004386783868029845), (447, 0.004386612258736224), (1089, 0.004385738323951738), (2383, 0.0043843651973530596), (829, 0.004378896832806991), (3421, 0.004376693684071779), (435, 0.004375808515203548), (2292, 0.004373611741544972), (2596, 0.0043735058054073595), (223, 0.00437185244006946), (68, 0.004368735318565003), (2934, 0.004367504319273127), (471, 0.0043639445022748535), (262, 0.004361208800314737), (467, 0.004360797331060182), (252, 0.004360723495969691), (1062, 0.0043594194040875575), (851, 0.004358694220493203), (1803, 0.004356872472600715), (185, 0.0043555588341085095), (1413, 0.004354441868230133), (2659, 0.004354323929687877), (1968, 0.004353716198336167), (2087, 0.00435350334676024), (3006, 0.004353350147752671), (2746, 0.0043532247773977895), (3162, 0.004353213325694449), (2826, 0.004350563121678102), (366, 0.004349536575590369), (2363, 0.00434861738239844), (617, 0.004348513306312395), (697, 0.004347032524633852), (1844, 0.004346959330685174), (1578, 0.004346719394841674), (644, 0.004345603148839516), (3683, 0.004345208496031187), (1074, 0.004343222657056014), (2825, 0.004341182239817424), (1301, 0.0043330904125452145), (2330, 0.004332532775499434), (2149, 0.004332336196326513), (983, 0.0043320015805690115), (2271, 0.004328768783114246), (801, 0.004325456555760076), (1980, 0.004324988303479539), (2759, 0.004324162617195447), (3182, 0.004322484694274442), (891, 0.004321538460123359), (2511, 0.004321398684763953), (588, 0.004319259464930899), (18, 0.004319033015105753), (1008, 0.004318765274438915), (2543, 0.004315585138156181), (1627, 0.004315194496071813), (767, 0.004315177645677844), (785, 0.004314503552157733), (3337, 0.004313230693463577), (2412, 0.004311827781433447), (2873, 0.004310342276645686), (2390, 0.004309367016727717), (1805, 0.0043082139595523004), (1088, 0.0043075501537382516), (2080, 0.0043042249523617925), (709, 0.004303936363285455), (2911, 0.004298446719838982), (2027, 0.004297901150686477), (3265, 0.004296392320993343), (1540, 0.004295898773783739), (1228, 0.004294106934018943), (2405, 0.004291527756387189), (2594, 0.004291435723287862), (798, 0.0042913344495839655), (332, 0.004290844233080992), (1591, 0.004290187317335399), (1270, 0.004288956899022737), (2323, 0.004288792051504648), (1496, 0.004287807902565889), (2881, 0.004286055546837781), (1360, 0.0042843207381437105), (3370, 0.004284075921400886), (1841, 0.00428331648069709), (1858, 0.0042829065388417685), (454, 0.0042814987478233925), (645, 0.004280367151008684), (2517, 0.004278356026649852), (3153, 0.004277100462931655), (1495, 0.004276246930417318), (1941, 0.004273874782444437), (3276, 0.004273671248011274), (1308, 0.0042732680652148025), (3585, 0.00427126254153081), (5, 0.004268616667863646), (3083, 0.004266348781960892), (2685, 0.004265790200573534), (1069, 0.00426517250112389), (1207, 0.004264198829361742), (3164, 0.004263741234272635), (106, 0.004260343640623499), (1730, 0.004259490514674156), (579, 0.004259480234394836), (1351, 0.004259264811275316), (76, 0.004257234037045342), (3101, 0.0042565716854958404), (2980, 0.004256291673052157), (881, 0.0042552280970278465), (2409, 0.004253963372070783), (1312, 0.00425063642787062), (736, 0.004249426841747119), (3339, 0.004248628859159044), (3052, 0.004245948068498828), (2042, 0.004243994384453962), (2736, 0.004243962313701306), (2801, 0.004242979345002723), (3454, 0.004242317880291881), (3256, 0.004241915411176693), (1571, 0.004241814539372256), (2920, 0.0042411938057541265), (378, 0.004240393940103313), (327, 0.004238772969115053), (101, 0.004234264842396536), (1536, 0.0042331221866516635), (1028, 0.004232504146686896), (2018, 0.004232157374851552), (2112, 0.00423197669754201), (1143, 0.00423186121274497), (3146, 0.004229860911028596), (2651, 0.00422859846029081), (2385, 0.004227984550213327), (942, 0.0042273869488813785), (943, 0.004221994105939629), (263, 0.004221407998826085), (2277, 0.004220794727124414), (1437, 0.00421917354376712), (328, 0.004218415170181784), (111, 0.004217211063573531), (1738, 0.004215353793580116), (1558, 0.004214958350228403), (3496, 0.004214206433401944), (3519, 0.004214185523172852), (2342, 0.004212060740139371), (2261, 0.004210757524937591), (2240, 0.004210525307790486), (483, 0.004210007941205214), (2507, 0.0042080734571563975), (1324, 0.004206029663728745), (550, 0.0042049409693804655), (1950, 0.004204772088320835), (804, 0.0042041382694864154), (2131, 0.004201431447815919), (322, 0.004197513534951999), (109, 0.004195987934255405), (2879, 0.004190581874950318), (1895, 0.004189080152828792), (1473, 0.004189064555430594), (3506, 0.004186990031518199), (3523, 0.004186608725003285), (637, 0.004185140513894274), (533, 0.004183663412310845), (625, 0.004183391059225162), (1299, 0.004182756681190621), (28, 0.004181523025978563), (2615, 0.004180733044775474), (1141, 0.004180490869888792), (353, 0.004180160393384476), (1157, 0.004177512591198389), (3482, 0.00417737648735105), (2237, 0.004176926556181917), (2525, 0.0041763090547104606), (937, 0.004176266987879932), (3288, 0.004175886744059592), (3351, 0.004175163703356586), (2155, 0.004174809986368637), (755, 0.0041744517728247105), (82, 0.004172851907308109), (787, 0.004172543345439595), (972, 0.004171208315568222), (59, 0.004171157860545743), (2470, 0.004167699282337196), (1641, 0.004167339873612524), (1331, 0.004167191200810132), (337, 0.004163872116800999), (1670, 0.0041576629501260155), (1037, 0.00415621736713489), (1894, 0.004153675302901377), (2781, 0.004151921177960498), (884, 0.004151272005695172), (3204, 0.004147188033670124), (3250, 0.004147096791488328), (1472, 0.004137629106189949), (207, 0.004137209250260321), (2650, 0.004135338495371611), (2221, 0.0041319279099214495), (594, 0.004130981673214224), (773, 0.004130880215694058), (1712, 0.004129493814055674), (3299, 0.0041275395151777776), (1726, 0.004126008929996928), (946, 0.004125318338093259), (990, 0.004124153828181955), (2175, 0.004123308497358951), (123, 0.004121908493789102), (2921, 0.004121261590873016), (305, 0.004121086404260164), (3385, 0.004119215137313284), (3616, 0.00411771479983518), (2535, 0.004117181551210104), (3114, 0.0041166529445461515), (442, 0.004115898228909822), (367, 0.004114307085416049), (2798, 0.004109279604303152), (520, 0.004107755611822999), (2558, 0.0041076400084869595), (3378, 0.004107559421225336), (2725, 0.004106663581946082), (2687, 0.004104056259903418), (384, 0.004103920456775454), (735, 0.00410271737141647), (1170, 0.004092389628202002), (2220, 0.004090819086568494), (1837, 0.0040905850071902535), (2305, 0.004090460134173151), (2764, 0.004084612343192793), (2541, 0.004082224432334163), (2708, 0.004079888378981344), (1854, 0.004079355371258884), (3414, 0.0040770438588058925), (1604, 0.004076804135807009), (128, 0.004075893936668872), (30, 0.0040755156933337065), (1958, 0.004075017339194076), (3460, 0.004074405629722748), (3223, 0.0040739040919038115), (3596, 0.004073870692925595), (2882, 0.004073629320492186), (544, 0.004073184249505056), (3515, 0.004071421993432662), (93, 0.004071014776876663), (1107, 0.0040703069838838035), (2178, 0.004070253891019381), (1103, 0.0040686022660733), (2835, 0.004067142263892802), (897, 0.004064719697638842), (956, 0.004063375678325532), (351, 0.004063099828691101), (950, 0.004062220732314438), (1394, 0.0040616169591906415), (1483, 0.0040594508841304226), (605, 0.0040586787904158825), (548, 0.004057898673859745), (3417, 0.004057156848106152), (3608, 0.004055732218991301), (609, 0.00405509853519889), (838, 0.004055027552842127), (3681, 0.004055016111070377), (1459, 0.004054873552977167), (1732, 0.004054393786236066), (3003, 0.004052769747893747), (2403, 0.00405024930508515), (1055, 0.004047697131456831), (3580, 0.0040462735750042625), (1550, 0.0040459952297883135), (108, 0.0040398704689472015), (1267, 0.0040396843799330815), (1202, 0.004038531592913293), (3365, 0.004036280161394276), (1234, 0.004036035859114683), (557, 0.004031788998148029), (2103, 0.004030624586222072), (1114, 0.004030325623605576), (2964, 0.004027450028078203), (2265, 0.004027035897181318), (965, 0.004025714973950901), (2926, 0.00402381777051391), (3132, 0.004023422507503833), (2186, 0.004023193504664334), (3205, 0.004022034588153561), (678, 0.004019952823872084), (1264, 0.004019471580485196), (2170, 0.004018338568743686), (2004, 0.004016007749784044), (338, 0.004015104843533748), (2612, 0.004005332760365457), (2360, 0.004003995480365225), (3575, 0.004003130235863509), (2115, 0.004002401812008278), (2065, 0.003999391848172237), (819, 0.003994756071721629), (288, 0.003992358566308349), (3529, 0.003991689257547584), (725, 0.0039888675872683), (436, 0.003985872739102289), (860, 0.003984591138620214), (522, 0.003977816050733249), (2075, 0.003977294316356455), (1346, 0.003977223206179553), (560, 0.003976462303573813), (1480, 0.003975377628930903), (841, 0.003972211865254749), (2790, 0.003972055450335989), (2562, 0.003970942771780219), (2540, 0.003970691622510174), (2592, 0.003967324495336492), (589, 0.003967069729752983), (1384, 0.003964557493855225), (403, 0.003962757996261236), (120, 0.003962313288147706), (3721, 0.003959680015053704), (1423, 0.00395891519913011), (14, 0.003957445030427018), (130, 0.003956609481724053), (687, 0.003954643023757775), (545, 0.00395299308906295), (867, 0.003948281825157857), (1106, 0.003947532544032987), (1723, 0.003943061341201804), (2051, 0.003942895122637216), (173, 0.003940463391417108), (1682, 0.003938062469870197), (1862, 0.003937913584565944), (2728, 0.003937649416621955), (650, 0.003936318049132162), (3120, 0.003935525036891145), (172, 0.003934562981987564), (267, 0.003934497438611202), (3487, 0.003932305645985813), (517, 0.003929455259947203), (890, 0.003928667837929963), (186, 0.00392840557850701), (3342, 0.003927026486840196), (100, 0.003924701236979633), (1717, 0.003922616795862099), (879, 0.0039216390275241065), (1713, 0.003920734816945542), (1555, 0.0039194014332413025), (3344, 0.00391930346453799), (873, 0.0039191140367927264), (1361, 0.003916029939911862), (2976, 0.003915092714357768), (3286, 0.003914839366075744), (2276, 0.003914452408182309), (1116, 0.0039137373639464915), (1113, 0.003910350445585436), (392, 0.003910192225805911), (157, 0.0039066812802573785), (1580, 0.00390521310499119), (1785, 0.0039027391959343466), (386, 0.00389756631994145), (1419, 0.0038939862198546127), (1621, 0.0038899646521996325), (2198, 0.003888650881811857), (430, 0.003887695252679641), (2485, 0.003887629958330561), (987, 0.0038869226024682052), (2099, 0.0038867004047740024), (3178, 0.003884933263722524), (152, 0.0038832573703485827), (1842, 0.0038825649527941685), (2782, 0.0038815488377983163), (141, 0.0038811176989905502), (1761, 0.003880869848848166), (3157, 0.0038790833082930345), (2365, 0.003878389876054173), (343, 0.003875795155206383), (2932, 0.003874434354437475), (2607, 0.0038743540929615647), (1800, 0.0038733133710341146), (2348, 0.0038706565066554204), (1096, 0.003869474917077258), (2743, 0.0038663766822415206), (1147, 0.0038592978008432535), (651, 0.003855344722397978), (32, 0.0038548021124813155), (2213, 0.0038531803323967376), (1041, 0.003850435346190125), (249, 0.003847025615751061), (2036, 0.0038467681224780073), (607, 0.00384374063677656), (3292, 0.003840704445437347), (235, 0.003840131259151148), (2821, 0.0038339409293624603), (1313, 0.0038334826424214884), (336, 0.003830580215397696), (2251, 0.0038226619775339216), (1491, 0.0038210542483280256), (208, 0.0038164663201200218), (3406, 0.003812883251136057), (964, 0.003811677816549424), (227, 0.003807097479296315), (2793, 0.003806669830206743), (448, 0.003803901027307732), (2513, 0.003802958121062714), (569, 0.0038016993659005746), (2588, 0.0037896906759467626), (2486, 0.003787805539668481), (94, 0.0037836035440817414), (182, 0.0037814941850747956), (2514, 0.0037807561549671113), (2328, 0.003777721861399799), (753, 0.003765309045543223), (677, 0.0037648169329038963), (58, 0.0037627414030650167), (3680, 0.0037596132515278005), (380, 0.003758700162324246), (15, 0.003748536376701837), (1263, 0.00374788445299793), (524, 0.0037456651468058674), (2808, 0.003740574258505986), (3355, 0.0037376116123720602), (676, 0.0037373768184062657), (3350, 0.0037359064422591995), (994, 0.0037356092541603802), (795, 0.0037269882840148933), (3481, 0.0037255810027740474), (1258, 0.0037254298342922574), (2108, 0.0037240386931972676), (3, 0.0037205877838630756), (1781, 0.0037190800965617053), (2167, 0.0037151092237431597), (2457, 0.0037133665999136306), (563, 0.0037115753910232667), (2858, 0.0037094879053846284), (3188, 0.003708791542335998), (2937, 0.003707386767226891), (2268, 0.0037009415429251624), (578, 0.003700135479734139), (183, 0.0036991047544993995), (985, 0.0036964666267451547), (1866, 0.0036941758372504023), (2656, 0.0036922493591490272), (658, 0.0036880571840556), (852, 0.0036746397614057865), (1970, 0.003672323953788373), (2551, 0.0036666149004109787), (2373, 0.003661150190481376), (1896, 0.003661102017009584), (1572, 0.0036578423487350783), (506, 0.0036510509575878153), (134, 0.003649303378249917), (1099, 0.003645336226093356), (2219, 0.0036436758660621953), (1951, 0.0036415488952804835), (653, 0.0036411585343420773), (24, 0.0036381109317697243), (1946, 0.003635688158766981), (1603, 0.003633994509730482), (2760, 0.0036311418540590527), (3133, 0.0036278954263093198), (2242, 0.0036215053850686186), (1249, 0.003621148933461896), (1787, 0.003619764638141714), (1696, 0.0036194968270145313), (3062, 0.003616691757695485), (1499, 0.0036102163036264272), (2572, 0.0036073924224968236), (1199, 0.0035999238599643264), (778, 0.0035994945030356404), (3663, 0.00359125614197241), (2371, 0.003588210707882583), (568, 0.003583481392918333), (3152, 0.0035459983680427376), (1834, 0.00353067823317907), (110, 0.0035301563117693673), (1545, 0.0035222147308331957), (561, 0.0035171781751096452), (289, 0.0035094106510705028), (3369, 0.0034967853448108093), (3702, 0.0034929188967316597), (238, 0.003466386664159546), (1719, 0.003465954060432622), (383, 0.0034522967417974933), (2182, 0.0034462569375579895), (472, 0.0034447896449292686), (2655, 0.003426795132134586), (330, 0.003423559422585492), (1607, 0.0034227228767567167), (2179, 0.0034162231418184918), (528, 0.003400529642587513), (210, 0.0033754465188017726), (559, 0.003366464626976345), (2970, 0.003320613240935197), (1522, 0.003317733090630217), (213, 0.003288798080807557), (1200, 0.0032013853298560897), (1244, 0.0031849061955010844), (3361, 0.003106516474561302), (264, 0.003095610876795519), (3733, 0.003066003576827123), (760, 0.0030457647873084275), (793, 0.0030397468026981452), (309, 0.0030394765564252697), (125, 0.0030386372897618624), (428, 0.0030057986033409055), (1387, 0.002964480101451816), (189, 0.002831702572145243), (3118, 0.0028193109959993214), (2225, 0.0020098240781917733), (445, 0.0015720090136393003), (0, 0.0), (4, 0.0), (8, 0.0), (12, 0.0), (13, 0.0), (16, 0.0), (19, 0.0), (23, 0.0), (27, 0.0), (34, 0.0), (35, 0.0), (36, 0.0), (40, 0.0), (41, 0.0), (43, 0.0), (47, 0.0), (48, 0.0), (51, 0.0), (52, 0.0), (53, 0.0), (54, 0.0), (55, 0.0), (56, 0.0), (62, 0.0), (63, 0.0), (64, 0.0), (70, 0.0), (72, 0.0), (79, 0.0), (83, 0.0), (88, 0.0), (95, 0.0), (98, 0.0), (102, 0.0), (103, 0.0), (107, 0.0), (112, 0.0), (114, 0.0), (118, 0.0), (126, 0.0), (127, 0.0), (133, 0.0), (137, 0.0), (138, 0.0), (142, 0.0), (146, 0.0), (147, 0.0), (149, 0.0), (154, 0.0), (155, 0.0), (158, 0.0), (159, 0.0), (162, 0.0), (163, 0.0), (165, 0.0), (166, 0.0), (168, 0.0), (174, 0.0), (175, 0.0), (177, 0.0), (190, 0.0), (192, 0.0), (194, 0.0), (196, 0.0), (197, 0.0), (199, 0.0), (200, 0.0), (205, 0.0), (209, 0.0), (211, 0.0), (212, 0.0), (214, 0.0), (215, 0.0), (220, 0.0), (226, 0.0), (230, 0.0), (232, 0.0), (233, 0.0), (236, 0.0), (239, 0.0), (244, 0.0), (247, 0.0), (250, 0.0), (254, 0.0), (255, 0.0), (257, 0.0), (259, 0.0), (260, 0.0), (268, 0.0), (274, 0.0), (278, 0.0), (279, 0.0), (280, 0.0), (281, 0.0), (282, 0.0), (283, 0.0), (291, 0.0), (292, 0.0), (293, 0.0), (297, 0.0), (304, 0.0), (310, 0.0), (314, 0.0), (316, 0.0), (318, 0.0), (319, 0.0), (320, 0.0), (323, 0.0), (324, 0.0), (331, 0.0), (339, 0.0), (340, 0.0), (341, 0.0), (342, 0.0), (344, 0.0), (345, 0.0), (346, 0.0), (347, 0.0), (348, 0.0), (355, 0.0), (356, 0.0), (359, 0.0), (360, 0.0), (362, 0.0), (364, 0.0), (371, 0.0), (373, 0.0), (374, 0.0), (376, 0.0), (377, 0.0), (379, 0.0), (381, 0.0), (382, 0.0), (385, 0.0), (387, 0.0), (389, 0.0), (390, 0.0), (391, 0.0), (395, 0.0), (396, 0.0), (397, 0.0), (398, 0.0), (406, 0.0), (412, 0.0), (413, 0.0), (417, 0.0), (418, 0.0), (419, 0.0), (422, 0.0), (427, 0.0), (433, 0.0), (437, 0.0), (450, 0.0), (451, 0.0), (452, 0.0), (453, 0.0), (457, 0.0), (462, 0.0), (466, 0.0), (468, 0.0), (469, 0.0), (482, 0.0), (486, 0.0), (487, 0.0), (489, 0.0), (490, 0.0), (491, 0.0), (494, 0.0), (495, 0.0), (497, 0.0), (503, 0.0), (504, 0.0), (508, 0.0), (511, 0.0), (512, 0.0), (515, 0.0), (530, 0.0), (532, 0.0), (537, 0.0), (538, 0.0), (540, 0.0), (541, 0.0), (546, 0.0), (549, 0.0), (555, 0.0), (562, 0.0), (572, 0.0), (576, 0.0), (577, 0.0), (581, 0.0), (584, 0.0), (585, 0.0), (596, 0.0), (597, 0.0), (598, 0.0), (599, 0.0), (600, 0.0), (612, 0.0), (613, 0.0), (614, 0.0), (620, 0.0), (626, 0.0), (628, 0.0), (629, 0.0), (630, 0.0), (634, 0.0), (635, 0.0), (639, 0.0), (649, 0.0), (654, 0.0), (655, 0.0), (656, 0.0), (659, 0.0), (663, 0.0), (664, 0.0), (668, 0.0), (670, 0.0), (675, 0.0), (679, 0.0), (680, 0.0), (684, 0.0), (688, 0.0), (689, 0.0), (690, 0.0), (691, 0.0), (695, 0.0), (696, 0.0), (699, 0.0), (700, 0.0), (705, 0.0), (706, 0.0), (707, 0.0), (710, 0.0), (711, 0.0), (712, 0.0), (713, 0.0), (715, 0.0), (716, 0.0), (719, 0.0), (720, 0.0), (721, 0.0), (722, 0.0), (723, 0.0), (726, 0.0), (727, 0.0), (728, 0.0), (734, 0.0), (738, 0.0), (739, 0.0), (742, 0.0), (744, 0.0), (748, 0.0), (749, 0.0), (751, 0.0), (754, 0.0), (756, 0.0), (759, 0.0), (763, 0.0), (768, 0.0), (769, 0.0), (771, 0.0), (774, 0.0), (775, 0.0), (776, 0.0), (781, 0.0), (790, 0.0), (794, 0.0), (796, 0.0), (807, 0.0), (808, 0.0), (810, 0.0), (814, 0.0), (815, 0.0), (816, 0.0), (817, 0.0), (818, 0.0), (820, 0.0), (822, 0.0), (824, 0.0), (825, 0.0), (827, 0.0), (830, 0.0), (831, 0.0), (833, 0.0), (837, 0.0), (840, 0.0), (843, 0.0), (846, 0.0), (849, 0.0), (850, 0.0), (854, 0.0), (859, 0.0), (861, 0.0), (863, 0.0), (871, 0.0), (872, 0.0), (877, 0.0), (880, 0.0), (882, 0.0), (883, 0.0), (886, 0.0), (893, 0.0), (894, 0.0), (899, 0.0), (900, 0.0), (901, 0.0), (904, 0.0), (905, 0.0), (906, 0.0), (914, 0.0), (916, 0.0), (922, 0.0), (931, 0.0), (934, 0.0), (936, 0.0), (938, 0.0), (941, 0.0), (944, 0.0), (949, 0.0), (953, 0.0), (954, 0.0), (957, 0.0), (958, 0.0), (963, 0.0), (967, 0.0), (969, 0.0), (970, 0.0), (971, 0.0), (974, 0.0), (977, 0.0), (979, 0.0), (981, 0.0), (988, 0.0), (991, 0.0), (992, 0.0), (993, 0.0), (995, 0.0), (996, 0.0), (999, 0.0), (1001, 0.0), (1003, 0.0), (1004, 0.0), (1007, 0.0), (1009, 0.0), (1011, 0.0), (1012, 0.0), (1016, 0.0), (1020, 0.0), (1023, 0.0), (1024, 0.0), (1029, 0.0), (1030, 0.0), (1031, 0.0), (1033, 0.0), (1035, 0.0), (1038, 0.0), (1044, 0.0), (1047, 0.0), (1048, 0.0), (1049, 0.0), (1050, 0.0), (1051, 0.0), (1054, 0.0), (1057, 0.0), (1058, 0.0), (1059, 0.0), (1060, 0.0), (1064, 0.0), (1065, 0.0), (1066, 0.0), (1067, 0.0), (1070, 0.0), (1071, 0.0), (1077, 0.0), (1079, 0.0), (1080, 0.0), (1086, 0.0), (1087, 0.0), (1090, 0.0), (1091, 0.0), (1092, 0.0), (1093, 0.0), (1094, 0.0), (1095, 0.0), (1097, 0.0), (1098, 0.0), (1100, 0.0), (1101, 0.0), (1102, 0.0), (1108, 0.0), (1110, 0.0), (1115, 0.0), (1118, 0.0), (1119, 0.0), (1128, 0.0), (1130, 0.0), (1131, 0.0), (1135, 0.0), (1138, 0.0), (1139, 0.0), (1145, 0.0), (1152, 0.0), (1159, 0.0), (1162, 0.0), (1164, 0.0), (1165, 0.0), (1171, 0.0), (1172, 0.0), (1176, 0.0), (1177, 0.0), (1178, 0.0), (1181, 0.0), (1182, 0.0), (1183, 0.0), (1185, 0.0), (1188, 0.0), (1189, 0.0), (1191, 0.0), (1192, 0.0), (1193, 0.0), (1194, 0.0), (1198, 0.0), (1205, 0.0), (1206, 0.0), (1210, 0.0), (1211, 0.0), (1213, 0.0), (1216, 0.0), (1217, 0.0), (1221, 0.0), (1224, 0.0), (1225, 0.0), (1227, 0.0), (1230, 0.0), (1239, 0.0), (1241, 0.0), (1246, 0.0), (1248, 0.0), (1251, 0.0), (1252, 0.0), (1254, 0.0), (1255, 0.0), (1256, 0.0), (1260, 0.0), (1266, 0.0), (1268, 0.0), (1278, 0.0), (1280, 0.0), (1281, 0.0), (1283, 0.0), (1284, 0.0), (1287, 0.0), (1290, 0.0), (1292, 0.0), (1293, 0.0), (1295, 0.0), (1296, 0.0), (1306, 0.0), (1314, 0.0), (1315, 0.0), (1317, 0.0), (1318, 0.0), (1319, 0.0), (1322, 0.0), (1325, 0.0), (1327, 0.0), (1330, 0.0), (1335, 0.0), (1336, 0.0), (1337, 0.0), (1340, 0.0), (1341, 0.0), (1343, 0.0), (1345, 0.0), (1348, 0.0), (1349, 0.0), (1354, 0.0), (1357, 0.0), (1363, 0.0), (1364, 0.0), (1366, 0.0), (1369, 0.0), (1374, 0.0), (1375, 0.0), (1376, 0.0), (1377, 0.0), (1378, 0.0), (1379, 0.0), (1381, 0.0), (1382, 0.0), (1388, 0.0), (1389, 0.0), (1397, 0.0), (1400, 0.0), (1401, 0.0), (1403, 0.0), (1404, 0.0), (1405, 0.0), (1406, 0.0), (1408, 0.0), (1409, 0.0), (1412, 0.0), (1414, 0.0), (1418, 0.0), (1421, 0.0), (1422, 0.0), (1427, 0.0), (1428, 0.0), (1430, 0.0), (1432, 0.0), (1435, 0.0), (1436, 0.0), (1438, 0.0), (1439, 0.0), (1440, 0.0), (1441, 0.0), (1446, 0.0), (1447, 0.0), (1448, 0.0), (1450, 0.0), (1451, 0.0), (1455, 0.0), (1457, 0.0), (1458, 0.0), (1460, 0.0), (1462, 0.0), (1465, 0.0), (1466, 0.0), (1469, 0.0), (1471, 0.0), (1475, 0.0), (1476, 0.0), (1477, 0.0), (1478, 0.0), (1481, 0.0), (1482, 0.0), (1484, 0.0), (1485, 0.0), (1487, 0.0), (1488, 0.0), (1490, 0.0), (1497, 0.0), (1501, 0.0), (1504, 0.0), (1505, 0.0), (1506, 0.0), (1507, 0.0), (1509, 0.0), (1510, 0.0), (1511, 0.0), (1513, 0.0), (1514, 0.0), (1516, 0.0), (1518, 0.0), (1521, 0.0), (1524, 0.0), (1526, 0.0), (1528, 0.0), (1531, 0.0), (1532, 0.0), (1534, 0.0), (1538, 0.0), (1539, 0.0), (1541, 0.0), (1542, 0.0), (1544, 0.0), (1547, 0.0), (1551, 0.0), (1553, 0.0), (1554, 0.0), (1556, 0.0), (1557, 0.0), (1560, 0.0), (1562, 0.0), (1563, 0.0), (1564, 0.0), (1565, 0.0), (1566, 0.0), (1569, 0.0), (1576, 0.0), (1579, 0.0), (1581, 0.0), (1585, 0.0), (1586, 0.0), (1587, 0.0), (1590, 0.0), (1592, 0.0), (1593, 0.0), (1597, 0.0), (1598, 0.0), (1601, 0.0), (1606, 0.0), (1609, 0.0), (1610, 0.0), (1611, 0.0), (1613, 0.0), (1614, 0.0), (1616, 0.0), (1617, 0.0), (1618, 0.0), (1620, 0.0), (1625, 0.0), (1626, 0.0), (1629, 0.0), (1630, 0.0), (1634, 0.0), (1636, 0.0), (1637, 0.0), (1639, 0.0), (1642, 0.0), (1644, 0.0), (1646, 0.0), (1650, 0.0), (1651, 0.0), (1652, 0.0), (1657, 0.0), (1658, 0.0), (1660, 0.0), (1661, 0.0), (1662, 0.0), (1663, 0.0), (1665, 0.0), (1667, 0.0), (1673, 0.0), (1677, 0.0), (1679, 0.0), (1680, 0.0), (1681, 0.0), (1686, 0.0), (1687, 0.0), (1688, 0.0), (1689, 0.0), (1690, 0.0), (1691, 0.0), (1695, 0.0), (1699, 0.0), (1700, 0.0), (1701, 0.0), (1703, 0.0), (1704, 0.0), (1705, 0.0), (1706, 0.0), (1707, 0.0), (1708, 0.0), (1710, 0.0), (1711, 0.0), (1715, 0.0), (1720, 0.0), (1725, 0.0), (1727, 0.0), (1728, 0.0), (1734, 0.0), (1735, 0.0), (1736, 0.0), (1737, 0.0), (1744, 0.0), (1749, 0.0), (1751, 0.0), (1752, 0.0), (1753, 0.0), (1754, 0.0), (1755, 0.0), (1757, 0.0), (1760, 0.0), (1762, 0.0), (1763, 0.0), (1766, 0.0), (1767, 0.0), (1768, 0.0), (1770, 0.0), (1771, 0.0), (1773, 0.0), (1775, 0.0), (1778, 0.0), (1779, 0.0), (1782, 0.0), (1790, 0.0), (1792, 0.0), (1794, 0.0), (1796, 0.0), (1797, 0.0), (1798, 0.0), (1801, 0.0), (1802, 0.0), (1806, 0.0), (1809, 0.0), (1813, 0.0), (1815, 0.0), (1817, 0.0), (1819, 0.0), (1821, 0.0), (1823, 0.0), (1827, 0.0), (1829, 0.0), (1830, 0.0), (1833, 0.0), (1835, 0.0), (1836, 0.0), (1838, 0.0), (1839, 0.0), (1840, 0.0), (1848, 0.0), (1849, 0.0), (1850, 0.0), (1851, 0.0), (1853, 0.0), (1857, 0.0), (1859, 0.0), (1861, 0.0), (1863, 0.0), (1867, 0.0), (1869, 0.0), (1872, 0.0), (1873, 0.0), (1877, 0.0), (1878, 0.0), (1882, 0.0), (1885, 0.0), (1886, 0.0), (1888, 0.0), (1890, 0.0), (1898, 0.0), (1900, 0.0), (1903, 0.0), (1907, 0.0), (1911, 0.0), (1913, 0.0), (1919, 0.0), (1920, 0.0), (1921, 0.0), (1922, 0.0), (1927, 0.0), (1928, 0.0), (1929, 0.0), (1930, 0.0), (1931, 0.0), (1935, 0.0), (1939, 0.0), (1942, 0.0), (1947, 0.0), (1952, 0.0), (1953, 0.0), (1956, 0.0), (1962, 0.0), (1965, 0.0), (1966, 0.0), (1971, 0.0), (1972, 0.0), (1973, 0.0), (1975, 0.0), (1976, 0.0), (1978, 0.0), (1979, 0.0), (1981, 0.0), (1982, 0.0), (1983, 0.0), (1986, 0.0), (1988, 0.0), (1991, 0.0), (1992, 0.0), (1998, 0.0), (1999, 0.0), (2003, 0.0), (2005, 0.0), (2006, 0.0), (2010, 0.0), (2015, 0.0), (2017, 0.0), (2020, 0.0), (2021, 0.0), (2022, 0.0), (2023, 0.0), (2024, 0.0), (2026, 0.0), (2032, 0.0), (2033, 0.0), (2039, 0.0), (2040, 0.0), (2041, 0.0), (2043, 0.0), (2045, 0.0), (2046, 0.0), (2047, 0.0), (2048, 0.0), (2049, 0.0), (2050, 0.0), (2052, 0.0), (2053, 0.0), (2054, 0.0), (2055, 0.0), (2060, 0.0), (2061, 0.0), (2062, 0.0), (2063, 0.0), (2064, 0.0), (2066, 0.0), (2069, 0.0), (2072, 0.0), (2074, 0.0), (2076, 0.0), (2077, 0.0), (2078, 0.0), (2083, 0.0), (2089, 0.0), (2091, 0.0), (2092, 0.0), (2094, 0.0), (2096, 0.0), (2098, 0.0), (2100, 0.0), (2102, 0.0), (2105, 0.0), (2106, 0.0), (2107, 0.0), (2109, 0.0), (2111, 0.0), (2113, 0.0), (2114, 0.0), (2116, 0.0), (2117, 0.0), (2118, 0.0), (2119, 0.0), (2122, 0.0), (2123, 0.0), (2125, 0.0), (2126, 0.0), (2132, 0.0), (2134, 0.0), (2138, 0.0), (2139, 0.0), (2140, 0.0), (2143, 0.0), (2144, 0.0), (2145, 0.0), (2146, 0.0), (2147, 0.0), (2148, 0.0), (2158, 0.0), (2161, 0.0), (2165, 0.0), (2169, 0.0), (2171, 0.0), (2176, 0.0), (2180, 0.0), (2184, 0.0), (2185, 0.0), (2188, 0.0), (2190, 0.0), (2192, 0.0), (2194, 0.0), (2195, 0.0), (2199, 0.0), (2200, 0.0), (2202, 0.0), (2204, 0.0), (2205, 0.0), (2209, 0.0), (2210, 0.0), (2211, 0.0), (2212, 0.0), (2216, 0.0), (2218, 0.0), (2223, 0.0), (2227, 0.0), (2229, 0.0), (2231, 0.0), (2232, 0.0), (2233, 0.0), (2235, 0.0), (2243, 0.0), (2245, 0.0), (2246, 0.0), (2248, 0.0), (2249, 0.0), (2252, 0.0), (2255, 0.0), (2256, 0.0), (2258, 0.0), (2259, 0.0), (2263, 0.0), (2264, 0.0), (2270, 0.0), (2273, 0.0), (2279, 0.0), (2282, 0.0), (2283, 0.0), (2286, 0.0), (2289, 0.0), (2291, 0.0), (2295, 0.0), (2297, 0.0), (2299, 0.0), (2302, 0.0), (2304, 0.0), (2309, 0.0), (2310, 0.0), (2311, 0.0), (2313, 0.0), (2316, 0.0), (2322, 0.0), (2324, 0.0), (2326, 0.0), (2329, 0.0), (2334, 0.0), (2335, 0.0), (2337, 0.0), (2344, 0.0), (2346, 0.0), (2347, 0.0), (2349, 0.0), (2351, 0.0), (2353, 0.0), (2354, 0.0), (2357, 0.0), (2367, 0.0), (2368, 0.0), (2369, 0.0), (2374, 0.0), (2375, 0.0), (2376, 0.0), (2382, 0.0), (2387, 0.0), (2389, 0.0), (2391, 0.0), (2397, 0.0), (2398, 0.0), (2399, 0.0), (2402, 0.0), (2404, 0.0), (2407, 0.0), (2408, 0.0), (2414, 0.0), (2422, 0.0), (2426, 0.0), (2427, 0.0), (2428, 0.0), (2440, 0.0), (2441, 0.0), (2442, 0.0), (2443, 0.0), (2448, 0.0), (2450, 0.0), (2451, 0.0), (2453, 0.0), (2454, 0.0), (2456, 0.0), (2458, 0.0), (2463, 0.0), (2472, 0.0), (2481, 0.0), (2488, 0.0), (2490, 0.0), (2494, 0.0), (2496, 0.0), (2498, 0.0), (2500, 0.0), (2501, 0.0), (2506, 0.0), (2508, 0.0), (2519, 0.0), (2520, 0.0), (2521, 0.0), (2524, 0.0), (2527, 0.0), (2528, 0.0), (2530, 0.0), (2531, 0.0), (2532, 0.0), (2538, 0.0), (2542, 0.0), (2544, 0.0), (2545, 0.0), (2548, 0.0), (2549, 0.0), (2550, 0.0), (2553, 0.0), (2554, 0.0), (2555, 0.0), (2556, 0.0), (2557, 0.0), (2559, 0.0), (2560, 0.0), (2563, 0.0), (2566, 0.0), (2567, 0.0), (2568, 0.0), (2571, 0.0), (2573, 0.0), (2577, 0.0), (2580, 0.0), (2581, 0.0), (2582, 0.0), (2583, 0.0), (2584, 0.0), (2585, 0.0), (2590, 0.0), (2591, 0.0), (2593, 0.0), (2598, 0.0), (2600, 0.0), (2609, 0.0), (2611, 0.0), (2613, 0.0), (2614, 0.0), (2621, 0.0), (2623, 0.0), (2628, 0.0), (2629, 0.0), (2633, 0.0), (2635, 0.0), (2636, 0.0), (2642, 0.0), (2644, 0.0), (2645, 0.0), (2646, 0.0), (2648, 0.0), (2653, 0.0), (2657, 0.0), (2661, 0.0), (2662, 0.0), (2663, 0.0), (2665, 0.0), (2666, 0.0), (2670, 0.0), (2675, 0.0), (2679, 0.0), (2680, 0.0), (2681, 0.0), (2684, 0.0), (2686, 0.0), (2689, 0.0), (2690, 0.0), (2691, 0.0), (2692, 0.0), (2694, 0.0), (2695, 0.0), (2696, 0.0), (2699, 0.0), (2700, 0.0), (2701, 0.0), (2705, 0.0), (2706, 0.0), (2709, 0.0), (2710, 0.0), (2711, 0.0), (2714, 0.0), (2715, 0.0), (2716, 0.0), (2717, 0.0), (2719, 0.0), (2720, 0.0), (2721, 0.0), (2724, 0.0), (2729, 0.0), (2734, 0.0), (2739, 0.0), (2740, 0.0), (2741, 0.0), (2749, 0.0), (2751, 0.0), (2753, 0.0), (2755, 0.0), (2762, 0.0), (2763, 0.0), (2769, 0.0), (2771, 0.0), (2774, 0.0), (2778, 0.0), (2780, 0.0), (2783, 0.0), (2784, 0.0), (2791, 0.0), (2792, 0.0), (2794, 0.0), (2795, 0.0), (2796, 0.0), (2797, 0.0), (2799, 0.0), (2800, 0.0), (2810, 0.0), (2811, 0.0), (2816, 0.0), (2819, 0.0), (2822, 0.0), (2832, 0.0), (2834, 0.0), (2842, 0.0), (2843, 0.0), (2844, 0.0), (2845, 0.0), (2846, 0.0), (2860, 0.0), (2862, 0.0), (2863, 0.0), (2864, 0.0), (2867, 0.0), (2870, 0.0), (2871, 0.0), (2872, 0.0), (2875, 0.0), (2878, 0.0), (2884, 0.0), (2887, 0.0), (2889, 0.0), (2893, 0.0), (2894, 0.0), (2895, 0.0), (2901, 0.0), (2902, 0.0), (2905, 0.0), (2907, 0.0), (2908, 0.0), (2910, 0.0), (2912, 0.0), (2914, 0.0), (2915, 0.0), (2916, 0.0), (2922, 0.0), (2924, 0.0), (2925, 0.0), (2928, 0.0), (2929, 0.0), (2930, 0.0), (2933, 0.0), (2935, 0.0), (2936, 0.0), (2938, 0.0), (2940, 0.0), (2941, 0.0), (2942, 0.0), (2944, 0.0), (2945, 0.0), (2951, 0.0), (2958, 0.0), (2959, 0.0), (2960, 0.0), (2961, 0.0), (2971, 0.0), (2973, 0.0), (2974, 0.0), (2975, 0.0), (2983, 0.0), (2987, 0.0), (2988, 0.0), (2992, 0.0), (2995, 0.0), (2997, 0.0), (2998, 0.0), (2999, 0.0), (3005, 0.0), (3010, 0.0), (3014, 0.0), (3017, 0.0), (3021, 0.0), (3024, 0.0), (3030, 0.0), (3035, 0.0), (3036, 0.0), (3038, 0.0), (3041, 0.0), (3043, 0.0), (3044, 0.0), (3045, 0.0), (3048, 0.0), (3049, 0.0), (3050, 0.0), (3056, 0.0), (3059, 0.0), (3060, 0.0), (3063, 0.0), (3064, 0.0), (3065, 0.0), (3067, 0.0), (3071, 0.0), (3075, 0.0), (3088, 0.0), (3089, 0.0), (3090, 0.0), (3091, 0.0), (3092, 0.0), (3098, 0.0), (3099, 0.0), (3102, 0.0), (3104, 0.0), (3106, 0.0), (3107, 0.0), (3109, 0.0), (3111, 0.0), (3112, 0.0), (3113, 0.0), (3116, 0.0), (3117, 0.0), (3119, 0.0), (3123, 0.0), (3124, 0.0), (3127, 0.0), (3130, 0.0), (3135, 0.0), (3136, 0.0), (3137, 0.0), (3139, 0.0), (3141, 0.0), (3142, 0.0), (3143, 0.0), (3149, 0.0), (3150, 0.0), (3154, 0.0), (3155, 0.0), (3156, 0.0), (3160, 0.0), (3163, 0.0), (3166, 0.0), (3168, 0.0), (3171, 0.0), (3172, 0.0), (3175, 0.0), (3177, 0.0), (3179, 0.0), (3181, 0.0), (3187, 0.0), (3189, 0.0), (3191, 0.0), (3192, 0.0), (3194, 0.0), (3195, 0.0), (3196, 0.0), (3197, 0.0), (3198, 0.0), (3201, 0.0), (3202, 0.0), (3209, 0.0), (3216, 0.0), (3219, 0.0), (3220, 0.0), (3224, 0.0), (3231, 0.0), (3232, 0.0), (3233, 0.0), (3234, 0.0), (3238, 0.0), (3243, 0.0), (3247, 0.0), (3248, 0.0), (3249, 0.0), (3255, 0.0), (3257, 0.0), (3259, 0.0), (3260, 0.0), (3261, 0.0), (3263, 0.0), (3264, 0.0), (3273, 0.0), (3280, 0.0), (3281, 0.0), (3284, 0.0), (3285, 0.0), (3290, 0.0), (3293, 0.0), (3295, 0.0), (3296, 0.0), (3297, 0.0), (3298, 0.0), (3300, 0.0), (3304, 0.0), (3308, 0.0), (3309, 0.0), (3315, 0.0), (3317, 0.0), (3318, 0.0), (3320, 0.0), (3326, 0.0), (3328, 0.0), (3332, 0.0), (3333, 0.0), (3336, 0.0), (3338, 0.0), (3340, 0.0), (3341, 0.0), (3345, 0.0), (3346, 0.0), (3348, 0.0), (3349, 0.0), (3354, 0.0), (3357, 0.0), (3359, 0.0), (3360, 0.0), (3362, 0.0), (3363, 0.0), (3364, 0.0), (3367, 0.0), (3371, 0.0), (3372, 0.0), (3377, 0.0), (3380, 0.0), (3381, 0.0), (3382, 0.0), (3383, 0.0), (3386, 0.0), (3387, 0.0), (3388, 0.0), (3391, 0.0), (3392, 0.0), (3393, 0.0), (3394, 0.0), (3395, 0.0), (3397, 0.0), (3399, 0.0), (3400, 0.0), (3401, 0.0), (3404, 0.0), (3405, 0.0), (3410, 0.0), (3411, 0.0), (3413, 0.0), (3415, 0.0), (3418, 0.0), (3422, 0.0), (3425, 0.0), (3426, 0.0), (3428, 0.0), (3430, 0.0), (3432, 0.0), (3433, 0.0), (3434, 0.0), (3435, 0.0), (3444, 0.0), (3447, 0.0), (3449, 0.0), (3450, 0.0), (3451, 0.0), (3452, 0.0), (3453, 0.0), (3457, 0.0), (3458, 0.0), (3459, 0.0), (3462, 0.0), (3463, 0.0), (3465, 0.0), (3467, 0.0), (3474, 0.0), (3475, 0.0), (3476, 0.0), (3477, 0.0), (3478, 0.0), (3479, 0.0), (3480, 0.0), (3483, 0.0), (3484, 0.0), (3485, 0.0), (3486, 0.0), (3488, 0.0), (3490, 0.0), (3493, 0.0), (3495, 0.0), (3497, 0.0), (3498, 0.0), (3500, 0.0), (3501, 0.0), (3504, 0.0), (3510, 0.0), (3511, 0.0), (3513, 0.0), (3514, 0.0), (3518, 0.0), (3524, 0.0), (3525, 0.0), (3526, 0.0), (3527, 0.0), (3531, 0.0), (3532, 0.0), (3534, 0.0), (3535, 0.0), (3537, 0.0), (3539, 0.0), (3540, 0.0), (3541, 0.0), (3542, 0.0), (3545, 0.0), (3546, 0.0), (3549, 0.0), (3551, 0.0), (3552, 0.0), (3553, 0.0), (3557, 0.0), (3559, 0.0), (3560, 0.0), (3564, 0.0), (3565, 0.0), (3566, 0.0), (3568, 0.0), (3569, 0.0), (3570, 0.0), (3571, 0.0), (3577, 0.0), (3579, 0.0), (3582, 0.0), (3583, 0.0), (3586, 0.0), (3588, 0.0), (3591, 0.0), (3592, 0.0), (3593, 0.0), (3598, 0.0), (3599, 0.0), (3600, 0.0), (3602, 0.0), (3604, 0.0), (3609, 0.0), (3610, 0.0), (3612, 0.0), (3617, 0.0), (3618, 0.0), (3620, 0.0), (3622, 0.0), (3625, 0.0), (3628, 0.0), (3631, 0.0), (3633, 0.0), (3634, 0.0), (3636, 0.0), (3639, 0.0), (3640, 0.0), (3642, 0.0), (3643, 0.0), (3644, 0.0), (3646, 0.0), (3647, 0.0), (3650, 0.0), (3653, 0.0), (3654, 0.0), (3655, 0.0), (3659, 0.0), (3660, 0.0), (3665, 0.0), (3667, 0.0), (3668, 0.0), (3669, 0.0), (3674, 0.0), (3678, 0.0), (3679, 0.0), (3682, 0.0), (3686, 0.0), (3689, 0.0), (3691, 0.0), (3694, 0.0), (3695, 0.0), (3697, 0.0), (3703, 0.0), (3705, 0.0), (3707, 0.0), (3708, 0.0), (3711, 0.0), (3712, 0.0), (3713, 0.0), (3714, 0.0), (3715, 0.0), (3717, 0.0), (3718, 0.0), (3723, 0.0), (3725, 0.0), (3727, 0.0), (3728, 0.0), (3729, 0.0), (3731, 0.0), (3732, 0.0)]\n"
          ]
        }
      ]
    },
    {
      "cell_type": "code",
      "source": [
        "# print the name of similar movies based on the index\n",
        "\n",
        "print('Top 30 Movies Suggested for You :\\ n ')\n",
        "\n",
        "i=1\n",
        "\n",
        "for movie in Sorted_Similar_Movies:\n",
        "   index = movie[0]\n",
        "   title_from_index = df [df.index==index]['Movie_Title'].values[0]\n",
        "   if (i<31):\n",
        "    print(i, '.',title_from_index)\n",
        "    i+=1"
      ],
      "metadata": {
        "id": "FnM9k7sWvi-R",
        "colab": {
          "base_uri": "https://localhost:8080/"
        },
        "outputId": "cbfb31e1-498c-437b-8257-7e4d44253317"
      },
      "execution_count": null,
      "outputs": [
        {
          "output_type": "stream",
          "name": "stdout",
          "text": [
            "Top 30 Movies Suggested for You :\\ n \n",
            "1 . Drive\n",
            "2 . Only God Forgives\n",
            "3 . No Country for Old Men\n",
            "4 . Bronson\n",
            "5 . The Neon Demon\n",
            "6 . Wall Street: Money Never Sleeps\n",
            "7 . The Muse\n",
            "8 . Gangster Squad\n",
            "9 . A Most Violent Year\n",
            "10 . Red Tails\n",
            "11 . Kung Fu Panda 3\n",
            "12 . Larry Crowne\n",
            "13 . Detention of the Dead\n",
            "14 . Argo\n",
            "15 . The Infiltrator\n",
            "16 . Never Let Me Go\n",
            "17 . An Education\n",
            "18 . The Great Gatsby\n",
            "19 . The Brothers McMullen\n",
            "20 . Evil Dead II\n",
            "21 . Bodyguards and Assassins\n",
            "22 . Smokin' Aces\n",
            "23 . Half Nelson\n",
            "24 . Finding Nemo\n",
            "25 . Irreversible\n",
            "26 . The Net\n",
            "27 . The Big Short\n",
            "28 . Concussion\n",
            "29 . The Little Vampire\n",
            "30 . Crazy, Stupid, Love.\n"
          ]
        }
      ]
    },
    {
      "cell_type": "markdown",
      "source": [
        "# **Top 10 Movies Recommended Based on Your Favorite Movie**\n"
      ],
      "metadata": {
        "id": "f3WmuvMQyHUg"
      }
    },
    {
      "cell_type": "code",
      "source": [
        "import difflib\n",
        "\n",
        "Movie_Name = input('Enter your favorite movie name: ')\n",
        "\n",
        "list_of_all_titles = df['Movie_Title'].tolist()\n",
        "\n",
        "# Find close matches to the input movie name\n",
        "close_matches = difflib.get_close_matches(Movie_Name, list_of_all_titles)\n",
        "\n",
        "if close_matches:\n",
        "    closest_match = close_matches[0]  # Get the closest match\n",
        "    Index_of_Movie = df[df.Movie_Title == closest_match]['Movie_ID'].values[0]\n",
        "\n",
        "    Recommendation_Score = list(enumerate(Similarity_Score[Index_of_Movie]))\n",
        "\n",
        "    sorted_similar_movies = sorted(Recommendation_Score, key=lambda x: x[1], reverse=True)\n",
        "\n",
        "    print('Top 10 Movies suggested for you: \\n')\n",
        "\n",
        "    i = 1\n",
        "\n",
        "    for movie in sorted_similar_movies:\n",
        "        index = movie[0]\n",
        "        if index < len(df):\n",
        "            title_from_index = df[df.Movie_ID == index]['Movie_Title'].values[0]\n",
        "            print(i, '.', title_from_index)\n",
        "            i += 1\n",
        "        else:\n",
        "            print(\"Invalid index:\", index)\n",
        "\n",
        "        if i > 10:\n",
        "            break\n",
        "else:\n",
        "    print('No close matches found for the entered movie name.')\n"
      ],
      "metadata": {
        "id": "dzYW8eWH0tKP",
        "colab": {
          "base_uri": "https://localhost:8080/"
        },
        "outputId": "550711f5-a3bd-4a39-e5fb-b2abbafbc023"
      },
      "execution_count": null,
      "outputs": [
        {
          "output_type": "stream",
          "name": "stdout",
          "text": [
            "Enter your favorite movie name: harry potter\n",
            "Top 10 Movies suggested for you: \n",
            "\n",
            "1 . Party Monster\n",
            "2 . The Blair Witch Project\n",
            "3 . The Doors\n",
            "4 . Moby Dick\n",
            "5 . Alfie\n",
            "6 . Run, Fatboy, Run\n",
            "7 . The Replacements\n",
            "8 . A Hard Day's Night\n",
            "9 . Darkness Falls\n",
            "10 . The Animal\n"
          ]
        }
      ]
    }
  ]
}