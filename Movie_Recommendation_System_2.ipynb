{
  "nbformat": 4,
  "nbformat_minor": 0,
  "metadata": {
    "colab": {
      "provenance": []
    },
    "kernelspec": {
      "name": "python3",
      "display_name": "Python 3"
    },
    "language_info": {
      "name": "python"
    }
  },
  "cells": [
    {
      "cell_type": "code",
      "source": [
        "from google.colab import drive\n",
        "drive.mount('/content/drive')"
      ],
      "metadata": {
        "colab": {
          "base_uri": "https://localhost:8080/"
        },
        "id": "p-3zPJgHGtCR",
        "outputId": "6edbfa8c-287c-4f4a-e482-9429f79447e6"
      },
      "execution_count": 16,
      "outputs": [
        {
          "output_type": "stream",
          "name": "stdout",
          "text": [
            "Drive already mounted at /content/drive; to attempt to forcibly remount, call drive.mount(\"/content/drive\", force_remount=True).\n"
          ]
        }
      ]
    },
    {
      "cell_type": "markdown",
      "source": [
        "# **Import Libraries**"
      ],
      "metadata": {
        "id": "lrrTejf17Sso"
      }
    },
    {
      "cell_type": "code",
      "source": [
        "import pandas as pd\n",
        "import numpy as np\n",
        "import re\n",
        "import nltk\n",
        "from nltk.corpus import stopwords\n",
        "from sklearn.model_selection import train_test_split\n",
        "from sklearn.feature_extraction.text import TfidfVectorizer\n",
        "from sklearn.naive_bayes import MultinomialNB\n",
        "from sklearn.metrics import accuracy_score, classification_report\n",
        "from sklearn.ensemble import RandomForestClassifier\n",
        "from sklearn.svm import SVC"
      ],
      "metadata": {
        "id": "X2iMQVMPhmAA"
      },
      "execution_count": 17,
      "outputs": []
    },
    {
      "cell_type": "markdown",
      "source": [
        "# **Import Dataset**"
      ],
      "metadata": {
        "id": "WTYn0slB7nY-"
      }
    },
    {
      "cell_type": "code",
      "source": [
        "df = pd.read_csv('/content/drive/MyDrive/cleaned.csv')"
      ],
      "metadata": {
        "id": "faGi8sq3i990"
      },
      "execution_count": 18,
      "outputs": []
    },
    {
      "cell_type": "code",
      "source": [
        "df.head()"
      ],
      "metadata": {
        "colab": {
          "base_uri": "https://localhost:8080/",
          "height": 642
        },
        "id": "OMgLoAiw7tG8",
        "outputId": "b917924d-d684-464f-e601-d4dba7d2f645"
      },
      "execution_count": 19,
      "outputs": [
        {
          "output_type": "execute_result",
          "data": {
            "text/plain": [
              "   Movie_ID      Movie_Title                       Movie_Genre Movie_Language  \\\n",
              "0         1       Four Rooms                      Crime Comedy             en   \n",
              "1         2        Star Wars  Adventure Action Science Fiction             en   \n",
              "2         3     Finding Nemo                  Animation Family             en   \n",
              "3         4     Forrest Gump              Comedy Drama Romance             en   \n",
              "4         5  American Beauty                             Drama             en   \n",
              "\n",
              "   Movie_Budget  Movie_Popularity Movie_Release_Date  Movie_Revenue  \\\n",
              "0       4000000         22.876230         1995-12-09        4300000   \n",
              "1      11000000        126.393695         1977-05-25      775398007   \n",
              "2      94000000         85.688789         2003-05-30      940335536   \n",
              "3      55000000        138.133331         1994-07-06      677945399   \n",
              "4      15000000         80.878605         1999-09-15      356296601   \n",
              "\n",
              "   Movie_Runtime  Movie_Vote  Movie_Vote_Count  \\\n",
              "0           98.0         6.5               530   \n",
              "1          121.0         8.1              6624   \n",
              "2          100.0         7.6              6122   \n",
              "3          142.0         8.2              7927   \n",
              "4          122.0         7.9              3313   \n",
              "\n",
              "                                      Movie_Keywords  \\\n",
              "0          hotel new year's eve witch bet hotel room   \n",
              "1        android galaxy hermit death star lightsaber   \n",
              "2  father son relationship harbor underwater fish...   \n",
              "3  vietnam veteran hippie mentally disabled runni...   \n",
              "4  male nudity female nudity adultery midlife cri...   \n",
              "\n",
              "                                      Movie_Overview  \\\n",
              "0  It's Ted the Bellhop's first night on the job....   \n",
              "1  Princess Leia is captured and held hostage by ...   \n",
              "2  Nemo, an adventurous young clownfish, is unexp...   \n",
              "3  A man with a low IQ has accomplished great thi...   \n",
              "4  Lester Burnham, a depressed suburban father in...   \n",
              "\n",
              "                                       Movie_Tagline  \\\n",
              "0  Twelve outrageous guests. Four scandalous requ...   \n",
              "1       A long time ago in a galaxy far, far away...   \n",
              "2  There are 3.7 trillion fish in the ocean, they...   \n",
              "3  The world will never be the same, once you've ...   \n",
              "4                                       Look closer.   \n",
              "\n",
              "                                          Movie_Cast   Movie_Director  \n",
              "0  Tim Roth Antonio Banderas Jennifer Beals Madon...   Allison Anders  \n",
              "1  Mark Hamill Harrison Ford Carrie Fisher Peter ...     George Lucas  \n",
              "2  Albert Brooks Ellen DeGeneres Alexander Gould ...   Andrew Stanton  \n",
              "3  Tom Hanks Robin Wright Gary Sinise Mykelti Wil...  Robert Zemeckis  \n",
              "4  Kevin Spacey Annette Bening Thora Birch Wes Be...       Sam Mendes  "
            ],
            "text/html": [
              "\n",
              "  <div id=\"df-c6018d56-c231-4687-b8cd-ad1b423306b2\" class=\"colab-df-container\">\n",
              "    <div>\n",
              "<style scoped>\n",
              "    .dataframe tbody tr th:only-of-type {\n",
              "        vertical-align: middle;\n",
              "    }\n",
              "\n",
              "    .dataframe tbody tr th {\n",
              "        vertical-align: top;\n",
              "    }\n",
              "\n",
              "    .dataframe thead th {\n",
              "        text-align: right;\n",
              "    }\n",
              "</style>\n",
              "<table border=\"1\" class=\"dataframe\">\n",
              "  <thead>\n",
              "    <tr style=\"text-align: right;\">\n",
              "      <th></th>\n",
              "      <th>Movie_ID</th>\n",
              "      <th>Movie_Title</th>\n",
              "      <th>Movie_Genre</th>\n",
              "      <th>Movie_Language</th>\n",
              "      <th>Movie_Budget</th>\n",
              "      <th>Movie_Popularity</th>\n",
              "      <th>Movie_Release_Date</th>\n",
              "      <th>Movie_Revenue</th>\n",
              "      <th>Movie_Runtime</th>\n",
              "      <th>Movie_Vote</th>\n",
              "      <th>Movie_Vote_Count</th>\n",
              "      <th>Movie_Keywords</th>\n",
              "      <th>Movie_Overview</th>\n",
              "      <th>Movie_Tagline</th>\n",
              "      <th>Movie_Cast</th>\n",
              "      <th>Movie_Director</th>\n",
              "    </tr>\n",
              "  </thead>\n",
              "  <tbody>\n",
              "    <tr>\n",
              "      <th>0</th>\n",
              "      <td>1</td>\n",
              "      <td>Four Rooms</td>\n",
              "      <td>Crime Comedy</td>\n",
              "      <td>en</td>\n",
              "      <td>4000000</td>\n",
              "      <td>22.876230</td>\n",
              "      <td>1995-12-09</td>\n",
              "      <td>4300000</td>\n",
              "      <td>98.0</td>\n",
              "      <td>6.5</td>\n",
              "      <td>530</td>\n",
              "      <td>hotel new year's eve witch bet hotel room</td>\n",
              "      <td>It's Ted the Bellhop's first night on the job....</td>\n",
              "      <td>Twelve outrageous guests. Four scandalous requ...</td>\n",
              "      <td>Tim Roth Antonio Banderas Jennifer Beals Madon...</td>\n",
              "      <td>Allison Anders</td>\n",
              "    </tr>\n",
              "    <tr>\n",
              "      <th>1</th>\n",
              "      <td>2</td>\n",
              "      <td>Star Wars</td>\n",
              "      <td>Adventure Action Science Fiction</td>\n",
              "      <td>en</td>\n",
              "      <td>11000000</td>\n",
              "      <td>126.393695</td>\n",
              "      <td>1977-05-25</td>\n",
              "      <td>775398007</td>\n",
              "      <td>121.0</td>\n",
              "      <td>8.1</td>\n",
              "      <td>6624</td>\n",
              "      <td>android galaxy hermit death star lightsaber</td>\n",
              "      <td>Princess Leia is captured and held hostage by ...</td>\n",
              "      <td>A long time ago in a galaxy far, far away...</td>\n",
              "      <td>Mark Hamill Harrison Ford Carrie Fisher Peter ...</td>\n",
              "      <td>George Lucas</td>\n",
              "    </tr>\n",
              "    <tr>\n",
              "      <th>2</th>\n",
              "      <td>3</td>\n",
              "      <td>Finding Nemo</td>\n",
              "      <td>Animation Family</td>\n",
              "      <td>en</td>\n",
              "      <td>94000000</td>\n",
              "      <td>85.688789</td>\n",
              "      <td>2003-05-30</td>\n",
              "      <td>940335536</td>\n",
              "      <td>100.0</td>\n",
              "      <td>7.6</td>\n",
              "      <td>6122</td>\n",
              "      <td>father son relationship harbor underwater fish...</td>\n",
              "      <td>Nemo, an adventurous young clownfish, is unexp...</td>\n",
              "      <td>There are 3.7 trillion fish in the ocean, they...</td>\n",
              "      <td>Albert Brooks Ellen DeGeneres Alexander Gould ...</td>\n",
              "      <td>Andrew Stanton</td>\n",
              "    </tr>\n",
              "    <tr>\n",
              "      <th>3</th>\n",
              "      <td>4</td>\n",
              "      <td>Forrest Gump</td>\n",
              "      <td>Comedy Drama Romance</td>\n",
              "      <td>en</td>\n",
              "      <td>55000000</td>\n",
              "      <td>138.133331</td>\n",
              "      <td>1994-07-06</td>\n",
              "      <td>677945399</td>\n",
              "      <td>142.0</td>\n",
              "      <td>8.2</td>\n",
              "      <td>7927</td>\n",
              "      <td>vietnam veteran hippie mentally disabled runni...</td>\n",
              "      <td>A man with a low IQ has accomplished great thi...</td>\n",
              "      <td>The world will never be the same, once you've ...</td>\n",
              "      <td>Tom Hanks Robin Wright Gary Sinise Mykelti Wil...</td>\n",
              "      <td>Robert Zemeckis</td>\n",
              "    </tr>\n",
              "    <tr>\n",
              "      <th>4</th>\n",
              "      <td>5</td>\n",
              "      <td>American Beauty</td>\n",
              "      <td>Drama</td>\n",
              "      <td>en</td>\n",
              "      <td>15000000</td>\n",
              "      <td>80.878605</td>\n",
              "      <td>1999-09-15</td>\n",
              "      <td>356296601</td>\n",
              "      <td>122.0</td>\n",
              "      <td>7.9</td>\n",
              "      <td>3313</td>\n",
              "      <td>male nudity female nudity adultery midlife cri...</td>\n",
              "      <td>Lester Burnham, a depressed suburban father in...</td>\n",
              "      <td>Look closer.</td>\n",
              "      <td>Kevin Spacey Annette Bening Thora Birch Wes Be...</td>\n",
              "      <td>Sam Mendes</td>\n",
              "    </tr>\n",
              "  </tbody>\n",
              "</table>\n",
              "</div>\n",
              "    <div class=\"colab-df-buttons\">\n",
              "\n",
              "  <div class=\"colab-df-container\">\n",
              "    <button class=\"colab-df-convert\" onclick=\"convertToInteractive('df-c6018d56-c231-4687-b8cd-ad1b423306b2')\"\n",
              "            title=\"Convert this dataframe to an interactive table.\"\n",
              "            style=\"display:none;\">\n",
              "\n",
              "  <svg xmlns=\"http://www.w3.org/2000/svg\" height=\"24px\" viewBox=\"0 -960 960 960\">\n",
              "    <path d=\"M120-120v-720h720v720H120Zm60-500h600v-160H180v160Zm220 220h160v-160H400v160Zm0 220h160v-160H400v160ZM180-400h160v-160H180v160Zm440 0h160v-160H620v160ZM180-180h160v-160H180v160Zm440 0h160v-160H620v160Z\"/>\n",
              "  </svg>\n",
              "    </button>\n",
              "\n",
              "  <style>\n",
              "    .colab-df-container {\n",
              "      display:flex;\n",
              "      gap: 12px;\n",
              "    }\n",
              "\n",
              "    .colab-df-convert {\n",
              "      background-color: #E8F0FE;\n",
              "      border: none;\n",
              "      border-radius: 50%;\n",
              "      cursor: pointer;\n",
              "      display: none;\n",
              "      fill: #1967D2;\n",
              "      height: 32px;\n",
              "      padding: 0 0 0 0;\n",
              "      width: 32px;\n",
              "    }\n",
              "\n",
              "    .colab-df-convert:hover {\n",
              "      background-color: #E2EBFA;\n",
              "      box-shadow: 0px 1px 2px rgba(60, 64, 67, 0.3), 0px 1px 3px 1px rgba(60, 64, 67, 0.15);\n",
              "      fill: #174EA6;\n",
              "    }\n",
              "\n",
              "    .colab-df-buttons div {\n",
              "      margin-bottom: 4px;\n",
              "    }\n",
              "\n",
              "    [theme=dark] .colab-df-convert {\n",
              "      background-color: #3B4455;\n",
              "      fill: #D2E3FC;\n",
              "    }\n",
              "\n",
              "    [theme=dark] .colab-df-convert:hover {\n",
              "      background-color: #434B5C;\n",
              "      box-shadow: 0px 1px 3px 1px rgba(0, 0, 0, 0.15);\n",
              "      filter: drop-shadow(0px 1px 2px rgba(0, 0, 0, 0.3));\n",
              "      fill: #FFFFFF;\n",
              "    }\n",
              "  </style>\n",
              "\n",
              "    <script>\n",
              "      const buttonEl =\n",
              "        document.querySelector('#df-c6018d56-c231-4687-b8cd-ad1b423306b2 button.colab-df-convert');\n",
              "      buttonEl.style.display =\n",
              "        google.colab.kernel.accessAllowed ? 'block' : 'none';\n",
              "\n",
              "      async function convertToInteractive(key) {\n",
              "        const element = document.querySelector('#df-c6018d56-c231-4687-b8cd-ad1b423306b2');\n",
              "        const dataTable =\n",
              "          await google.colab.kernel.invokeFunction('convertToInteractive',\n",
              "                                                    [key], {});\n",
              "        if (!dataTable) return;\n",
              "\n",
              "        const docLinkHtml = 'Like what you see? Visit the ' +\n",
              "          '<a target=\"_blank\" href=https://colab.research.google.com/notebooks/data_table.ipynb>data table notebook</a>'\n",
              "          + ' to learn more about interactive tables.';\n",
              "        element.innerHTML = '';\n",
              "        dataTable['output_type'] = 'display_data';\n",
              "        await google.colab.output.renderOutput(dataTable, element);\n",
              "        const docLink = document.createElement('div');\n",
              "        docLink.innerHTML = docLinkHtml;\n",
              "        element.appendChild(docLink);\n",
              "      }\n",
              "    </script>\n",
              "  </div>\n",
              "\n",
              "\n",
              "<div id=\"df-119a5dba-310f-46e5-ae36-1805b673b660\">\n",
              "  <button class=\"colab-df-quickchart\" onclick=\"quickchart('df-119a5dba-310f-46e5-ae36-1805b673b660')\"\n",
              "            title=\"Suggest charts\"\n",
              "            style=\"display:none;\">\n",
              "\n",
              "<svg xmlns=\"http://www.w3.org/2000/svg\" height=\"24px\"viewBox=\"0 0 24 24\"\n",
              "     width=\"24px\">\n",
              "    <g>\n",
              "        <path d=\"M19 3H5c-1.1 0-2 .9-2 2v14c0 1.1.9 2 2 2h14c1.1 0 2-.9 2-2V5c0-1.1-.9-2-2-2zM9 17H7v-7h2v7zm4 0h-2V7h2v10zm4 0h-2v-4h2v4z\"/>\n",
              "    </g>\n",
              "</svg>\n",
              "  </button>\n",
              "\n",
              "<style>\n",
              "  .colab-df-quickchart {\n",
              "      --bg-color: #E8F0FE;\n",
              "      --fill-color: #1967D2;\n",
              "      --hover-bg-color: #E2EBFA;\n",
              "      --hover-fill-color: #174EA6;\n",
              "      --disabled-fill-color: #AAA;\n",
              "      --disabled-bg-color: #DDD;\n",
              "  }\n",
              "\n",
              "  [theme=dark] .colab-df-quickchart {\n",
              "      --bg-color: #3B4455;\n",
              "      --fill-color: #D2E3FC;\n",
              "      --hover-bg-color: #434B5C;\n",
              "      --hover-fill-color: #FFFFFF;\n",
              "      --disabled-bg-color: #3B4455;\n",
              "      --disabled-fill-color: #666;\n",
              "  }\n",
              "\n",
              "  .colab-df-quickchart {\n",
              "    background-color: var(--bg-color);\n",
              "    border: none;\n",
              "    border-radius: 50%;\n",
              "    cursor: pointer;\n",
              "    display: none;\n",
              "    fill: var(--fill-color);\n",
              "    height: 32px;\n",
              "    padding: 0;\n",
              "    width: 32px;\n",
              "  }\n",
              "\n",
              "  .colab-df-quickchart:hover {\n",
              "    background-color: var(--hover-bg-color);\n",
              "    box-shadow: 0 1px 2px rgba(60, 64, 67, 0.3), 0 1px 3px 1px rgba(60, 64, 67, 0.15);\n",
              "    fill: var(--button-hover-fill-color);\n",
              "  }\n",
              "\n",
              "  .colab-df-quickchart-complete:disabled,\n",
              "  .colab-df-quickchart-complete:disabled:hover {\n",
              "    background-color: var(--disabled-bg-color);\n",
              "    fill: var(--disabled-fill-color);\n",
              "    box-shadow: none;\n",
              "  }\n",
              "\n",
              "  .colab-df-spinner {\n",
              "    border: 2px solid var(--fill-color);\n",
              "    border-color: transparent;\n",
              "    border-bottom-color: var(--fill-color);\n",
              "    animation:\n",
              "      spin 1s steps(1) infinite;\n",
              "  }\n",
              "\n",
              "  @keyframes spin {\n",
              "    0% {\n",
              "      border-color: transparent;\n",
              "      border-bottom-color: var(--fill-color);\n",
              "      border-left-color: var(--fill-color);\n",
              "    }\n",
              "    20% {\n",
              "      border-color: transparent;\n",
              "      border-left-color: var(--fill-color);\n",
              "      border-top-color: var(--fill-color);\n",
              "    }\n",
              "    30% {\n",
              "      border-color: transparent;\n",
              "      border-left-color: var(--fill-color);\n",
              "      border-top-color: var(--fill-color);\n",
              "      border-right-color: var(--fill-color);\n",
              "    }\n",
              "    40% {\n",
              "      border-color: transparent;\n",
              "      border-right-color: var(--fill-color);\n",
              "      border-top-color: var(--fill-color);\n",
              "    }\n",
              "    60% {\n",
              "      border-color: transparent;\n",
              "      border-right-color: var(--fill-color);\n",
              "    }\n",
              "    80% {\n",
              "      border-color: transparent;\n",
              "      border-right-color: var(--fill-color);\n",
              "      border-bottom-color: var(--fill-color);\n",
              "    }\n",
              "    90% {\n",
              "      border-color: transparent;\n",
              "      border-bottom-color: var(--fill-color);\n",
              "    }\n",
              "  }\n",
              "</style>\n",
              "\n",
              "  <script>\n",
              "    async function quickchart(key) {\n",
              "      const quickchartButtonEl =\n",
              "        document.querySelector('#' + key + ' button');\n",
              "      quickchartButtonEl.disabled = true;  // To prevent multiple clicks.\n",
              "      quickchartButtonEl.classList.add('colab-df-spinner');\n",
              "      try {\n",
              "        const charts = await google.colab.kernel.invokeFunction(\n",
              "            'suggestCharts', [key], {});\n",
              "      } catch (error) {\n",
              "        console.error('Error during call to suggestCharts:', error);\n",
              "      }\n",
              "      quickchartButtonEl.classList.remove('colab-df-spinner');\n",
              "      quickchartButtonEl.classList.add('colab-df-quickchart-complete');\n",
              "    }\n",
              "    (() => {\n",
              "      let quickchartButtonEl =\n",
              "        document.querySelector('#df-119a5dba-310f-46e5-ae36-1805b673b660 button');\n",
              "      quickchartButtonEl.style.display =\n",
              "        google.colab.kernel.accessAllowed ? 'block' : 'none';\n",
              "    })();\n",
              "  </script>\n",
              "</div>\n",
              "\n",
              "    </div>\n",
              "  </div>\n"
            ],
            "application/vnd.google.colaboratory.intrinsic+json": {
              "type": "dataframe",
              "variable_name": "df",
              "summary": "{\n  \"name\": \"df\",\n  \"rows\": 3736,\n  \"fields\": [\n    {\n      \"column\": \"Movie_ID\",\n      \"properties\": {\n        \"dtype\": \"number\",\n        \"std\": 1370,\n        \"min\": 1,\n        \"max\": 4786,\n        \"num_unique_values\": 3736,\n        \"samples\": [\n          4019,\n          4216,\n          1679\n        ],\n        \"semantic_type\": \"\",\n        \"description\": \"\"\n      }\n    },\n    {\n      \"column\": \"Movie_Title\",\n      \"properties\": {\n        \"dtype\": \"string\",\n        \"num_unique_values\": 3733,\n        \"samples\": [\n          \"Black Knight\",\n          \"I Love You, Don't Touch Me!\",\n          \"Body Double\"\n        ],\n        \"semantic_type\": \"\",\n        \"description\": \"\"\n      }\n    },\n    {\n      \"column\": \"Movie_Genre\",\n      \"properties\": {\n        \"dtype\": \"category\",\n        \"num_unique_values\": 1018,\n        \"samples\": [\n          \"Drama Family Romance Music\",\n          \"Thriller Action Drama Crime\",\n          \"Action Adventure Crime Mystery\"\n        ],\n        \"semantic_type\": \"\",\n        \"description\": \"\"\n      }\n    },\n    {\n      \"column\": \"Movie_Language\",\n      \"properties\": {\n        \"dtype\": \"category\",\n        \"num_unique_values\": 29,\n        \"samples\": [\n          \"ta\",\n          \"cn\",\n          \"ro\"\n        ],\n        \"semantic_type\": \"\",\n        \"description\": \"\"\n      }\n    },\n    {\n      \"column\": \"Movie_Budget\",\n      \"properties\": {\n        \"dtype\": \"number\",\n        \"std\": 42972746,\n        \"min\": 0,\n        \"max\": 380000000,\n        \"num_unique_values\": 386,\n        \"samples\": [\n          1400000,\n          3950000,\n          45000000\n        ],\n        \"semantic_type\": \"\",\n        \"description\": \"\"\n      }\n    },\n    {\n      \"column\": \"Movie_Popularity\",\n      \"properties\": {\n        \"dtype\": \"number\",\n        \"std\": 33.819923204138945,\n        \"min\": 0.001117,\n        \"max\": 875.581305,\n        \"num_unique_values\": 3735,\n        \"samples\": [\n          0.289433,\n          0.020839,\n          13.661289\n        ],\n        \"semantic_type\": \"\",\n        \"description\": \"\"\n      }\n    },\n    {\n      \"column\": \"Movie_Release_Date\",\n      \"properties\": {\n        \"dtype\": \"object\",\n        \"num_unique_values\": 2786,\n        \"samples\": [\n          \"2010-12-11\",\n          \"2016-01-07\",\n          \"1953-08-04\"\n        ],\n        \"semantic_type\": \"\",\n        \"description\": \"\"\n      }\n    },\n    {\n      \"column\": \"Movie_Revenue\",\n      \"properties\": {\n        \"dtype\": \"number\",\n        \"std\": 175255993,\n        \"min\": 0,\n        \"max\": 2787965087,\n        \"num_unique_values\": 2947,\n        \"samples\": [\n          1185783,\n          6538177,\n          1431623\n        ],\n        \"semantic_type\": \"\",\n        \"description\": \"\"\n      }\n    },\n    {\n      \"column\": \"Movie_Runtime\",\n      \"properties\": {\n        \"dtype\": \"number\",\n        \"std\": 20.542265009984604,\n        \"min\": 0.0,\n        \"max\": 338.0,\n        \"num_unique_values\": 140,\n        \"samples\": [\n          167.0,\n          138.0,\n          118.0\n        ],\n        \"semantic_type\": \"\",\n        \"description\": \"\"\n      }\n    },\n    {\n      \"column\": \"Movie_Vote\",\n      \"properties\": {\n        \"dtype\": \"number\",\n        \"std\": 0.9268425996319376,\n        \"min\": 0.0,\n        \"max\": 10.0,\n        \"num_unique_values\": 65,\n        \"samples\": [\n          3.1,\n          2.3,\n          6.5\n        ],\n        \"semantic_type\": \"\",\n        \"description\": \"\"\n      }\n    },\n    {\n      \"column\": \"Movie_Vote_Count\",\n      \"properties\": {\n        \"dtype\": \"number\",\n        \"std\": 1326,\n        \"min\": 0,\n        \"max\": 13752,\n        \"num_unique_values\": 1575,\n        \"samples\": [\n          1685,\n          545,\n          11800\n        ],\n        \"semantic_type\": \"\",\n        \"description\": \"\"\n      }\n    },\n    {\n      \"column\": \"Movie_Keywords\",\n      \"properties\": {\n        \"dtype\": \"string\",\n        \"num_unique_values\": 3651,\n        \"samples\": [\n          \"camping summer camp gore slasher b horror\",\n          \"difficult childhood psychoterror murder loneliness artificial\",\n          \"washington d.c. rape cia usa president war veteran\"\n        ],\n        \"semantic_type\": \"\",\n        \"description\": \"\"\n      }\n    },\n    {\n      \"column\": \"Movie_Overview\",\n      \"properties\": {\n        \"dtype\": \"string\",\n        \"num_unique_values\": 3736,\n        \"samples\": [\n          \"Caroline is to be wed to Sir Ralph and invites her sister Barbara to be her bridesmaid. Barbara seduces Ralph, however, and she becomes the new Lady, but despite her new wealthy situation, she gets bored and turns to highway robbery for thrills. While on the road she meets a famous highwayman, and they continue as a team, but some people begin suspecting her identity, and she risks death if she continues her nefarious activities.\",\n          \"A pro ball player with a substance abuse problem is forced into rehab in his hometown, finding new hope when he gets honest about his checkered past, and takes on coaching duties for a misfit Little League team\",\n          \"A DEA agent provides former Marine Tim Kearney with a way out of his prison sentence: impersonate Bobby Z, a recently deceased drug dealer, in a hostage switch with a crime lord. When the negotiations go awry, Kearney flees, with Z's son in tow.\"\n        ],\n        \"semantic_type\": \"\",\n        \"description\": \"\"\n      }\n    },\n    {\n      \"column\": \"Movie_Tagline\",\n      \"properties\": {\n        \"dtype\": \"string\",\n        \"num_unique_values\": 3722,\n        \"samples\": [\n          \"Dave Spritz is about to take his best shot . . . at life\",\n          \"Act like a criminal to catch a criminal.\",\n          \"Not all girls want to play with dolls.\"\n        ],\n        \"semantic_type\": \"\",\n        \"description\": \"\"\n      }\n    },\n    {\n      \"column\": \"Movie_Cast\",\n      \"properties\": {\n        \"dtype\": \"string\",\n        \"num_unique_values\": 3721,\n        \"samples\": [\n          \"Sean Maguire Carmen Electra Ken Davitian Kevin Sorbo Diedrich Bader\",\n          \"Michael Fassbender Kodi Smit-McPhee Ben Mendelsohn Caren Pistorius Rory McCann\",\n          \"Michael Angarano Kurt Russell Kelly Preston Danielle Panabaker Kevin Heffernan\"\n        ],\n        \"semantic_type\": \"\",\n        \"description\": \"\"\n      }\n    },\n    {\n      \"column\": \"Movie_Director\",\n      \"properties\": {\n        \"dtype\": \"category\",\n        \"num_unique_values\": 1747,\n        \"samples\": [\n          \"Christian Sesma\",\n          \"Mike Disa\",\n          \"Hugh Hudson\"\n        ],\n        \"semantic_type\": \"\",\n        \"description\": \"\"\n      }\n    }\n  ]\n}"
            }
          },
          "metadata": {},
          "execution_count": 19
        }
      ]
    },
    {
      "cell_type": "code",
      "source": [
        "df.info()"
      ],
      "metadata": {
        "colab": {
          "base_uri": "https://localhost:8080/"
        },
        "id": "6kaMuKi870HW",
        "outputId": "aa2bc948-414d-4e9f-eea1-690f7d82ed96"
      },
      "execution_count": 20,
      "outputs": [
        {
          "output_type": "stream",
          "name": "stdout",
          "text": [
            "<class 'pandas.core.frame.DataFrame'>\n",
            "RangeIndex: 3736 entries, 0 to 3735\n",
            "Data columns (total 16 columns):\n",
            " #   Column              Non-Null Count  Dtype  \n",
            "---  ------              --------------  -----  \n",
            " 0   Movie_ID            3736 non-null   int64  \n",
            " 1   Movie_Title         3736 non-null   object \n",
            " 2   Movie_Genre         3736 non-null   object \n",
            " 3   Movie_Language      3736 non-null   object \n",
            " 4   Movie_Budget        3736 non-null   int64  \n",
            " 5   Movie_Popularity    3736 non-null   float64\n",
            " 6   Movie_Release_Date  3736 non-null   object \n",
            " 7   Movie_Revenue       3736 non-null   int64  \n",
            " 8   Movie_Runtime       3736 non-null   float64\n",
            " 9   Movie_Vote          3736 non-null   float64\n",
            " 10  Movie_Vote_Count    3736 non-null   int64  \n",
            " 11  Movie_Keywords      3736 non-null   object \n",
            " 12  Movie_Overview      3736 non-null   object \n",
            " 13  Movie_Tagline       3736 non-null   object \n",
            " 14  Movie_Cast          3736 non-null   object \n",
            " 15  Movie_Director      3736 non-null   object \n",
            "dtypes: float64(3), int64(4), object(9)\n",
            "memory usage: 467.1+ KB\n"
          ]
        }
      ]
    },
    {
      "cell_type": "code",
      "source": [
        "df.shape"
      ],
      "metadata": {
        "colab": {
          "base_uri": "https://localhost:8080/"
        },
        "id": "CSrojM8U74QK",
        "outputId": "fae9d953-d77e-4e82-d6ee-f5226b3f65b2"
      },
      "execution_count": 21,
      "outputs": [
        {
          "output_type": "execute_result",
          "data": {
            "text/plain": [
              "(3736, 16)"
            ]
          },
          "metadata": {},
          "execution_count": 21
        }
      ]
    },
    {
      "cell_type": "code",
      "source": [
        "df.columns"
      ],
      "metadata": {
        "colab": {
          "base_uri": "https://localhost:8080/"
        },
        "id": "eeDm-5Vr761m",
        "outputId": "1d17b51e-ac50-42a2-d7d9-fe9612ad28fd"
      },
      "execution_count": 22,
      "outputs": [
        {
          "output_type": "execute_result",
          "data": {
            "text/plain": [
              "Index(['Movie_ID', 'Movie_Title', 'Movie_Genre', 'Movie_Language',\n",
              "       'Movie_Budget', 'Movie_Popularity', 'Movie_Release_Date',\n",
              "       'Movie_Revenue', 'Movie_Runtime', 'Movie_Vote', 'Movie_Vote_Count',\n",
              "       'Movie_Keywords', 'Movie_Overview', 'Movie_Tagline', 'Movie_Cast',\n",
              "       'Movie_Director'],\n",
              "      dtype='object')"
            ]
          },
          "metadata": {},
          "execution_count": 22
        }
      ]
    },
    {
      "cell_type": "code",
      "source": [
        "# Select the relevant columns\n",
        "df[['Movie_Overview', 'Movie_Vote']]"
      ],
      "metadata": {
        "colab": {
          "base_uri": "https://localhost:8080/",
          "height": 423
        },
        "id": "GLMcFS8ZnFnY",
        "outputId": "3b0686fc-d2c2-4696-c304-8a57b9a3d1ff"
      },
      "execution_count": 23,
      "outputs": [
        {
          "output_type": "execute_result",
          "data": {
            "text/plain": [
              "                                         Movie_Overview  Movie_Vote\n",
              "0     It's Ted the Bellhop's first night on the job....         6.5\n",
              "1     Princess Leia is captured and held hostage by ...         8.1\n",
              "2     Nemo, an adventurous young clownfish, is unexp...         7.6\n",
              "3     A man with a low IQ has accomplished great thi...         8.2\n",
              "4     Lester Burnham, a depressed suburban father in...         7.9\n",
              "...                                                 ...         ...\n",
              "3731  When his hard-earned kicks get snatched by a l...         7.5\n",
              "3732  Sara Gold is a young girl on a quest to save m...         5.3\n",
              "3733  A squad of soldiers fight in the Korean War's ...         5.8\n",
              "3734  Long before he even met Shrek, the notorious f...         6.4\n",
              "3735  After sneaking to a party with her friends, 16...         0.0\n",
              "\n",
              "[3736 rows x 2 columns]"
            ],
            "text/html": [
              "\n",
              "  <div id=\"df-4ff8d34a-b2d5-40e2-ba2f-227277715b2c\" class=\"colab-df-container\">\n",
              "    <div>\n",
              "<style scoped>\n",
              "    .dataframe tbody tr th:only-of-type {\n",
              "        vertical-align: middle;\n",
              "    }\n",
              "\n",
              "    .dataframe tbody tr th {\n",
              "        vertical-align: top;\n",
              "    }\n",
              "\n",
              "    .dataframe thead th {\n",
              "        text-align: right;\n",
              "    }\n",
              "</style>\n",
              "<table border=\"1\" class=\"dataframe\">\n",
              "  <thead>\n",
              "    <tr style=\"text-align: right;\">\n",
              "      <th></th>\n",
              "      <th>Movie_Overview</th>\n",
              "      <th>Movie_Vote</th>\n",
              "    </tr>\n",
              "  </thead>\n",
              "  <tbody>\n",
              "    <tr>\n",
              "      <th>0</th>\n",
              "      <td>It's Ted the Bellhop's first night on the job....</td>\n",
              "      <td>6.5</td>\n",
              "    </tr>\n",
              "    <tr>\n",
              "      <th>1</th>\n",
              "      <td>Princess Leia is captured and held hostage by ...</td>\n",
              "      <td>8.1</td>\n",
              "    </tr>\n",
              "    <tr>\n",
              "      <th>2</th>\n",
              "      <td>Nemo, an adventurous young clownfish, is unexp...</td>\n",
              "      <td>7.6</td>\n",
              "    </tr>\n",
              "    <tr>\n",
              "      <th>3</th>\n",
              "      <td>A man with a low IQ has accomplished great thi...</td>\n",
              "      <td>8.2</td>\n",
              "    </tr>\n",
              "    <tr>\n",
              "      <th>4</th>\n",
              "      <td>Lester Burnham, a depressed suburban father in...</td>\n",
              "      <td>7.9</td>\n",
              "    </tr>\n",
              "    <tr>\n",
              "      <th>...</th>\n",
              "      <td>...</td>\n",
              "      <td>...</td>\n",
              "    </tr>\n",
              "    <tr>\n",
              "      <th>3731</th>\n",
              "      <td>When his hard-earned kicks get snatched by a l...</td>\n",
              "      <td>7.5</td>\n",
              "    </tr>\n",
              "    <tr>\n",
              "      <th>3732</th>\n",
              "      <td>Sara Gold is a young girl on a quest to save m...</td>\n",
              "      <td>5.3</td>\n",
              "    </tr>\n",
              "    <tr>\n",
              "      <th>3733</th>\n",
              "      <td>A squad of soldiers fight in the Korean War's ...</td>\n",
              "      <td>5.8</td>\n",
              "    </tr>\n",
              "    <tr>\n",
              "      <th>3734</th>\n",
              "      <td>Long before he even met Shrek, the notorious f...</td>\n",
              "      <td>6.4</td>\n",
              "    </tr>\n",
              "    <tr>\n",
              "      <th>3735</th>\n",
              "      <td>After sneaking to a party with her friends, 16...</td>\n",
              "      <td>0.0</td>\n",
              "    </tr>\n",
              "  </tbody>\n",
              "</table>\n",
              "<p>3736 rows × 2 columns</p>\n",
              "</div>\n",
              "    <div class=\"colab-df-buttons\">\n",
              "\n",
              "  <div class=\"colab-df-container\">\n",
              "    <button class=\"colab-df-convert\" onclick=\"convertToInteractive('df-4ff8d34a-b2d5-40e2-ba2f-227277715b2c')\"\n",
              "            title=\"Convert this dataframe to an interactive table.\"\n",
              "            style=\"display:none;\">\n",
              "\n",
              "  <svg xmlns=\"http://www.w3.org/2000/svg\" height=\"24px\" viewBox=\"0 -960 960 960\">\n",
              "    <path d=\"M120-120v-720h720v720H120Zm60-500h600v-160H180v160Zm220 220h160v-160H400v160Zm0 220h160v-160H400v160ZM180-400h160v-160H180v160Zm440 0h160v-160H620v160ZM180-180h160v-160H180v160Zm440 0h160v-160H620v160Z\"/>\n",
              "  </svg>\n",
              "    </button>\n",
              "\n",
              "  <style>\n",
              "    .colab-df-container {\n",
              "      display:flex;\n",
              "      gap: 12px;\n",
              "    }\n",
              "\n",
              "    .colab-df-convert {\n",
              "      background-color: #E8F0FE;\n",
              "      border: none;\n",
              "      border-radius: 50%;\n",
              "      cursor: pointer;\n",
              "      display: none;\n",
              "      fill: #1967D2;\n",
              "      height: 32px;\n",
              "      padding: 0 0 0 0;\n",
              "      width: 32px;\n",
              "    }\n",
              "\n",
              "    .colab-df-convert:hover {\n",
              "      background-color: #E2EBFA;\n",
              "      box-shadow: 0px 1px 2px rgba(60, 64, 67, 0.3), 0px 1px 3px 1px rgba(60, 64, 67, 0.15);\n",
              "      fill: #174EA6;\n",
              "    }\n",
              "\n",
              "    .colab-df-buttons div {\n",
              "      margin-bottom: 4px;\n",
              "    }\n",
              "\n",
              "    [theme=dark] .colab-df-convert {\n",
              "      background-color: #3B4455;\n",
              "      fill: #D2E3FC;\n",
              "    }\n",
              "\n",
              "    [theme=dark] .colab-df-convert:hover {\n",
              "      background-color: #434B5C;\n",
              "      box-shadow: 0px 1px 3px 1px rgba(0, 0, 0, 0.15);\n",
              "      filter: drop-shadow(0px 1px 2px rgba(0, 0, 0, 0.3));\n",
              "      fill: #FFFFFF;\n",
              "    }\n",
              "  </style>\n",
              "\n",
              "    <script>\n",
              "      const buttonEl =\n",
              "        document.querySelector('#df-4ff8d34a-b2d5-40e2-ba2f-227277715b2c button.colab-df-convert');\n",
              "      buttonEl.style.display =\n",
              "        google.colab.kernel.accessAllowed ? 'block' : 'none';\n",
              "\n",
              "      async function convertToInteractive(key) {\n",
              "        const element = document.querySelector('#df-4ff8d34a-b2d5-40e2-ba2f-227277715b2c');\n",
              "        const dataTable =\n",
              "          await google.colab.kernel.invokeFunction('convertToInteractive',\n",
              "                                                    [key], {});\n",
              "        if (!dataTable) return;\n",
              "\n",
              "        const docLinkHtml = 'Like what you see? Visit the ' +\n",
              "          '<a target=\"_blank\" href=https://colab.research.google.com/notebooks/data_table.ipynb>data table notebook</a>'\n",
              "          + ' to learn more about interactive tables.';\n",
              "        element.innerHTML = '';\n",
              "        dataTable['output_type'] = 'display_data';\n",
              "        await google.colab.output.renderOutput(dataTable, element);\n",
              "        const docLink = document.createElement('div');\n",
              "        docLink.innerHTML = docLinkHtml;\n",
              "        element.appendChild(docLink);\n",
              "      }\n",
              "    </script>\n",
              "  </div>\n",
              "\n",
              "\n",
              "<div id=\"df-fe0f1c33-ff2c-4cfc-83a8-b88ef0a62810\">\n",
              "  <button class=\"colab-df-quickchart\" onclick=\"quickchart('df-fe0f1c33-ff2c-4cfc-83a8-b88ef0a62810')\"\n",
              "            title=\"Suggest charts\"\n",
              "            style=\"display:none;\">\n",
              "\n",
              "<svg xmlns=\"http://www.w3.org/2000/svg\" height=\"24px\"viewBox=\"0 0 24 24\"\n",
              "     width=\"24px\">\n",
              "    <g>\n",
              "        <path d=\"M19 3H5c-1.1 0-2 .9-2 2v14c0 1.1.9 2 2 2h14c1.1 0 2-.9 2-2V5c0-1.1-.9-2-2-2zM9 17H7v-7h2v7zm4 0h-2V7h2v10zm4 0h-2v-4h2v4z\"/>\n",
              "    </g>\n",
              "</svg>\n",
              "  </button>\n",
              "\n",
              "<style>\n",
              "  .colab-df-quickchart {\n",
              "      --bg-color: #E8F0FE;\n",
              "      --fill-color: #1967D2;\n",
              "      --hover-bg-color: #E2EBFA;\n",
              "      --hover-fill-color: #174EA6;\n",
              "      --disabled-fill-color: #AAA;\n",
              "      --disabled-bg-color: #DDD;\n",
              "  }\n",
              "\n",
              "  [theme=dark] .colab-df-quickchart {\n",
              "      --bg-color: #3B4455;\n",
              "      --fill-color: #D2E3FC;\n",
              "      --hover-bg-color: #434B5C;\n",
              "      --hover-fill-color: #FFFFFF;\n",
              "      --disabled-bg-color: #3B4455;\n",
              "      --disabled-fill-color: #666;\n",
              "  }\n",
              "\n",
              "  .colab-df-quickchart {\n",
              "    background-color: var(--bg-color);\n",
              "    border: none;\n",
              "    border-radius: 50%;\n",
              "    cursor: pointer;\n",
              "    display: none;\n",
              "    fill: var(--fill-color);\n",
              "    height: 32px;\n",
              "    padding: 0;\n",
              "    width: 32px;\n",
              "  }\n",
              "\n",
              "  .colab-df-quickchart:hover {\n",
              "    background-color: var(--hover-bg-color);\n",
              "    box-shadow: 0 1px 2px rgba(60, 64, 67, 0.3), 0 1px 3px 1px rgba(60, 64, 67, 0.15);\n",
              "    fill: var(--button-hover-fill-color);\n",
              "  }\n",
              "\n",
              "  .colab-df-quickchart-complete:disabled,\n",
              "  .colab-df-quickchart-complete:disabled:hover {\n",
              "    background-color: var(--disabled-bg-color);\n",
              "    fill: var(--disabled-fill-color);\n",
              "    box-shadow: none;\n",
              "  }\n",
              "\n",
              "  .colab-df-spinner {\n",
              "    border: 2px solid var(--fill-color);\n",
              "    border-color: transparent;\n",
              "    border-bottom-color: var(--fill-color);\n",
              "    animation:\n",
              "      spin 1s steps(1) infinite;\n",
              "  }\n",
              "\n",
              "  @keyframes spin {\n",
              "    0% {\n",
              "      border-color: transparent;\n",
              "      border-bottom-color: var(--fill-color);\n",
              "      border-left-color: var(--fill-color);\n",
              "    }\n",
              "    20% {\n",
              "      border-color: transparent;\n",
              "      border-left-color: var(--fill-color);\n",
              "      border-top-color: var(--fill-color);\n",
              "    }\n",
              "    30% {\n",
              "      border-color: transparent;\n",
              "      border-left-color: var(--fill-color);\n",
              "      border-top-color: var(--fill-color);\n",
              "      border-right-color: var(--fill-color);\n",
              "    }\n",
              "    40% {\n",
              "      border-color: transparent;\n",
              "      border-right-color: var(--fill-color);\n",
              "      border-top-color: var(--fill-color);\n",
              "    }\n",
              "    60% {\n",
              "      border-color: transparent;\n",
              "      border-right-color: var(--fill-color);\n",
              "    }\n",
              "    80% {\n",
              "      border-color: transparent;\n",
              "      border-right-color: var(--fill-color);\n",
              "      border-bottom-color: var(--fill-color);\n",
              "    }\n",
              "    90% {\n",
              "      border-color: transparent;\n",
              "      border-bottom-color: var(--fill-color);\n",
              "    }\n",
              "  }\n",
              "</style>\n",
              "\n",
              "  <script>\n",
              "    async function quickchart(key) {\n",
              "      const quickchartButtonEl =\n",
              "        document.querySelector('#' + key + ' button');\n",
              "      quickchartButtonEl.disabled = true;  // To prevent multiple clicks.\n",
              "      quickchartButtonEl.classList.add('colab-df-spinner');\n",
              "      try {\n",
              "        const charts = await google.colab.kernel.invokeFunction(\n",
              "            'suggestCharts', [key], {});\n",
              "      } catch (error) {\n",
              "        console.error('Error during call to suggestCharts:', error);\n",
              "      }\n",
              "      quickchartButtonEl.classList.remove('colab-df-spinner');\n",
              "      quickchartButtonEl.classList.add('colab-df-quickchart-complete');\n",
              "    }\n",
              "    (() => {\n",
              "      let quickchartButtonEl =\n",
              "        document.querySelector('#df-fe0f1c33-ff2c-4cfc-83a8-b88ef0a62810 button');\n",
              "      quickchartButtonEl.style.display =\n",
              "        google.colab.kernel.accessAllowed ? 'block' : 'none';\n",
              "    })();\n",
              "  </script>\n",
              "</div>\n",
              "\n",
              "    </div>\n",
              "  </div>\n"
            ],
            "application/vnd.google.colaboratory.intrinsic+json": {
              "type": "dataframe",
              "summary": "{\n  \"name\": \"df[['Movie_Overview', 'Movie_Vote']]\",\n  \"rows\": 3736,\n  \"fields\": [\n    {\n      \"column\": \"Movie_Overview\",\n      \"properties\": {\n        \"dtype\": \"string\",\n        \"num_unique_values\": 3736,\n        \"samples\": [\n          \"Caroline is to be wed to Sir Ralph and invites her sister Barbara to be her bridesmaid. Barbara seduces Ralph, however, and she becomes the new Lady, but despite her new wealthy situation, she gets bored and turns to highway robbery for thrills. While on the road she meets a famous highwayman, and they continue as a team, but some people begin suspecting her identity, and she risks death if she continues her nefarious activities.\",\n          \"A pro ball player with a substance abuse problem is forced into rehab in his hometown, finding new hope when he gets honest about his checkered past, and takes on coaching duties for a misfit Little League team\",\n          \"A DEA agent provides former Marine Tim Kearney with a way out of his prison sentence: impersonate Bobby Z, a recently deceased drug dealer, in a hostage switch with a crime lord. When the negotiations go awry, Kearney flees, with Z's son in tow.\"\n        ],\n        \"semantic_type\": \"\",\n        \"description\": \"\"\n      }\n    },\n    {\n      \"column\": \"Movie_Vote\",\n      \"properties\": {\n        \"dtype\": \"number\",\n        \"std\": 0.9268425996319376,\n        \"min\": 0.0,\n        \"max\": 10.0,\n        \"num_unique_values\": 65,\n        \"samples\": [\n          3.1,\n          2.3,\n          6.5\n        ],\n        \"semantic_type\": \"\",\n        \"description\": \"\"\n      }\n    }\n  ]\n}"
            }
          },
          "metadata": {},
          "execution_count": 23
        }
      ]
    },
    {
      "cell_type": "code",
      "source": [
        "# Define a function to clean the text data\n",
        "def clean_text(text):\n",
        "    text = re.sub(r'\\s+', ' ', text)  # Remove extra whitespace\n",
        "    text = re.sub(r'[^\\w\\s]', '', text)  # Remove punctuation\n",
        "    text = text.lower()  # Convert text to lowercase\n",
        "    return text"
      ],
      "metadata": {
        "id": "dyNzavvFnugA"
      },
      "execution_count": 24,
      "outputs": []
    },
    {
      "cell_type": "code",
      "source": [
        "# Apply the clean_text function to the 'Movie_Overview' column\n",
        "df['Movie_Overview'] = df['Movie_Overview'].apply(clean_text)"
      ],
      "metadata": {
        "id": "iDQD_6Ubn2yo"
      },
      "execution_count": 25,
      "outputs": []
    },
    {
      "cell_type": "code",
      "source": [
        "# Convert 'Movie_Vote' into binary sentiment labels (1 for positive, 0 for negative)\n",
        "df['Sentiment'] = df['Movie_Vote'].apply(lambda x: 1 if x >= 5 else 0)"
      ],
      "metadata": {
        "id": "G3QEPA3mn71N"
      },
      "execution_count": 26,
      "outputs": []
    },
    {
      "cell_type": "code",
      "source": [
        "# Split the data into training and testing sets\n",
        "X_train, X_test, y_train, y_test = train_test_split(df['Movie_Overview'], df['Sentiment'], test_size=0.2, random_state=42)"
      ],
      "metadata": {
        "id": "9BL4ZvM2oAKo"
      },
      "execution_count": 27,
      "outputs": []
    },
    {
      "cell_type": "code",
      "source": [
        "# Vectorize the text data using TF-IDF\n",
        "vectorizer = TfidfVectorizer()\n",
        "X_train_vec = vectorizer.fit_transform(X_train)\n",
        "X_test_vec = vectorizer.transform(X_test)"
      ],
      "metadata": {
        "id": "EH5ZRkcwoEPN"
      },
      "execution_count": 28,
      "outputs": []
    },
    {
      "cell_type": "code",
      "source": [
        "# Train and evaluate different models\n",
        "\n",
        "# Naive Bayes\n",
        "nb_model = MultinomialNB()\n",
        "nb_model.fit(X_train_vec, y_train)\n",
        "nb_pred = nb_model.predict(X_test_vec)\n",
        "nb_accuracy = accuracy_score(y_test, nb_pred)\n",
        "nb_report = classification_report(y_test, nb_pred)\n",
        "\n",
        "# Random Forest\n",
        "rf_model = RandomForestClassifier(random_state=42)\n",
        "rf_model.fit(X_train_vec, y_train)\n",
        "rf_pred = rf_model.predict(X_test_vec)\n",
        "rf_accuracy = accuracy_score(y_test, rf_pred)\n",
        "rf_report = classification_report(y_test, rf_pred)\n",
        "\n",
        "# Support Vector Machine\n",
        "svm_model = SVC(random_state=42)\n",
        "svm_model.fit(X_train_vec, y_train)\n",
        "svm_pred = svm_model.predict(X_test_vec)\n",
        "svm_accuracy = accuracy_score(y_test, svm_pred)\n",
        "svm_report = classification_report(y_test, svm_pred)\n",
        "\n",
        "# Print results\n",
        "print(f'Naive Bayes Accuracy: {nb_accuracy}')\n",
        "print(f'Naive Bayes Classification Report:\\n{nb_report}')\n",
        "\n",
        "print(f'Random Forest Accuracy: {rf_accuracy}')\n",
        "print(f'Random Forest Classification Report:\\n{rf_report}')\n",
        "\n",
        "print(f'SVM Accuracy: {svm_accuracy}')\n",
        "print(f'SVM Classification Report:\\n{svm_report}')\n"
      ],
      "metadata": {
        "colab": {
          "base_uri": "https://localhost:8080/"
        },
        "id": "znpFQmUOoKDh",
        "outputId": "134d83ac-cf01-44de-805f-5bf8f58fef50"
      },
      "execution_count": 29,
      "outputs": [
        {
          "output_type": "stream",
          "name": "stderr",
          "text": [
            "/usr/local/lib/python3.10/dist-packages/sklearn/metrics/_classification.py:1344: UndefinedMetricWarning: Precision and F-score are ill-defined and being set to 0.0 in labels with no predicted samples. Use `zero_division` parameter to control this behavior.\n",
            "  _warn_prf(average, modifier, msg_start, len(result))\n",
            "/usr/local/lib/python3.10/dist-packages/sklearn/metrics/_classification.py:1344: UndefinedMetricWarning: Precision and F-score are ill-defined and being set to 0.0 in labels with no predicted samples. Use `zero_division` parameter to control this behavior.\n",
            "  _warn_prf(average, modifier, msg_start, len(result))\n",
            "/usr/local/lib/python3.10/dist-packages/sklearn/metrics/_classification.py:1344: UndefinedMetricWarning: Precision and F-score are ill-defined and being set to 0.0 in labels with no predicted samples. Use `zero_division` parameter to control this behavior.\n",
            "  _warn_prf(average, modifier, msg_start, len(result))\n",
            "/usr/local/lib/python3.10/dist-packages/sklearn/metrics/_classification.py:1344: UndefinedMetricWarning: Precision and F-score are ill-defined and being set to 0.0 in labels with no predicted samples. Use `zero_division` parameter to control this behavior.\n",
            "  _warn_prf(average, modifier, msg_start, len(result))\n",
            "/usr/local/lib/python3.10/dist-packages/sklearn/metrics/_classification.py:1344: UndefinedMetricWarning: Precision and F-score are ill-defined and being set to 0.0 in labels with no predicted samples. Use `zero_division` parameter to control this behavior.\n",
            "  _warn_prf(average, modifier, msg_start, len(result))\n",
            "/usr/local/lib/python3.10/dist-packages/sklearn/metrics/_classification.py:1344: UndefinedMetricWarning: Precision and F-score are ill-defined and being set to 0.0 in labels with no predicted samples. Use `zero_division` parameter to control this behavior.\n",
            "  _warn_prf(average, modifier, msg_start, len(result))\n"
          ]
        },
        {
          "output_type": "stream",
          "name": "stdout",
          "text": [
            "Naive Bayes Accuracy: 0.9264705882352942\n",
            "Naive Bayes Classification Report:\n",
            "              precision    recall  f1-score   support\n",
            "\n",
            "           0       0.00      0.00      0.00        55\n",
            "           1       0.93      1.00      0.96       693\n",
            "\n",
            "    accuracy                           0.93       748\n",
            "   macro avg       0.46      0.50      0.48       748\n",
            "weighted avg       0.86      0.93      0.89       748\n",
            "\n",
            "Random Forest Accuracy: 0.9264705882352942\n",
            "Random Forest Classification Report:\n",
            "              precision    recall  f1-score   support\n",
            "\n",
            "           0       0.00      0.00      0.00        55\n",
            "           1       0.93      1.00      0.96       693\n",
            "\n",
            "    accuracy                           0.93       748\n",
            "   macro avg       0.46      0.50      0.48       748\n",
            "weighted avg       0.86      0.93      0.89       748\n",
            "\n",
            "SVM Accuracy: 0.9264705882352942\n",
            "SVM Classification Report:\n",
            "              precision    recall  f1-score   support\n",
            "\n",
            "           0       0.00      0.00      0.00        55\n",
            "           1       0.93      1.00      0.96       693\n",
            "\n",
            "    accuracy                           0.93       748\n",
            "   macro avg       0.46      0.50      0.48       748\n",
            "weighted avg       0.86      0.93      0.89       748\n",
            "\n"
          ]
        },
        {
          "output_type": "stream",
          "name": "stderr",
          "text": [
            "/usr/local/lib/python3.10/dist-packages/sklearn/metrics/_classification.py:1344: UndefinedMetricWarning: Precision and F-score are ill-defined and being set to 0.0 in labels with no predicted samples. Use `zero_division` parameter to control this behavior.\n",
            "  _warn_prf(average, modifier, msg_start, len(result))\n",
            "/usr/local/lib/python3.10/dist-packages/sklearn/metrics/_classification.py:1344: UndefinedMetricWarning: Precision and F-score are ill-defined and being set to 0.0 in labels with no predicted samples. Use `zero_division` parameter to control this behavior.\n",
            "  _warn_prf(average, modifier, msg_start, len(result))\n",
            "/usr/local/lib/python3.10/dist-packages/sklearn/metrics/_classification.py:1344: UndefinedMetricWarning: Precision and F-score are ill-defined and being set to 0.0 in labels with no predicted samples. Use `zero_division` parameter to control this behavior.\n",
            "  _warn_prf(average, modifier, msg_start, len(result))\n"
          ]
        }
      ]
    },
    {
      "cell_type": "markdown",
      "source": [
        "# **Get Feature Selection**\n",
        "\n"
      ],
      "metadata": {
        "id": "_yVpd4kAkS-6"
      }
    },
    {
      "cell_type": "code",
      "source": [
        "df_features = df[[ 'Movie_Genre', 'Movie_Keywords', 'Movie_Tagline', 'Movie_Cast', 'Movie_Director']].fillna('')"
      ],
      "metadata": {
        "id": "Wcb1Zj72keAQ"
      },
      "execution_count": 30,
      "outputs": []
    },
    {
      "cell_type": "code",
      "source": [
        "df_features.shape"
      ],
      "metadata": {
        "colab": {
          "base_uri": "https://localhost:8080/"
        },
        "id": "vfYbeers8FuI",
        "outputId": "d988b56e-e5c8-4336-caaf-5b86d25750c1"
      },
      "execution_count": 31,
      "outputs": [
        {
          "output_type": "execute_result",
          "data": {
            "text/plain": [
              "(3736, 5)"
            ]
          },
          "metadata": {},
          "execution_count": 31
        }
      ]
    },
    {
      "cell_type": "code",
      "source": [
        "df_features"
      ],
      "metadata": {
        "colab": {
          "base_uri": "https://localhost:8080/",
          "height": 580
        },
        "id": "lb9jHzZw8LC3",
        "outputId": "2561d6ff-b3f1-4fb2-8f8d-944f4464571c"
      },
      "execution_count": 32,
      "outputs": [
        {
          "output_type": "execute_result",
          "data": {
            "text/plain": [
              "                                    Movie_Genre  \\\n",
              "0                                  Crime Comedy   \n",
              "1              Adventure Action Science Fiction   \n",
              "2                              Animation Family   \n",
              "3                          Comedy Drama Romance   \n",
              "4                                         Drama   \n",
              "...                                         ...   \n",
              "3731                                  Adventure   \n",
              "3732                                      Drama   \n",
              "3733                   History Drama War Action   \n",
              "3734  Action Adventure Animation Family Fantasy   \n",
              "3735                             Thriller Drama   \n",
              "\n",
              "                                         Movie_Keywords  \\\n",
              "0             hotel new year's eve witch bet hotel room   \n",
              "1           android galaxy hermit death star lightsaber   \n",
              "2     father son relationship harbor underwater fish...   \n",
              "3     vietnam veteran hippie mentally disabled runni...   \n",
              "4     male nudity female nudity adultery midlife cri...   \n",
              "...                                                 ...   \n",
              "3731  blow job cigarette smoking illegal drugs smoki...   \n",
              "3732  undercover dog animal welfare animal rights or...   \n",
              "3733  korea fictionalized history operation \"trudy j...   \n",
              "3734                        adventure fairy-tale figure   \n",
              "3735                     christian film sex trafficking   \n",
              "\n",
              "                                          Movie_Tagline  \\\n",
              "0     Twelve outrageous guests. Four scandalous requ...   \n",
              "1          A long time ago in a galaxy far, far away...   \n",
              "2     There are 3.7 trillion fish in the ocean, they...   \n",
              "3     The world will never be the same, once you've ...   \n",
              "4                                          Look closer.   \n",
              "...                                                 ...   \n",
              "3731                             They aren't just shoes   \n",
              "3732           She ended up on the wrong side of right.   \n",
              "3733  The Odds Were 5000 to 1 … One was all They Nee...   \n",
              "3734  Live for danger. Fight for justice. Pray for m...   \n",
              "3735           She never knew it could happen to her...   \n",
              "\n",
              "                                             Movie_Cast   Movie_Director  \n",
              "0     Tim Roth Antonio Banderas Jennifer Beals Madon...   Allison Anders  \n",
              "1     Mark Hamill Harrison Ford Carrie Fisher Peter ...     George Lucas  \n",
              "2     Albert Brooks Ellen DeGeneres Alexander Gould ...   Andrew Stanton  \n",
              "3     Tom Hanks Robin Wright Gary Sinise Mykelti Wil...  Robert Zemeckis  \n",
              "4     Kevin Spacey Annette Bening Thora Birch Wes Be...       Sam Mendes  \n",
              "...                                                 ...              ...  \n",
              "3731  Mahershala Ali Kofi Siriboe Christopher Meyer ...   Justin Tipping  \n",
              "3732  Allison Paige James Remar Lea Thompson Jayson ...  Alex Ranarivelo  \n",
              "3733  Lee Jung-jae Liam Neeson Lee Beom-soo Jin Se-y...      John H. Lee  \n",
              "3734  Antonio Banderas Salma Hayek Zach Galifianakis...     Chris Miller  \n",
              "3735  Nicole Smolen Kim Baldwin Ariana Stephens Brys...     Jaco Booyens  \n",
              "\n",
              "[3736 rows x 5 columns]"
            ],
            "text/html": [
              "\n",
              "  <div id=\"df-a5f49a7e-2313-4ef3-aefa-501f598cdb92\" class=\"colab-df-container\">\n",
              "    <div>\n",
              "<style scoped>\n",
              "    .dataframe tbody tr th:only-of-type {\n",
              "        vertical-align: middle;\n",
              "    }\n",
              "\n",
              "    .dataframe tbody tr th {\n",
              "        vertical-align: top;\n",
              "    }\n",
              "\n",
              "    .dataframe thead th {\n",
              "        text-align: right;\n",
              "    }\n",
              "</style>\n",
              "<table border=\"1\" class=\"dataframe\">\n",
              "  <thead>\n",
              "    <tr style=\"text-align: right;\">\n",
              "      <th></th>\n",
              "      <th>Movie_Genre</th>\n",
              "      <th>Movie_Keywords</th>\n",
              "      <th>Movie_Tagline</th>\n",
              "      <th>Movie_Cast</th>\n",
              "      <th>Movie_Director</th>\n",
              "    </tr>\n",
              "  </thead>\n",
              "  <tbody>\n",
              "    <tr>\n",
              "      <th>0</th>\n",
              "      <td>Crime Comedy</td>\n",
              "      <td>hotel new year's eve witch bet hotel room</td>\n",
              "      <td>Twelve outrageous guests. Four scandalous requ...</td>\n",
              "      <td>Tim Roth Antonio Banderas Jennifer Beals Madon...</td>\n",
              "      <td>Allison Anders</td>\n",
              "    </tr>\n",
              "    <tr>\n",
              "      <th>1</th>\n",
              "      <td>Adventure Action Science Fiction</td>\n",
              "      <td>android galaxy hermit death star lightsaber</td>\n",
              "      <td>A long time ago in a galaxy far, far away...</td>\n",
              "      <td>Mark Hamill Harrison Ford Carrie Fisher Peter ...</td>\n",
              "      <td>George Lucas</td>\n",
              "    </tr>\n",
              "    <tr>\n",
              "      <th>2</th>\n",
              "      <td>Animation Family</td>\n",
              "      <td>father son relationship harbor underwater fish...</td>\n",
              "      <td>There are 3.7 trillion fish in the ocean, they...</td>\n",
              "      <td>Albert Brooks Ellen DeGeneres Alexander Gould ...</td>\n",
              "      <td>Andrew Stanton</td>\n",
              "    </tr>\n",
              "    <tr>\n",
              "      <th>3</th>\n",
              "      <td>Comedy Drama Romance</td>\n",
              "      <td>vietnam veteran hippie mentally disabled runni...</td>\n",
              "      <td>The world will never be the same, once you've ...</td>\n",
              "      <td>Tom Hanks Robin Wright Gary Sinise Mykelti Wil...</td>\n",
              "      <td>Robert Zemeckis</td>\n",
              "    </tr>\n",
              "    <tr>\n",
              "      <th>4</th>\n",
              "      <td>Drama</td>\n",
              "      <td>male nudity female nudity adultery midlife cri...</td>\n",
              "      <td>Look closer.</td>\n",
              "      <td>Kevin Spacey Annette Bening Thora Birch Wes Be...</td>\n",
              "      <td>Sam Mendes</td>\n",
              "    </tr>\n",
              "    <tr>\n",
              "      <th>...</th>\n",
              "      <td>...</td>\n",
              "      <td>...</td>\n",
              "      <td>...</td>\n",
              "      <td>...</td>\n",
              "      <td>...</td>\n",
              "    </tr>\n",
              "    <tr>\n",
              "      <th>3731</th>\n",
              "      <td>Adventure</td>\n",
              "      <td>blow job cigarette smoking illegal drugs smoki...</td>\n",
              "      <td>They aren't just shoes</td>\n",
              "      <td>Mahershala Ali Kofi Siriboe Christopher Meyer ...</td>\n",
              "      <td>Justin Tipping</td>\n",
              "    </tr>\n",
              "    <tr>\n",
              "      <th>3732</th>\n",
              "      <td>Drama</td>\n",
              "      <td>undercover dog animal welfare animal rights or...</td>\n",
              "      <td>She ended up on the wrong side of right.</td>\n",
              "      <td>Allison Paige James Remar Lea Thompson Jayson ...</td>\n",
              "      <td>Alex Ranarivelo</td>\n",
              "    </tr>\n",
              "    <tr>\n",
              "      <th>3733</th>\n",
              "      <td>History Drama War Action</td>\n",
              "      <td>korea fictionalized history operation \"trudy j...</td>\n",
              "      <td>The Odds Were 5000 to 1 … One was all They Nee...</td>\n",
              "      <td>Lee Jung-jae Liam Neeson Lee Beom-soo Jin Se-y...</td>\n",
              "      <td>John H. Lee</td>\n",
              "    </tr>\n",
              "    <tr>\n",
              "      <th>3734</th>\n",
              "      <td>Action Adventure Animation Family Fantasy</td>\n",
              "      <td>adventure fairy-tale figure</td>\n",
              "      <td>Live for danger. Fight for justice. Pray for m...</td>\n",
              "      <td>Antonio Banderas Salma Hayek Zach Galifianakis...</td>\n",
              "      <td>Chris Miller</td>\n",
              "    </tr>\n",
              "    <tr>\n",
              "      <th>3735</th>\n",
              "      <td>Thriller Drama</td>\n",
              "      <td>christian film sex trafficking</td>\n",
              "      <td>She never knew it could happen to her...</td>\n",
              "      <td>Nicole Smolen Kim Baldwin Ariana Stephens Brys...</td>\n",
              "      <td>Jaco Booyens</td>\n",
              "    </tr>\n",
              "  </tbody>\n",
              "</table>\n",
              "<p>3736 rows × 5 columns</p>\n",
              "</div>\n",
              "    <div class=\"colab-df-buttons\">\n",
              "\n",
              "  <div class=\"colab-df-container\">\n",
              "    <button class=\"colab-df-convert\" onclick=\"convertToInteractive('df-a5f49a7e-2313-4ef3-aefa-501f598cdb92')\"\n",
              "            title=\"Convert this dataframe to an interactive table.\"\n",
              "            style=\"display:none;\">\n",
              "\n",
              "  <svg xmlns=\"http://www.w3.org/2000/svg\" height=\"24px\" viewBox=\"0 -960 960 960\">\n",
              "    <path d=\"M120-120v-720h720v720H120Zm60-500h600v-160H180v160Zm220 220h160v-160H400v160Zm0 220h160v-160H400v160ZM180-400h160v-160H180v160Zm440 0h160v-160H620v160ZM180-180h160v-160H180v160Zm440 0h160v-160H620v160Z\"/>\n",
              "  </svg>\n",
              "    </button>\n",
              "\n",
              "  <style>\n",
              "    .colab-df-container {\n",
              "      display:flex;\n",
              "      gap: 12px;\n",
              "    }\n",
              "\n",
              "    .colab-df-convert {\n",
              "      background-color: #E8F0FE;\n",
              "      border: none;\n",
              "      border-radius: 50%;\n",
              "      cursor: pointer;\n",
              "      display: none;\n",
              "      fill: #1967D2;\n",
              "      height: 32px;\n",
              "      padding: 0 0 0 0;\n",
              "      width: 32px;\n",
              "    }\n",
              "\n",
              "    .colab-df-convert:hover {\n",
              "      background-color: #E2EBFA;\n",
              "      box-shadow: 0px 1px 2px rgba(60, 64, 67, 0.3), 0px 1px 3px 1px rgba(60, 64, 67, 0.15);\n",
              "      fill: #174EA6;\n",
              "    }\n",
              "\n",
              "    .colab-df-buttons div {\n",
              "      margin-bottom: 4px;\n",
              "    }\n",
              "\n",
              "    [theme=dark] .colab-df-convert {\n",
              "      background-color: #3B4455;\n",
              "      fill: #D2E3FC;\n",
              "    }\n",
              "\n",
              "    [theme=dark] .colab-df-convert:hover {\n",
              "      background-color: #434B5C;\n",
              "      box-shadow: 0px 1px 3px 1px rgba(0, 0, 0, 0.15);\n",
              "      filter: drop-shadow(0px 1px 2px rgba(0, 0, 0, 0.3));\n",
              "      fill: #FFFFFF;\n",
              "    }\n",
              "  </style>\n",
              "\n",
              "    <script>\n",
              "      const buttonEl =\n",
              "        document.querySelector('#df-a5f49a7e-2313-4ef3-aefa-501f598cdb92 button.colab-df-convert');\n",
              "      buttonEl.style.display =\n",
              "        google.colab.kernel.accessAllowed ? 'block' : 'none';\n",
              "\n",
              "      async function convertToInteractive(key) {\n",
              "        const element = document.querySelector('#df-a5f49a7e-2313-4ef3-aefa-501f598cdb92');\n",
              "        const dataTable =\n",
              "          await google.colab.kernel.invokeFunction('convertToInteractive',\n",
              "                                                    [key], {});\n",
              "        if (!dataTable) return;\n",
              "\n",
              "        const docLinkHtml = 'Like what you see? Visit the ' +\n",
              "          '<a target=\"_blank\" href=https://colab.research.google.com/notebooks/data_table.ipynb>data table notebook</a>'\n",
              "          + ' to learn more about interactive tables.';\n",
              "        element.innerHTML = '';\n",
              "        dataTable['output_type'] = 'display_data';\n",
              "        await google.colab.output.renderOutput(dataTable, element);\n",
              "        const docLink = document.createElement('div');\n",
              "        docLink.innerHTML = docLinkHtml;\n",
              "        element.appendChild(docLink);\n",
              "      }\n",
              "    </script>\n",
              "  </div>\n",
              "\n",
              "\n",
              "<div id=\"df-dce36a32-01ff-47a8-972d-8622379f51f3\">\n",
              "  <button class=\"colab-df-quickchart\" onclick=\"quickchart('df-dce36a32-01ff-47a8-972d-8622379f51f3')\"\n",
              "            title=\"Suggest charts\"\n",
              "            style=\"display:none;\">\n",
              "\n",
              "<svg xmlns=\"http://www.w3.org/2000/svg\" height=\"24px\"viewBox=\"0 0 24 24\"\n",
              "     width=\"24px\">\n",
              "    <g>\n",
              "        <path d=\"M19 3H5c-1.1 0-2 .9-2 2v14c0 1.1.9 2 2 2h14c1.1 0 2-.9 2-2V5c0-1.1-.9-2-2-2zM9 17H7v-7h2v7zm4 0h-2V7h2v10zm4 0h-2v-4h2v4z\"/>\n",
              "    </g>\n",
              "</svg>\n",
              "  </button>\n",
              "\n",
              "<style>\n",
              "  .colab-df-quickchart {\n",
              "      --bg-color: #E8F0FE;\n",
              "      --fill-color: #1967D2;\n",
              "      --hover-bg-color: #E2EBFA;\n",
              "      --hover-fill-color: #174EA6;\n",
              "      --disabled-fill-color: #AAA;\n",
              "      --disabled-bg-color: #DDD;\n",
              "  }\n",
              "\n",
              "  [theme=dark] .colab-df-quickchart {\n",
              "      --bg-color: #3B4455;\n",
              "      --fill-color: #D2E3FC;\n",
              "      --hover-bg-color: #434B5C;\n",
              "      --hover-fill-color: #FFFFFF;\n",
              "      --disabled-bg-color: #3B4455;\n",
              "      --disabled-fill-color: #666;\n",
              "  }\n",
              "\n",
              "  .colab-df-quickchart {\n",
              "    background-color: var(--bg-color);\n",
              "    border: none;\n",
              "    border-radius: 50%;\n",
              "    cursor: pointer;\n",
              "    display: none;\n",
              "    fill: var(--fill-color);\n",
              "    height: 32px;\n",
              "    padding: 0;\n",
              "    width: 32px;\n",
              "  }\n",
              "\n",
              "  .colab-df-quickchart:hover {\n",
              "    background-color: var(--hover-bg-color);\n",
              "    box-shadow: 0 1px 2px rgba(60, 64, 67, 0.3), 0 1px 3px 1px rgba(60, 64, 67, 0.15);\n",
              "    fill: var(--button-hover-fill-color);\n",
              "  }\n",
              "\n",
              "  .colab-df-quickchart-complete:disabled,\n",
              "  .colab-df-quickchart-complete:disabled:hover {\n",
              "    background-color: var(--disabled-bg-color);\n",
              "    fill: var(--disabled-fill-color);\n",
              "    box-shadow: none;\n",
              "  }\n",
              "\n",
              "  .colab-df-spinner {\n",
              "    border: 2px solid var(--fill-color);\n",
              "    border-color: transparent;\n",
              "    border-bottom-color: var(--fill-color);\n",
              "    animation:\n",
              "      spin 1s steps(1) infinite;\n",
              "  }\n",
              "\n",
              "  @keyframes spin {\n",
              "    0% {\n",
              "      border-color: transparent;\n",
              "      border-bottom-color: var(--fill-color);\n",
              "      border-left-color: var(--fill-color);\n",
              "    }\n",
              "    20% {\n",
              "      border-color: transparent;\n",
              "      border-left-color: var(--fill-color);\n",
              "      border-top-color: var(--fill-color);\n",
              "    }\n",
              "    30% {\n",
              "      border-color: transparent;\n",
              "      border-left-color: var(--fill-color);\n",
              "      border-top-color: var(--fill-color);\n",
              "      border-right-color: var(--fill-color);\n",
              "    }\n",
              "    40% {\n",
              "      border-color: transparent;\n",
              "      border-right-color: var(--fill-color);\n",
              "      border-top-color: var(--fill-color);\n",
              "    }\n",
              "    60% {\n",
              "      border-color: transparent;\n",
              "      border-right-color: var(--fill-color);\n",
              "    }\n",
              "    80% {\n",
              "      border-color: transparent;\n",
              "      border-right-color: var(--fill-color);\n",
              "      border-bottom-color: var(--fill-color);\n",
              "    }\n",
              "    90% {\n",
              "      border-color: transparent;\n",
              "      border-bottom-color: var(--fill-color);\n",
              "    }\n",
              "  }\n",
              "</style>\n",
              "\n",
              "  <script>\n",
              "    async function quickchart(key) {\n",
              "      const quickchartButtonEl =\n",
              "        document.querySelector('#' + key + ' button');\n",
              "      quickchartButtonEl.disabled = true;  // To prevent multiple clicks.\n",
              "      quickchartButtonEl.classList.add('colab-df-spinner');\n",
              "      try {\n",
              "        const charts = await google.colab.kernel.invokeFunction(\n",
              "            'suggestCharts', [key], {});\n",
              "      } catch (error) {\n",
              "        console.error('Error during call to suggestCharts:', error);\n",
              "      }\n",
              "      quickchartButtonEl.classList.remove('colab-df-spinner');\n",
              "      quickchartButtonEl.classList.add('colab-df-quickchart-complete');\n",
              "    }\n",
              "    (() => {\n",
              "      let quickchartButtonEl =\n",
              "        document.querySelector('#df-dce36a32-01ff-47a8-972d-8622379f51f3 button');\n",
              "      quickchartButtonEl.style.display =\n",
              "        google.colab.kernel.accessAllowed ? 'block' : 'none';\n",
              "    })();\n",
              "  </script>\n",
              "</div>\n",
              "\n",
              "  <div id=\"id_7f467d91-49f3-42f7-a9f7-065cc75f4a0b\">\n",
              "    <style>\n",
              "      .colab-df-generate {\n",
              "        background-color: #E8F0FE;\n",
              "        border: none;\n",
              "        border-radius: 50%;\n",
              "        cursor: pointer;\n",
              "        display: none;\n",
              "        fill: #1967D2;\n",
              "        height: 32px;\n",
              "        padding: 0 0 0 0;\n",
              "        width: 32px;\n",
              "      }\n",
              "\n",
              "      .colab-df-generate:hover {\n",
              "        background-color: #E2EBFA;\n",
              "        box-shadow: 0px 1px 2px rgba(60, 64, 67, 0.3), 0px 1px 3px 1px rgba(60, 64, 67, 0.15);\n",
              "        fill: #174EA6;\n",
              "      }\n",
              "\n",
              "      [theme=dark] .colab-df-generate {\n",
              "        background-color: #3B4455;\n",
              "        fill: #D2E3FC;\n",
              "      }\n",
              "\n",
              "      [theme=dark] .colab-df-generate:hover {\n",
              "        background-color: #434B5C;\n",
              "        box-shadow: 0px 1px 3px 1px rgba(0, 0, 0, 0.15);\n",
              "        filter: drop-shadow(0px 1px 2px rgba(0, 0, 0, 0.3));\n",
              "        fill: #FFFFFF;\n",
              "      }\n",
              "    </style>\n",
              "    <button class=\"colab-df-generate\" onclick=\"generateWithVariable('df_features')\"\n",
              "            title=\"Generate code using this dataframe.\"\n",
              "            style=\"display:none;\">\n",
              "\n",
              "  <svg xmlns=\"http://www.w3.org/2000/svg\" height=\"24px\"viewBox=\"0 0 24 24\"\n",
              "       width=\"24px\">\n",
              "    <path d=\"M7,19H8.4L18.45,9,17,7.55,7,17.6ZM5,21V16.75L18.45,3.32a2,2,0,0,1,2.83,0l1.4,1.43a1.91,1.91,0,0,1,.58,1.4,1.91,1.91,0,0,1-.58,1.4L9.25,21ZM18.45,9,17,7.55Zm-12,3A5.31,5.31,0,0,0,4.9,8.1,5.31,5.31,0,0,0,1,6.5,5.31,5.31,0,0,0,4.9,4.9,5.31,5.31,0,0,0,6.5,1,5.31,5.31,0,0,0,8.1,4.9,5.31,5.31,0,0,0,12,6.5,5.46,5.46,0,0,0,6.5,12Z\"/>\n",
              "  </svg>\n",
              "    </button>\n",
              "    <script>\n",
              "      (() => {\n",
              "      const buttonEl =\n",
              "        document.querySelector('#id_7f467d91-49f3-42f7-a9f7-065cc75f4a0b button.colab-df-generate');\n",
              "      buttonEl.style.display =\n",
              "        google.colab.kernel.accessAllowed ? 'block' : 'none';\n",
              "\n",
              "      buttonEl.onclick = () => {\n",
              "        google.colab.notebook.generateWithVariable('df_features');\n",
              "      }\n",
              "      })();\n",
              "    </script>\n",
              "  </div>\n",
              "\n",
              "    </div>\n",
              "  </div>\n"
            ],
            "application/vnd.google.colaboratory.intrinsic+json": {
              "type": "dataframe",
              "variable_name": "df_features",
              "summary": "{\n  \"name\": \"df_features\",\n  \"rows\": 3736,\n  \"fields\": [\n    {\n      \"column\": \"Movie_Genre\",\n      \"properties\": {\n        \"dtype\": \"category\",\n        \"num_unique_values\": 1018,\n        \"samples\": [\n          \"Drama Family Romance Music\",\n          \"Thriller Action Drama Crime\",\n          \"Action Adventure Crime Mystery\"\n        ],\n        \"semantic_type\": \"\",\n        \"description\": \"\"\n      }\n    },\n    {\n      \"column\": \"Movie_Keywords\",\n      \"properties\": {\n        \"dtype\": \"string\",\n        \"num_unique_values\": 3651,\n        \"samples\": [\n          \"camping summer camp gore slasher b horror\",\n          \"difficult childhood psychoterror murder loneliness artificial\",\n          \"washington d.c. rape cia usa president war veteran\"\n        ],\n        \"semantic_type\": \"\",\n        \"description\": \"\"\n      }\n    },\n    {\n      \"column\": \"Movie_Tagline\",\n      \"properties\": {\n        \"dtype\": \"string\",\n        \"num_unique_values\": 3722,\n        \"samples\": [\n          \"Dave Spritz is about to take his best shot . . . at life\",\n          \"Act like a criminal to catch a criminal.\",\n          \"Not all girls want to play with dolls.\"\n        ],\n        \"semantic_type\": \"\",\n        \"description\": \"\"\n      }\n    },\n    {\n      \"column\": \"Movie_Cast\",\n      \"properties\": {\n        \"dtype\": \"string\",\n        \"num_unique_values\": 3721,\n        \"samples\": [\n          \"Sean Maguire Carmen Electra Ken Davitian Kevin Sorbo Diedrich Bader\",\n          \"Michael Fassbender Kodi Smit-McPhee Ben Mendelsohn Caren Pistorius Rory McCann\",\n          \"Michael Angarano Kurt Russell Kelly Preston Danielle Panabaker Kevin Heffernan\"\n        ],\n        \"semantic_type\": \"\",\n        \"description\": \"\"\n      }\n    },\n    {\n      \"column\": \"Movie_Director\",\n      \"properties\": {\n        \"dtype\": \"category\",\n        \"num_unique_values\": 1747,\n        \"samples\": [\n          \"Christian Sesma\",\n          \"Mike Disa\",\n          \"Hugh Hudson\"\n        ],\n        \"semantic_type\": \"\",\n        \"description\": \"\"\n      }\n    }\n  ]\n}"
            }
          },
          "metadata": {},
          "execution_count": 32
        }
      ]
    },
    {
      "cell_type": "code",
      "source": [
        "x = df_features['Movie_Genre'] + '' + df_features['Movie_Keywords'] + '' + df_features['Movie_Tagline'] +''+ df_features['Movie_Cast']+ ''+ df_features['Movie_Director']"
      ],
      "metadata": {
        "id": "_ytxKvp08OFN"
      },
      "execution_count": 33,
      "outputs": []
    },
    {
      "cell_type": "code",
      "source": [
        "x"
      ],
      "metadata": {
        "colab": {
          "base_uri": "https://localhost:8080/"
        },
        "id": "98Dglwm_nY7S",
        "outputId": "116c74e8-7430-4064-99b9-6e750332cefb"
      },
      "execution_count": 34,
      "outputs": [
        {
          "output_type": "execute_result",
          "data": {
            "text/plain": [
              "0       Crime Comedyhotel new year's eve witch bet hot...\n",
              "1       Adventure Action Science Fictionandroid galaxy...\n",
              "2       Animation Familyfather son relationship harbor...\n",
              "3       Comedy Drama Romancevietnam veteran hippie men...\n",
              "4       Dramamale nudity female nudity adultery midlif...\n",
              "                              ...                        \n",
              "3731    Adventureblow job cigarette smoking illegal dr...\n",
              "3732    Dramaundercover dog animal welfare animal righ...\n",
              "3733    History Drama War Actionkorea fictionalized hi...\n",
              "3734    Action Adventure Animation Family Fantasyadven...\n",
              "3735    Thriller Dramachristian film sex traffickingSh...\n",
              "Length: 3736, dtype: object"
            ]
          },
          "metadata": {},
          "execution_count": 34
        }
      ]
    },
    {
      "cell_type": "code",
      "source": [
        "x.shape"
      ],
      "metadata": {
        "colab": {
          "base_uri": "https://localhost:8080/"
        },
        "id": "q-mCZkWo8TxF",
        "outputId": "024660d4-1674-4666-d7a6-009abb7bfb31"
      },
      "execution_count": 35,
      "outputs": [
        {
          "output_type": "execute_result",
          "data": {
            "text/plain": [
              "(3736,)"
            ]
          },
          "metadata": {},
          "execution_count": 35
        }
      ]
    },
    {
      "cell_type": "markdown",
      "source": [
        "# Get Feature Text Conversion to Tokens"
      ],
      "metadata": {
        "id": "6ktGaplEnqQ6"
      }
    },
    {
      "cell_type": "code",
      "source": [
        "from sklearn.feature_extraction.text import TfidfVectorizer\n"
      ],
      "metadata": {
        "id": "n3RfUY3an2Hf"
      },
      "execution_count": 36,
      "outputs": []
    },
    {
      "cell_type": "code",
      "source": [
        "tfidf = TfidfVectorizer()\n"
      ],
      "metadata": {
        "id": "DhXgmLLVofc9"
      },
      "execution_count": 37,
      "outputs": []
    },
    {
      "cell_type": "code",
      "source": [
        "x = tfidf.fit_transform(x)\n"
      ],
      "metadata": {
        "id": "pRHHv0PPolfF"
      },
      "execution_count": 38,
      "outputs": []
    },
    {
      "cell_type": "code",
      "source": [
        "x.shape"
      ],
      "metadata": {
        "colab": {
          "base_uri": "https://localhost:8080/"
        },
        "id": "CPSJBOc3o1FJ",
        "outputId": "796df8af-84ee-4fee-c877-052453736c12"
      },
      "execution_count": 39,
      "outputs": [
        {
          "output_type": "execute_result",
          "data": {
            "text/plain": [
              "(3736, 23144)"
            ]
          },
          "metadata": {},
          "execution_count": 39
        }
      ]
    },
    {
      "cell_type": "code",
      "source": [
        "print(x)"
      ],
      "metadata": {
        "colab": {
          "base_uri": "https://localhost:8080/"
        },
        "id": "w_a-F7a4o5-Z",
        "outputId": "7a7c6e88-dca1-4014-c34c-a714d1c616f4"
      },
      "execution_count": 40,
      "outputs": [
        {
          "output_type": "stream",
          "name": "stdout",
          "text": [
            "  (0, 882)\t0.16399376793991047\n",
            "  (0, 20873)\t0.19580522160421626\n",
            "  (0, 13250)\t0.1418479473495443\n",
            "  (0, 13012)\t0.17477899443518957\n",
            "  (0, 1811)\t0.17989949477206338\n",
            "  (0, 11153)\t0.09897970055040688\n",
            "  (0, 1608)\t0.14296754077088375\n",
            "  (0, 1044)\t0.14078044728365882\n",
            "  (0, 17755)\t0.14296754077088375\n",
            "  (0, 20800)\t0.11455042707933032\n",
            "  (0, 12495)\t0.09036048613230543\n",
            "  (0, 15157)\t0.060577321769720346\n",
            "  (0, 22538)\t0.17477899443518957\n",
            "  (0, 8162)\t0.08519367475403691\n",
            "  (0, 22484)\t0.11031131269716153\n",
            "  (0, 11222)\t0.13608100670933915\n",
            "  (0, 20286)\t0.10235662073927458\n",
            "  (0, 15235)\t0.07121741273261348\n",
            "  (0, 5236)\t0.11893459322907225\n",
            "  (0, 8023)\t0.11700512841834275\n",
            "  (0, 10000)\t0.19795940110081375\n",
            "  (0, 10720)\t0.1502023992069678\n",
            "  (0, 1959)\t0.19580522160421626\n",
            "  (0, 12692)\t0.15285276512076806\n",
            "  (0, 15238)\t0.08384609896687899\n",
            "  :\t:\n",
            "  (3734, 379)\t0.0847408618864912\n",
            "  (3734, 1608)\t0.18880589898275651\n",
            "  (3734, 1044)\t0.1859175779709501\n",
            "  (3734, 8162)\t0.3375256004862958\n",
            "  (3735, 2432)\t0.28444824987693956\n",
            "  (3735, 8453)\t0.28444824987693956\n",
            "  (3735, 2797)\t0.28444824987693956\n",
            "  (3735, 1131)\t0.28444824987693956\n",
            "  (3735, 19016)\t0.28444824987693956\n",
            "  (3735, 20989)\t0.28444824987693956\n",
            "  (3735, 6070)\t0.26134183768139707\n",
            "  (3735, 19492)\t0.2539032344236039\n",
            "  (3735, 1569)\t0.19417402537192038\n",
            "  (3735, 4584)\t0.19530415076095245\n",
            "  (3735, 9480)\t0.21958034986869135\n",
            "  (3735, 18482)\t0.16498983177357254\n",
            "  (3735, 14901)\t0.19202260109476935\n",
            "  (3735, 7925)\t0.14580977670368422\n",
            "  (3735, 11865)\t0.23430906836020024\n",
            "  (3735, 9834)\t0.1699745478315043\n",
            "  (3735, 11758)\t0.17992496272821146\n",
            "  (3735, 20400)\t0.10867013993979495\n",
            "  (3735, 20837)\t0.09375876068283863\n",
            "  (3735, 10961)\t0.12031675383219925\n",
            "  (3735, 14840)\t0.1452929367959359\n"
          ]
        }
      ]
    },
    {
      "cell_type": "markdown",
      "source": [
        "# **Get Similarity Score using Cosine Similarity**\n"
      ],
      "metadata": {
        "id": "F1s2B2S9pO2H"
      }
    },
    {
      "cell_type": "code",
      "source": [
        " from sklearn.metrics.pairwise import cosine_similarity\n"
      ],
      "metadata": {
        "id": "1zFMR2LZpg_G"
      },
      "execution_count": 41,
      "outputs": []
    },
    {
      "cell_type": "code",
      "source": [
        "Similarity_Score = cosine_similarity(x)\n"
      ],
      "metadata": {
        "id": "6Dw7zlukppaW"
      },
      "execution_count": 42,
      "outputs": []
    },
    {
      "cell_type": "code",
      "source": [
        "Similarity_Score"
      ],
      "metadata": {
        "colab": {
          "base_uri": "https://localhost:8080/"
        },
        "id": "tkTqhzqQqAZ6",
        "outputId": "2ebdf44b-45ae-48ab-f427-34fdece2de50"
      },
      "execution_count": 43,
      "outputs": [
        {
          "output_type": "execute_result",
          "data": {
            "text/plain": [
              "array([[1.        , 0.01382658, 0.03604693, ..., 0.00676268, 0.08192172,\n",
              "        0.        ],\n",
              "       [0.01382658, 1.        , 0.00808918, ..., 0.        , 0.01172742,\n",
              "        0.        ],\n",
              "       [0.03604693, 0.00808918, 1.        , ..., 0.01954575, 0.04699168,\n",
              "        0.        ],\n",
              "       ...,\n",
              "       [0.00676268, 0.        , 0.01954575, ..., 1.        , 0.        ,\n",
              "        0.005821  ],\n",
              "       [0.08192172, 0.01172742, 0.04699168, ..., 0.        , 1.        ,\n",
              "        0.        ],\n",
              "       [0.        , 0.        , 0.        , ..., 0.005821  , 0.        ,\n",
              "        1.        ]])"
            ]
          },
          "metadata": {},
          "execution_count": 43
        }
      ]
    },
    {
      "cell_type": "code",
      "source": [
        "Similarity_Score.shape"
      ],
      "metadata": {
        "colab": {
          "base_uri": "https://localhost:8080/"
        },
        "id": "_Cj3mKCWqJqO",
        "outputId": "b8f0c3b6-4acd-48aa-e8f2-f3c206747219"
      },
      "execution_count": 44,
      "outputs": [
        {
          "output_type": "execute_result",
          "data": {
            "text/plain": [
              "(3736, 3736)"
            ]
          },
          "metadata": {},
          "execution_count": 44
        }
      ]
    },
    {
      "cell_type": "markdown",
      "source": [
        "**Get Movie Name as Input from User and Validate for Closest Spelling**"
      ],
      "metadata": {
        "id": "07ygpSC0qN01"
      }
    },
    {
      "cell_type": "code",
      "source": [
        "Favourite_Movie_Name = input(' Enter your favourite movie name :')"
      ],
      "metadata": {
        "id": "UjzxHG6QrA2e",
        "colab": {
          "base_uri": "https://localhost:8080/"
        },
        "outputId": "4ecdac92-ed82-421c-fb5e-7369d29890a6"
      },
      "execution_count": 45,
      "outputs": [
        {
          "name": "stdout",
          "output_type": "stream",
          "text": [
            " Enter your favourite movie name :harry potter\n"
          ]
        }
      ]
    },
    {
      "cell_type": "code",
      "source": [
        "All_Movies_Title_List = df['Movie_Title'].tolist()"
      ],
      "metadata": {
        "id": "Qtq2jnvfshlJ"
      },
      "execution_count": 46,
      "outputs": []
    },
    {
      "cell_type": "code",
      "source": [
        "import difflib"
      ],
      "metadata": {
        "id": "r6dk2ESPsqLB"
      },
      "execution_count": 47,
      "outputs": []
    },
    {
      "cell_type": "code",
      "source": [
        "Movie_Recommendation = difflib.get_close_matches (Favourite_Movie_Name, All_Movies_Title_List)\n",
        "print(Movie_Recommendation)"
      ],
      "metadata": {
        "id": "9NGk22JGsvan",
        "colab": {
          "base_uri": "https://localhost:8080/"
        },
        "outputId": "87d46104-607b-4051-829c-ffe68771a9fb"
      },
      "execution_count": 48,
      "outputs": [
        {
          "output_type": "stream",
          "name": "stdout",
          "text": [
            "['Party Monster']\n"
          ]
        }
      ]
    },
    {
      "cell_type": "code",
      "source": [
        "Close_Match = Movie_Recommendation[0]\n",
        "print (Close_Match)"
      ],
      "metadata": {
        "id": "RNLvKO979-nq",
        "colab": {
          "base_uri": "https://localhost:8080/"
        },
        "outputId": "291c36a1-a7f8-43c1-8086-aa327adb4b9a"
      },
      "execution_count": 49,
      "outputs": [
        {
          "output_type": "stream",
          "name": "stdout",
          "text": [
            "Party Monster\n"
          ]
        }
      ]
    },
    {
      "cell_type": "code",
      "source": [
        "\n",
        "Index_of_Close_Match_Movie = df [df.Movie_Title == Close_Match]['Movie_ID'].values[0]\n",
        "print(Index_of_Close_Match_Movie)\n"
      ],
      "metadata": {
        "id": "tzQUudQmtYiQ",
        "colab": {
          "base_uri": "https://localhost:8080/"
        },
        "outputId": "965e3721-da44-476c-d709-c3d4fa020e23"
      },
      "execution_count": 50,
      "outputs": [
        {
          "output_type": "stream",
          "name": "stdout",
          "text": [
            "480\n"
          ]
        }
      ]
    },
    {
      "cell_type": "code",
      "source": [
        "# getting a list of similar movies\n",
        "\n",
        "Recommendation_Score = list(enumerate(Similarity_Score[Index_of_Close_Match_Movie]))\n",
        "print (Recommendation_Score)\n",
        "\n",
        "\n"
      ],
      "metadata": {
        "id": "rz-GrRlxuOEW",
        "colab": {
          "base_uri": "https://localhost:8080/"
        },
        "outputId": "23aaa7dd-6288-4529-9238-acfb510e0bfb"
      },
      "execution_count": 51,
      "outputs": [
        {
          "output_type": "stream",
          "name": "stdout",
          "text": [
            "[(0, 0.03688559038014728), (1, 0.010732773884911277), (2, 0.009941982019048418), (3, 0.008680662688723244), (4, 0.0), (5, 0.004019446921864555), (6, 0.013059235501939439), (7, 0.014099145425574767), (8, 0.012021032077714293), (9, 0.005498083192474922), (10, 0.004222534344622976), (11, 0.004496990375007899), (12, 0.013006434588129062), (13, 0.010044823515759454), (14, 0.022647117239262257), (15, 0.003529725007697225), (16, 0.007105976900328582), (17, 0.003810607578816616), (18, 0.016820398238821675), (19, 0.0), (20, 0.004591214317861938), (21, 0.005913979326318338), (22, 0.004223348495390256), (23, 0.014043343078026621), (24, 0.018186842739306833), (25, 0.0), (26, 0.006863116608641675), (27, 0.0), (28, 0.02090334877371906), (29, 0.0), (30, 0.0038376177303312085), (31, 0.020182667669229416), (32, 0.013906061417945929), (33, 0.00430227687077725), (34, 0.011925766965777965), (35, 0.012186933838817058), (36, 0.0061107371413322955), (37, 0.0056424079940923435), (38, 0.0050164561916965665), (39, 0.009919908448651154), (40, 0.0), (41, 0.005322928151560698), (42, 0.025281683490820786), (43, 0.006354195195964725), (44, 0.02481238792556381), (45, 0.0), (46, 0.010071645755135748), (47, 0.0), (48, 0.0), (49, 0.004213271707653927), (50, 0.0038540869510995633), (51, 0.016610445625891937), (52, 0.006847360155947567), (53, 0.006845633992688778), (54, 0.013021351062426079), (55, 0.0257515271997251), (56, 0.005812181182433773), (57, 0.011820064014271953), (58, 0.008779013102866946), (59, 0.018065893363327378), (60, 0.017781404410803777), (61, 0.018506859675922416), (62, 0.0), (63, 0.013175731561276485), (64, 0.0), (65, 0.021732326861176435), (66, 0.009781856632927844), (67, 0.0), (68, 0.00411372139851467), (69, 0.0), (70, 0.01649725857474574), (71, 0.004318523386321251), (72, 0.012957302268394758), (73, 0.004364683569324846), (74, 0.0), (75, 0.015141520839872198), (76, 0.016579723203902344), (77, 0.01065458353156334), (78, 0.0), (79, 0.009512482458110805), (80, 0.006071374916761051), (81, 0.03051030195674523), (82, 0.020860002027401812), (83, 0.015105605226358908), (84, 0.00413896173727391), (85, 0.016526258780225896), (86, 0.0), (87, 0.05748858097925567), (88, 0.01545853073122002), (89, 0.062303366828237894), (90, 0.01195245156891632), (91, 0.01097005804112797), (92, 0.012158979366903962), (93, 0.0038333795435352308), (94, 0.0035627452175101167), (95, 0.0392687876340207), (96, 0.0), (97, 0.0), (98, 0.014358133376592487), (99, 0.005555673788123281), (100, 0.0036956066879884346), (101, 0.02971780624920705), (102, 0.0), (103, 0.009458862537082417), (104, 0.004580690342550385), (105, 0.017192431514036325), (106, 0.024380503371978578), (107, 0.0), (108, 0.0038040532061334397), (109, 0.053768136422593205), (110, 0.008236358866157307), (111, 0.01521343880989659), (112, 0.0), (113, 0.0038394971704767264), (114, 0.01075060800276242), (115, 0.01226224862548795), (116, 0.016228753122386134), (117, 0.02544145178336426), (118, 0.0), (119, 0.005429301703880376), (120, 0.01475826239840324), (121, 0.027375374968439406), (122, 0.03238628292368742), (123, 0.0038813024679163347), (124, 0.005678089950325571), (125, 0.00286126449183099), (126, 0.03331000302504708), (127, 0.006282750510006074), (128, 0.0038379738946644213), (129, 0.005105014579815995), (130, 0.003725652369317849), (131, 0.017997298996020046), (132, 0.0), (133, 0.0), (134, 0.00851434598930876), (135, 0.005717669578680253), (136, 0.010717816920402006), (137, 0.0), (138, 0.011666554716238097), (139, 0.008951151587112554), (140, 0.004626409476963782), (141, 0.00365456722924925), (142, 0.013353913729389709), (143, 0.012358666769231846), (144, 0.01159106503305981), (145, 0.01403467182244655), (146, 0.0), (147, 0.03065537062897), (148, 0.008202402230074965), (149, 0.0), (150, 0.009009099541246963), (151, 0.02862150213070327), (152, 0.024815936876747265), (153, 0.005528264160123909), (154, 0.0), (155, 0.005848086705084163), (156, 0.008017903497081825), (157, 0.016920406700791438), (158, 0.03796961372627614), (159, 0.004818477126990988), (160, 0.004135409315675713), (161, 0.004753757895138289), (162, 0.05860143896033232), (163, 0.0), (164, 0.010309821264997882), (165, 0.005170133887675822), (166, 0.005118074912708741), (167, 0.004221803632326207), (168, 0.016939032602918735), (169, 0.005519568912964665), (170, 0.005104745454661465), (171, 0.012857085473079467), (172, 0.00917989738672648), (173, 0.014215081432790256), (174, 0.015899544728952896), (175, 0.0), (176, 0.0), (177, 0.01068471061113553), (178, 0.0035354814866685918), (179, 0.004643778127440925), (180, 0.00423911281409279), (181, 0.02205709642324222), (182, 0.003560758987022051), (183, 0.003483178831930217), (184, 0.0), (185, 0.0041013140581487905), (186, 0.009165531284981779), (187, 0.003789388747646083), (188, 0.012356710300268402), (189, 0.0026664090671185826), (190, 0.013948034293761465), (191, 0.019501298016711237), (192, 0.0), (193, 0.004365891913857579), (194, 0.0), (195, 0.024346693112944226), (196, 0.0062778751498615), (197, 0.0), (198, 0.0), (199, 0.0), (200, 0.0), (201, 0.0038947610682293606), (202, 0.016080958744652228), (203, 0.004902682541751385), (204, 0.02341459815469552), (205, 0.006888725608567703), (206, 0.005288366295069338), (207, 0.0038957100812687935), (208, 0.014215032303346748), (209, 0.0), (210, 0.0031784133304962304), (211, 0.0), (212, 0.0), (213, 0.003096822776815867), (214, 0.0), (215, 0.0058152262124304245), (216, 0.036604788205949056), (217, 0.0240124936906774), (218, 0.016677400992582483), (219, 0.010129255521932345), (220, 0.0), (221, 0.003820824970947633), (222, 0.00545288147875971), (223, 0.004116656565902852), (224, 0.0), (225, 0.0), (226, 0.00661871226372878), (227, 0.014826674283759837), (228, 0.007177369757015156), (229, 0.03469944801564568), (230, 0.0), (231, 0.013223553290514691), (232, 0.0056989358852095155), (233, 0.0), (234, 0.0), (235, 0.008959574690239312), (236, 0.0), (237, 0.0042676803336986245), (238, 0.0032640450739329528), (239, 0.015819534831548576), (240, 0.012151666403860242), (241, 0.005160970092983656), (242, 0.011791095526382283), (243, 0.011673630456958229), (244, 0.0), (245, 0.017124413598542946), (246, 0.011994654595059922), (247, 0.0), (248, 0.0117014243277347), (249, 0.0036224651854961628), (250, 0.02600997497737713), (251, 0.03860443422743422), (252, 0.004106177245882812), (253, 0.012051300921622168), (254, 0.0), (255, 0.005902984486389497), (256, 0.0046093730299110874), (257, 0.03549691222658835), (258, 0.014759189808758505), (259, 0.02061676411417708), (260, 0.0), (261, 0.0), (262, 0.010175323016116436), (263, 0.009849147779343469), (264, 0.007222502302876356), (265, 0.011122551692685532), (266, 0.0), (267, 0.04322438589991308), (268, 0.005765686866488407), (269, 0.009427850333402299), (270, 0.009752302982566751), (271, 0.010662922072192972), (272, 0.0), (273, 0.017279232459021732), (274, 0.0), (275, 0.004053041035289905), (276, 0.010281867516663984), (277, 0.012563713875098794), (278, 0.007121075925417036), (279, 0.007099102704365202), (280, 0.006796988595713077), (281, 0.012194332144271146), (282, 0.02451938056417289), (283, 0.0), (284, 0.005565978684216049), (285, 0.0), (286, 0.011490218589501871), (287, 0.010911603400662127), (288, 0.009314742739539384), (289, 0.008187956276770054), (290, 0.011408688360184832), (291, 0.0), (292, 0.011268723209111393), (293, 0.0061157546661841705), (294, 0.010117059281914049), (295, 0.022759626601642307), (296, 0.010972578104144764), (297, 0.06127926390679003), (298, 0.0043709765655908246), (299, 0.02084954850411056), (300, 0.012143948828818715), (301, 0.01754567444939987), (302, 0.01756369805991207), (303, 0.010916316893419875), (304, 0.010524986643482184), (305, 0.0038805283657929314), (306, 0.026783559786766862), (307, 0.01717665014057031), (308, 0.011515806227518454), (309, 0.01977996735926249), (310, 0.0), (311, 0.04402673123236925), (312, 0.004542852883938561), (313, 0.009770515451721931), (314, 0.010462256078035286), (315, 0.018109695417316798), (316, 0.0), (317, 0.0), (318, 0.0), (319, 0.013836212088272602), (320, 0.06755705451804525), (321, 0.01075497553026722), (322, 0.015634302909609172), (323, 0.0228020838839701), (324, 0.016576487698457765), (325, 0.02749764362021201), (326, 0.0), (327, 0.003991345273858734), (328, 0.003972175810160037), (329, 0.010084283971537695), (330, 0.0032237177647105636), (331, 0.0), (332, 0.010011152431016055), (333, 0.0054998693980494616), (334, 0.014652263999811519), (335, 0.02049588975158082), (336, 0.003606979743964997), (337, 0.01550900012802146), (338, 0.0037807332117227037), (339, 0.0), (340, 0.018430627867593977), (341, 0.053839383146945134), (342, 0.04803601318515271), (343, 0.009700987898477285), (344, 0.019671688887548538), (345, 0.0), (346, 0.0), (347, 0.007727781426992433), (348, 0.0), (349, 0.0040126115010483245), (350, 0.004362027300109653), (351, 0.003825926610513466), (352, 0.015043598645112177), (353, 0.015569668389805747), (354, 0.005219162900687689), (355, 0.0), (356, 0.0), (357, 0.0), (358, 0.004609794378132664), (359, 0.0), (360, 0.04249503249094486), (361, 0.004741199887144284), (362, 0.0), (363, 0.0), (364, 0.0), (365, 0.012149365881045607), (366, 0.004095643333802506), (367, 0.003874144772610282), (368, 0.0), (369, 0.011270688522922342), (370, 0.0), (371, 0.0), (372, 0.004273482911208526), (373, 0.0), (374, 0.0), (375, 0.004748616221308988), (376, 0.0), (377, 0.0), (378, 0.00399287162474853), (379, 0.007032175980331602), (380, 0.008769584311032842), (381, 0.01084185396878841), (382, 0.011422589023566559), (383, 0.02157616739754596), (384, 0.0038643644372542653), (385, 0.0063597557313264715), (386, 0.033195790339820404), (387, 0.0), (388, 0.040702746498419276), (389, 0.017462233120341758), (390, 0.004533058155409799), (391, 0.0), (392, 0.0036819446037960157), (393, 0.03732170737671804), (394, 0.04856403521724792), (395, 0.0), (396, 0.008768006161847138), (397, 0.0), (398, 0.010994470330583069), (399, 0.013363296021922245), (400, 0.013301564155933709), (401, 0.01079502510676902), (402, 0.0), (403, 0.015432891433814827), (404, 0.0042486239244887425), (405, 0.004195667268575309), (406, 0.0), (407, 0.013139013471110838), (408, 0.025519363747723876), (409, 0.004173122949629417), (410, 0.0047647169832912145), (411, 0.012224016083368308), (412, 0.0), (413, 0.0), (414, 0.008547369445956956), (415, 0.007775829442251284), (416, 0.004571896305477101), (417, 0.0), (418, 0.005291064803907412), (419, 0.005959816945285113), (420, 0.0), (421, 0.004780525157325712), (422, 0.016468984201158852), (423, 0.00433206546667617), (424, 0.004986205421425014), (425, 0.02156168148044777), (426, 0.003300488319258254), (427, 0.0), (428, 0.037426637941320666), (429, 0.004312191967206504), (430, 0.009730773451365367), (431, 0.0334517643768827), (432, 0.03746920351140963), (433, 0.0), (434, 0.009082366149441395), (435, 0.02187457799276469), (436, 0.02835620230609134), (437, 0.011119209266688012), (438, 0.011740004739369009), (439, 0.016601844495371325), (440, 0.009882668889766986), (441, 0.0221547495514508), (442, 0.0038756430371104517), (443, 0.030005834606470584), (444, 0.0), (445, 0.003667721549326439), (446, 0.01466727301924221), (447, 0.004130554817332652), (448, 0.0035818578862790223), (449, 0.004410563671512405), (450, 0.0), (451, 0.04098980695682684), (452, 0.0), (453, 0.0), (454, 0.014842972795779119), (455, 0.004840070838995), (456, 0.004312128188615476), (457, 0.0), (458, 0.008236073409833794), (459, 0.024556471677750852), (460, 0.010482299116776245), (461, 0.022782209991916307), (462, 0.0), (463, 0.004891482946803289), (464, 0.010962203395671897), (465, 0.004160702376968719), (466, 0.0), (467, 0.004106246771035876), (468, 0.0), (469, 0.0), (470, 0.024432075330412882), (471, 0.004109210234058129), (472, 0.014919886627413358), (473, 0.021131649664982745), (474, 0.005821296095773665), (475, 0.0054038539033594395), (476, 0.005675389561048835), (477, 0.02183286432969922), (478, 0.005119027692556386), (479, 0.005365742713230818), (480, 1.0), (481, 0.0), (482, 0.005988317638109737), (483, 0.014595130589046863), (484, 0.006064783061422318), (485, 0.0), (486, 0.0), (487, 0.027052944438686357), (488, 0.02282290657173664), (489, 0.0), (490, 0.0), (491, 0.0), (492, 0.016188281091887233), (493, 0.009878486107378744), (494, 0.0), (495, 0.0), (496, 0.025101494968294096), (497, 0.020620183638292346), (498, 0.011694157626283432), (499, 0.011225330213310087), (500, 0.0), (501, 0.0029720923202805004), (502, 0.004221622697494801), (503, 0.04252308946689551), (504, 0.01864037393315905), (505, 0.01670567325870266), (506, 0.01825152966584915), (507, 0.03443480984801088), (508, 0.0), (509, 0.01275741607739654), (510, 0.01664302441107901), (511, 0.0), (512, 0.022299089576609348), (513, 0.005016031361555216), (514, 0.014343345738921416), (515, 0.0), (516, 0.0), (517, 0.003700083206839923), (518, 0.0), (519, 0.005212106998052329), (520, 0.008406481930062102), (521, 0.012171578784023376), (522, 0.0037456210582772122), (523, 0.004638627567761448), (524, 0.0239366544577556), (525, 0.004936325421915158), (526, 0.017260381639176068), (527, 0.010928381621971597), (528, 0.03204883444508867), (529, 0.011795457431858131), (530, 0.0), (531, 0.0), (532, 0.01055527963056263), (533, 0.003939452598620491), (534, 0.004150385415596074), (535, 0.004186782848447728), (536, 0.0), (537, 0.020678686667115868), (538, 0.005457745697026378), (539, 0.004293917361532503), (540, 0.0), (541, 0.014747264441168839), (542, 0.0044456269003890336), (543, 0.004152319912648989), (544, 0.0038354223786635083), (545, 0.0037222470744692026), (546, 0.007378981669131855), (547, 0.011995457489206891), (548, 0.010156787020975626), (549, 0.015670203286587435), (550, 0.003959488131891059), (551, 0.019493404804497495), (552, 0.018267104074397793), (553, 0.010562892706773118), (554, 0.01027181681109381), (555, 0.0069795517050024606), (556, 0.014061895881329596), (557, 0.0037964434708361904), (558, 0.004266662606777342), (559, 0.003169955733982111), (560, 0.009952954462493141), (561, 0.01310028628111605), (562, 0.039250676210414386), (563, 0.003494921526458615), (564, 0.004437761540283601), (565, 0.026225603366728654), (566, 0.01055565196813225), (567, 0.017842685926575834), (568, 0.04193990860495263), (569, 0.0035797847413108616), (570, 0.01701400844161776), (571, 0.005007001978025419), (572, 0.011521620930067448), (573, 0.01414282963207873), (574, 0.016110040991540748), (575, 0.00447916383734523), (576, 0.04145607274433727), (577, 0.0), (578, 0.003484149391175617), (579, 0.004010843804686219), (580, 0.018060074564719593), (581, 0.0), (582, 0.018438884130616583), (583, 0.0047486167328423265), (584, 0.0), (585, 0.0), (586, 0.019635509956744356), (587, 0.004162598600397047), (588, 0.004067133573214407), (589, 0.0171819578876414), (590, 0.010050150280890022), (591, 0.010387133640437973), (592, 0.02778867647229842), (593, 0.0035479997285193425), (594, 0.02899292263308756), (595, 0.009274913189773321), (596, 0.0), (597, 0.0), (598, 0.032185416184244205), (599, 0.0), (600, 0.0), (601, 0.03754829464262028), (602, 0.004198180769190691), (603, 0.008110263136491913), (604, 0.0), (605, 0.0038217636392116495), (606, 0.005352396437930434), (607, 0.013866157538048852), (608, 0.0), (609, 0.003818392372374838), (610, 0.037077725933214775), (611, 0.017572396300170205), (612, 0.01052249995840222), (613, 0.0), (614, 0.005378501696574458), (615, 0.0106958633858715), (616, 0.013117338570867297), (617, 0.020271587330829833), (618, 0.013970957407673724), (619, 0.04206323036397819), (620, 0.006121404429882726), (621, 0.030628987342546363), (622, 0.04008354757363281), (623, 0.011985756559825644), (624, 0.0), (625, 0.003939196143460171), (626, 0.01589363656316288), (627, 0.02220737293109282), (628, 0.0), (629, 0.0), (630, 0.014653990717086377), (631, 0.035689711383447), (632, 0.018193272647506118), (633, 0.011868130156948533), (634, 0.0), (635, 0.0194890663805955), (636, 0.010023399196068424), (637, 0.009764530557132809), (638, 0.004963452593229457), (639, 0.01392593490885861), (640, 0.015140404815071264), (641, 0.0), (642, 0.0), (643, 0.004112609476364201), (644, 0.02172358197910587), (645, 0.004030511500153657), (646, 0.005997950170154834), (647, 0.007175865348405541), (648, 0.004543263254146892), (649, 0.0), (650, 0.0037065453979925186), (651, 0.008995069872840782), (652, 0.039046229109761466), (653, 0.0034286150764169816), (654, 0.0), (655, 0.0), (656, 0.005648886871114996), (657, 0.0), (658, 0.012785647194231772), (659, 0.02341915889834864), (660, 0.011942551609945607), (661, 0.03095525038094863), (662, 0.017575327748985556), (663, 0.02342406431307229), (664, 0.0), (665, 0.0126120938059214), (666, 0.0036513844294145266), (667, 0.021575517235273865), (668, 0.017538371413352644), (669, 0.010072205778357874), (670, 0.014857344417939074), (671, 0.009041413232399272), (672, 0.009721276190921571), (673, 0.009988116568882242), (674, 0.010813695621644505), (675, 0.0), (676, 0.008719833904188406), (677, 0.0035450552274392004), (678, 0.009379124083555897), (679, 0.0), (680, 0.01893477765509332), (681, 0.004168575424870213), (682, 0.0045361168812123745), (683, 0.013857435113482744), (684, 0.0), (685, 0.009524575367462651), (686, 0.004238463028832756), (687, 0.014266233951767758), (688, 0.016213844507817127), (689, 0.0), (690, 0.0), (691, 0.006225421918691429), (692, 0.037769595021439825), (693, 0.032479681748521866), (694, 0.00787958206882273), (695, 0.006187012174199248), (696, 0.0), (697, 0.004093285450513256), (698, 0.016461198136325145), (699, 0.009661222865253765), (700, 0.00587874455638245), (701, 0.0), (702, 0.0), (703, 0.010511204563954149), (704, 0.024003163028777384), (705, 0.0), (706, 0.005498290943740864), (707, 0.0), (708, 0.0), (709, 0.015526297241819434), (710, 0.0), (711, 0.0), (712, 0.0), (713, 0.010492170777576335), (714, 0.004326025049604477), (715, 0.014786617824582005), (716, 0.0), (717, 0.006213791455694869), (718, 0.004515122983480419), (719, 0.011185390088086179), (720, 0.011400607515770657), (721, 0.006245308298977794), (722, 0.0), (723, 0.0), (724, 0.022809898511418843), (725, 0.01485716808448306), (726, 0.0), (727, 0.0), (728, 0.0), (729, 0.004296868211390972), (730, 0.024024627219040803), (731, 0.016419681498400254), (732, 0.005897792323675146), (733, 0.0034876356553861835), (734, 0.0), (735, 0.0038632315789727256), (736, 0.004001377253511366), (737, 0.04916589565690848), (738, 0.0), (739, 0.0), (740, 0.004558067060955293), (741, 0.008377384454340187), (742, 0.0), (743, 0.015528483318794853), (744, 0.009178237753799246), (745, 0.014274344258273444), (746, 0.040733940448799674), (747, 0.0), (748, 0.0), (749, 0.13403480391857736), (750, 0.004676646803589787), (751, 0.011974946505272723), (752, 0.03973178970751514), (753, 0.0035455186142427622), (754, 0.0060629068972302995), (755, 0.01808015977806628), (756, 0.0), (757, 0.026111013847065826), (758, 0.017741749496003746), (759, 0.0), (760, 0.0028679759396613427), (761, 0.046019115265736044), (762, 0.0048099028211819085), (763, 0.0), (764, 0.0), (765, 0.004232142295234736), (766, 0.01822162374339861), (767, 0.0040632900198787755), (768, 0.036299099788032974), (769, 0.037374869645859454), (770, 0.03595986843540819), (771, 0.0), (772, 0.0), (773, 0.02065018639252888), (774, 0.0), (775, 0.0), (776, 0.0), (777, 0.014056399088045039), (778, 0.008398134769534524), (779, 0.010476939861700642), (780, 0.005265036418695591), (781, 0.0), (782, 0.011230787182954317), (783, 0.005449478427702639), (784, 0.012300034570672504), (785, 0.010066353001539033), (786, 0.008280170630847804), (787, 0.010443738866231702), (788, 0.004655031663965038), (789, 0.00890895133098733), (790, 0.0), (791, 0.01888076198378733), (792, 0.004564543818660155), (793, 0.00286230923974431), (794, 0.010701476282780908), (795, 0.0035094347306445575), (796, 0.0), (797, 0.0), (798, 0.02455785327285428), (799, 0.004320247472172263), (800, 0.008724024236566718), (801, 0.016110846922112704), (802, 0.015744870940764853), (803, 0.005163411576329443), (804, 0.0098088550342634), (805, 0.01108235388412292), (806, 0.016828220062602532), (807, 0.015799748654613775), (808, 0.01601441203097308), (809, 0.012628948059117299), (810, 0.0), (811, 0.019816336397394836), (812, 0.004272035444102398), (813, 0.003892011102559646), (814, 0.0), (815, 0.0), (816, 0.0), (817, 0.0), (818, 0.0), (819, 0.003761572248209697), (820, 0.0), (821, 0.0043878698150120335), (822, 0.012093410963254076), (823, 0.005426567996218746), (824, 0.0), (825, 0.0), (826, 0.0040517116212897275), (827, 0.011115492374088912), (828, 0.004322089342290598), (829, 0.010216591722195186), (830, 0.0), (831, 0.011087111732683159), (832, 0.009444617337240151), (833, 0.0), (834, 0.005190983981267782), (835, 0.03872383510426395), (836, 0.005811121696560217), (837, 0.023768492603071505), (838, 0.0038183255334343575), (839, 0.005263076775473021), (840, 0.01775748601890845), (841, 0.00374034400300994), (842, 0.03855640978564356), (843, 0.009666854618405493), (844, 0.005349395234612095), (845, 0.022178622013840722), (846, 0.02415796471881762), (847, 0.012208909741828956), (848, 0.01296302389538587), (849, 0.016272973684749517), (850, 0.012662915315100108), (851, 0.004104266424250833), (852, 0.018369449617574512), (853, 0.005323288667991281), (854, 0.0), (855, 0.005248462317381352), (856, 0.007002145167650842), (857, 0.004259582764619315), (858, 0.01118331237256302), (859, 0.0), (860, 0.014841239775262648), (861, 0.0064986441305513705), (862, 0.01520285810937008), (863, 0.0), (864, 0.010940765423545114), (865, 0.0071505240343557475), (866, 0.015350959249786862), (867, 0.01424328615423081), (868, 0.011635304008734602), (869, 0.023163177126096664), (870, 0.0063295198121315), (871, 0.006991375181058667), (872, 0.0), (873, 0.009809413635446428), (874, 0.02319846415862103), (875, 0.0032485596565062515), (876, 0.011355200201518707), (877, 0.0), (878, 0.012668741935440656), (879, 0.024509463252731248), (880, 0.0056341197097752455), (881, 0.004006839875127549), (882, 0.0), (883, 0.011696305869769245), (884, 0.009685510490270848), (885, 0.014262343291587345), (886, 0.0), (887, 0.012169470725410109), (888, 0.021542616743163184), (889, 0.02048507638123535), (890, 0.04415848419644537), (891, 0.004069279537802946), (892, 0.00535005780505084), (893, 0.0), (894, 0.0), (895, 0.0), (896, 0.004850490115845797), (897, 0.0038274519236915832), (898, 0.01520223181489751), (899, 0.011575353543887435), (900, 0.0), (901, 0.005323885187945787), (902, 0.004133081528921419), (903, 0.008311933594113611), (904, 0.0), (905, 0.0), (906, 0.0), (907, 0.004676039414864874), (908, 0.0), (909, 0.003948768465943733), (910, 0.003944343297629965), (911, 0.012562780629420817), (912, 0.004301426949378065), (913, 0.0054573832526706575), (914, 0.0), (915, 0.005258748804648139), (916, 0.0), (917, 0.004627063301898181), (918, 0.008401856128837334), (919, 0.015125038454094459), (920, 0.003888103209582133), (921, 0.015903915765183272), (922, 0.0), (923, 0.012062705973813021), (924, 0.010389360419711141), (925, 0.02470553592794956), (926, 0.025957851844064517), (927, 0.01966037663457846), (928, 0.004316871588015053), (929, 0.025084714043171072), (930, 0.01765427705673041), (931, 0.018448413511632754), (932, 0.03752170675041281), (933, 0.015837895961554924), (934, 0.006039073264937386), (935, 0.015274735136192734), (936, 0.02290873523568006), (937, 0.0208770739458965), (938, 0.006648943896460353), (939, 0.01705403879469736), (940, 0.005324998739256914), (941, 0.01059014792456526), (942, 0.015250147953957372), (943, 0.003975545834557805), (944, 0.020137046192036493), (945, 0.0), (946, 0.029371462712321758), (947, 0.005316726257119209), (948, 0.0), (949, 0.01683300360159749), (950, 0.003825098829173483), (951, 0.004044626040684123), (952, 0.0), (953, 0.005054201069950585), (954, 0.0), (955, 0.0), (956, 0.00382618635812031), (957, 0.0), (958, 0.0063973543363090146), (959, 0.008947729577563599), (960, 0.03870111075338938), (961, 0.027133919420451676), (962, 0.0), (963, 0.006136259378620699), (964, 0.009540504306985564), (965, 0.003790724002502039), (966, 0.034661969706211486), (967, 0.0), (968, 0.005250369513597689), (969, 0.0), (970, 0.0), (971, 0.0), (972, 0.00392772453677775), (973, 0.0), (974, 0.0), (975, 0.004927342361210011), (976, 0.004814620293092596), (977, 0.026305750180629778), (978, 0.01975150037113483), (979, 0.014589864303166476), (980, 0.004230884674680438), (981, 0.0), (982, 0.010909038753656005), (983, 0.010107178400959739), (984, 0.03142783528136062), (985, 0.0034806946982385897), (986, 0.020100716792520415), (987, 0.003660033286108054), (988, 0.01087559500475829), (989, 0.0048986956562181855), (990, 0.014297494097933131), (991, 0.011287421711652383), (992, 0.0), (993, 0.012536746121261159), (994, 0.0035175524733726963), (995, 0.012417375988290721), (996, 0.020516834880044535), (997, 0.005648860760230962), (998, 0.0046591993761223105), (999, 0.018579705939028624), (1000, 0.029787978463033625), (1001, 0.005400634187858915), (1002, 0.010654051874036187), (1003, 0.0), (1004, 0.0), (1005, 0.019354338446434825), (1006, 0.0), (1007, 0.0), (1008, 0.02430123693876213), (1009, 0.0), (1010, 0.0), (1011, 0.01174571306590276), (1012, 0.0), (1013, 0.0037952951050379117), (1014, 0.012253711959716206), (1015, 0.004516540234833485), (1016, 0.0), (1017, 0.0179283633450772), (1018, 0.014388391117104563), (1019, 0.011410255954141888), (1020, 0.02730660024362947), (1021, 0.0450051204843698), (1022, 0.006238458953473234), (1023, 0.011142916886544995), (1024, 0.005846356324574864), (1025, 0.004481738164657484), (1026, 0.0), (1027, 0.009461081216762993), (1028, 0.003985442378149623), (1029, 0.006235930950978797), (1030, 0.0), (1031, 0.0), (1032, 0.025564850371498554), (1033, 0.0059148111327487676), (1034, 0.028276631850755303), (1035, 0.0), (1036, 0.004140207578501629), (1037, 0.003913608647199326), (1038, 0.0), (1039, 0.07046188561254592), (1040, 0.022441234938160408), (1041, 0.03792120614222413), (1042, 0.004157150008013443), (1043, 0.03752779885624195), (1044, 0.0), (1045, 0.0042336978142085094), (1046, 0.02858380924048773), (1047, 0.0), (1048, 0.0), (1049, 0.013528752400552721), (1050, 0.0060628096128439), (1051, 0.0), (1052, 0.012271839636329248), (1053, 0.005080438441836855), (1054, 0.013660988657633025), (1055, 0.0038114230069332274), (1056, 0.004908137773115807), (1057, 0.01118084884800164), (1058, 0.0), (1059, 0.02165304443229974), (1060, 0.0), (1061, 0.05918538466783155), (1062, 0.004104949277079492), (1063, 0.004530764900524958), (1064, 0.006932278537729375), (1065, 0.0), (1066, 0.0), (1067, 0.0), (1068, 0.0), (1069, 0.004016203799682907), (1070, 0.0), (1071, 0.018055524033335782), (1072, 0.029819169994398605), (1073, 0.0054787695797729515), (1074, 0.02559237670488935), (1075, 0.004170994778690699), (1076, 0.003869935233055239), (1077, 0.0), (1078, 0.016198966020150144), (1079, 0.0), (1080, 0.0), (1081, 0.008771951598651717), (1082, 0.004586823977625409), (1083, 0.01220427731876067), (1084, 0.0036175590600256097), (1085, 0.00432975922623234), (1086, 0.0), (1087, 0.0), (1088, 0.00405610776356868), (1089, 0.010232553898164538), (1090, 0.0), (1091, 0.011110927817188998), (1092, 0.02447251929416569), (1093, 0.0), (1094, 0.0), (1095, 0.006876722174172416), (1096, 0.003643604065403773), (1097, 0.0), (1098, 0.0), (1099, 0.015788483134862794), (1100, 0.0), (1101, 0.0), (1102, 0.0), (1103, 0.02219756998761112), (1104, 0.01135858563576439), (1105, 0.004950079983885198), (1106, 0.014240583149241785), (1107, 0.024020637717727708), (1108, 0.011206499598926655), (1109, 0.004388418998645716), (1110, 0.0), (1111, 0.004356326575660123), (1112, 0.018676673274828165), (1113, 0.02736065485585335), (1114, 0.02414936100864793), (1115, 0.0), (1116, 0.020229341436526785), (1117, 0.009556431342370315), (1118, 0.0), (1119, 0.0), (1120, 0.0041689212820906875), (1121, 0.004332861945405779), (1122, 0.01684235753558765), (1123, 0.010995092333823491), (1124, 0.01186744638309166), (1125, 0.01219369846688547), (1126, 0.009619196542862559), (1127, 0.004953959948071865), (1128, 0.0), (1129, 0.004130716409366016), (1130, 0.0), (1131, 0.0), (1132, 0.02165369214891565), (1133, 0.029743494692151363), (1134, 0.0036218458864017704), (1135, 0.005915593706855803), (1136, 0.012064013828051312), (1137, 0.007910914142368023), (1138, 0.006157841752211207), (1139, 0.01619875540278135), (1140, 0.012128563789831355), (1141, 0.018106315988696053), (1142, 0.01189387920410653), (1143, 0.01526628870159413), (1144, 0.052362241701449264), (1145, 0.010746403828265064), (1146, 0.0061826180717576), (1147, 0.021715861899375855), (1148, 0.009287344036314784), (1149, 0.004949743695387148), (1150, 0.07490643638689187), (1151, 0.009556467356860828), (1152, 0.0), (1153, 0.020912099220836873), (1154, 0.00618320409155532), (1155, 0.00472357285994743), (1156, 0.0), (1157, 0.003933660816197506), (1158, 0.04774647381155764), (1159, 0.0), (1160, 0.025777940132371974), (1161, 0.005618028203138879), (1162, 0.0), (1163, 0.052565063070893175), (1164, 0.0), (1165, 0.0), (1166, 0.03520550105396809), (1167, 0.014525368222679885), (1168, 0.004929671209390683), (1169, 0.004539337212045974), (1170, 0.0038535066917544094), (1171, 0.0), (1172, 0.022791561568198324), (1173, 0.005044190880031113), (1174, 0.012831896627895962), (1175, 0.004648980812317714), (1176, 0.0), (1177, 0.031681653588741386), (1178, 0.0), (1179, 0.005101444853505409), (1180, 0.004235245729469291), (1181, 0.006692518876767324), (1182, 0.006073213913508405), (1183, 0.0), (1184, 0.008163464499550896), (1185, 0.0), (1186, 0.0), (1187, 0.022972801923074448), (1188, 0.0), (1189, 0.0), (1190, 0.013908527748543082), (1191, 0.0), (1192, 0.010786959464833388), (1193, 0.0), (1194, 0.009143596738467825), (1195, 0.027623121695389635), (1196, 0.011147000334652015), (1197, 0.0032996013187982553), (1198, 0.0), (1199, 0.0033897873722922426), (1200, 0.03746797971624361), (1201, 0.012139927772348815), (1202, 0.025925859365578986), (1203, 0.010214710175636268), (1204, 0.022220896603470652), (1205, 0.0), (1206, 0.0053752682115388835), (1207, 0.04750234077658576), (1208, 0.01860361982139003), (1209, 0.011556706971246871), (1210, 0.0054444939368660005), (1211, 0.005030734419703045), (1212, 0.003613495476100223), (1213, 0.0), (1214, 0.0042047970131855695), (1215, 0.013199382538334671), (1216, 0.0), (1217, 0.0), (1218, 0.011357526518881703), (1219, 0.004531919688035164), (1220, 0.009834589915551032), (1221, 0.012021571036534388), (1222, 0.0125871620567953), (1223, 0.005901061011140335), (1224, 0.019998717524999477), (1225, 0.032495902802407294), (1226, 0.005791845058402187), (1227, 0.018762552494698825), (1228, 0.004043449257939088), (1229, 0.009378999910598719), (1230, 0.0), (1231, 0.009030830142506923), (1232, 0.009172632327317678), (1233, 0.0), (1234, 0.0038004424319911046), (1235, 0.036656604541926735), (1236, 0.012310170742962683), (1237, 0.0), (1238, 0.0), (1239, 0.006112367172905876), (1240, 0.012461166221383949), (1241, 0.0), (1242, 0.004591679906807443), (1243, 0.0044836752964174656), (1244, 0.022675911504720325), (1245, 0.014200400628332537), (1246, 0.0), (1247, 0.010857895624822332), (1248, 0.0), (1249, 0.013063165890981802), (1250, 0.008619110580950405), (1251, 0.01692825363871296), (1252, 0.006256197056819085), (1253, 0.003890028459636832), (1254, 0.026180811027408078), (1255, 0.0), (1256, 0.0), (1257, 0.004303412079057418), (1258, 0.0035079672514989856), (1259, 0.010724704935220385), (1260, 0.0), (1261, 0.011207947019922875), (1262, 0.014202240087807395), (1263, 0.0035291111383974377), (1264, 0.003784845051403748), (1265, 0.017440394733361928), (1266, 0.01922156756629619), (1267, 0.0038038779795967897), (1268, 0.011725233617622881), (1269, 0.012909432290741714), (1270, 0.0040385998432636416), (1271, 0.015515179470982854), (1272, 0.0123368635913267), (1273, 0.01366632275564705), (1274, 0.010625323644665063), (1275, 0.037021423401256824), (1276, 0.017697359533665493), (1277, 0.0317134200684014), (1278, 0.0067059518026419875), (1279, 0.014115262581920179), (1280, 0.0071433071230444555), (1281, 0.029624273432475187), (1282, 0.0), (1283, 0.0), (1284, 0.0), (1285, 0.005472422189607056), (1286, 0.012997062039013236), (1287, 0.0), (1288, 0.04733030334510405), (1289, 0.01833230915932117), (1290, 0.03935520339198172), (1291, 0.004217104705636993), (1292, 0.019522191481970905), (1293, 0.0), (1294, 0.017129307348026722), (1295, 0.0), (1296, 0.0), (1297, 0.005084961294549434), (1298, 0.006186158021659984), (1299, 0.017000006224280814), (1300, 0.0), (1301, 0.0040801571740997624), (1302, 0.0), (1303, 0.06407074457397305), (1304, 0.015561425149971088), (1305, 0.0035725313030728354), (1306, 0.0), (1307, 0.040746109785044234), (1308, 0.01876416047367929), (1309, 0.005213379853399672), (1310, 0.005939104419346663), (1311, 0.003954529579022493), (1312, 0.0040025162330916695), (1313, 0.023509243296865344), (1314, 0.016435128445055087), (1315, 0.0), (1316, 0.003727860183726673), (1317, 0.0), (1318, 0.010817457336749828), (1319, 0.0), (1320, 0.005451053214666035), (1321, 0.0), (1322, 0.0), (1323, 0.012079432295768775), (1324, 0.003960513276449012), (1325, 0.0), (1326, 0.011964075096008315), (1327, 0.0), (1328, 0.013030585198419537), (1329, 0.029440696409794142), (1330, 0.02741294928064797), (1331, 0.009722652246116063), (1332, 0.0), (1333, 0.0038891497092109688), (1334, 0.0), (1335, 0.010276758813640919), (1336, 0.0), (1337, 0.005070665647062607), (1338, 0.009778075151117454), (1339, 0.005114470525705346), (1340, 0.050808287056539475), (1341, 0.0), (1342, 0.020816141093664423), (1343, 0.006802502955413216), (1344, 0.013445401108905007), (1345, 0.006080321300973633), (1346, 0.0037450628195310537), (1347, 0.015754585986556987), (1348, 0.0), (1349, 0.010545191307479235), (1350, 0.0260715790547785), (1351, 0.004010640956348684), (1352, 0.011004422182388346), (1353, 0.005231281321018708), (1354, 0.0071090921503703915), (1355, 0.027537693009963164), (1356, 0.0040049709534603194), (1357, 0.0), (1358, 0.02379626637724109), (1359, 0.029229860973646382), (1360, 0.0040342343065981525), (1361, 0.01902519197518288), (1362, 0.00874710539459905), (1363, 0.012454707133037096), (1364, 0.0), (1365, 0.0038743434227090073), (1366, 0.010112780367524929), (1367, 0.009014095676644664), (1368, 0.005265345434354986), (1369, 0.0), (1370, 0.01217399745469971), (1371, 0.0), (1372, 0.003979475223254602), (1373, 0.00463372193409894), (1374, 0.00654339673181514), (1375, 0.005243428763015531), (1376, 0.022272101915265963), (1377, 0.00610695451503421), (1378, 0.0071858416038772955), (1379, 0.0), (1380, 0.0047139232506417566), (1381, 0.005847556975399607), (1382, 0.006021444290173333), (1383, 0.005249729064589359), (1384, 0.014302000049761506), (1385, 0.0051733924285343), (1386, 0.03260965287383884), (1387, 0.01696471533902648), (1388, 0.0), (1389, 0.0), (1390, 0.015149482305423217), (1391, 0.020358838563093735), (1392, 0.005540329649139072), (1393, 0.02002377686397231), (1394, 0.015817895929064976), (1395, 0.03207129464339883), (1396, 0.005367027312089012), (1397, 0.0), (1398, 0.004398330223259999), (1399, 0.00962615540207816), (1400, 0.0), (1401, 0.006182037406984402), (1402, 0.011993686152072497), (1403, 0.0), (1404, 0.009591859132149287), (1405, 0.011018486511609303), (1406, 0.005896828876869219), (1407, 0.033684071147776974), (1408, 0.0), (1409, 0.0061868024558638605), (1410, 0.00434373946989522), (1411, 0.0), (1412, 0.0), (1413, 0.0041002622923400995), (1414, 0.0), (1415, 0.004325594108631208), (1416, 0.005158045975448259), (1417, 0.021543655010091076), (1418, 0.005489673918956668), (1419, 0.018918097286845084), (1420, 0.005931316593845787), (1421, 0.0), (1422, 0.0), (1423, 0.014281645672365183), (1424, 0.004946025744553798), (1425, 0.004873270056899311), (1426, 0.00459252230689542), (1427, 0.0), (1428, 0.0), (1429, 0.0), (1430, 0.006016715539122368), (1431, 0.05271480064166616), (1432, 0.005236414013630557), (1433, 0.01282384233038349), (1434, 0.010111204774760034), (1435, 0.0), (1436, 0.0), (1437, 0.003972889915597555), (1438, 0.0), (1439, 0.0), (1440, 0.0), (1441, 0.0), (1442, 0.04417290021824636), (1443, 0.003664564866734694), (1444, 0.006601719803786204), (1445, 0.016240632434930576), (1446, 0.0), (1447, 0.0), (1448, 0.005334626433546072), (1449, 0.01876142082433314), (1450, 0.0), (1451, 0.0), (1452, 0.0), (1453, 0.004234915797974517), (1454, 0.024056281035038415), (1455, 0.022487792662152867), (1456, 0.011069683958991168), (1457, 0.0), (1458, 0.015157934132973457), (1459, 0.003818180522923613), (1460, 0.006466398889499942), (1461, 0.0), (1462, 0.015244069563418302), (1463, 0.0), (1464, 0.012441229951698858), (1465, 0.0), (1466, 0.0), (1467, 0.0), (1468, 0.011380442546641927), (1469, 0.0), (1470, 0.003717996554205549), (1471, 0.0), (1472, 0.0038961054291660815), (1473, 0.010485090911882409), (1474, 0.005272609484507305), (1475, 0.014115926749389836), (1476, 0.04414260157446481), (1477, 0.010992036460016385), (1478, 0.01901491216747243), (1479, 0.0339131928290112), (1480, 0.0037433249732055688), (1481, 0.009985558226982622), (1482, 0.006441155609160726), (1483, 0.0038224906639003882), (1484, 0.016194684687218047), (1485, 0.010550643085974839), (1486, 0.011830885519604354), (1487, 0.0059548384999136795), (1488, 0.0), (1489, 0.0), (1490, 0.012448141119002325), (1491, 0.013784317199190673), (1492, 0.0), (1493, 0.0), (1494, 0.010388342978643862), (1495, 0.004026631787061111), (1496, 0.004037517916580816), (1497, 0.0), (1498, 0.0), (1499, 0.0033994790204806475), (1500, 0.0), (1501, 0.0), (1502, 0.026477076701531797), (1503, 0.02146513680267805), (1504, 0.0), (1505, 0.0), (1506, 0.0), (1507, 0.0), (1508, 0.003992110577951893), (1509, 0.0), (1510, 0.0), (1511, 0.0), (1512, 0.0), (1513, 0.0), (1514, 0.007616478420964335), (1515, 0.0), (1516, 0.0), (1517, 0.004240365312976617), (1518, 0.005968137535349232), (1519, 0.016361872699366238), (1520, 0.0), (1521, 0.0055199550764959944), (1522, 0.0031240687783229593), (1523, 0.011050608648642714), (1524, 0.03626453652317042), (1525, 0.009234448677318879), (1526, 0.0), (1527, 0.009105271531983653), (1528, 0.022524233387901292), (1529, 0.0403984175893645), (1530, 0.005444799236684033), (1531, 0.0), (1532, 0.0056061391010846055), (1533, 0.010723184343735927), (1534, 0.02223297000492817), (1535, 0.008734175623847602), (1536, 0.003986024341588194), (1537, 0.003918323745495506), (1538, 0.0), (1539, 0.0), (1540, 0.004045136503570981), (1541, 0.0), (1542, 0.0), (1543, 0.028001982874839265), (1544, 0.03587228319830936), (1545, 0.01270626427633455), (1546, 0.015285066842742277), (1547, 0.0), (1548, 0.004783820935300577), (1549, 0.00575849884898208), (1550, 0.015069949022586685), (1551, 0.015215264091767138), (1552, 0.009858681028796099), (1553, 0.00621445957661423), (1554, 0.0), (1555, 0.029490056574148733), (1556, 0.0), (1557, 0.005902285799289877), (1558, 0.003968920773364237), (1559, 0.0), (1560, 0.004736513539377955), (1561, 0.0390959815813402), (1562, 0.025165517262235967), (1563, 0.0), (1564, 0.0), (1565, 0.013281097866330369), (1566, 0.0047173347257162416), (1567, 0.0), (1568, 0.004334786986843547), (1569, 0.011719821610373691), (1570, 0.012863921698398766), (1571, 0.03872099896188283), (1572, 0.013624212238871185), (1573, 0.010051340193953453), (1574, 0.009794397387259852), (1575, 0.02652026333652651), (1576, 0.00545580685993549), (1577, 0.004470571667569864), (1578, 0.0040929905988839705), (1579, 0.00634055976140112), (1580, 0.003677256126617216), (1581, 0.02645047961700599), (1582, 0.016695212936712417), (1583, 0.004172277856087864), (1584, 0.005628645493156906), (1585, 0.012696975591055197), (1586, 0.0), (1587, 0.0), (1588, 0.005416520553738428), (1589, 0.02808169784399784), (1590, 0.0), (1591, 0.010009619752758298), (1592, 0.01869809996852661), (1593, 0.0), (1594, 0.005315472592159552), (1595, 0.005352839977058763), (1596, 0.005473227033733696), (1597, 0.00632244884851703), (1598, 0.006607943956516471), (1599, 0.0037247517736600983), (1600, 0.00925781878367849), (1601, 0.014180044594239133), (1602, 0.0), (1603, 0.018166264829045067), (1604, 0.00383883096322052), (1605, 0.010531841695787091), (1606, 0.005619444918854512), (1607, 0.007985701318207349), (1608, 0.0049294763224772215), (1609, 0.014234436297890509), (1610, 0.0), (1611, 0.01199836624823165), (1612, 0.0), (1613, 0.0), (1614, 0.010721104380678798), (1615, 0.0), (1616, 0.0), (1617, 0.007618588736555177), (1618, 0.014599366951378073), (1619, 0.003763974689139333), (1620, 0.006162205792621348), (1621, 0.019445854378223514), (1622, 0.027854177274486858), (1623, 0.019438517308495374), (1624, 0.0), (1625, 0.0), (1626, 0.0), (1627, 0.00406330588667344), (1628, 0.0), (1629, 0.006694011163788332), (1630, 0.010670739877197053), (1631, 0.010637957919273407), (1632, 0.006038752537110584), (1633, 0.007746198665123825), (1634, 0.0), (1635, 0.021524884555324898), (1636, 0.0), (1637, 0.010965480614065683), (1638, 0.05733865125164254), (1639, 0.0), (1640, 0.0042952171349128565), (1641, 0.0039240819053772075), (1642, 0.010809373055140905), (1643, 0.030226315321602443), (1644, 0.0), (1645, 0.0), (1646, 0.03290313554118332), (1647, 0.040004247967317656), (1648, 0.011266340245351125), (1649, 0.010859378804949882), (1650, 0.0057144631617509056), (1651, 0.09359874657063783), (1652, 0.0), (1653, 0.02810368696725148), (1654, 0.030218614026358406), (1655, 0.031325431441572064), (1656, 0.03785002342908578), (1657, 0.0), (1658, 0.0), (1659, 0.02264714731742228), (1660, 0.0), (1661, 0.01073980386251896), (1662, 0.0), (1663, 0.0), (1664, 0.00588971059468104), (1665, 0.0), (1666, 0.015984200509327428), (1667, 0.019202248975685485), (1668, 0.0), (1669, 0.06886706390168676), (1670, 0.003914969847924546), (1671, 0.0), (1672, 0.005880818411131615), (1673, 0.0), (1674, 0.0), (1675, 0.010472207661646606), (1676, 0.003885327881163017), (1677, 0.0), (1678, 0.004300080085827608), (1679, 0.0), (1680, 0.0), (1681, 0.0), (1682, 0.06253570172564697), (1683, 0.042361341158444435), (1684, 0.0), (1685, 0.013182927367238256), (1686, 0.0), (1687, 0.011881180067293665), (1688, 0.0), (1689, 0.0), (1690, 0.0), (1691, 0.0), (1692, 0.0), (1693, 0.019188197449778177), (1694, 0.0), (1695, 0.018927865104153146), (1696, 0.008444803048187805), (1697, 0.011656393296656098), (1698, 0.005201627040783293), (1699, 0.0), (1700, 0.016619753865534347), (1701, 0.018822648082682168), (1702, 0.004292148433077249), (1703, 0.005908387385817691), (1704, 0.010209719826227037), (1705, 0.006417192049732603), (1706, 0.0), (1707, 0.0), (1708, 0.0), (1709, 0.01775985549801761), (1710, 0.0), (1711, 0.09705339581663155), (1712, 0.009634698858728972), (1713, 0.003691871797733033), (1714, 0.004328694093319356), (1715, 0.005924667778373051), (1716, 0.0), (1717, 0.014150700474534155), (1718, 0.01532121563501117), (1719, 0.035999136064297346), (1720, 0.015351034816834875), (1721, 0.006020763544617788), (1722, 0.0), (1723, 0.01915651824356962), (1724, 0.04939880843661775), (1725, 0.0), (1726, 0.028289108515199564), (1727, 0.0), (1728, 0.014504306326736887), (1729, 0.005209734762778678), (1730, 0.004010853484880128), (1731, 0.03177683232813238), (1732, 0.0038177287613575645), (1733, 0.013108937419918624), (1734, 0.0), (1735, 0.0), (1736, 0.006884100491129143), (1737, 0.0), (1738, 0.0039692931337063555), (1739, 0.004327327108326036), (1740, 0.024741211421495858), (1741, 0.004383862976389699), (1742, 0.023457644140118094), (1743, 0.011185523485356634), (1744, 0.0), (1745, 0.0), (1746, 0.012294460794914565), (1747, 0.004234707679723408), (1748, 0.016045298823863675), (1749, 0.014338645126945274), (1750, 0.00437119358770642), (1751, 0.01301788121900497), (1752, 0.00994434527990983), (1753, 0.01308417667118671), (1754, 0.0), (1755, 0.005822889832617935), (1756, 0.0), (1757, 0.0), (1758, 0.00433784817279657), (1759, 0.004276463963874375), (1760, 0.0), (1761, 0.01940038964078144), (1762, 0.01110194174951183), (1763, 0.0), (1764, 0.004418091252063794), (1765, 0.004503980013219515), (1766, 0.0), (1767, 0.019655976288039508), (1768, 0.014437995911474055), (1769, 0.0), (1770, 0.0), (1771, 0.0), (1772, 0.016314141959195956), (1773, 0.0), (1774, 0.06612334595457367), (1775, 0.02691757641184416), (1776, 0.029019681209243024), (1777, 0.005046412789179265), (1778, 0.0), (1779, 0.0), (1780, 0.02206018298801823), (1781, 0.0035019881637144436), (1782, 0.0), (1783, 0.011182026754408169), (1784, 0.004238925097260165), (1785, 0.017137147363992723), (1786, 0.005324642152079268), (1787, 0.025404991937902157), (1788, 0.010604366103345721), (1789, 0.0), (1790, 0.0), (1791, 0.0), (1792, 0.01881340217052332), (1793, 0.0), (1794, 0.010150373448199813), (1795, 0.01095408014551621), (1796, 0.0), (1797, 0.018492859319698615), (1798, 0.0), (1799, 0.0), (1800, 0.003647218459279372), (1801, 0.00688770213064783), (1802, 0.0), (1803, 0.0041025510163028665), (1804, 0.010266110406422405), (1805, 0.004056732821390359), (1806, 0.014543542578045217), (1807, 0.00818144513366656), (1808, 0.004846877786540252), (1809, 0.0), (1810, 0.0), (1811, 0.0055413767131431545), (1812, 0.008218585310946255), (1813, 0.0), (1814, 0.0), (1815, 0.0), (1816, 0.0), (1817, 0.006198238227999796), (1818, 0.0041120564178270275), (1819, 0.0), (1820, 0.015346118799094186), (1821, 0.005976004044298349), (1822, 0.010753417968782864), (1823, 0.011432784912069765), (1824, 0.008773836040094997), (1825, 0.024421805229452358), (1826, 0.0), (1827, 0.010893610867155628), (1828, 0.0), (1829, 0.010872944244074806), (1830, 0.0), (1831, 0.004414809814671877), (1832, 0.0), (1833, 0.007506013173413813), (1834, 0.02256278165740335), (1835, 0.0), (1836, 0.0), (1837, 0.003851807410948659), (1838, 0.01114384184394229), (1839, 0.015143127940679795), (1840, 0.0), (1841, 0.00999358910956123), (1842, 0.009058578558055384), (1843, 0.0057013170017249665), (1844, 0.01428494947952481), (1845, 0.011484933355982545), (1846, 0.012605603631819232), (1847, 0.01693515244042139), (1848, 0.0), (1849, 0.0), (1850, 0.017393899252038273), (1851, 0.005337811164387961), (1852, 0.005574800712842302), (1853, 0.004940639758125093), (1854, 0.017668283386099753), (1855, 0.00906795252727367), (1856, 0.0043271896337745515), (1857, 0.034189721276195975), (1858, 0.015952362655708204), (1859, 0.0), (1860, 0.0038972509272467027), (1861, 0.0), (1862, 0.0037080477980642617), (1863, 0.0), (1864, 0.0045517312059549075), (1865, 0.00922953211407781), (1866, 0.0034785376278104476), (1867, 0.0), (1868, 0.016910327467131125), (1869, 0.0), (1870, 0.04042879481336088), (1871, 0.06551061348112444), (1872, 0.0), (1873, 0.0), (1874, 0.0054179850388274605), (1875, 0.05045378393831022), (1876, 0.0), (1877, 0.0), (1878, 0.00648384584482787), (1879, 0.025746216634920334), (1880, 0.0), (1881, 0.037478724143314227), (1882, 0.0058324869603585995), (1883, 0.0), (1884, 0.010074791318676843), (1885, 0.0), (1886, 0.0), (1887, 0.009096481181231566), (1888, 0.005679486760586193), (1889, 0.0), (1890, 0.0044345795510370946), (1891, 0.014086976618136056), (1892, 0.013052959205909261), (1893, 0.01688596643572766), (1894, 0.003911214969562375), (1895, 0.003944553150554638), (1896, 0.008541873898663024), (1897, 0.0), (1898, 0.0), (1899, 0.0040611930460598316), (1900, 0.005344990921446038), (1901, 0.0), (1902, 0.004134688622009849), (1903, 0.0), (1904, 0.005322279278254002), (1905, 0.005692796665400462), (1906, 0.03056923262810307), (1907, 0.0), (1908, 0.005458960762750215), (1909, 0.011545881600733979), (1910, 0.021876560714365237), (1911, 0.0), (1912, 0.009528823420926147), (1913, 0.0), (1914, 0.011122759057737132), (1915, 0.010397237337557135), (1916, 0.018799538637864648), (1917, 0.010758192516451014), (1918, 0.004439417472798263), (1919, 0.005176614510915209), (1920, 0.028936978880828343), (1921, 0.01036038298437469), (1922, 0.006609056883415376), (1923, 0.029911442172038887), (1924, 0.021482954924772788), (1925, 0.00433560611395197), (1926, 0.004265767332752777), (1927, 0.0), (1928, 0.011015339190842768), (1929, 0.0059553304343926815), (1930, 0.005638098541204711), (1931, 0.021749909499692466), (1932, 0.041307223874044736), (1933, 0.009459033926058619), (1934, 0.042121591874265334), (1935, 0.0), (1936, 0.03463511295176663), (1937, 0.0), (1938, 0.005565261630042631), (1939, 0.0), (1940, 0.021243928562152), (1941, 0.004024398107251072), (1942, 0.0), (1943, 0.00520116869064714), (1944, 0.056042649274691436), (1945, 0.0), (1946, 0.009100007977319831), (1947, 0.0), (1948, 0.0), (1949, 0.0), (1950, 0.0039593291088379), (1951, 0.0034289826510188674), (1952, 0.029045394077317193), (1953, 0.0), (1954, 0.05960640200577683), (1955, 0.011256911801288506), (1956, 0.0), (1957, 0.0), (1958, 0.00950759746233261), (1959, 0.010205597912496242), (1960, 0.010886798643190802), (1961, 0.0), (1962, 0.0), (1963, 0.01734311684436809), (1964, 0.011303230683034834), (1965, 0.0), (1966, 0.0), (1967, 0.011698105936409287), (1968, 0.010157841705577568), (1969, 0.00533597944467446), (1970, 0.0034579612930039877), (1971, 0.0), (1972, 0.005906265627719648), (1973, 0.02072955813510668), (1974, 0.004608851905624978), (1975, 0.0), (1976, 0.0), (1977, 0.02433772203920061), (1978, 0.011242912944879741), (1979, 0.0), (1980, 0.004072528005242831), (1981, 0.0), (1982, 0.011107533632508153), (1983, 0.0), (1984, 0.009899007053440222), (1985, 0.00566233232622706), (1986, 0.02835137518698699), (1987, 0.0050393188931872925), (1988, 0.0), (1989, 0.005820269014556952), (1990, 0.0), (1991, 0.0), (1992, 0.026729729728321775), (1993, 0.004953826551900587), (1994, 0.01607984883879757), (1995, 0.0), (1996, 0.012302600244853126), (1997, 0.030567573904136495), (1998, 0.0), (1999, 0.006069405113811862), (2000, 0.0039726515088232125), (2001, 0.011629213571818281), (2002, 0.019280295754238022), (2003, 0.03064716950255501), (2004, 0.013922576482823138), (2005, 0.0058643746677091175), (2006, 0.005476131356815075), (2007, 0.0), (2008, 0.01033743476412618), (2009, 0.01615456240879791), (2010, 0.010505811197583417), (2011, 0.012390547158663678), (2012, 0.01964782889979708), (2013, 0.018392222429322876), (2014, 0.03616108455051778), (2015, 0.0), (2016, 0.004462813151644414), (2017, 0.0), (2018, 0.003985115848246702), (2019, 0.005171113577463295), (2020, 0.0), (2021, 0.0), (2022, 0.0), (2023, 0.019557290689075735), (2024, 0.0), (2025, 0.008526161253167656), (2026, 0.0), (2027, 0.015504525427178154), (2028, 0.004551960682419031), (2029, 0.004252443846432795), (2030, 0.004979221591107718), (2031, 0.005363683944486607), (2032, 0.011491102190746581), (2033, 0.015474534071780947), (2034, 0.013903683660062364), (2035, 0.010978320729980024), (2036, 0.003622222722744338), (2037, 0.004205017111551672), (2038, 0.037063740559612667), (2039, 0.0), (2040, 0.0), (2041, 0.006946953152736138), (2042, 0.003996261902229174), (2043, 0.0), (2044, 0.004220739034550707), (2045, 0.0), (2046, 0.015604721854306808), (2047, 0.02618425984513758), (2048, 0.0), (2049, 0.0), (2050, 0.0), (2051, 0.0191557107063062), (2052, 0.0), (2053, 0.011415337414097837), (2054, 0.0), (2055, 0.019551911586102578), (2056, 0.0), (2057, 0.004606917074793224), (2058, 0.01107291006322977), (2059, 0.022943078402383), (2060, 0.0), (2061, 0.0), (2062, 0.018232761505921347), (2063, 0.0), (2064, 0.017422736812569894), (2065, 0.016254755295235755), (2066, 0.01460051022411971), (2067, 0.005652995958502473), (2068, 0.0), (2069, 0.0), (2070, 0.015093744606930509), (2071, 0.018955785806426997), (2072, 0.0), (2073, 0.02576950778673896), (2074, 0.0), (2075, 0.030391763642832414), (2076, 0.0063170044102077), (2077, 0.0), (2078, 0.00636788670933422), (2079, 0.05304048156063892), (2080, 0.004052976662446902), (2081, 0.004688410695074519), (2082, 0.05888540598549537), (2083, 0.0), (2084, 0.004966328462349273), (2085, 0.01553798130728462), (2086, 0.00472458968479619), (2087, 0.004099378554697021), (2088, 0.010548899313802759), (2089, 0.0), (2090, 0.0), (2091, 0.0), (2092, 0.0), (2093, 0.012352088529041693), (2094, 0.011093797281693362), (2095, 0.004309636487445967), (2096, 0.01665129769858332), (2097, 0.0), (2098, 0.01888367597527247), (2099, 0.0036598240586445687), (2100, 0.006768145934824324), (2101, 0.0), (2102, 0.0), (2103, 0.01745722324514621), (2104, 0.00435990377348594), (2105, 0.0), (2106, 0.00598153521251084), (2107, 0.011403094243066103), (2108, 0.0035066573147613457), (2109, 0.0), (2110, 0.013333388010655346), (2111, 0.0), (2112, 0.003984945717520006), (2113, 0.005711508371035568), (2114, 0.013332776324872906), (2115, 0.014438522080517033), (2116, 0.0), (2117, 0.0), (2118, 0.012069440907881162), (2119, 0.0), (2120, 0.0040628639677343925), (2121, 0.004329174889450219), (2122, 0.014227383047005642), (2123, 0.0), (2124, 0.01316422637836705), (2125, 0.0), (2126, 0.0), (2127, 0.0), (2128, 0.00437063658328045), (2129, 0.00417755658831946), (2130, 0.0), (2131, 0.0039561834698078994), (2132, 0.0), (2133, 0.008291026280208466), (2134, 0.011053231135355002), (2135, 0.003907360867073451), (2136, 0.004133399317235534), (2137, 0.00485984350744008), (2138, 0.0), (2139, 0.0), (2140, 0.0), (2141, 0.007900184150466514), (2142, 0.012472614487977084), (2143, 0.010945785409199405), (2144, 0.020718851092535687), (2145, 0.006442829908983661), (2146, 0.011230263239854075), (2147, 0.0), (2148, 0.030531954382489016), (2149, 0.004079446983353073), (2150, 0.004783867601780551), (2151, 0.015940202750932823), (2152, 0.018483024419788087), (2153, 0.018802137756842717), (2154, 0.004910017675962051), (2155, 0.014473107363798466), (2156, 0.0049316420434623335), (2157, 0.00482353446222529), (2158, 0.0), (2159, 0.011121600960732657), (2160, 0.009907372417166518), (2161, 0.05631145217115622), (2162, 0.0033527076032990265), (2163, 0.0111343460009477), (2164, 0.01503352819270818), (2165, 0.0), (2166, 0.0), (2167, 0.0034982490805946643), (2168, 0.005226979638126124), (2169, 0.018942375472039072), (2170, 0.0037837781763687666), (2171, 0.0), (2172, 0.0037900405387378605), (2173, 0.010635783108162367), (2174, 0.012654571067835432), (2175, 0.01429456353012305), (2176, 0.006057609055178862), (2177, 0.0), (2178, 0.003832663072473313), (2179, 0.0421838601958638), (2180, 0.0141425691153124), (2181, 0.01609352721529158), (2182, 0.018216906403875407), (2183, 0.004314523803815296), (2184, 0.005793627494255822), (2185, 0.019865641851533496), (2186, 0.0037883497176338823), (2187, 0.0), (2188, 0.0063135240973553955), (2189, 0.033202897497567975), (2190, 0.018698474352623142), (2191, 0.005690997857876011), (2192, 0.0), (2193, 0.003955600294715626), (2194, 0.0), (2195, 0.0), (2196, 0.0), (2197, 0.01199975244697805), (2198, 0.0036616606814982894), (2199, 0.005996376456009054), (2200, 0.006901038610781021), (2201, 0.012695309234862857), (2202, 0.0), (2203, 0.003541133143070607), (2204, 0.006673977434237574), (2205, 0.0), (2206, 0.00391957835557207), (2207, 0.021484198203670646), (2208, 0.0), (2209, 0.011920821610235057), (2210, 0.05199436366038447), (2211, 0.0), (2212, 0.0), (2213, 0.0036282606360604304), (2214, 0.02060355192320585), (2215, 0.0172001489343023), (2216, 0.0), (2217, 0.026042005126803387), (2218, 0.0), (2219, 0.0034309854652387083), (2220, 0.003852027826532804), (2221, 0.003890737025869321), (2222, 0.019655391676624737), (2223, 0.007793090012518918), (2224, 0.011452273779074571), (2225, 0.0018925056600644001), (2226, 0.002557411830260405), (2227, 0.027825107459389653), (2228, 0.008872201442284913), (2229, 0.0), (2230, 0.0), (2231, 0.0), (2232, 0.0), (2233, 0.0), (2234, 0.022931108766171313), (2235, 0.0), (2236, 0.0), (2237, 0.029225883319731895), (2238, 0.016439569245376602), (2239, 0.029435217618162306), (2240, 0.003964746498612483), (2241, 0.01388594946192853), (2242, 0.008449489300998146), (2243, 0.006299197052388422), (2244, 0.004717288316728758), (2245, 0.0), (2246, 0.0060137640505490975), (2247, 0.004272662116099006), (2248, 0.012989909589931624), (2249, 0.049857704379827276), (2250, 0.0), (2251, 0.0035995237132916994), (2252, 0.02963540259285743), (2253, 0.010978377912704854), (2254, 0.0), (2255, 0.0), (2256, 0.005333553729397314), (2257, 0.0), (2258, 0.0), (2259, 0.017244766140177156), (2260, 0.016573631959150528), (2261, 0.014597729223684673), (2262, 0.0), (2263, 0.0), (2264, 0.0), (2265, 0.0174416801092372), (2266, 0.010705187520853667), (2267, 0.003588587138625984), (2268, 0.027846337594519356), (2269, 0.0), (2270, 0.007089774668109743), (2271, 0.004076087808901309), (2272, 0.009232959353939448), (2273, 0.0), (2274, 0.01132066788035713), (2275, 0.0), (2276, 0.0036859561087569342), (2277, 0.003974416466459878), (2278, 0.019878837200857834), (2279, 0.016018481697513305), (2280, 0.011584870620592014), (2281, 0.0), (2282, 0.0), (2283, 0.0), (2284, 0.02107828741891484), (2285, 0.004341296882174867), (2286, 0.0), (2287, 0.010574932723172111), (2288, 0.005509875178472694), (2289, 0.0), (2290, 0.004515448757017385), (2291, 0.0), (2292, 0.010204260849443387), (2293, 0.008921657596729997), (2294, 0.0), (2295, 0.014412974791147247), (2296, 0.038582170390897), (2297, 0.006857272955766507), (2298, 0.026619481342510166), (2299, 0.024934174333527924), (2300, 0.031196102884830275), (2301, 0.03076067986639564), (2302, 0.0), (2303, 0.015189725443159543), (2304, 0.0), (2305, 0.009543627708619466), (2306, 0.009779196383643681), (2307, 0.004020959236167677), (2308, 0.0), (2309, 0.0), (2310, 0.005018475687424702), (2311, 0.010893361660251271), (2312, 0.02684743480864532), (2313, 0.0), (2314, 0.025627191524402355), (2315, 0.0), (2316, 0.0), (2317, 0.01045646063903946), (2318, 0.0), (2319, 0.00465840403317078), (2320, 0.0), (2321, 0.0), (2322, 0.0), (2323, 0.004038444618304195), (2324, 0.016410958254216648), (2325, 0.005391755785637628), (2326, 0.0), (2327, 0.018360417226472463), (2328, 0.04495805909530391), (2329, 0.0), (2330, 0.004079632087711927), (2331, 0.004733467121962628), (2332, 0.007549282168756336), (2333, 0.009816100787846081), (2334, 0.0), (2335, 0.0), (2336, 0.01530807310327924), (2337, 0.0), (2338, 0.04750676684249535), (2339, 0.004866613405394843), (2340, 0.012206905743282332), (2341, 0.00976810693683569), (2342, 0.00396619230396552), (2343, 0.02931308383639517), (2344, 0.011595949455287623), (2345, 0.005803303578086885), (2346, 0.009784288199368005), (2347, 0.0), (2348, 0.0036447166826665523), (2349, 0.00703114541038203), (2350, 0.006089768144443405), (2351, 0.0), (2352, 0.023380864609911133), (2353, 0.0), (2354, 0.006149331773560946), (2355, 0.0), (2356, 0.0), (2357, 0.0), (2358, 0.0), (2359, 0.019284970495665514), (2360, 0.028781657258310816), (2361, 0.010225986332528678), (2362, 0.01026303609305142), (2363, 0.018834496447958277), (2364, 0.004144496877166496), (2365, 0.0036519986361058182), (2366, 0.02077441321509845), (2367, 0.0), (2368, 0.02177763043920515), (2369, 0.0), (2370, 0.011854718227148836), (2371, 0.012439502393805538), (2372, 0.0), (2373, 0.013207469001926679), (2374, 0.025526968770631927), (2375, 0.006603840285702339), (2376, 0.0), (2377, 0.011946230468066515), (2378, 0.00721005839513875), (2379, 0.011623717735425386), (2380, 0.0), (2381, 0.014034030583685854), (2382, 0.0), (2383, 0.014407872395278057), (2384, 0.014726197385952215), (2385, 0.003981186601736031), (2386, 0.005483735353144554), (2387, 0.0), (2388, 0.0044450485861012735), (2389, 0.0), (2390, 0.004057818571757533), (2391, 0.0), (2392, 0.005044968137790157), (2393, 0.005236757437594753), (2394, 0.0050560166434544035), (2395, 0.0), (2396, 0.004862640796361754), (2397, 0.0), (2398, 0.0), (2399, 0.0), (2400, 0.011772202801319971), (2401, 0.010585381079206223), (2402, 0.0), (2403, 0.0038138262038545246), (2404, 0.0), (2405, 0.004041020633305036), (2406, 0.02030251487920188), (2407, 0.011342532662921914), (2408, 0.01245868357415813), (2409, 0.009925104114809714), (2410, 0.008470479676491536), (2411, 0.0059010954634993), (2412, 0.020948090940169), (2413, 0.010965358540074322), (2414, 0.0), (2415, 0.005096740701012754), (2416, 0.006195951950045384), (2417, 0.0), (2418, 0.005521848740445065), (2419, 0.009713612052521985), (2420, 0.004364151850364772), (2421, 0.010359923618353526), (2422, 0.0), (2423, 0.0), (2424, 0.004982857668488167), (2425, 0.01167396943252982), (2426, 0.0), (2427, 0.0), (2428, 0.019178403991975866), (2429, 0.011796595414009358), (2430, 0.0), (2431, 0.01027329151035512), (2432, 0.0), (2433, 0.0), (2434, 0.011624062912739366), (2435, 0.0), (2436, 0.021361993592059137), (2437, 0.0036974628975475297), (2438, 0.011556263056362972), (2439, 0.005060637309902436), (2440, 0.0), (2441, 0.0), (2442, 0.0), (2443, 0.011203739423437978), (2444, 0.004748431764426922), (2445, 0.00952206092671784), (2446, 0.012742802851407487), (2447, 0.008643266837486077), (2448, 0.0), (2449, 0.006351441750178963), (2450, 0.0), (2451, 0.0), (2452, 0.01899047103584239), (2453, 0.011197275599528071), (2454, 0.0), (2455, 0.0), (2456, 0.005444172617853464), (2457, 0.028669657044154313), (2458, 0.0), (2459, 0.004192764930642134), (2460, 0.0), (2461, 0.0), (2462, 0.004233246406212734), (2463, 0.010976019815807331), (2464, 0.0), (2465, 0.008562707936422016), (2466, 0.0), (2467, 0.0044964666130114335), (2468, 0.004096923499037816), (2469, 0.0), (2470, 0.003924420334522872), (2471, 0.023986615958189572), (2472, 0.0), (2473, 0.009517546336713083), (2474, 0.004318932147863905), (2475, 0.0), (2476, 0.004412177708332311), (2477, 0.012879683582978798), (2478, 0.016489737393814534), (2479, 0.004233661308647341), (2480, 0.03510560071045392), (2481, 0.0), (2482, 0.004607182568690234), (2483, 0.003318272286260919), (2484, 0.0054096509622218215), (2485, 0.018887216752836125), (2486, 0.008837491313321332), (2487, 0.010385526914733729), (2488, 0.010634036292578544), (2489, 0.012290575928249337), (2490, 0.005293317150498439), (2491, 0.01754344068427437), (2492, 0.003982438487045011), (2493, 0.005728499140905345), (2494, 0.0), (2495, 0.011809715235588297), (2496, 0.0), (2497, 0.0), (2498, 0.0), (2499, 0.0), (2500, 0.0), (2501, 0.0), (2502, 0.00544506909973623), (2503, 0.00732435392582678), (2504, 0.004837455096367783), (2505, 0.005425214395145693), (2506, 0.006291500141354467), (2507, 0.0039624377685833255), (2508, 0.0), (2509, 0.01811039888468495), (2510, 0.004717732661910254), (2511, 0.004069147921478071), (2512, 0.0), (2513, 0.008872844449865308), (2514, 0.013107013235535831), (2515, 0.010240340325144568), (2516, 0.0), (2517, 0.00998201566179748), (2518, 0.04238710337668881), (2519, 0.0), (2520, 0.0), (2521, 0.005043596944051062), (2522, 0.010497391542481187), (2523, 0.010489204581969338), (2524, 0.0), (2525, 0.003932527533120537), (2526, 0.0042615715328846926), (2527, 0.014836787080807386), (2528, 0.0), (2529, 0.0), (2530, 0.01216191359159946), (2531, 0.0), (2532, 0.0), (2533, 0.0), (2534, 0.004398949102693608), (2535, 0.0038768514487039457), (2536, 0.0), (2537, 0.005883320050137071), (2538, 0.005763123156434941), (2539, 0.01715653450015059), (2540, 0.013765475877648824), (2541, 0.0038439348635907937), (2542, 0.006018830395519058), (2543, 0.018691428977969514), (2544, 0.006767169690126), (2545, 0.0), (2546, 0.004488514730560776), (2547, 0.028656121119803896), (2548, 0.005727245056507357), (2549, 0.0), (2550, 0.0), (2551, 0.0034525854912372733), (2552, 0.0), (2553, 0.006729532186257377), (2554, 0.0), (2555, 0.0), (2556, 0.0), (2557, 0.005920264865461747), (2558, 0.009583710809090755), (2559, 0.0), (2560, 0.0), (2561, 0.004647904833379632), (2562, 0.0037391489896703347), (2563, 0.0), (2564, 0.004257597240408114), (2565, 0.005287927000583423), (2566, 0.010832533242203856), (2567, 0.0), (2568, 0.0), (2569, 0.010620342676765558), (2570, 0.004294013000829003), (2571, 0.0), (2572, 0.012506000992769349), (2573, 0.0), (2574, 0.006260604718742656), (2575, 0.0190741680006277), (2576, 0.009783193637876516), (2577, 0.0), (2578, 0.010856640784686119), (2579, 0.01157360165305459), (2580, 0.0), (2581, 0.014914726237743155), (2582, 0.0), (2583, 0.011267463661059922), (2584, 0.006542249444558832), (2585, 0.0), (2586, 0.008967127584481599), (2587, 0.0), (2588, 0.0227074973070468), (2589, 0.01676609078600753), (2590, 0.0), (2591, 0.0), (2592, 0.0037357419210001298), (2593, 0.006521384894392278), (2594, 0.004040933972406065), (2595, 0.012087512006060007), (2596, 0.004118213420203724), (2597, 0.005031242479900721), (2598, 0.02727765995950546), (2599, 0.03284592260082578), (2600, 0.0), (2601, 0.005161274471609349), (2602, 0.012875496346518854), (2603, 0.011192176407082345), (2604, 0.012425595221986795), (2605, 0.01105659190906581), (2606, 0.01157805353010605), (2607, 0.023214793146802568), (2608, 0.00521144452337005), (2609, 0.017203436732071725), (2610, 0.004712426351669969), (2611, 0.02045005777311903), (2612, 0.0037715315492949904), (2613, 0.011016790864107957), (2614, 0.0), (2615, 0.029342098151322913), (2616, 0.01376949195672849), (2617, 0.01946096119051946), (2618, 0.004962750462262538), (2619, 0.0), (2620, 0.012116174436267816), (2621, 0.006775241723221708), (2622, 0.0), (2623, 0.0), (2624, 0.0), (2625, 0.00499247873904232), (2626, 0.0), (2627, 0.012931310129302495), (2628, 0.005040265005759703), (2629, 0.023968482349829998), (2630, 0.0061787602574715815), (2631, 0.005184546122433121), (2632, 0.013929122621537992), (2633, 0.0), (2634, 0.0051518701417901155), (2635, 0.0), (2636, 0.0), (2637, 0.0), (2638, 0.017095100721686577), (2639, 0.0041759456902263625), (2640, 0.004378238206824478), (2641, 0.004195354107599958), (2642, 0.0), (2643, 0.0044258300474842496), (2644, 0.0), (2645, 0.0), (2646, 0.0), (2647, 0.005595105161153508), (2648, 0.0), (2649, 0.004697884540460411), (2650, 0.003893948526984568), (2651, 0.003981764676359086), (2652, 0.004494088244007157), (2653, 0.0), (2654, 0.004367953999688349), (2655, 0.0032267645978649832), (2656, 0.0034767236030157386), (2657, 0.0), (2658, 0.012884663545868032), (2659, 0.014309150976867552), (2660, 0.027464753664665224), (2661, 0.0), (2662, 0.00708925719171888), (2663, 0.023892081246328196), (2664, 0.009751542409695153), (2665, 0.0), (2666, 0.0), (2667, 0.016601142558637438), (2668, 0.004155283045479308), (2669, 0.009678394860241213), (2670, 0.0), (2671, 0.010906636782520497), (2672, 0.005272868874806293), (2673, 0.003913820507198393), (2674, 0.018531983765729603), (2675, 0.005094531594086653), (2676, 0.008036042185343461), (2677, 0.01734899060535778), (2678, 0.014685742614622571), (2679, 0.0), (2680, 0.0), (2681, 0.0060758290960279075), (2682, 0.011199631076778991), (2683, 0.004224885503767152), (2684, 0.0), (2685, 0.00995269779486076), (2686, 0.009965022796650819), (2687, 0.009575349411800297), (2688, 0.00940718550982201), (2689, 0.0), (2690, 0.0), (2691, 0.005481512815875906), (2692, 0.005682924684486813), (2693, 0.004635825509818736), (2694, 0.0), (2695, 0.0), (2696, 0.0), (2697, 0.01338556053103997), (2698, 0.005449600589572276), (2699, 0.0), (2700, 0.006389122467331949), (2701, 0.006074949962640157), (2702, 0.004779934621095554), (2703, 0.0), (2704, 0.0051340251847050945), (2705, 0.0), (2706, 0.030991301124265257), (2707, 0.016968027574638132), (2708, 0.003841735171468287), (2709, 0.012671718243119252), (2710, 0.0), (2711, 0.0), (2712, 0.005027614772908179), (2713, 0.0), (2714, 0.022978321890308285), (2715, 0.017372968586511564), (2716, 0.011389040636929595), (2717, 0.005974937254838434), (2718, 0.0), (2719, 0.0), (2720, 0.005736302892050001), (2721, 0.014202742080061673), (2722, 0.009257314738827165), (2723, 0.0038937642102497114), (2724, 0.011805840386531666), (2725, 0.003866947439402567), (2726, 0.004836060662607762), (2727, 0.015947261353182307), (2728, 0.003707799050258605), (2729, 0.0), (2730, 0.004655980245600128), (2731, 0.004707987760030411), (2732, 0.005449064513743969), (2733, 0.00848909279251284), (2734, 0.0), (2735, 0.004258646783371796), (2736, 0.026623654281640492), (2737, 0.003356068634331552), (2738, 0.0037137002040106347), (2739, 0.0), (2740, 0.0), (2741, 0.0), (2742, 0.0042501382295020065), (2743, 0.00967741377017705), (2744, 0.01043305419558501), (2745, 0.005466947316192709), (2746, 0.036100124124682574), (2747, 0.0035450939473691966), (2748, 0.005193470885800444), (2749, 0.0), (2750, 0.0), (2751, 0.01081576515844801), (2752, 0.004551814947806481), (2753, 0.0), (2754, 0.004455368827905014), (2755, 0.0), (2756, 0.016340883418560843), (2757, 0.004976939843615552), (2758, 0.008492718482629672), (2759, 0.02836788760066545), (2760, 0.0034191830946150048), (2761, 0.0), (2762, 0.010423171114817397), (2763, 0.0), (2764, 0.0038461833861678303), (2765, 0.0), (2766, 0.00484863170924294), (2767, 0.02608329058902703), (2768, 0.010997587600804175), (2769, 0.015003970637220665), (2770, 0.006633223585198142), (2771, 0.010720691057697277), (2772, 0.01159923497843654), (2773, 0.005114680979462497), (2774, 0.010369708257776169), (2775, 0.014068247268774897), (2776, 0.005606001552230395), (2777, 0.009732588254515699), (2778, 0.014649867624981825), (2779, 0.012714157662402852), (2780, 0.0), (2781, 0.003909563237246551), (2782, 0.003654973201415085), (2783, 0.0), (2784, 0.0), (2785, 0.01277698317800038), (2786, 0.0), (2787, 0.010460962166972614), (2788, 0.013857040095242992), (2789, 0.004210186012625222), (2790, 0.029886231849742886), (2791, 0.0), (2792, 0.007488735788815557), (2793, 0.003584465067282991), (2794, 0.005837305248932912), (2795, 0.02311006602324152), (2796, 0.00660797565654642), (2797, 0.0), (2798, 0.028840608617996064), (2799, 0.0), (2800, 0.0), (2801, 0.003995306113149173), (2802, 0.0036033157552737647), (2803, 0.012757066137268592), (2804, 0.004256638849230273), (2805, 0.004353101201504643), (2806, 0.009643416015563677), (2807, 0.004457188984997032), (2808, 0.026252883372343865), (2809, 0.0048934148954928825), (2810, 0.0), (2811, 0.0), (2812, 0.0), (2813, 0.0), (2814, 0.011074858338247798), (2815, 0.0), (2816, 0.0), (2817, 0.005786129858599461), (2818, 0.004509958250391871), (2819, 0.012216427297781777), (2820, 0.011949325616168606), (2821, 0.0036101442847171895), (2822, 0.021658468809473537), (2823, 0.005276586790221964), (2824, 0.018151007325670494), (2825, 0.004087776661337022), (2826, 0.004096609957848078), (2827, 0.004301569941258628), (2828, 0.005504059512793564), (2829, 0.005792294552913179), (2830, 0.0), (2831, 0.01693943293813669), (2832, 0.01902039592343219), (2833, 0.009291482989362762), (2834, 0.0), (2835, 0.009489223786905528), (2836, 0.014828230546940947), (2837, 0.0042536517045431285), (2838, 0.01038502963784127), (2839, 0.005420433548431542), (2840, 0.0), (2841, 0.005870474282128841), (2842, 0.006550443267777837), (2843, 0.004160865697912908), (2844, 0.0062985973654419046), (2845, 0.01282425076058644), (2846, 0.010028393337326724), (2847, 0.0038076352759398584), (2848, 0.030276723145275262), (2849, 0.015557230014772112), (2850, 0.02777129215720166), (2851, 0.005248706448863448), (2852, 0.004872103955560874), (2853, 0.018521287805362198), (2854, 0.01188872846514549), (2855, 0.005719427042151591), (2856, 0.00561583032077442), (2857, 0.029326115312589385), (2858, 0.003492955892536078), (2859, 0.014048811456732854), (2860, 0.0), (2861, 0.003969761701083474), (2862, 0.0), (2863, 0.0), (2864, 0.006960650802924392), (2865, 0.010395328138520774), (2866, 0.0), (2867, 0.0), (2868, 0.00529576905506854), (2869, 0.003943476008922416), (2870, 0.0), (2871, 0.0), (2872, 0.0), (2873, 0.010788645062385459), (2874, 0.004317640328320199), (2875, 0.0), (2876, 0.0), (2877, 0.004275520924694232), (2878, 0.03229681152087706), (2879, 0.032354075994831526), (2880, 0.0), (2881, 0.004035867850204423), (2882, 0.014122337234103473), (2883, 0.009576270910323993), (2884, 0.0), (2885, 0.004597059273820498), (2886, 0.035040267065642096), (2887, 0.012014385464822148), (2888, 0.015284799396370896), (2889, 0.0), (2890, 0.004308375454826907), (2891, 0.005321394291836165), (2892, 0.009424306714201823), (2893, 0.0), (2894, 0.023865078927404706), (2895, 0.0), (2896, 0.011835375761680825), (2897, 0.005480771528344817), (2898, 0.02396988100978235), (2899, 0.0046614507804373356), (2900, 0.004199422259204349), (2901, 0.0), (2902, 0.0), (2903, 0.00506478133497321), (2904, 0.013199179495620557), (2905, 0.0), (2906, 0.003411136375875656), (2907, 0.006026220454719398), (2908, 0.0), (2909, 0.0), (2910, 0.011126238449910947), (2911, 0.016010244517185836), (2912, 0.0), (2913, 0.023207512467766266), (2914, 0.0), (2915, 0.0), (2916, 0.0), (2917, 0.004232280683063439), (2918, 0.005079816181192767), (2919, 0.043826145284365105), (2920, 0.01470324481875385), (2921, 0.015350290486242193), (2922, 0.005139537479776662), (2923, 0.018163245132766147), (2924, 0.0), (2925, 0.0), (2926, 0.013949652030909379), (2927, 0.004143556158121531), (2928, 0.0), (2929, 0.012600446707473293), (2930, 0.0), (2931, 0.011797075593796742), (2932, 0.0036482740081001455), (2933, 0.0), (2934, 0.00411256225570576), (2935, 0.0318692066854387), (2936, 0.026303940554189158), (2937, 0.003490977403025855), (2938, 0.01429615190279204), (2939, 0.022667630499151947), (2940, 0.0), (2941, 0.0), (2942, 0.0), (2943, 0.012739932746402944), (2944, 0.007334188026180489), (2945, 0.0), (2946, 0.00536479138299453), (2947, 0.005535559343840985), (2948, 0.004964541670971612), (2949, 0.0062551178883344626), (2950, 0.06262953176563953), (2951, 0.01152861449033721), (2952, 0.006226953792661695), (2953, 0.004867863027333785), (2954, 0.016870714586490955), (2955, 0.005315635129573527), (2956, 0.0053956273332151465), (2957, 0.005020829271060981), (2958, 0.010675847399728721), (2959, 0.0), (2960, 0.0), (2961, 0.012829955647659819), (2962, 0.0), (2963, 0.01641674314777721), (2964, 0.003792357777214993), (2965, 0.004435100556775028), (2966, 0.0), (2967, 0.0), (2968, 0.009577491316411824), (2969, 0.004197597884631053), (2970, 0.003126780807108541), (2971, 0.019426553499189626), (2972, 0.030289232013540005), (2973, 0.0), (2974, 0.017023155811405805), (2975, 0.0), (2976, 0.009134470471526015), (2977, 0.008245909663590406), (2978, 0.004493929675242682), (2979, 0.004519723271534638), (2980, 0.010653358177922057), (2981, 0.005289529692873189), (2982, 0.010494415363672734), (2983, 0.01153446963541419), (2984, 0.007556026296227857), (2985, 0.014297276277882005), (2986, 0.0), (2987, 0.006226108064287962), (2988, 0.011004032214946325), (2989, 0.004137044744774448), (2990, 0.004248438082913436), (2991, 0.00912439704630185), (2992, 0.029621667168042834), (2993, 0.014060038625768417), (2994, 0.004345123038385193), (2995, 0.0), (2996, 0.008703811621008993), (2997, 0.0), (2998, 0.0), (2999, 0.0), (3000, 0.00420018068819519), (3001, 0.010879721300201596), (3002, 0.014321283998940205), (3003, 0.0038161995221627767), (3004, 0.0), (3005, 0.0), (3006, 0.004099234298295633), (3007, 0.0), (3008, 0.0), (3009, 0.0), (3010, 0.0), (3011, 0.0), (3012, 0.004405671530719603), (3013, 0.01738060328173903), (3014, 0.0), (3015, 0.01041898041253319), (3016, 0.01219953063972625), (3017, 0.0), (3018, 0.025849184153107475), (3019, 0.004586694817901831), (3020, 0.004419768348613084), (3021, 0.00738058078029), (3022, 0.003945314909325582), (3023, 0.025191042700686214), (3024, 0.014442520099991772), (3025, 0.0), (3026, 0.011673610138579772), (3027, 0.010869847090655175), (3028, 0.003752933791260989), (3029, 0.008841336522356958), (3030, 0.006671214133128417), (3031, 0.005433399125075375), (3032, 0.023809200357187633), (3033, 0.0), (3034, 0.0050791624171490695), (3035, 0.00985934365105216), (3036, 0.006279216984909283), (3037, 0.031248276604093333), (3038, 0.011245166244044017), (3039, 0.004840492948100126), (3040, 0.005410137190349082), (3041, 0.0), (3042, 0.01038519229874851), (3043, 0.0), (3044, 0.027707094034670685), (3045, 0.0), (3046, 0.006132809711580275), (3047, 0.008881003318851017), (3048, 0.01837069619223956), (3049, 0.0), (3050, 0.0), (3051, 0.004680249740277729), (3052, 0.00399810154488895), (3053, 0.0061157332722227955), (3054, 0.01924894398486772), (3055, 0.011876055329986607), (3056, 0.0), (3057, 0.030415561426791592), (3058, 0.0), (3059, 0.013998559971096957), (3060, 0.024988112902649535), (3061, 0.010487765762311325), (3062, 0.003405576486229095), (3063, 0.0), (3064, 0.0), (3065, 0.0), (3066, 0.0050318433557505525), (3067, 0.0), (3068, 0.0041979718645452834), (3069, 0.009016094468158237), (3070, 0.0), (3071, 0.0), (3072, 0.009723653623892835), (3073, 0.004772553560169003), (3074, 0.011485263240727704), (3075, 0.0), (3076, 0.0), (3077, 0.0044796680539549525), (3078, 0.00428158732506402), (3079, 0.004156905258159289), (3080, 0.004371680055110614), (3081, 0.013089773822006968), (3082, 0.011252335868432356), (3083, 0.05346298045488385), (3084, 0.015939067705884078), (3085, 0.011695158527541303), (3086, 0.012777902228488557), (3087, 0.0), (3088, 0.0), (3089, 0.011354498794411487), (3090, 0.0), (3091, 0.0), (3092, 0.0), (3093, 0.004885025114869675), (3094, 0.01118239890481684), (3095, 0.011143667273262284), (3096, 0.00537258150532748), (3097, 0.01470403541601314), (3098, 0.015505143120397687), (3099, 0.0), (3100, 0.02037616007798185), (3101, 0.004008105035003016), (3102, 0.01168218453332241), (3103, 0.005181863069420477), (3104, 0.0), (3105, 0.0), (3106, 0.019538149109667436), (3107, 0.0), (3108, 0.003927929417534557), (3109, 0.005097258373478454), (3110, 0.010757407719923465), (3111, 0.0), (3112, 0.0), (3113, 0.005565006520623964), (3114, 0.03740169444319329), (3115, 0.019870816463399735), (3116, 0.0), (3117, 0.0), (3118, 0.025690068236631756), (3119, 0.0), (3120, 0.022521676542127105), (3121, 0.017002555589167374), (3122, 0.04037454333799827), (3123, 0.0), (3124, 0.0), (3125, 0.004369781474289794), (3126, 0.01771142707033152), (3127, 0.0), (3128, 0.012207843555054828), (3129, 0.005357324737485307), (3130, 0.02356195942318608), (3131, 0.013576434958709267), (3132, 0.0037885653530094483), (3133, 0.0649672329677061), (3134, 0.0), (3135, 0.01582562544218968), (3136, 0.0), (3137, 0.0), (3138, 0.004691699461025557), (3139, 0.013511545849943614), (3140, 0.009992413228192288), (3141, 0.0), (3142, 0.016603977539200038), (3143, 0.01545457611706352), (3144, 0.004769623690062499), (3145, 0.00446191956998837), (3146, 0.003982953434714972), (3147, 0.005811789184632168), (3148, 0.012011761178584143), (3149, 0.03412148370099331), (3150, 0.0), (3151, 0.0044698809279505175), (3152, 0.018141942647940314), (3153, 0.015429487686455355), (3154, 0.007431770368719646), (3155, 0.0), (3156, 0.0), (3157, 0.009050455384172089), (3158, 0.0), (3159, 0.004138623243357962), (3160, 0.0), (3161, 0.0), (3162, 0.004099105462880426), (3163, 0.0), (3164, 0.004014856079428953), (3165, 0.00449136512537245), (3166, 0.01031136961364985), (3167, 0.016327750847429136), (3168, 0.0), (3169, 0.00491222317227889), (3170, 0.011584060780245969), (3171, 0.0), (3172, 0.0), (3173, 0.005377315009588576), (3174, 0.005273264786063042), (3175, 0.005672642872211747), (3176, 0.0037291681457653665), (3177, 0.0), (3178, 0.014014758473599443), (3179, 0.0), (3180, 0.004405078576187487), (3181, 0.009650352032973842), (3182, 0.01081903713465909), (3183, 0.01073291806213662), (3184, 0.004416732638496588), (3185, 0.010819606816690716), (3186, 0.0044123416394256446), (3187, 0.016839713452024688), (3188, 0.02122415756365023), (3189, 0.0), (3190, 0.007571452003730676), (3191, 0.0), (3192, 0.0), (3193, 0.005168587310624542), (3194, 0.011577904104507144), (3195, 0.004937626455291308), (3196, 0.0), (3197, 0.0), (3198, 0.0), (3199, 0.009064255179889735), (3200, 0.0060166215579021505), (3201, 0.0), (3202, 0.0), (3203, 0.00704475118495339), (3204, 0.0039051063783320664), (3205, 0.009383981136950343), (3206, 0.005117592607927423), (3207, 0.0036855842785956526), (3208, 0.005175524722439908), (3209, 0.014544136195817965), (3210, 0.0043233019684511004), (3211, 0.004523595283720586), (3212, 0.0160401154782836), (3213, 0.004567126950917635), (3214, 0.01214538783284002), (3215, 0.011209032617266575), (3216, 0.0), (3217, 0.012338048412395723), (3218, 0.0), (3219, 0.0), (3220, 0.0), (3221, 0.0131469405112518), (3222, 0.0104883879258162), (3223, 0.02292342887655757), (3224, 0.016022363921932743), (3225, 0.012831168682513511), (3226, 0.005083736814358007), (3227, 0.012463146566056252), (3228, 0.01995685560422051), (3229, 0.0050627335363923045), (3230, 0.007794991844126299), (3231, 0.0), (3232, 0.0), (3233, 0.0), (3234, 0.006471745004510363), (3235, 0.03139755227020842), (3236, 0.0), (3237, 0.0), (3238, 0.0), (3239, 0.0177866714558316), (3240, 0.010914277136497464), (3241, 0.0), (3242, 0.011422170209780633), (3243, 0.0), (3244, 0.014801254839734587), (3245, 0.03774784065763132), (3246, 0.0), (3247, 0.006335139922311005), (3248, 0.011862790508998935), (3249, 0.012976188613378731), (3250, 0.003905020462182808), (3251, 0.005041899701464077), (3252, 0.0), (3253, 0.004357669378525739), (3254, 0.0041388492058076305), (3255, 0.0), (3256, 0.01470574645901753), (3257, 0.0), (3258, 0.010338691292263986), (3259, 0.0), (3260, 0.0), (3261, 0.019551616132176604), (3262, 0.009658548285665394), (3263, 0.019644283772844884), (3264, 0.031818587399142326), (3265, 0.010753728781842126), (3266, 0.005041319693881233), (3267, 0.0096844483678899), (3268, 0.004991536573579739), (3269, 0.005001114040433853), (3270, 0.0049279539241341205), (3271, 0.005339283827784676), (3272, 0.009838099409686586), (3273, 0.0), (3274, 0.01628118546607829), (3275, 0.004644617060535088), (3276, 0.01850989380353691), (3277, 0.004163467850219789), (3278, 0.016186768000147213), (3279, 0.016529928645437307), (3280, 0.005515742354300944), (3281, 0.0), (3282, 0.0), (3283, 0.0), (3284, 0.006407878826180255), (3285, 0.0), (3286, 0.003686320478958027), (3287, 0.009152236608147757), (3288, 0.003932129873790177), (3289, 0.011581974197266951), (3290, 0.0), (3291, 0.0), (3292, 0.0036165129975774583), (3293, 0.007100646403840506), (3294, 0.01940493016633054), (3295, 0.0), (3296, 0.0), (3297, 0.014564071364542804), (3298, 0.0), (3299, 0.0038866047926151208), (3300, 0.007711404867911184), (3301, 0.004513769953175945), (3302, 0.0), (3303, 0.0), (3304, 0.0), (3305, 0.005428038763279953), (3306, 0.005422231963464497), (3307, 0.007863058725943334), (3308, 0.0), (3309, 0.0), (3310, 0.022636951701609738), (3311, 0.028571694027776783), (3312, 0.005386356391021602), (3313, 0.004543399895674603), (3314, 0.012025392380148638), (3315, 0.0), (3316, 0.0), (3317, 0.005601213372760751), (3318, 0.0), (3319, 0.0), (3320, 0.005738406703476019), (3321, 0.04793863547214115), (3322, 0.026782883102891626), (3323, 0.004410630090939637), (3324, 0.010087263216871051), (3325, 0.00483483560783448), (3326, 0.007608562104276002), (3327, 0.0055062361707656346), (3328, 0.0), (3329, 0.005766226296515893), (3330, 0.004320996406806008), (3331, 0.0), (3332, 0.0), (3333, 0.0), (3334, 0.012589040445677387), (3335, 0.01200406461791239), (3336, 0.0), (3337, 0.004061456716095944), (3338, 0.011475045166867183), (3339, 0.004000625851146875), (3340, 0.0), (3341, 0.012086064147315095), (3342, 0.014626831127066291), (3343, 0.015022905397197101), (3344, 0.003690523996916916), (3345, 0.016056002761273783), (3346, 0.011320731520485081), (3347, 0.005054779658965148), (3348, 0.0), (3349, 0.0), (3350, 0.003517832313864818), (3351, 0.010450297535981899), (3352, 0.01089973617906918), (3353, 0.0038988661787548898), (3354, 0.0), (3355, 0.019122269238199607), (3356, 0.022629421570668953), (3357, 0.0), (3358, 0.01044080022207827), (3359, 0.024601577154669665), (3360, 0.05610534186409006), (3361, 0.032034900060722134), (3362, 0.0), (3363, 0.0), (3364, 0.0), (3365, 0.017481718366497468), (3366, 0.004144819591618915), (3367, 0.0), (3368, 0.013071411993726932), (3369, 0.008158499634070327), (3370, 0.015454651404607677), (3371, 0.0), (3372, 0.0), (3373, 0.004743852291262958), (3374, 0.004464878862886914), (3375, 0.012447482237335213), (3376, 0.009819617277075381), (3377, 0.009709774472740532), (3378, 0.003867790986320376), (3379, 0.011140368789961446), (3380, 0.006756322255474183), (3381, 0.021378044160512644), (3382, 0.0), (3383, 0.0), (3384, 0.01144629519003086), (3385, 0.03690231915145691), (3386, 0.0), (3387, 0.0), (3388, 0.0), (3389, 0.029279697168513433), (3390, 0.012348651242014924), (3391, 0.017817587665802628), (3392, 0.0), (3393, 0.0057656542124278785), (3394, 0.0067759432997903804), (3395, 0.021207026556061333), (3396, 0.005129694469406522), (3397, 0.006503578406631218), (3398, 0.0), (3399, 0.0), (3400, 0.0), (3401, 0.0), (3402, 0.010845503775931615), (3403, 0.0), (3404, 0.0), (3405, 0.0), (3406, 0.0035903157954162053), (3407, 0.00522191320979924), (3408, 0.0), (3409, 0.0), (3410, 0.0), (3411, 0.0), (3412, 0.015336890418957545), (3413, 0.0), (3414, 0.009512325622022474), (3415, 0.012390404352213492), (3416, 0.004383331675870231), (3417, 0.0038203305364507127), (3418, 0.0), (3419, 0.004990898340873376), (3420, 0.0), (3421, 0.004121215214480884), (3422, 0.0), (3423, 0.003997916002398304), (3424, 0.01236732172015692), (3425, 0.027512173044514594), (3426, 0.0), (3427, 0.010573590671596146), (3428, 0.0), (3429, 0.004866007683415732), (3430, 0.0), (3431, 0.0), (3432, 0.0), (3433, 0.0), (3434, 0.0), (3435, 0.016869842108426198), (3436, 0.0038553544945730115), (3437, 0.015918402609101004), (3438, 0.0041459199043642255), (3439, 0.004358954994395297), (3440, 0.004167911541484247), (3441, 0.015513533792074452), (3442, 0.024865720984095722), (3443, 0.0), (3444, 0.0), (3445, 0.006412967531369181), (3446, 0.01232659550823455), (3447, 0.0), (3448, 0.0), (3449, 0.0), (3450, 0.02343681773510245), (3451, 0.0), (3452, 0.0), (3453, 0.0), (3454, 0.003994683259774699), (3455, 0.005029052378365297), (3456, 0.005455239290348489), (3457, 0.037385776048769116), (3458, 0.0), (3459, 0.0), (3460, 0.01764684533322391), (3461, 0.0), (3462, 0.007403201587109267), (3463, 0.0), (3464, 0.004808659749602052), (3465, 0.0), (3466, 0.004945898689653942), (3467, 0.010661463408428684), (3468, 0.0043581499599487815), (3469, 0.0), (3470, 0.0047449180966863125), (3471, 0.004181434779802745), (3472, 0.0), (3473, 0.010428280306826965), (3474, 0.01837602450570964), (3475, 0.0216961772849324), (3476, 0.0), (3477, 0.011420876800524), (3478, 0.012951009285939067), (3479, 0.015502140069912669), (3480, 0.0), (3481, 0.00869231258159369), (3482, 0.00393353265706943), (3483, 0.0), (3484, 0.00695629845340314), (3485, 0.0), (3486, 0.014656233869738992), (3487, 0.01418565265650308), (3488, 0.0), (3489, 0.004513191570923788), (3490, 0.0), (3491, 0.014224974593934474), (3492, 0.00977042841277564), (3493, 0.0), (3494, 0.0), (3495, 0.0), (3496, 0.003968212747788561), (3497, 0.0), (3498, 0.02992421424018908), (3499, 0.0), (3500, 0.010333398936204776), (3501, 0.006339450840629137), (3502, 0.00462249487589114), (3503, 0.004653324705446957), (3504, 0.0), (3505, 0.022351056816439598), (3506, 0.024144659082450087), (3507, 0.003833282713817026), (3508, 0.014497706880527117), (3509, 0.0), (3510, 0.0), (3511, 0.0), (3512, 0.009690746325267677), (3513, 0.010933563811262616), (3514, 0.0), (3515, 0.003833762989850489), (3516, 0.0), (3517, 0.005499457228512673), (3518, 0.005181583816218582), (3519, 0.003968193058141422), (3520, 0.006030344982337797), (3521, 0.0), (3522, 0.005388605102335295), (3523, 0.0039422259861033), (3524, 0.0), (3525, 0.0), (3526, 0.016663791623168504), (3527, 0.013841828599175226), (3528, 0.011637293503008118), (3529, 0.00375868445158823), (3530, 0.005056951884888469), (3531, 0.0), (3532, 0.006306462756367431), (3533, 0.0), (3534, 0.0), (3535, 0.0), (3536, 0.0035410242479354623), (3537, 0.0), (3538, 0.004186944881515582), (3539, 0.0), (3540, 0.0), (3541, 0.011470583135137654), (3542, 0.00666959367147919), (3543, 0.0), (3544, 0.007988653579323378), (3545, 0.0), (3546, 0.0), (3547, 0.005353632067813784), (3548, 0.01200159826924247), (3549, 0.0), (3550, 0.0), (3551, 0.0), (3552, 0.0), (3553, 0.0), (3554, 0.004250473354543701), (3555, 0.0049241500834563455), (3556, 0.004517963741504859), (3557, 0.0), (3558, 0.004766694723892483), (3559, 0.0), (3560, 0.0), (3561, 0.005812070040600733), (3562, 0.007358425976019173), (3563, 0.005246318615996481), (3564, 0.006952903268337472), (3565, 0.005571204360430175), (3566, 0.012828586207163978), (3567, 0.0), (3568, 0.0), (3569, 0.0), (3570, 0.0217092856279366), (3571, 0.012945146582704093), (3572, 0.0), (3573, 0.0042799245150483166), (3574, 0.0038813999683647857), (3575, 0.0037694575916130237), (3576, 0.0), (3577, 0.0), (3578, 0.011002354685513967), (3579, 0.018798265976995007), (3580, 0.0038100825470028573), (3581, 0.024600593186481258), (3582, 0.031239529727660597), (3583, 0.012914893342198008), (3584, 0.011416094552264212), (3585, 0.0040219383493209455), (3586, 0.0), (3587, 0.004322217194597022), (3588, 0.03945606582259328), (3589, 0.013069665935598994), (3590, 0.004562848783063261), (3591, 0.0), (3592, 0.026770444424317127), (3593, 0.0), (3594, 0.029275042882782445), (3595, 0.011429241961705517), (3596, 0.014696343524655533), (3597, 0.009111591008495897), (3598, 0.014287514914928535), (3599, 0.0), (3600, 0.0), (3601, 0.0049818584309512005), (3602, 0.0), (3603, 0.00990771249001068), (3604, 0.0), (3605, 0.004300399266936696), (3606, 0.0), (3607, 0.0060375853964597746), (3608, 0.020963285014701655), (3609, 0.007272388015546899), (3610, 0.0), (3611, 0.0), (3612, 0.0), (3613, 0.010984838144313846), (3614, 0.004883168533166697), (3615, 0.012113523592099927), (3616, 0.0038773535702837036), (3617, 0.0), (3618, 0.0), (3619, 0.0050738268919860805), (3620, 0.0), (3621, 0.011108941205376487), (3622, 0.0), (3623, 0.011690602732997067), (3624, 0.004299105747889731), (3625, 0.0), (3626, 0.004818734455588638), (3627, 0.012402531422965688), (3628, 0.0), (3629, 0.004132808145990835), (3630, 0.01721978620473512), (3631, 0.0), (3632, 0.00421805615617475), (3633, 0.0), (3634, 0.0), (3635, 0.016497496205306276), (3636, 0.0), (3637, 0.004590656832680151), (3638, 0.016644599627661814), (3639, 0.0), (3640, 0.0), (3641, 0.011962132626375594), (3642, 0.010934518552008433), (3643, 0.014806933973679638), (3644, 0.0), (3645, 0.0), (3646, 0.0), (3647, 0.006510738777651143), (3648, 0.03160107143188803), (3649, 0.008809460204549356), (3650, 0.0), (3651, 0.004837484266289504), (3652, 0.0), (3653, 0.010423113987352624), (3654, 0.008953754892974293), (3655, 0.0), (3656, 0.0049253212821091345), (3657, 0.004349893010922731), (3658, 0.028997169357589538), (3659, 0.010917417280358435), (3660, 0.006509369058377502), (3661, 0.00666155948554829), (3662, 0.012556461989529118), (3663, 0.008378913496538902), (3664, 0.0), (3665, 0.01420531587074273), (3666, 0.01441217175536282), (3667, 0.0), (3668, 0.0), (3669, 0.0), (3670, 0.0), (3671, 0.004455286647200328), (3672, 0.013773333578692915), (3673, 0.02365432558901656), (3674, 0.0), (3675, 0.009636517778421099), (3676, 0.005500061193012173), (3677, 0.0), (3678, 0.0), (3679, 0.0), (3680, 0.003540155297856163), (3681, 0.0038183147595472126), (3682, 0.0), (3683, 0.004091567894985825), (3684, 0.0), (3685, 0.004538133766983338), (3686, 0.0), (3687, 0.010391362421024801), (3688, 0.004584883857244065), (3689, 0.0048915593672965475), (3690, 0.006074617722954609), (3691, 0.0), (3692, 0.020576425049727773), (3693, 0.014582380506493952), (3694, 0.0), (3695, 0.006739200642741198), (3696, 0.0), (3697, 0.0), (3698, 0.0), (3699, 0.0043340837686906015), (3700, 0.004008167084568065), (3701, 0.008904722295706824), (3702, 0.04935906248175921), (3703, 0.03397582510332594), (3704, 0.0), (3705, 0.0), (3706, 0.0), (3707, 0.0), (3708, 0.005836542246057685), (3709, 0.0), (3710, 0.019979537180052718), (3711, 0.006314825570066022), (3712, 0.0), (3713, 0.0), (3714, 0.020129564923510368), (3715, 0.0), (3716, 0.004801805762252428), (3717, 0.0), (3718, 0.0), (3719, 0.03490151206806744), (3720, 0.005147076791594773), (3721, 0.0037285436679985826), (3722, 0.0), (3723, 0.011369588838866384), (3724, 0.0), (3725, 0.012318642154023585), (3726, 0.00802010384066655), (3727, 0.0), (3728, 0.005896210567370202), (3729, 0.0), (3730, 0.004963850622008816), (3731, 0.0), (3732, 0.005275708386516278), (3733, 0.011060498776046191), (3734, 0.05382628467016462), (3735, 0.0)]\n"
          ]
        }
      ]
    },
    {
      "cell_type": "code",
      "source": [
        " len(Recommendation_Score)\n",
        "\n"
      ],
      "metadata": {
        "id": "qQPdvpMevJnh",
        "colab": {
          "base_uri": "https://localhost:8080/"
        },
        "outputId": "6de93f5a-227c-49c8-d7b0-2e82401174fc"
      },
      "execution_count": 52,
      "outputs": [
        {
          "output_type": "execute_result",
          "data": {
            "text/plain": [
              "3736"
            ]
          },
          "metadata": {},
          "execution_count": 52
        }
      ]
    },
    {
      "cell_type": "markdown",
      "source": [
        "# **Get All Movies Sorted Based on Recommendation Score for your Favourite Movie**\n"
      ],
      "metadata": {
        "id": "gxu7GYlmvUeP"
      }
    },
    {
      "cell_type": "code",
      "source": [
        "#sorting the movies based on their similarity score\n",
        "\n",
        "Sorted_Similar_Movies = sorted(Recommendation_Score, key = lambda x:x[1], reverse=True)\n",
        "print (Sorted_Similar_Movies)\n"
      ],
      "metadata": {
        "id": "JDksS_ukvMbC",
        "colab": {
          "base_uri": "https://localhost:8080/"
        },
        "outputId": "7e875f9b-e21a-43a8-d3d8-79f868ed76fa"
      },
      "execution_count": 53,
      "outputs": [
        {
          "output_type": "stream",
          "name": "stdout",
          "text": [
            "[(480, 1.0), (749, 0.13403480391857736), (1711, 0.09705339581663155), (1651, 0.09359874657063783), (1150, 0.07490643638689187), (1039, 0.07046188561254592), (1669, 0.06886706390168676), (320, 0.06755705451804525), (1774, 0.06612334595457367), (1871, 0.06551061348112444), (3133, 0.0649672329677061), (1303, 0.06407074457397305), (2950, 0.06262953176563953), (1682, 0.06253570172564697), (89, 0.062303366828237894), (297, 0.06127926390679003), (1954, 0.05960640200577683), (1061, 0.05918538466783155), (2082, 0.05888540598549537), (162, 0.05860143896033232), (87, 0.05748858097925567), (1638, 0.05733865125164254), (2161, 0.05631145217115622), (3360, 0.05610534186409006), (1944, 0.056042649274691436), (341, 0.053839383146945134), (3734, 0.05382628467016462), (109, 0.053768136422593205), (3083, 0.05346298045488385), (2079, 0.05304048156063892), (1431, 0.05271480064166616), (1163, 0.052565063070893175), (1144, 0.052362241701449264), (2210, 0.05199436366038447), (1340, 0.050808287056539475), (1875, 0.05045378393831022), (2249, 0.049857704379827276), (1724, 0.04939880843661775), (3702, 0.04935906248175921), (737, 0.04916589565690848), (394, 0.04856403521724792), (342, 0.04803601318515271), (3321, 0.04793863547214115), (1158, 0.04774647381155764), (2338, 0.04750676684249535), (1207, 0.04750234077658576), (1288, 0.04733030334510405), (761, 0.046019115265736044), (1021, 0.0450051204843698), (2328, 0.04495805909530391), (1442, 0.04417290021824636), (890, 0.04415848419644537), (1476, 0.04414260157446481), (311, 0.04402673123236925), (2919, 0.043826145284365105), (267, 0.04322438589991308), (503, 0.04252308946689551), (360, 0.04249503249094486), (2518, 0.04238710337668881), (1683, 0.042361341158444435), (2179, 0.0421838601958638), (1934, 0.042121591874265334), (619, 0.04206323036397819), (568, 0.04193990860495263), (576, 0.04145607274433727), (1932, 0.041307223874044736), (451, 0.04098980695682684), (1307, 0.040746109785044234), (746, 0.040733940448799674), (388, 0.040702746498419276), (1870, 0.04042879481336088), (1529, 0.0403984175893645), (3122, 0.04037454333799827), (622, 0.04008354757363281), (1647, 0.040004247967317656), (752, 0.03973178970751514), (3588, 0.03945606582259328), (1290, 0.03935520339198172), (95, 0.0392687876340207), (562, 0.039250676210414386), (1561, 0.0390959815813402), (652, 0.039046229109761466), (835, 0.03872383510426395), (1571, 0.03872099896188283), (960, 0.03870111075338938), (251, 0.03860443422743422), (2296, 0.038582170390897), (842, 0.03855640978564356), (158, 0.03796961372627614), (1041, 0.03792120614222413), (1656, 0.03785002342908578), (692, 0.037769595021439825), (3245, 0.03774784065763132), (601, 0.03754829464262028), (1043, 0.03752779885624195), (932, 0.03752170675041281), (1881, 0.037478724143314227), (432, 0.03746920351140963), (1200, 0.03746797971624361), (428, 0.037426637941320666), (3114, 0.03740169444319329), (3457, 0.037385776048769116), (769, 0.037374869645859454), (393, 0.03732170737671804), (610, 0.037077725933214775), (2038, 0.037063740559612667), (1275, 0.037021423401256824), (3385, 0.03690231915145691), (0, 0.03688559038014728), (1235, 0.036656604541926735), (216, 0.036604788205949056), (768, 0.036299099788032974), (1524, 0.03626453652317042), (2014, 0.03616108455051778), (2746, 0.036100124124682574), (1719, 0.035999136064297346), (770, 0.03595986843540819), (1544, 0.03587228319830936), (631, 0.035689711383447), (257, 0.03549691222658835), (1166, 0.03520550105396809), (2480, 0.03510560071045392), (2886, 0.035040267065642096), (3719, 0.03490151206806744), (229, 0.03469944801564568), (966, 0.034661969706211486), (1936, 0.03463511295176663), (507, 0.03443480984801088), (1857, 0.034189721276195975), (3149, 0.03412148370099331), (3703, 0.03397582510332594), (1479, 0.0339131928290112), (1407, 0.033684071147776974), (431, 0.0334517643768827), (126, 0.03331000302504708), (2189, 0.033202897497567975), (386, 0.033195790339820404), (1646, 0.03290313554118332), (2599, 0.03284592260082578), (1386, 0.03260965287383884), (1225, 0.032495902802407294), (693, 0.032479681748521866), (122, 0.03238628292368742), (2879, 0.032354075994831526), (2878, 0.03229681152087706), (598, 0.032185416184244205), (1395, 0.03207129464339883), (528, 0.03204883444508867), (3361, 0.032034900060722134), (2935, 0.0318692066854387), (3264, 0.031818587399142326), (1731, 0.03177683232813238), (1277, 0.0317134200684014), (1177, 0.031681653588741386), (3648, 0.03160107143188803), (984, 0.03142783528136062), (3235, 0.03139755227020842), (1655, 0.031325431441572064), (3037, 0.031248276604093333), (3582, 0.031239529727660597), (2300, 0.031196102884830275), (2706, 0.030991301124265257), (661, 0.03095525038094863), (2301, 0.03076067986639564), (147, 0.03065537062897), (2003, 0.03064716950255501), (621, 0.030628987342546363), (1906, 0.03056923262810307), (1997, 0.030567573904136495), (2148, 0.030531954382489016), (81, 0.03051030195674523), (3057, 0.030415561426791592), (2075, 0.030391763642832414), (2972, 0.030289232013540005), (2848, 0.030276723145275262), (1643, 0.030226315321602443), (1654, 0.030218614026358406), (443, 0.030005834606470584), (3498, 0.02992421424018908), (1923, 0.029911442172038887), (2790, 0.029886231849742886), (1072, 0.029819169994398605), (1000, 0.029787978463033625), (1133, 0.029743494692151363), (101, 0.02971780624920705), (2252, 0.02963540259285743), (1281, 0.029624273432475187), (2992, 0.029621667168042834), (1555, 0.029490056574148733), (1329, 0.029440696409794142), (2239, 0.029435217618162306), (946, 0.029371462712321758), (2615, 0.029342098151322913), (2857, 0.029326115312589385), (2343, 0.02931308383639517), (3389, 0.029279697168513433), (3594, 0.029275042882782445), (1359, 0.029229860973646382), (2237, 0.029225883319731895), (1952, 0.029045394077317193), (1776, 0.029019681209243024), (3658, 0.028997169357589538), (594, 0.02899292263308756), (1920, 0.028936978880828343), (2798, 0.028840608617996064), (2360, 0.028781657258310816), (2457, 0.028669657044154313), (2547, 0.028656121119803896), (151, 0.02862150213070327), (1046, 0.02858380924048773), (3311, 0.028571694027776783), (2759, 0.02836788760066545), (436, 0.02835620230609134), (1986, 0.02835137518698699), (1726, 0.028289108515199564), (1034, 0.028276631850755303), (1653, 0.02810368696725148), (1589, 0.02808169784399784), (1543, 0.028001982874839265), (1622, 0.027854177274486858), (2268, 0.027846337594519356), (2227, 0.027825107459389653), (592, 0.02778867647229842), (2850, 0.02777129215720166), (3044, 0.027707094034670685), (1195, 0.027623121695389635), (1355, 0.027537693009963164), (3425, 0.027512173044514594), (325, 0.02749764362021201), (2660, 0.027464753664665224), (1330, 0.02741294928064797), (121, 0.027375374968439406), (1113, 0.02736065485585335), (1020, 0.02730660024362947), (2598, 0.02727765995950546), (961, 0.027133919420451676), (487, 0.027052944438686357), (1775, 0.02691757641184416), (2312, 0.02684743480864532), (306, 0.026783559786766862), (3322, 0.026782883102891626), (3592, 0.026770444424317127), (1992, 0.026729729728321775), (2736, 0.026623654281640492), (2298, 0.026619481342510166), (1575, 0.02652026333652651), (1502, 0.026477076701531797), (1581, 0.02645047961700599), (977, 0.026305750180629778), (2936, 0.026303940554189158), (2808, 0.026252883372343865), (565, 0.026225603366728654), (2047, 0.02618425984513758), (1254, 0.026180811027408078), (757, 0.026111013847065826), (2767, 0.02608329058902703), (1350, 0.0260715790547785), (2217, 0.026042005126803387), (250, 0.02600997497737713), (926, 0.025957851844064517), (1202, 0.025925859365578986), (3018, 0.025849184153107475), (1160, 0.025777940132371974), (2073, 0.02576950778673896), (55, 0.0257515271997251), (1879, 0.025746216634920334), (3118, 0.025690068236631756), (2314, 0.025627191524402355), (1074, 0.02559237670488935), (1032, 0.025564850371498554), (2374, 0.025526968770631927), (408, 0.025519363747723876), (117, 0.02544145178336426), (1787, 0.025404991937902157), (42, 0.025281683490820786), (3023, 0.025191042700686214), (1562, 0.025165517262235967), (496, 0.025101494968294096), (929, 0.025084714043171072), (3060, 0.024988112902649535), (2299, 0.024934174333527924), (3442, 0.024865720984095722), (152, 0.024815936876747265), (44, 0.02481238792556381), (1740, 0.024741211421495858), (925, 0.02470553592794956), (3359, 0.024601577154669665), (3581, 0.024600593186481258), (798, 0.02455785327285428), (459, 0.024556471677750852), (282, 0.02451938056417289), (879, 0.024509463252731248), (1092, 0.02447251929416569), (470, 0.024432075330412882), (1825, 0.024421805229452358), (106, 0.024380503371978578), (195, 0.024346693112944226), (1977, 0.02433772203920061), (1008, 0.02430123693876213), (846, 0.02415796471881762), (1114, 0.02414936100864793), (3506, 0.024144659082450087), (1454, 0.024056281035038415), (730, 0.024024627219040803), (1107, 0.024020637717727708), (217, 0.0240124936906774), (704, 0.024003163028777384), (2471, 0.023986615958189572), (2898, 0.02396988100978235), (2629, 0.023968482349829998), (524, 0.0239366544577556), (2663, 0.023892081246328196), (2894, 0.023865078927404706), (3032, 0.023809200357187633), (1358, 0.02379626637724109), (837, 0.023768492603071505), (3673, 0.02365432558901656), (3130, 0.02356195942318608), (1313, 0.023509243296865344), (1742, 0.023457644140118094), (3450, 0.02343681773510245), (663, 0.02342406431307229), (659, 0.02341915889834864), (204, 0.02341459815469552), (2352, 0.023380864609911133), (2607, 0.023214793146802568), (2913, 0.023207512467766266), (874, 0.02319846415862103), (869, 0.023163177126096664), (2795, 0.02311006602324152), (2714, 0.022978321890308285), (1187, 0.022972801923074448), (2059, 0.022943078402383), (2234, 0.022931108766171313), (3223, 0.02292342887655757), (936, 0.02290873523568006), (488, 0.02282290657173664), (724, 0.022809898511418843), (323, 0.0228020838839701), (1172, 0.022791561568198324), (461, 0.022782209991916307), (295, 0.022759626601642307), (2588, 0.0227074973070468), (1244, 0.022675911504720325), (2939, 0.022667630499151947), (1659, 0.02264714731742228), (14, 0.022647117239262257), (3310, 0.022636951701609738), (3356, 0.022629421570668953), (1834, 0.02256278165740335), (1528, 0.022524233387901292), (3120, 0.022521676542127105), (1455, 0.022487792662152867), (1040, 0.022441234938160408), (3505, 0.022351056816439598), (512, 0.022299089576609348), (1376, 0.022272101915265963), (1534, 0.02223297000492817), (1204, 0.022220896603470652), (627, 0.02220737293109282), (1103, 0.02219756998761112), (845, 0.022178622013840722), (441, 0.0221547495514508), (1780, 0.02206018298801823), (181, 0.02205709642324222), (1910, 0.021876560714365237), (435, 0.02187457799276469), (477, 0.02183286432969922), (2368, 0.02177763043920515), (1931, 0.021749909499692466), (65, 0.021732326861176435), (644, 0.02172358197910587), (1147, 0.021715861899375855), (3570, 0.0217092856279366), (3475, 0.0216961772849324), (2822, 0.021658468809473537), (1132, 0.02165369214891565), (1059, 0.02165304443229974), (383, 0.02157616739754596), (667, 0.021575517235273865), (425, 0.02156168148044777), (1417, 0.021543655010091076), (888, 0.021542616743163184), (1635, 0.021524884555324898), (2207, 0.021484198203670646), (1924, 0.021482954924772788), (1503, 0.02146513680267805), (3381, 0.021378044160512644), (2436, 0.021361993592059137), (1940, 0.021243928562152), (3188, 0.02122415756365023), (3395, 0.021207026556061333), (473, 0.021131649664982745), (2284, 0.02107828741891484), (3608, 0.020963285014701655), (2412, 0.020948090940169), (1153, 0.020912099220836873), (28, 0.02090334877371906), (937, 0.0208770739458965), (82, 0.020860002027401812), (299, 0.02084954850411056), (1342, 0.020816141093664423), (2366, 0.02077441321509845), (1973, 0.02072955813510668), (2144, 0.020718851092535687), (537, 0.020678686667115868), (773, 0.02065018639252888), (497, 0.020620183638292346), (259, 0.02061676411417708), (2214, 0.02060355192320585), (3692, 0.020576425049727773), (996, 0.020516834880044535), (335, 0.02049588975158082), (889, 0.02048507638123535), (2611, 0.02045005777311903), (3100, 0.02037616007798185), (1391, 0.020358838563093735), (2406, 0.02030251487920188), (617, 0.020271587330829833), (1116, 0.020229341436526785), (31, 0.020182667669229416), (944, 0.020137046192036493), (3714, 0.020129564923510368), (986, 0.020100716792520415), (1393, 0.02002377686397231), (1224, 0.019998717524999477), (3710, 0.019979537180052718), (3228, 0.01995685560422051), (2278, 0.019878837200857834), (3115, 0.019870816463399735), (2185, 0.019865641851533496), (811, 0.019816336397394836), (309, 0.01977996735926249), (978, 0.01975150037113483), (344, 0.019671688887548538), (927, 0.01966037663457846), (1767, 0.019655976288039508), (2222, 0.019655391676624737), (2012, 0.01964782889979708), (3263, 0.019644283772844884), (586, 0.019635509956744356), (2023, 0.019557290689075735), (2055, 0.019551911586102578), (3261, 0.019551616132176604), (3106, 0.019538149109667436), (1292, 0.019522191481970905), (191, 0.019501298016711237), (551, 0.019493404804497495), (635, 0.0194890663805955), (2617, 0.01946096119051946), (1621, 0.019445854378223514), (1623, 0.019438517308495374), (2971, 0.019426553499189626), (3294, 0.01940493016633054), (1761, 0.01940038964078144), (1005, 0.019354338446434825), (2359, 0.019284970495665514), (2002, 0.019280295754238022), (3054, 0.01924894398486772), (1266, 0.01922156756629619), (1667, 0.019202248975685485), (1693, 0.019188197449778177), (2428, 0.019178403991975866), (1723, 0.01915651824356962), (2051, 0.0191557107063062), (3355, 0.019122269238199607), (2575, 0.0190741680006277), (1361, 0.01902519197518288), (2832, 0.01902039592343219), (1478, 0.01901491216747243), (2452, 0.01899047103584239), (2071, 0.018955785806426997), (2169, 0.018942375472039072), (680, 0.01893477765509332), (1695, 0.018927865104153146), (1419, 0.018918097286845084), (2485, 0.018887216752836125), (2098, 0.01888367597527247), (791, 0.01888076198378733), (2363, 0.018834496447958277), (1701, 0.018822648082682168), (1792, 0.01881340217052332), (2153, 0.018802137756842717), (1916, 0.018799538637864648), (3579, 0.018798265976995007), (1308, 0.01876416047367929), (1227, 0.018762552494698825), (1449, 0.01876142082433314), (2190, 0.018698474352623142), (1592, 0.01869809996852661), (2543, 0.018691428977969514), (1112, 0.018676673274828165), (504, 0.01864037393315905), (1208, 0.01860361982139003), (999, 0.018579705939028624), (2674, 0.018531983765729603), (2853, 0.018521287805362198), (3276, 0.01850989380353691), (61, 0.018506859675922416), (1797, 0.018492859319698615), (2152, 0.018483024419788087), (931, 0.018448413511632754), (582, 0.018438884130616583), (340, 0.018430627867593977), (2013, 0.018392222429322876), (3474, 0.01837602450570964), (3048, 0.01837069619223956), (852, 0.018369449617574512), (2327, 0.018360417226472463), (1289, 0.01833230915932117), (552, 0.018267104074397793), (506, 0.01825152966584915), (2062, 0.018232761505921347), (766, 0.01822162374339861), (2182, 0.018216906403875407), (632, 0.018193272647506118), (24, 0.018186842739306833), (1603, 0.018166264829045067), (2923, 0.018163245132766147), (2824, 0.018151007325670494), (3152, 0.018141942647940314), (2509, 0.01811039888468495), (315, 0.018109695417316798), (1141, 0.018106315988696053), (755, 0.01808015977806628), (59, 0.018065893363327378), (580, 0.018060074564719593), (1071, 0.018055524033335782), (131, 0.017997298996020046), (1017, 0.0179283633450772), (567, 0.017842685926575834), (3391, 0.017817587665802628), (3239, 0.0177866714558316), (60, 0.017781404410803777), (1709, 0.01775985549801761), (840, 0.01775748601890845), (758, 0.017741749496003746), (3126, 0.01771142707033152), (1276, 0.017697359533665493), (1854, 0.017668283386099753), (930, 0.01765427705673041), (3460, 0.01764684533322391), (662, 0.017575327748985556), (611, 0.017572396300170205), (302, 0.01756369805991207), (301, 0.01754567444939987), (2491, 0.01754344068427437), (668, 0.017538371413352644), (3365, 0.017481718366497468), (389, 0.017462233120341758), (2103, 0.01745722324514621), (2265, 0.0174416801092372), (1265, 0.017440394733361928), (2064, 0.017422736812569894), (1850, 0.017393899252038273), (3013, 0.01738060328173903), (2715, 0.017372968586511564), (2677, 0.01734899060535778), (1963, 0.01734311684436809), (273, 0.017279232459021732), (526, 0.017260381639176068), (2259, 0.017244766140177156), (3630, 0.01721978620473512), (2609, 0.017203436732071725), (2215, 0.0172001489343023), (105, 0.017192431514036325), (589, 0.0171819578876414), (307, 0.01717665014057031), (2539, 0.01715653450015059), (1785, 0.017137147363992723), (1294, 0.017129307348026722), (245, 0.017124413598542946), (2638, 0.017095100721686577), (939, 0.01705403879469736), (2974, 0.017023155811405805), (570, 0.01701400844161776), (3121, 0.017002555589167374), (1299, 0.017000006224280814), (2707, 0.016968027574638132), (1387, 0.01696471533902648), (2831, 0.01693943293813669), (168, 0.016939032602918735), (1847, 0.01693515244042139), (1251, 0.01692825363871296), (157, 0.016920406700791438), (1868, 0.016910327467131125), (1893, 0.01688596643572766), (2954, 0.016870714586490955), (3435, 0.016869842108426198), (1122, 0.01684235753558765), (3187, 0.016839713452024688), (949, 0.01683300360159749), (806, 0.016828220062602532), (18, 0.016820398238821675), (2589, 0.01676609078600753), (505, 0.01670567325870266), (1582, 0.016695212936712417), (218, 0.016677400992582483), (3526, 0.016663791623168504), (2096, 0.01665129769858332), (3638, 0.016644599627661814), (510, 0.01664302441107901), (1700, 0.016619753865534347), (51, 0.016610445625891937), (3142, 0.016603977539200038), (439, 0.016601844495371325), (2667, 0.016601142558637438), (76, 0.016579723203902344), (324, 0.016576487698457765), (2260, 0.016573631959150528), (3279, 0.016529928645437307), (85, 0.016526258780225896), (3635, 0.016497496205306276), (70, 0.01649725857474574), (2478, 0.016489737393814534), (422, 0.016468984201158852), (698, 0.016461198136325145), (2238, 0.016439569245376602), (1314, 0.016435128445055087), (731, 0.016419681498400254), (2963, 0.01641674314777721), (2324, 0.016410958254216648), (1519, 0.016361872699366238), (2756, 0.016340883418560843), (3167, 0.016327750847429136), (1772, 0.016314141959195956), (3274, 0.01628118546607829), (849, 0.016272973684749517), (2065, 0.016254755295235755), (1445, 0.016240632434930576), (116, 0.016228753122386134), (688, 0.016213844507817127), (1078, 0.016198966020150144), (1139, 0.01619875540278135), (1484, 0.016194684687218047), (492, 0.016188281091887233), (3278, 0.016186768000147213), (2009, 0.01615456240879791), (801, 0.016110846922112704), (574, 0.016110040991540748), (2181, 0.01609352721529158), (202, 0.016080958744652228), (1994, 0.01607984883879757), (3345, 0.016056002761273783), (1748, 0.016045298823863675), (3212, 0.0160401154782836), (3224, 0.016022363921932743), (2279, 0.016018481697513305), (808, 0.01601441203097308), (2911, 0.016010244517185836), (1666, 0.015984200509327428), (1858, 0.015952362655708204), (2727, 0.015947261353182307), (2151, 0.015940202750932823), (3084, 0.015939067705884078), (3437, 0.015918402609101004), (921, 0.015903915765183272), (174, 0.015899544728952896), (626, 0.01589363656316288), (933, 0.015837895961554924), (3135, 0.01582562544218968), (239, 0.015819534831548576), (1394, 0.015817895929064976), (807, 0.015799748654613775), (1099, 0.015788483134862794), (1347, 0.015754585986556987), (802, 0.015744870940764853), (549, 0.015670203286587435), (322, 0.015634302909609172), (2046, 0.015604721854306808), (353, 0.015569668389805747), (1304, 0.015561425149971088), (2849, 0.015557230014772112), (2085, 0.01553798130728462), (743, 0.015528483318794853), (709, 0.015526297241819434), (1271, 0.015515179470982854), (3441, 0.015513533792074452), (337, 0.01550900012802146), (3098, 0.015505143120397687), (2027, 0.015504525427178154), (3479, 0.015502140069912669), (2033, 0.015474534071780947), (88, 0.01545853073122002), (3370, 0.015454651404607677), (3143, 0.01545457611706352), (403, 0.015432891433814827), (3153, 0.015429487686455355), (1720, 0.015351034816834875), (866, 0.015350959249786862), (2921, 0.015350290486242193), (1820, 0.015346118799094186), (3412, 0.015336890418957545), (1718, 0.01532121563501117), (2336, 0.01530807310327924), (1546, 0.015285066842742277), (2888, 0.015284799396370896), (935, 0.015274735136192734), (1143, 0.01526628870159413), (942, 0.015250147953957372), (1462, 0.015244069563418302), (1551, 0.015215264091767138), (111, 0.01521343880989659), (862, 0.01520285810937008), (898, 0.01520223181489751), (2303, 0.015189725443159543), (1458, 0.015157934132973457), (1390, 0.015149482305423217), (1839, 0.015143127940679795), (75, 0.015141520839872198), (640, 0.015140404815071264), (919, 0.015125038454094459), (83, 0.015105605226358908), (2070, 0.015093744606930509), (1550, 0.015069949022586685), (352, 0.015043598645112177), (2164, 0.01503352819270818), (3343, 0.015022905397197101), (2769, 0.015003970637220665), (472, 0.014919886627413358), (2581, 0.014914726237743155), (670, 0.014857344417939074), (725, 0.01485716808448306), (454, 0.014842972795779119), (860, 0.014841239775262648), (2527, 0.014836787080807386), (2836, 0.014828230546940947), (227, 0.014826674283759837), (3643, 0.014806933973679638), (3244, 0.014801254839734587), (715, 0.014786617824582005), (258, 0.014759189808758505), (120, 0.01475826239840324), (541, 0.014747264441168839), (2384, 0.014726197385952215), (3256, 0.01470574645901753), (3097, 0.01470403541601314), (2920, 0.01470324481875385), (3596, 0.014696343524655533), (2678, 0.014685742614622571), (446, 0.01466727301924221), (3486, 0.014656233869738992), (630, 0.014653990717086377), (334, 0.014652263999811519), (2778, 0.014649867624981825), (3342, 0.014626831127066291), (2066, 0.01460051022411971), (1618, 0.014599366951378073), (2261, 0.014597729223684673), (483, 0.014595130589046863), (979, 0.014589864303166476), (3693, 0.014582380506493952), (3297, 0.014564071364542804), (3209, 0.014544136195817965), (1806, 0.014543542578045217), (1167, 0.014525368222679885), (1728, 0.014504306326736887), (3508, 0.014497706880527117), (2155, 0.014473107363798466), (3024, 0.014442520099991772), (2115, 0.014438522080517033), (1768, 0.014437995911474055), (2295, 0.014412974791147247), (3666, 0.01441217175536282), (2383, 0.014407872395278057), (1018, 0.014388391117104563), (98, 0.014358133376592487), (514, 0.014343345738921416), (1749, 0.014338645126945274), (3002, 0.014321283998940205), (2659, 0.014309150976867552), (1384, 0.014302000049761506), (990, 0.014297494097933131), (2985, 0.014297276277882005), (2938, 0.01429615190279204), (2175, 0.01429456353012305), (3598, 0.014287514914928535), (1844, 0.01428494947952481), (1423, 0.014281645672365183), (745, 0.014274344258273444), (687, 0.014266233951767758), (885, 0.014262343291587345), (867, 0.01424328615423081), (1106, 0.014240583149241785), (1609, 0.014234436297890509), (2122, 0.014227383047005642), (3491, 0.014224974593934474), (173, 0.014215081432790256), (208, 0.014215032303346748), (3665, 0.01420531587074273), (2721, 0.014202742080061673), (1262, 0.014202240087807395), (1245, 0.014200400628332537), (3487, 0.01418565265650308), (1601, 0.014180044594239133), (1717, 0.014150700474534155), (573, 0.01414282963207873), (2180, 0.0141425691153124), (2882, 0.014122337234103473), (1475, 0.014115926749389836), (1279, 0.014115262581920179), (7, 0.014099145425574767), (1891, 0.014086976618136056), (2775, 0.014068247268774897), (556, 0.014061895881329596), (2993, 0.014060038625768417), (777, 0.014056399088045039), (2859, 0.014048811456732854), (23, 0.014043343078026621), (145, 0.01403467182244655), (2381, 0.014034030583685854), (3178, 0.014014758473599443), (3059, 0.013998559971096957), (618, 0.013970957407673724), (2926, 0.013949652030909379), (190, 0.013948034293761465), (2632, 0.013929122621537992), (639, 0.01392593490885861), (2004, 0.013922576482823138), (1190, 0.013908527748543082), (32, 0.013906061417945929), (2034, 0.013903683660062364), (2241, 0.01388594946192853), (607, 0.013866157538048852), (683, 0.013857435113482744), (2788, 0.013857040095242992), (3527, 0.013841828599175226), (319, 0.013836212088272602), (1491, 0.013784317199190673), (3672, 0.013773333578692915), (2616, 0.01376949195672849), (2540, 0.013765475877648824), (1273, 0.01366632275564705), (1054, 0.013660988657633025), (1572, 0.013624212238871185), (3131, 0.013576434958709267), (1049, 0.013528752400552721), (3139, 0.013511545849943614), (1344, 0.013445401108905007), (2697, 0.01338556053103997), (399, 0.013363296021922245), (142, 0.013353913729389709), (2110, 0.013333388010655346), (2114, 0.013332776324872906), (400, 0.013301564155933709), (1565, 0.013281097866330369), (231, 0.013223553290514691), (2373, 0.013207469001926679), (1215, 0.013199382538334671), (2904, 0.013199179495620557), (1685, 0.013182927367238256), (63, 0.013175731561276485), (2124, 0.01316422637836705), (3221, 0.0131469405112518), (407, 0.013139013471110838), (616, 0.013117338570867297), (1733, 0.013108937419918624), (2514, 0.013107013235535831), (561, 0.01310028628111605), (3081, 0.013089773822006968), (1753, 0.01308417667118671), (3368, 0.013071411993726932), (3589, 0.013069665935598994), (1249, 0.013063165890981802), (6, 0.013059235501939439), (1892, 0.013052959205909261), (1328, 0.013030585198419537), (54, 0.013021351062426079), (1751, 0.01301788121900497), (12, 0.013006434588129062), (1286, 0.012997062039013236), (2248, 0.012989909589931624), (3249, 0.012976188613378731), (848, 0.01296302389538587), (72, 0.012957302268394758), (3478, 0.012951009285939067), (3571, 0.012945146582704093), (2627, 0.012931310129302495), (3583, 0.012914893342198008), (1269, 0.012909432290741714), (2658, 0.012884663545868032), (2477, 0.012879683582978798), (2602, 0.012875496346518854), (1570, 0.012863921698398766), (171, 0.012857085473079467), (1174, 0.012831896627895962), (3225, 0.012831168682513511), (2961, 0.012829955647659819), (3566, 0.012828586207163978), (2845, 0.01282425076058644), (1433, 0.01282384233038349), (658, 0.012785647194231772), (3086, 0.012777902228488557), (2785, 0.01277698317800038), (509, 0.01275741607739654), (2803, 0.012757066137268592), (2446, 0.012742802851407487), (2943, 0.012739932746402944), (2779, 0.012714157662402852), (1545, 0.01270626427633455), (1585, 0.012696975591055197), (2201, 0.012695309234862857), (2709, 0.012671718243119252), (878, 0.012668741935440656), (850, 0.012662915315100108), (2174, 0.012654571067835432), (809, 0.012628948059117299), (665, 0.0126120938059214), (1846, 0.012605603631819232), (2929, 0.012600446707473293), (3334, 0.012589040445677387), (1222, 0.0125871620567953), (277, 0.012563713875098794), (911, 0.012562780629420817), (3662, 0.012556461989529118), (993, 0.012536746121261159), (2572, 0.012506000992769349), (2142, 0.012472614487977084), (3227, 0.012463146566056252), (1240, 0.012461166221383949), (2408, 0.01245868357415813), (1363, 0.012454707133037096), (1490, 0.012448141119002325), (3375, 0.012447482237335213), (1464, 0.012441229951698858), (2371, 0.012439502393805538), (2604, 0.012425595221986795), (995, 0.012417375988290721), (3627, 0.012402531422965688), (2011, 0.012390547158663678), (3415, 0.012390404352213492), (3424, 0.01236732172015692), (143, 0.012358666769231846), (188, 0.012356710300268402), (2093, 0.012352088529041693), (3390, 0.012348651242014924), (3217, 0.012338048412395723), (1272, 0.0123368635913267), (3446, 0.01232659550823455), (3725, 0.012318642154023585), (1236, 0.012310170742962683), (1996, 0.012302600244853126), (784, 0.012300034570672504), (1746, 0.012294460794914565), (2489, 0.012290575928249337), (1052, 0.012271839636329248), (115, 0.01226224862548795), (1014, 0.012253711959716206), (411, 0.012224016083368308), (2819, 0.012216427297781777), (847, 0.012208909741828956), (3128, 0.012207843555054828), (2340, 0.012206905743282332), (1083, 0.01220427731876067), (3016, 0.01219953063972625), (281, 0.012194332144271146), (1125, 0.01219369846688547), (35, 0.012186933838817058), (1370, 0.01217399745469971), (521, 0.012171578784023376), (887, 0.012169470725410109), (2530, 0.01216191359159946), (92, 0.012158979366903962), (240, 0.012151666403860242), (365, 0.012149365881045607), (3214, 0.01214538783284002), (300, 0.012143948828818715), (1201, 0.012139927772348815), (1140, 0.012128563789831355), (2620, 0.012116174436267816), (3615, 0.012113523592099927), (822, 0.012093410963254076), (2595, 0.012087512006060007), (3341, 0.012086064147315095), (1323, 0.012079432295768775), (2118, 0.012069440907881162), (1136, 0.012064013828051312), (923, 0.012062705973813021), (253, 0.012051300921622168), (3314, 0.012025392380148638), (1221, 0.012021571036534388), (8, 0.012021032077714293), (2887, 0.012014385464822148), (3148, 0.012011761178584143), (3335, 0.01200406461791239), (3548, 0.01200159826924247), (2197, 0.01199975244697805), (1611, 0.01199836624823165), (547, 0.011995457489206891), (246, 0.011994654595059922), (1402, 0.011993686152072497), (623, 0.011985756559825644), (751, 0.011974946505272723), (1326, 0.011964075096008315), (3641, 0.011962132626375594), (90, 0.01195245156891632), (2820, 0.011949325616168606), (2377, 0.011946230468066515), (660, 0.011942551609945607), (34, 0.011925766965777965), (2209, 0.011920821610235057), (1142, 0.01189387920410653), (2854, 0.01188872846514549), (1687, 0.011881180067293665), (3055, 0.011876055329986607), (633, 0.011868130156948533), (1124, 0.01186744638309166), (3248, 0.011862790508998935), (2370, 0.011854718227148836), (2896, 0.011835375761680825), (1486, 0.011830885519604354), (57, 0.011820064014271953), (2495, 0.011809715235588297), (2724, 0.011805840386531666), (2931, 0.011797075593796742), (2429, 0.011796595414009358), (529, 0.011795457431858131), (242, 0.011791095526382283), (2400, 0.011772202801319971), (1011, 0.01174571306590276), (438, 0.011740004739369009), (1268, 0.011725233617622881), (1569, 0.011719821610373691), (248, 0.0117014243277347), (1967, 0.011698105936409287), (883, 0.011696305869769245), (3085, 0.011695158527541303), (498, 0.011694157626283432), (3623, 0.011690602732997067), (3102, 0.01168218453332241), (2425, 0.01167396943252982), (243, 0.011673630456958229), (3026, 0.011673610138579772), (138, 0.011666554716238097), (1697, 0.011656393296656098), (3528, 0.011637293503008118), (868, 0.011635304008734602), (2001, 0.011629213571818281), (2434, 0.011624062912739366), (2379, 0.011623717735425386), (2772, 0.01159923497843654), (2344, 0.011595949455287623), (144, 0.01159106503305981), (2280, 0.011584870620592014), (3170, 0.011584060780245969), (3289, 0.011581974197266951), (2606, 0.01157805353010605), (3194, 0.011577904104507144), (899, 0.011575353543887435), (2579, 0.01157360165305459), (1209, 0.011556706971246871), (2438, 0.011556263056362972), (1909, 0.011545881600733979), (2983, 0.01153446963541419), (2951, 0.01152861449033721), (572, 0.011521620930067448), (308, 0.011515806227518454), (2032, 0.011491102190746581), (286, 0.011490218589501871), (3074, 0.011485263240727704), (1845, 0.011484933355982545), (3338, 0.011475045166867183), (3541, 0.011470583135137654), (2224, 0.011452273779074571), (3384, 0.01144629519003086), (1823, 0.011432784912069765), (3595, 0.011429241961705517), (382, 0.011422589023566559), (3242, 0.011422170209780633), (3477, 0.011420876800524), (3584, 0.011416094552264212), (2053, 0.011415337414097837), (1019, 0.011410255954141888), (290, 0.011408688360184832), (2107, 0.011403094243066103), (720, 0.011400607515770657), (2716, 0.011389040636929595), (1468, 0.011380442546641927), (3723, 0.011369588838866384), (1104, 0.01135858563576439), (1218, 0.011357526518881703), (876, 0.011355200201518707), (3089, 0.011354498794411487), (2407, 0.011342532662921914), (3346, 0.011320731520485081), (2274, 0.01132066788035713), (1964, 0.011303230683034834), (991, 0.011287421711652383), (369, 0.011270688522922342), (292, 0.011268723209111393), (2583, 0.011267463661059922), (1648, 0.011266340245351125), (1955, 0.011256911801288506), (3082, 0.011252335868432356), (3038, 0.011245166244044017), (1978, 0.011242912944879741), (782, 0.011230787182954317), (2146, 0.011230263239854075), (499, 0.011225330213310087), (3215, 0.011209032617266575), (1261, 0.011207947019922875), (1108, 0.011206499598926655), (2443, 0.011203739423437978), (2682, 0.011199631076778991), (2453, 0.011197275599528071), (2603, 0.011192176407082345), (1743, 0.011185523485356634), (719, 0.011185390088086179), (858, 0.01118331237256302), (3094, 0.01118239890481684), (1783, 0.011182026754408169), (1057, 0.01118084884800164), (1196, 0.011147000334652015), (1838, 0.01114384184394229), (3095, 0.011143667273262284), (1023, 0.011142916886544995), (3379, 0.011140368789961446), (2163, 0.0111343460009477), (2910, 0.011126238449910947), (1914, 0.011122759057737132), (265, 0.011122551692685532), (2159, 0.011121600960732657), (437, 0.011119209266688012), (827, 0.011115492374088912), (1091, 0.011110927817188998), (3621, 0.011108941205376487), (1982, 0.011107533632508153), (1762, 0.01110194174951183), (2094, 0.011093797281693362), (831, 0.011087111732683159), (805, 0.01108235388412292), (2814, 0.011074858338247798), (2058, 0.01107291006322977), (1456, 0.011069683958991168), (3733, 0.011060498776046191), (2605, 0.01105659190906581), (2134, 0.011053231135355002), (1523, 0.011050608648642714), (1405, 0.011018486511609303), (2613, 0.011016790864107957), (1928, 0.011015339190842768), (1352, 0.011004422182388346), (2988, 0.011004032214946325), (3578, 0.011002354685513967), (2768, 0.010997587600804175), (1123, 0.010995092333823491), (398, 0.010994470330583069), (1477, 0.010992036460016385), (3613, 0.010984838144313846), (2253, 0.010978377912704854), (2035, 0.010978320729980024), (2463, 0.010976019815807331), (296, 0.010972578104144764), (91, 0.01097005804112797), (1637, 0.010965480614065683), (2413, 0.010965358540074322), (464, 0.010962203395671897), (1795, 0.01095408014551621), (2143, 0.010945785409199405), (864, 0.010940765423545114), (3642, 0.010934518552008433), (3513, 0.010933563811262616), (527, 0.010928381621971597), (3659, 0.010917417280358435), (303, 0.010916316893419875), (3240, 0.010914277136497464), (287, 0.010911603400662127), (982, 0.010909038753656005), (2671, 0.010906636782520497), (3352, 0.01089973617906918), (1827, 0.010893610867155628), (2311, 0.010893361660251271), (1960, 0.010886798643190802), (3001, 0.010879721300201596), (988, 0.01087559500475829), (1829, 0.010872944244074806), (3027, 0.010869847090655175), (1649, 0.010859378804949882), (1247, 0.010857895624822332), (2578, 0.010856640784686119), (3402, 0.010845503775931615), (381, 0.01084185396878841), (2566, 0.010832533242203856), (3185, 0.010819606816690716), (3182, 0.01081903713465909), (1318, 0.010817457336749828), (2751, 0.01081576515844801), (674, 0.010813695621644505), (1642, 0.010809373055140905), (401, 0.01079502510676902), (2873, 0.010788645062385459), (1192, 0.010786959464833388), (1917, 0.010758192516451014), (3110, 0.010757407719923465), (321, 0.01075497553026722), (3265, 0.010753728781842126), (1822, 0.010753417968782864), (114, 0.01075060800276242), (1145, 0.010746403828265064), (1661, 0.01073980386251896), (3183, 0.01073291806213662), (1, 0.010732773884911277), (1259, 0.010724704935220385), (1533, 0.010723184343735927), (1614, 0.010721104380678798), (2771, 0.010720691057697277), (136, 0.010717816920402006), (2266, 0.010705187520853667), (794, 0.010701476282780908), (615, 0.0106958633858715), (177, 0.01068471061113553), (2958, 0.010675847399728721), (1630, 0.010670739877197053), (271, 0.010662922072192972), (3467, 0.010661463408428684), (77, 0.01065458353156334), (1002, 0.010654051874036187), (2980, 0.010653358177922057), (1631, 0.010637957919273407), (2173, 0.010635783108162367), (2488, 0.010634036292578544), (1274, 0.010625323644665063), (2569, 0.010620342676765558), (1788, 0.010604366103345721), (941, 0.01059014792456526), (2401, 0.010585381079206223), (2287, 0.010574932723172111), (3427, 0.010573590671596146), (553, 0.010562892706773118), (566, 0.01055565196813225), (532, 0.01055527963056263), (1485, 0.010550643085974839), (2088, 0.010548899313802759), (1349, 0.010545191307479235), (1605, 0.010531841695787091), (304, 0.010524986643482184), (612, 0.01052249995840222), (703, 0.010511204563954149), (2010, 0.010505811197583417), (2522, 0.010497391542481187), (2982, 0.010494415363672734), (713, 0.010492170777576335), (2523, 0.010489204581969338), (3222, 0.0104883879258162), (3061, 0.010487765762311325), (1473, 0.010485090911882409), (460, 0.010482299116776245), (779, 0.010476939861700642), (1675, 0.010472207661646606), (314, 0.010462256078035286), (2787, 0.010460962166972614), (2317, 0.01045646063903946), (3351, 0.010450297535981899), (787, 0.010443738866231702), (3358, 0.01044080022207827), (2744, 0.01043305419558501), (3473, 0.010428280306826965), (2762, 0.010423171114817397), (3653, 0.010423113987352624), (3015, 0.01041898041253319), (1915, 0.010397237337557135), (2865, 0.010395328138520774), (3687, 0.010391362421024801), (924, 0.010389360419711141), (1494, 0.010388342978643862), (591, 0.010387133640437973), (2487, 0.010385526914733729), (3042, 0.01038519229874851), (2838, 0.01038502963784127), (2774, 0.010369708257776169), (1921, 0.01036038298437469), (2421, 0.010359923618353526), (3258, 0.010338691292263986), (2008, 0.01033743476412618), (3500, 0.010333398936204776), (3166, 0.01031136961364985), (164, 0.010309821264997882), (276, 0.010281867516663984), (1335, 0.010276758813640919), (2431, 0.01027329151035512), (554, 0.01027181681109381), (1804, 0.010266110406422405), (2362, 0.01026303609305142), (2515, 0.010240340325144568), (1089, 0.010232553898164538), (2361, 0.010225986332528678), (829, 0.010216591722195186), (1203, 0.010214710175636268), (1704, 0.010209719826227037), (1959, 0.010205597912496242), (2292, 0.010204260849443387), (262, 0.010175323016116436), (1968, 0.010157841705577568), (548, 0.010156787020975626), (1794, 0.010150373448199813), (219, 0.010129255521932345), (294, 0.010117059281914049), (1366, 0.010112780367524929), (1434, 0.010111204774760034), (983, 0.010107178400959739), (3324, 0.010087263216871051), (329, 0.010084283971537695), (1884, 0.010074791318676843), (669, 0.010072205778357874), (46, 0.010071645755135748), (785, 0.010066353001539033), (1573, 0.010051340193953453), (590, 0.010050150280890022), (13, 0.010044823515759454), (2846, 0.010028393337326724), (636, 0.010023399196068424), (332, 0.010011152431016055), (1591, 0.010009619752758298), (1841, 0.00999358910956123), (3140, 0.009992413228192288), (673, 0.009988116568882242), (1481, 0.009985558226982622), (2517, 0.00998201566179748), (2686, 0.009965022796650819), (560, 0.009952954462493141), (2685, 0.00995269779486076), (1752, 0.00994434527990983), (2, 0.009941982019048418), (2409, 0.009925104114809714), (39, 0.009919908448651154), (3603, 0.00990771249001068), (2160, 0.009907372417166518), (1984, 0.009899007053440222), (440, 0.009882668889766986), (493, 0.009878486107378744), (3035, 0.00985934365105216), (1552, 0.009858681028796099), (263, 0.009849147779343469), (3272, 0.009838099409686586), (1220, 0.009834589915551032), (3376, 0.009819617277075381), (2333, 0.009816100787846081), (873, 0.009809413635446428), (804, 0.0098088550342634), (1574, 0.009794397387259852), (2346, 0.009784288199368005), (2576, 0.009783193637876516), (66, 0.009781856632927844), (2306, 0.009779196383643681), (1338, 0.009778075151117454), (313, 0.009770515451721931), (3492, 0.00977042841277564), (2341, 0.00976810693683569), (637, 0.009764530557132809), (270, 0.009752302982566751), (2664, 0.009751542409695153), (2777, 0.009732588254515699), (430, 0.009730773451365367), (3072, 0.009723653623892835), (1331, 0.009722652246116063), (672, 0.009721276190921571), (2419, 0.009713612052521985), (3377, 0.009709774472740532), (343, 0.009700987898477285), (3512, 0.009690746325267677), (884, 0.009685510490270848), (3267, 0.0096844483678899), (2669, 0.009678394860241213), (2743, 0.00967741377017705), (843, 0.009666854618405493), (699, 0.009661222865253765), (3262, 0.009658548285665394), (3181, 0.009650352032973842), (2806, 0.009643416015563677), (3675, 0.009636517778421099), (1712, 0.009634698858728972), (1399, 0.00962615540207816), (1126, 0.009619196542862559), (1404, 0.009591859132149287), (2558, 0.009583710809090755), (2968, 0.009577491316411824), (2883, 0.009576270910323993), (2687, 0.009575349411800297), (1151, 0.009556467356860828), (1117, 0.009556431342370315), (2305, 0.009543627708619466), (964, 0.009540504306985564), (1912, 0.009528823420926147), (685, 0.009524575367462651), (2445, 0.00952206092671784), (2473, 0.009517546336713083), (79, 0.009512482458110805), (3414, 0.009512325622022474), (1958, 0.00950759746233261), (2835, 0.009489223786905528), (1027, 0.009461081216762993), (1933, 0.009459033926058619), (103, 0.009458862537082417), (832, 0.009444617337240151), (269, 0.009427850333402299), (2892, 0.009424306714201823), (2688, 0.00940718550982201), (3205, 0.009383981136950343), (678, 0.009379124083555897), (1229, 0.009378999910598719), (288, 0.009314742739539384), (2833, 0.009291482989362762), (1148, 0.009287344036314784), (595, 0.009274913189773321), (1600, 0.00925781878367849), (2722, 0.009257314738827165), (1525, 0.009234448677318879), (2272, 0.009232959353939448), (1865, 0.00922953211407781), (172, 0.00917989738672648), (744, 0.009178237753799246), (1232, 0.009172632327317678), (186, 0.009165531284981779), (3287, 0.009152236608147757), (1194, 0.009143596738467825), (2976, 0.009134470471526015), (2991, 0.00912439704630185), (3597, 0.009111591008495897), (1527, 0.009105271531983653), (1946, 0.009100007977319831), (1887, 0.009096481181231566), (434, 0.009082366149441395), (1855, 0.00906795252727367), (3199, 0.009064255179889735), (1842, 0.009058578558055384), (3157, 0.009050455384172089), (671, 0.009041413232399272), (1231, 0.009030830142506923), (3069, 0.009016094468158237), (1367, 0.009014095676644664), (150, 0.009009099541246963), (651, 0.008995069872840782), (2586, 0.008967127584481599), (235, 0.008959574690239312), (3654, 0.008953754892974293), (139, 0.008951151587112554), (959, 0.008947729577563599), (2293, 0.008921657596729997), (789, 0.00890895133098733), (3701, 0.008904722295706824), (3047, 0.008881003318851017), (2513, 0.008872844449865308), (2228, 0.008872201442284913), (3029, 0.008841336522356958), (2486, 0.008837491313321332), (3649, 0.008809460204549356), (58, 0.008779013102866946), (1824, 0.008773836040094997), (1081, 0.008771951598651717), (380, 0.008769584311032842), (396, 0.008768006161847138), (1362, 0.00874710539459905), (1535, 0.008734175623847602), (800, 0.008724024236566718), (676, 0.008719833904188406), (2996, 0.008703811621008993), (3481, 0.00869231258159369), (3, 0.008680662688723244), (2447, 0.008643266837486077), (1250, 0.008619110580950405), (2465, 0.008562707936422016), (414, 0.008547369445956956), (1896, 0.008541873898663024), (2025, 0.008526161253167656), (134, 0.00851434598930876), (2758, 0.008492718482629672), (2733, 0.00848909279251284), (2410, 0.008470479676491536), (2242, 0.008449489300998146), (1696, 0.008444803048187805), (520, 0.008406481930062102), (918, 0.008401856128837334), (778, 0.008398134769534524), (3663, 0.008378913496538902), (741, 0.008377384454340187), (903, 0.008311933594113611), (2133, 0.008291026280208466), (786, 0.008280170630847804), (2977, 0.008245909663590406), (110, 0.008236358866157307), (458, 0.008236073409833794), (1812, 0.008218585310946255), (148, 0.008202402230074965), (289, 0.008187956276770054), (1807, 0.00818144513366656), (1184, 0.008163464499550896), (3369, 0.008158499634070327), (603, 0.008110263136491913), (2676, 0.008036042185343461), (3726, 0.00802010384066655), (156, 0.008017903497081825), (3544, 0.007988653579323378), (1607, 0.007985701318207349), (1137, 0.007910914142368023), (2141, 0.007900184150466514), (694, 0.00787958206882273), (3307, 0.007863058725943334), (3230, 0.007794991844126299), (2223, 0.007793090012518918), (415, 0.007775829442251284), (1633, 0.007746198665123825), (347, 0.007727781426992433), (3300, 0.007711404867911184), (1617, 0.007618588736555177), (1514, 0.007616478420964335), (3326, 0.007608562104276002), (3190, 0.007571452003730676), (2984, 0.007556026296227857), (2332, 0.007549282168756336), (1833, 0.007506013173413813), (2792, 0.007488735788815557), (3154, 0.007431770368719646), (3462, 0.007403201587109267), (3021, 0.00738058078029), (546, 0.007378981669131855), (3562, 0.007358425976019173), (2944, 0.007334188026180489), (2503, 0.00732435392582678), (3609, 0.007272388015546899), (264, 0.007222502302876356), (2378, 0.00721005839513875), (1378, 0.0071858416038772955), (228, 0.007177369757015156), (647, 0.007175865348405541), (865, 0.0071505240343557475), (1280, 0.0071433071230444555), (278, 0.007121075925417036), (1354, 0.0071090921503703915), (16, 0.007105976900328582), (3293, 0.007100646403840506), (279, 0.007099102704365202), (2270, 0.007089774668109743), (2662, 0.00708925719171888), (3203, 0.00704475118495339), (379, 0.007032175980331602), (2349, 0.00703114541038203), (856, 0.007002145167650842), (871, 0.006991375181058667), (555, 0.0069795517050024606), (2864, 0.006960650802924392), (3484, 0.00695629845340314), (3564, 0.006952903268337472), (2041, 0.006946953152736138), (1064, 0.006932278537729375), (2200, 0.006901038610781021), (205, 0.006888725608567703), (1801, 0.00688770213064783), (1736, 0.006884100491129143), (1095, 0.006876722174172416), (26, 0.006863116608641675), (2297, 0.006857272955766507), (52, 0.006847360155947567), (53, 0.006845633992688778), (1343, 0.006802502955413216), (280, 0.006796988595713077), (3394, 0.0067759432997903804), (2621, 0.006775241723221708), (2100, 0.006768145934824324), (2544, 0.006767169690126), (3380, 0.006756322255474183), (3695, 0.006739200642741198), (2553, 0.006729532186257377), (1278, 0.0067059518026419875), (1629, 0.006694011163788332), (1181, 0.006692518876767324), (2204, 0.006673977434237574), (3030, 0.006671214133128417), (3542, 0.00666959367147919), (3661, 0.00666155948554829), (938, 0.006648943896460353), (2770, 0.006633223585198142), (226, 0.00661871226372878), (1922, 0.006609056883415376), (2796, 0.00660797565654642), (1598, 0.006607943956516471), (2375, 0.006603840285702339), (1444, 0.006601719803786204), (2842, 0.006550443267777837), (1374, 0.00654339673181514), (2584, 0.006542249444558832), (2593, 0.006521384894392278), (3647, 0.006510738777651143), (3660, 0.006509369058377502), (3397, 0.006503578406631218), (861, 0.0064986441305513705), (1878, 0.00648384584482787), (3234, 0.006471745004510363), (1460, 0.006466398889499942), (2145, 0.006442829908983661), (1482, 0.006441155609160726), (1705, 0.006417192049732603), (3445, 0.006412967531369181), (3284, 0.006407878826180255), (958, 0.0063973543363090146), (2700, 0.006389122467331949), (2078, 0.00636788670933422), (385, 0.0063597557313264715), (43, 0.006354195195964725), (2449, 0.006351441750178963), (1579, 0.00634055976140112), (3501, 0.006339450840629137), (3247, 0.006335139922311005), (870, 0.0063295198121315), (1597, 0.00632244884851703), (2076, 0.0063170044102077), (3711, 0.006314825570066022), (2188, 0.0063135240973553955), (3532, 0.006306462756367431), (2243, 0.006299197052388422), (2844, 0.0062985973654419046), (2506, 0.006291500141354467), (127, 0.006282750510006074), (3036, 0.006279216984909283), (196, 0.0062778751498615), (2574, 0.006260604718742656), (1252, 0.006256197056819085), (2949, 0.0062551178883344626), (721, 0.006245308298977794), (1022, 0.006238458953473234), (1029, 0.006235930950978797), (2952, 0.006226953792661695), (2987, 0.006226108064287962), (691, 0.006225421918691429), (1553, 0.00621445957661423), (717, 0.006213791455694869), (1817, 0.006198238227999796), (2416, 0.006195951950045384), (695, 0.006187012174199248), (1409, 0.0061868024558638605), (1298, 0.006186158021659984), (1154, 0.00618320409155532), (1146, 0.0061826180717576), (1401, 0.006182037406984402), (2630, 0.0061787602574715815), (1620, 0.006162205792621348), (1138, 0.006157841752211207), (2354, 0.006149331773560946), (963, 0.006136259378620699), (3046, 0.006132809711580275), (620, 0.006121404429882726), (293, 0.0061157546661841705), (3053, 0.0061157332722227955), (1239, 0.006112367172905876), (36, 0.0061107371413322955), (1377, 0.00610695451503421), (2350, 0.006089768144443405), (1345, 0.006080321300973633), (2681, 0.0060758290960279075), (2701, 0.006074949962640157), (3690, 0.006074617722954609), (1182, 0.006073213913508405), (80, 0.006071374916761051), (1999, 0.006069405113811862), (484, 0.006064783061422318), (754, 0.0060629068972302995), (1050, 0.0060628096128439), (2176, 0.006057609055178862), (934, 0.006039073264937386), (1632, 0.006038752537110584), (3607, 0.0060375853964597746), (3520, 0.006030344982337797), (2907, 0.006026220454719398), (1382, 0.006021444290173333), (1721, 0.006020763544617788), (2542, 0.006018830395519058), (1430, 0.006016715539122368), (3200, 0.0060166215579021505), (2246, 0.0060137640505490975), (646, 0.005997950170154834), (2199, 0.005996376456009054), (482, 0.005988317638109737), (2106, 0.00598153521251084), (1821, 0.005976004044298349), (2717, 0.005974937254838434), (1518, 0.005968137535349232), (419, 0.005959816945285113), (1929, 0.0059553304343926815), (1487, 0.0059548384999136795), (1310, 0.005939104419346663), (1420, 0.005931316593845787), (1715, 0.005924667778373051), (2557, 0.005920264865461747), (1135, 0.005915593706855803), (1033, 0.0059148111327487676), (21, 0.005913979326318338), (1703, 0.005908387385817691), (1972, 0.005906265627719648), (255, 0.005902984486389497), (1557, 0.005902285799289877), (2411, 0.0059010954634993), (1223, 0.005901061011140335), (732, 0.005897792323675146), (1406, 0.005896828876869219), (3728, 0.005896210567370202), (1664, 0.00588971059468104), (2537, 0.005883320050137071), (1672, 0.005880818411131615), (700, 0.00587874455638245), (2841, 0.005870474282128841), (2005, 0.0058643746677091175), (155, 0.005848086705084163), (1381, 0.005847556975399607), (1024, 0.005846356324574864), (2794, 0.005837305248932912), (3708, 0.005836542246057685), (1882, 0.0058324869603585995), (1755, 0.005822889832617935), (474, 0.005821296095773665), (1989, 0.005820269014556952), (215, 0.0058152262124304245), (56, 0.005812181182433773), (3561, 0.005812070040600733), (3147, 0.005811789184632168), (836, 0.005811121696560217), (2345, 0.005803303578086885), (2184, 0.005793627494255822), (2829, 0.005792294552913179), (1226, 0.005791845058402187), (2817, 0.005786129858599461), (3329, 0.005766226296515893), (268, 0.005765686866488407), (3393, 0.0057656542124278785), (2538, 0.005763123156434941), (1549, 0.00575849884898208), (3320, 0.005738406703476019), (2720, 0.005736302892050001), (2493, 0.005728499140905345), (2548, 0.005727245056507357), (2855, 0.005719427042151591), (135, 0.005717669578680253), (1650, 0.0057144631617509056), (2113, 0.005711508371035568), (1843, 0.0057013170017249665), (232, 0.0056989358852095155), (1905, 0.005692796665400462), (2191, 0.005690997857876011), (2692, 0.005682924684486813), (1888, 0.005679486760586193), (124, 0.005678089950325571), (476, 0.005675389561048835), (3175, 0.005672642872211747), (1985, 0.00566233232622706), (2067, 0.005652995958502473), (656, 0.005648886871114996), (997, 0.005648860760230962), (37, 0.0056424079940923435), (1930, 0.005638098541204711), (880, 0.0056341197097752455), (1584, 0.005628645493156906), (1606, 0.005619444918854512), (1161, 0.005618028203138879), (2856, 0.00561583032077442), (1532, 0.0056061391010846055), (2776, 0.005606001552230395), (3317, 0.005601213372760751), (2647, 0.005595105161153508), (1852, 0.005574800712842302), (3565, 0.005571204360430175), (284, 0.005565978684216049), (1938, 0.005565261630042631), (3113, 0.005565006520623964), (99, 0.005555673788123281), (1811, 0.0055413767131431545), (1392, 0.005540329649139072), (2947, 0.005535559343840985), (153, 0.005528264160123909), (2418, 0.005521848740445065), (1521, 0.0055199550764959944), (169, 0.005519568912964665), (3280, 0.005515742354300944), (2288, 0.005509875178472694), (3327, 0.0055062361707656346), (2828, 0.005504059512793564), (3676, 0.005500061193012173), (333, 0.0054998693980494616), (3517, 0.005499457228512673), (706, 0.005498290943740864), (9, 0.005498083192474922), (1418, 0.005489673918956668), (2386, 0.005483735353144554), (2691, 0.005481512815875906), (2897, 0.005480771528344817), (1073, 0.0054787695797729515), (2006, 0.005476131356815075), (1596, 0.005473227033733696), (1285, 0.005472422189607056), (2745, 0.005466947316192709), (1908, 0.005458960762750215), (538, 0.005457745697026378), (913, 0.0054573832526706575), (1576, 0.00545580685993549), (3456, 0.005455239290348489), (222, 0.00545288147875971), (1320, 0.005451053214666035), (2698, 0.005449600589572276), (783, 0.005449478427702639), (2732, 0.005449064513743969), (2502, 0.00544506909973623), (1530, 0.005444799236684033), (1210, 0.0054444939368660005), (2456, 0.005444172617853464), (3031, 0.005433399125075375), (119, 0.005429301703880376), (3305, 0.005428038763279953), (823, 0.005426567996218746), (2505, 0.005425214395145693), (3306, 0.005422231963464497), (2839, 0.005420433548431542), (1874, 0.0054179850388274605), (1588, 0.005416520553738428), (3040, 0.005410137190349082), (2484, 0.0054096509622218215), (475, 0.0054038539033594395), (1001, 0.005400634187858915), (2956, 0.0053956273332151465), (2325, 0.005391755785637628), (3522, 0.005388605102335295), (3312, 0.005386356391021602), (614, 0.005378501696574458), (3173, 0.005377315009588576), (1206, 0.0053752682115388835), (3096, 0.00537258150532748), (1396, 0.005367027312089012), (479, 0.005365742713230818), (2946, 0.00536479138299453), (2031, 0.005363683944486607), (3129, 0.005357324737485307), (3547, 0.005353632067813784), (1595, 0.005352839977058763), (606, 0.005352396437930434), (892, 0.00535005780505084), (844, 0.005349395234612095), (1900, 0.005344990921446038), (3271, 0.005339283827784676), (1851, 0.005337811164387961), (1969, 0.00533597944467446), (1448, 0.005334626433546072), (2256, 0.005333553729397314), (940, 0.005324998739256914), (1786, 0.005324642152079268), (901, 0.005323885187945787), (853, 0.005323288667991281), (41, 0.005322928151560698), (1904, 0.005322279278254002), (2891, 0.005321394291836165), (947, 0.005316726257119209), (2955, 0.005315635129573527), (1594, 0.005315472592159552), (2868, 0.00529576905506854), (2490, 0.005293317150498439), (418, 0.005291064803907412), (2981, 0.005289529692873189), (206, 0.005288366295069338), (2565, 0.005287927000583423), (2823, 0.005276586790221964), (3732, 0.005275708386516278), (3174, 0.005273264786063042), (2672, 0.005272868874806293), (1474, 0.005272609484507305), (1368, 0.005265345434354986), (780, 0.005265036418695591), (839, 0.005263076775473021), (915, 0.005258748804648139), (968, 0.005250369513597689), (1383, 0.005249729064589359), (2851, 0.005248706448863448), (855, 0.005248462317381352), (3563, 0.005246318615996481), (1375, 0.005243428763015531), (2393, 0.005236757437594753), (1432, 0.005236414013630557), (1353, 0.005231281321018708), (2168, 0.005226979638126124), (3407, 0.00522191320979924), (354, 0.005219162900687689), (1309, 0.005213379853399672), (519, 0.005212106998052329), (2608, 0.00521144452337005), (1729, 0.005209734762778678), (1698, 0.005201627040783293), (1943, 0.00520116869064714), (2748, 0.005193470885800444), (834, 0.005190983981267782), (2631, 0.005184546122433121), (3103, 0.005181863069420477), (3518, 0.005181583816218582), (1919, 0.005176614510915209), (3208, 0.005175524722439908), (1385, 0.0051733924285343), (2019, 0.005171113577463295), (165, 0.005170133887675822), (3193, 0.005168587310624542), (803, 0.005163411576329443), (2601, 0.005161274471609349), (241, 0.005160970092983656), (1416, 0.005158045975448259), (2634, 0.0051518701417901155), (3720, 0.005147076791594773), (2922, 0.005139537479776662), (2704, 0.0051340251847050945), (3396, 0.005129694469406522), (478, 0.005119027692556386), (166, 0.005118074912708741), (3206, 0.005117592607927423), (2773, 0.005114680979462497), (1339, 0.005114470525705346), (129, 0.005105014579815995), (170, 0.005104745454661465), (1179, 0.005101444853505409), (3109, 0.005097258373478454), (2415, 0.005096740701012754), (2675, 0.005094531594086653), (1297, 0.005084961294549434), (3226, 0.005083736814358007), (1053, 0.005080438441836855), (2918, 0.005079816181192767), (3034, 0.0050791624171490695), (3619, 0.0050738268919860805), (1337, 0.005070665647062607), (2903, 0.00506478133497321), (3229, 0.0050627335363923045), (2439, 0.005060637309902436), (3530, 0.005056951884888469), (2394, 0.0050560166434544035), (3347, 0.005054779658965148), (953, 0.005054201069950585), (1777, 0.005046412789179265), (2392, 0.005044968137790157), (1173, 0.005044190880031113), (2521, 0.005043596944051062), (3251, 0.005041899701464077), (3266, 0.005041319693881233), (2628, 0.005040265005759703), (1987, 0.0050393188931872925), (3066, 0.0050318433557505525), (2597, 0.005031242479900721), (1211, 0.005030734419703045), (3455, 0.005029052378365297), (2712, 0.005027614772908179), (2957, 0.005020829271060981), (2310, 0.005018475687424702), (38, 0.0050164561916965665), (513, 0.005016031361555216), (571, 0.005007001978025419), (3269, 0.005001114040433853), (2625, 0.00499247873904232), (3268, 0.004991536573579739), (3419, 0.004990898340873376), (424, 0.004986205421425014), (2424, 0.004982857668488167), (3601, 0.0049818584309512005), (2030, 0.004979221591107718), (2757, 0.004976939843615552), (2084, 0.004966328462349273), (2948, 0.004964541670971612), (3730, 0.004963850622008816), (638, 0.004963452593229457), (2618, 0.004962750462262538), (1127, 0.004953959948071865), (1993, 0.004953826551900587), (1105, 0.004950079983885198), (1149, 0.004949743695387148), (1424, 0.004946025744553798), (3466, 0.004945898689653942), (1853, 0.004940639758125093), (3195, 0.004937626455291308), (525, 0.004936325421915158), (2156, 0.0049316420434623335), (1168, 0.004929671209390683), (1608, 0.0049294763224772215), (3270, 0.0049279539241341205), (975, 0.004927342361210011), (3656, 0.0049253212821091345), (3555, 0.0049241500834563455), (3169, 0.00491222317227889), (2154, 0.004910017675962051), (1056, 0.004908137773115807), (203, 0.004902682541751385), (989, 0.0048986956562181855), (2809, 0.0048934148954928825), (3689, 0.0048915593672965475), (463, 0.004891482946803289), (3093, 0.004885025114869675), (3614, 0.004883168533166697), (1425, 0.004873270056899311), (2852, 0.004872103955560874), (2953, 0.004867863027333785), (2339, 0.004866613405394843), (3429, 0.004866007683415732), (2396, 0.004862640796361754), (2137, 0.00485984350744008), (896, 0.004850490115845797), (2766, 0.00484863170924294), (1808, 0.004846877786540252), (3039, 0.004840492948100126), (455, 0.004840070838995), (3651, 0.004837484266289504), (2504, 0.004837455096367783), (2726, 0.004836060662607762), (3325, 0.00483483560783448), (2157, 0.00482353446222529), (3626, 0.004818734455588638), (159, 0.004818477126990988), (976, 0.004814620293092596), (762, 0.0048099028211819085), (3464, 0.004808659749602052), (3716, 0.004801805762252428), (2150, 0.004783867601780551), (1548, 0.004783820935300577), (421, 0.004780525157325712), (2702, 0.004779934621095554), (3073, 0.004772553560169003), (3144, 0.004769623690062499), (3558, 0.004766694723892483), (410, 0.0047647169832912145), (161, 0.004753757895138289), (583, 0.0047486167328423265), (375, 0.004748616221308988), (2444, 0.004748431764426922), (3470, 0.0047449180966863125), (3373, 0.004743852291262958), (361, 0.004741199887144284), (1560, 0.004736513539377955), (2331, 0.004733467121962628), (2086, 0.00472458968479619), (1155, 0.00472357285994743), (2510, 0.004717732661910254), (1566, 0.0047173347257162416), (2244, 0.004717288316728758), (1380, 0.0047139232506417566), (2610, 0.004712426351669969), (2731, 0.004707987760030411), (2649, 0.004697884540460411), (3138, 0.004691699461025557), (2081, 0.004688410695074519), (3051, 0.004680249740277729), (750, 0.004676646803589787), (907, 0.004676039414864874), (2899, 0.0046614507804373356), (998, 0.0046591993761223105), (2319, 0.00465840403317078), (2730, 0.004655980245600128), (788, 0.004655031663965038), (3503, 0.004653324705446957), (1175, 0.004648980812317714), (2561, 0.004647904833379632), (3275, 0.004644617060535088), (179, 0.004643778127440925), (523, 0.004638627567761448), (2693, 0.004635825509818736), (1373, 0.00463372193409894), (917, 0.004627063301898181), (140, 0.004626409476963782), (3502, 0.00462249487589114), (358, 0.004609794378132664), (256, 0.0046093730299110874), (1974, 0.004608851905624978), (2482, 0.004607182568690234), (2057, 0.004606917074793224), (2885, 0.004597059273820498), (1426, 0.00459252230689542), (1242, 0.004591679906807443), (20, 0.004591214317861938), (3637, 0.004590656832680151), (1082, 0.004586823977625409), (3019, 0.004586694817901831), (3688, 0.004584883857244065), (104, 0.004580690342550385), (416, 0.004571896305477101), (3213, 0.004567126950917635), (792, 0.004564543818660155), (3590, 0.004562848783063261), (740, 0.004558067060955293), (2028, 0.004551960682419031), (2752, 0.004551814947806481), (1864, 0.0045517312059549075), (3313, 0.004543399895674603), (648, 0.004543263254146892), (312, 0.004542852883938561), (1169, 0.004539337212045974), (3685, 0.004538133766983338), (682, 0.0045361168812123745), (390, 0.004533058155409799), (1219, 0.004531919688035164), (1063, 0.004530764900524958), (3211, 0.004523595283720586), (2979, 0.004519723271534638), (3556, 0.004517963741504859), (1015, 0.004516540234833485), (2290, 0.004515448757017385), (718, 0.004515122983480419), (3301, 0.004513769953175945), (3489, 0.004513191570923788), (2818, 0.004509958250391871), (1765, 0.004503980013219515), (11, 0.004496990375007899), (2467, 0.0044964666130114335), (2652, 0.004494088244007157), (2978, 0.004493929675242682), (3165, 0.00449136512537245), (2546, 0.004488514730560776), (1243, 0.0044836752964174656), (1025, 0.004481738164657484), (3077, 0.0044796680539549525), (575, 0.00447916383734523), (1577, 0.004470571667569864), (3151, 0.0044698809279505175), (3374, 0.004464878862886914), (2016, 0.004462813151644414), (3145, 0.00446191956998837), (2807, 0.004457188984997032), (2754, 0.004455368827905014), (3671, 0.004455286647200328), (542, 0.0044456269003890336), (2388, 0.0044450485861012735), (1918, 0.004439417472798263), (564, 0.004437761540283601), (2965, 0.004435100556775028), (1890, 0.0044345795510370946), (2643, 0.0044258300474842496), (3020, 0.004419768348613084), (1764, 0.004418091252063794), (3184, 0.004416732638496588), (1831, 0.004414809814671877), (3186, 0.0044123416394256446), (2476, 0.004412177708332311), (3323, 0.004410630090939637), (449, 0.004410563671512405), (3012, 0.004405671530719603), (3180, 0.004405078576187487), (2534, 0.004398949102693608), (1398, 0.004398330223259999), (1109, 0.004388418998645716), (821, 0.0043878698150120335), (1741, 0.004383862976389699), (3416, 0.004383331675870231), (2640, 0.004378238206824478), (3080, 0.004371680055110614), (1750, 0.00437119358770642), (298, 0.0043709765655908246), (2128, 0.00437063658328045), (3125, 0.004369781474289794), (2654, 0.004367953999688349), (193, 0.004365891913857579), (73, 0.004364683569324846), (2420, 0.004364151850364772), (350, 0.004362027300109653), (2104, 0.00435990377348594), (3439, 0.004358954994395297), (3468, 0.0043581499599487815), (3253, 0.004357669378525739), (1111, 0.004356326575660123), (2805, 0.004353101201504643), (3657, 0.004349893010922731), (2994, 0.004345123038385193), (1410, 0.00434373946989522), (2285, 0.004341296882174867), (1758, 0.00433784817279657), (1925, 0.00433560611395197), (1568, 0.004334786986843547), (3699, 0.0043340837686906015), (1121, 0.004332861945405779), (423, 0.00433206546667617), (1085, 0.00432975922623234), (2121, 0.004329174889450219), (1714, 0.004328694093319356), (1739, 0.004327327108326036), (1856, 0.0043271896337745515), (714, 0.004326025049604477), (1415, 0.004325594108631208), (3210, 0.0043233019684511004), (3587, 0.004322217194597022), (828, 0.004322089342290598), (3330, 0.004320996406806008), (799, 0.004320247472172263), (2474, 0.004318932147863905), (71, 0.004318523386321251), (2874, 0.004317640328320199), (928, 0.004316871588015053), (2183, 0.004314523803815296), (429, 0.004312191967206504), (456, 0.004312128188615476), (2095, 0.004309636487445967), (2890, 0.004308375454826907), (1257, 0.004303412079057418), (33, 0.00430227687077725), (2827, 0.004301569941258628), (912, 0.004301426949378065), (3605, 0.004300399266936696), (1678, 0.004300080085827608), (3624, 0.004299105747889731), (729, 0.004296868211390972), (1640, 0.0042952171349128565), (2570, 0.004294013000829003), (539, 0.004293917361532503), (1702, 0.004292148433077249), (3078, 0.00428158732506402), (3573, 0.0042799245150483166), (1759, 0.004276463963874375), (2877, 0.004275520924694232), (372, 0.004273482911208526), (2247, 0.004272662116099006), (812, 0.004272035444102398), (237, 0.0042676803336986245), (558, 0.004266662606777342), (1926, 0.004265767332752777), (2526, 0.0042615715328846926), (857, 0.004259582764619315), (2735, 0.004258646783371796), (2564, 0.004257597240408114), (2804, 0.004256638849230273), (2837, 0.0042536517045431285), (2029, 0.004252443846432795), (3554, 0.004250473354543701), (2742, 0.0042501382295020065), (404, 0.0042486239244887425), (2990, 0.004248438082913436), (1517, 0.004240365312976617), (180, 0.00423911281409279), (1784, 0.004238925097260165), (686, 0.004238463028832756), (1180, 0.004235245729469291), (1453, 0.004234915797974517), (1747, 0.004234707679723408), (1045, 0.0042336978142085094), (2479, 0.004233661308647341), (2462, 0.004233246406212734), (2917, 0.004232280683063439), (765, 0.004232142295234736), (980, 0.004230884674680438), (2683, 0.004224885503767152), (22, 0.004223348495390256), (10, 0.004222534344622976), (167, 0.004221803632326207), (502, 0.004221622697494801), (2044, 0.004220739034550707), (3632, 0.00421805615617475), (1291, 0.004217104705636993), (49, 0.004213271707653927), (2789, 0.004210186012625222), (2037, 0.004205017111551672), (1214, 0.0042047970131855695), (3000, 0.00420018068819519), (2900, 0.004199422259204349), (602, 0.004198180769190691), (3068, 0.0041979718645452834), (2969, 0.004197597884631053), (405, 0.004195667268575309), (2641, 0.004195354107599958), (2459, 0.004192764930642134), (3538, 0.004186944881515582), (535, 0.004186782848447728), (3471, 0.004181434779802745), (2129, 0.00417755658831946), (2639, 0.0041759456902263625), (409, 0.004173122949629417), (1583, 0.004172277856087864), (1075, 0.004170994778690699), (1120, 0.0041689212820906875), (681, 0.004168575424870213), (3440, 0.004167911541484247), (3277, 0.004163467850219789), (587, 0.004162598600397047), (2843, 0.004160865697912908), (465, 0.004160702376968719), (1042, 0.004157150008013443), (3079, 0.004156905258159289), (2668, 0.004155283045479308), (543, 0.004152319912648989), (534, 0.004150385415596074), (3438, 0.0041459199043642255), (3366, 0.004144819591618915), (2364, 0.004144496877166496), (2927, 0.004143556158121531), (1036, 0.004140207578501629), (84, 0.00413896173727391), (3254, 0.0041388492058076305), (3159, 0.004138623243357962), (2989, 0.004137044744774448), (160, 0.004135409315675713), (1902, 0.004134688622009849), (2136, 0.004133399317235534), (902, 0.004133081528921419), (3629, 0.004132808145990835), (1129, 0.004130716409366016), (447, 0.004130554817332652), (3421, 0.004121215214480884), (2596, 0.004118213420203724), (223, 0.004116656565902852), (68, 0.00411372139851467), (643, 0.004112609476364201), (2934, 0.00411256225570576), (1818, 0.0041120564178270275), (471, 0.004109210234058129), (467, 0.004106246771035876), (252, 0.004106177245882812), (1062, 0.004104949277079492), (851, 0.004104266424250833), (1803, 0.0041025510163028665), (185, 0.0041013140581487905), (1413, 0.0041002622923400995), (2087, 0.004099378554697021), (3006, 0.004099234298295633), (3162, 0.004099105462880426), (2468, 0.004096923499037816), (2826, 0.004096609957848078), (366, 0.004095643333802506), (697, 0.004093285450513256), (1578, 0.0040929905988839705), (3683, 0.004091567894985825), (2825, 0.004087776661337022), (1301, 0.0040801571740997624), (2330, 0.004079632087711927), (2149, 0.004079446983353073), (2271, 0.004076087808901309), (1980, 0.004072528005242831), (891, 0.004069279537802946), (2511, 0.004069147921478071), (588, 0.004067133573214407), (1627, 0.00406330588667344), (767, 0.0040632900198787755), (2120, 0.0040628639677343925), (3337, 0.004061456716095944), (1899, 0.0040611930460598316), (2390, 0.004057818571757533), (1805, 0.004056732821390359), (1088, 0.00405610776356868), (275, 0.004053041035289905), (2080, 0.004052976662446902), (826, 0.0040517116212897275), (1540, 0.004045136503570981), (951, 0.004044626040684123), (1228, 0.004043449257939088), (2405, 0.004041020633305036), (2594, 0.004040933972406065), (1270, 0.0040385998432636416), (2323, 0.004038444618304195), (1496, 0.004037517916580816), (2881, 0.004035867850204423), (1360, 0.0040342343065981525), (645, 0.004030511500153657), (1495, 0.004026631787061111), (1941, 0.004024398107251072), (3585, 0.0040219383493209455), (2307, 0.004020959236167677), (5, 0.004019446921864555), (1069, 0.004016203799682907), (3164, 0.004014856079428953), (349, 0.0040126115010483245), (1730, 0.004010853484880128), (579, 0.004010843804686219), (1351, 0.004010640956348684), (3700, 0.004008167084568065), (3101, 0.004008105035003016), (881, 0.004006839875127549), (1356, 0.0040049709534603194), (1312, 0.0040025162330916695), (736, 0.004001377253511366), (3339, 0.004000625851146875), (3052, 0.00399810154488895), (3423, 0.003997916002398304), (2042, 0.003996261902229174), (2801, 0.003995306113149173), (3454, 0.003994683259774699), (378, 0.00399287162474853), (1508, 0.003992110577951893), (327, 0.003991345273858734), (1536, 0.003986024341588194), (1028, 0.003985442378149623), (2018, 0.003985115848246702), (2112, 0.003984945717520006), (3146, 0.003982953434714972), (2492, 0.003982438487045011), (2651, 0.003981764676359086), (2385, 0.003981186601736031), (1372, 0.003979475223254602), (943, 0.003975545834557805), (2277, 0.003974416466459878), (1437, 0.003972889915597555), (2000, 0.0039726515088232125), (328, 0.003972175810160037), (2861, 0.003969761701083474), (1738, 0.0039692931337063555), (1558, 0.003968920773364237), (3496, 0.003968212747788561), (3519, 0.003968193058141422), (2342, 0.00396619230396552), (2240, 0.003964746498612483), (2507, 0.0039624377685833255), (1324, 0.003960513276449012), (550, 0.003959488131891059), (1950, 0.0039593291088379), (2131, 0.0039561834698078994), (2193, 0.003955600294715626), (1311, 0.003954529579022493), (909, 0.003948768465943733), (3022, 0.003945314909325582), (1895, 0.003944553150554638), (910, 0.003944343297629965), (2869, 0.003943476008922416), (3523, 0.0039422259861033), (533, 0.003939452598620491), (625, 0.003939196143460171), (1157, 0.003933660816197506), (3482, 0.00393353265706943), (2525, 0.003932527533120537), (3288, 0.003932129873790177), (3108, 0.003927929417534557), (972, 0.00392772453677775), (2470, 0.003924420334522872), (1641, 0.0039240819053772075), (2206, 0.00391957835557207), (1537, 0.003918323745495506), (1670, 0.003914969847924546), (2673, 0.003913820507198393), (1037, 0.003913608647199326), (1894, 0.003911214969562375), (2781, 0.003909563237246551), (2135, 0.003907360867073451), (3204, 0.0039051063783320664), (3250, 0.003905020462182808), (3353, 0.0038988661787548898), (1860, 0.0038972509272467027), (1472, 0.0038961054291660815), (207, 0.0038957100812687935), (201, 0.0038947610682293606), (2650, 0.003893948526984568), (2723, 0.0038937642102497114), (813, 0.003892011102559646), (2221, 0.003890737025869321), (1253, 0.003890028459636832), (1333, 0.0038891497092109688), (920, 0.003888103209582133), (3299, 0.0038866047926151208), (1676, 0.003885327881163017), (3574, 0.0038813999683647857), (123, 0.0038813024679163347), (305, 0.0038805283657929314), (3616, 0.0038773535702837036), (2535, 0.0038768514487039457), (442, 0.0038756430371104517), (1365, 0.0038743434227090073), (367, 0.003874144772610282), (1076, 0.003869935233055239), (3378, 0.003867790986320376), (2725, 0.003866947439402567), (384, 0.0038643644372542653), (735, 0.0038632315789727256), (3436, 0.0038553544945730115), (50, 0.0038540869510995633), (1170, 0.0038535066917544094), (2220, 0.003852027826532804), (1837, 0.003851807410948659), (2764, 0.0038461833861678303), (2541, 0.0038439348635907937), (2708, 0.003841735171468287), (113, 0.0038394971704767264), (1604, 0.00383883096322052), (128, 0.0038379738946644213), (30, 0.0038376177303312085), (544, 0.0038354223786635083), (3515, 0.003833762989850489), (93, 0.0038333795435352308), (3507, 0.003833282713817026), (2178, 0.003832663072473313), (897, 0.0038274519236915832), (956, 0.00382618635812031), (351, 0.003825926610513466), (950, 0.003825098829173483), (1483, 0.0038224906639003882), (605, 0.0038217636392116495), (221, 0.003820824970947633), (3417, 0.0038203305364507127), (609, 0.003818392372374838), (838, 0.0038183255334343575), (3681, 0.0038183147595472126), (1459, 0.003818180522923613), (1732, 0.0038177287613575645), (3003, 0.0038161995221627767), (2403, 0.0038138262038545246), (1055, 0.0038114230069332274), (17, 0.003810607578816616), (3580, 0.0038100825470028573), (2847, 0.0038076352759398584), (108, 0.0038040532061334397), (1267, 0.0038038779795967897), (1234, 0.0038004424319911046), (557, 0.0037964434708361904), (1013, 0.0037952951050379117), (2964, 0.003792357777214993), (965, 0.003790724002502039), (2172, 0.0037900405387378605), (187, 0.003789388747646083), (3132, 0.0037885653530094483), (2186, 0.0037883497176338823), (1264, 0.003784845051403748), (2170, 0.0037837781763687666), (338, 0.0037807332117227037), (2612, 0.0037715315492949904), (3575, 0.0037694575916130237), (1619, 0.003763974689139333), (819, 0.003761572248209697), (3529, 0.00375868445158823), (3028, 0.003752933791260989), (522, 0.0037456210582772122), (1346, 0.0037450628195310537), (1480, 0.0037433249732055688), (841, 0.00374034400300994), (2562, 0.0037391489896703347), (2592, 0.0037357419210001298), (3176, 0.0037291681457653665), (3721, 0.0037285436679985826), (1316, 0.003727860183726673), (130, 0.003725652369317849), (1599, 0.0037247517736600983), (545, 0.0037222470744692026), (1470, 0.003717996554205549), (2738, 0.0037137002040106347), (1862, 0.0037080477980642617), (2728, 0.003707799050258605), (650, 0.0037065453979925186), (517, 0.003700083206839923), (2437, 0.0036974628975475297), (100, 0.0036956066879884346), (1713, 0.003691871797733033), (3344, 0.003690523996916916), (3286, 0.003686320478958027), (2276, 0.0036859561087569342), (3207, 0.0036855842785956526), (392, 0.0036819446037960157), (1580, 0.003677256126617216), (445, 0.003667721549326439), (1443, 0.003664564866734694), (2198, 0.0036616606814982894), (987, 0.003660033286108054), (2099, 0.0036598240586445687), (2782, 0.003654973201415085), (141, 0.00365456722924925), (2365, 0.0036519986361058182), (666, 0.0036513844294145266), (2932, 0.0036482740081001455), (1800, 0.003647218459279372), (2348, 0.0036447166826665523), (1096, 0.003643604065403773), (2213, 0.0036282606360604304), (249, 0.0036224651854961628), (2036, 0.003622222722744338), (1134, 0.0036218458864017704), (1084, 0.0036175590600256097), (3292, 0.0036165129975774583), (1212, 0.003613495476100223), (2821, 0.0036101442847171895), (336, 0.003606979743964997), (2802, 0.0036033157552737647), (2251, 0.0035995237132916994), (3406, 0.0035903157954162053), (2267, 0.003588587138625984), (2793, 0.003584465067282991), (448, 0.0035818578862790223), (569, 0.0035797847413108616), (1305, 0.0035725313030728354), (94, 0.0035627452175101167), (182, 0.003560758987022051), (593, 0.0035479997285193425), (753, 0.0035455186142427622), (2747, 0.0035450939473691966), (677, 0.0035450552274392004), (2203, 0.003541133143070607), (3536, 0.0035410242479354623), (3680, 0.003540155297856163), (178, 0.0035354814866685918), (15, 0.003529725007697225), (1263, 0.0035291111383974377), (3350, 0.003517832313864818), (994, 0.0035175524733726963), (795, 0.0035094347306445575), (1258, 0.0035079672514989856), (2108, 0.0035066573147613457), (1781, 0.0035019881637144436), (2167, 0.0034982490805946643), (563, 0.003494921526458615), (2858, 0.003492955892536078), (2937, 0.003490977403025855), (733, 0.0034876356553861835), (578, 0.003484149391175617), (183, 0.003483178831930217), (985, 0.0034806946982385897), (1866, 0.0034785376278104476), (2656, 0.0034767236030157386), (1970, 0.0034579612930039877), (2551, 0.0034525854912372733), (2219, 0.0034309854652387083), (1951, 0.0034289826510188674), (653, 0.0034286150764169816), (2760, 0.0034191830946150048), (2906, 0.003411136375875656), (3062, 0.003405576486229095), (1499, 0.0033994790204806475), (1199, 0.0033897873722922426), (2737, 0.003356068634331552), (2162, 0.0033527076032990265), (2483, 0.003318272286260919), (426, 0.003300488319258254), (1197, 0.0032996013187982553), (238, 0.0032640450739329528), (875, 0.0032485596565062515), (2655, 0.0032267645978649832), (330, 0.0032237177647105636), (210, 0.0031784133304962304), (559, 0.003169955733982111), (2970, 0.003126780807108541), (1522, 0.0031240687783229593), (213, 0.003096822776815867), (501, 0.0029720923202805004), (760, 0.0028679759396613427), (793, 0.00286230923974431), (125, 0.00286126449183099), (189, 0.0026664090671185826), (2226, 0.002557411830260405), (2225, 0.0018925056600644001), (4, 0.0), (19, 0.0), (25, 0.0), (27, 0.0), (29, 0.0), (40, 0.0), (45, 0.0), (47, 0.0), (48, 0.0), (62, 0.0), (64, 0.0), (67, 0.0), (69, 0.0), (74, 0.0), (78, 0.0), (86, 0.0), (96, 0.0), (97, 0.0), (102, 0.0), (107, 0.0), (112, 0.0), (118, 0.0), (132, 0.0), (133, 0.0), (137, 0.0), (146, 0.0), (149, 0.0), (154, 0.0), (163, 0.0), (175, 0.0), (176, 0.0), (184, 0.0), (192, 0.0), (194, 0.0), (197, 0.0), (198, 0.0), (199, 0.0), (200, 0.0), (209, 0.0), (211, 0.0), (212, 0.0), (214, 0.0), (220, 0.0), (224, 0.0), (225, 0.0), (230, 0.0), (233, 0.0), (234, 0.0), (236, 0.0), (244, 0.0), (247, 0.0), (254, 0.0), (260, 0.0), (261, 0.0), (266, 0.0), (272, 0.0), (274, 0.0), (283, 0.0), (285, 0.0), (291, 0.0), (310, 0.0), (316, 0.0), (317, 0.0), (318, 0.0), (326, 0.0), (331, 0.0), (339, 0.0), (345, 0.0), (346, 0.0), (348, 0.0), (355, 0.0), (356, 0.0), (357, 0.0), (359, 0.0), (362, 0.0), (363, 0.0), (364, 0.0), (368, 0.0), (370, 0.0), (371, 0.0), (373, 0.0), (374, 0.0), (376, 0.0), (377, 0.0), (387, 0.0), (391, 0.0), (395, 0.0), (397, 0.0), (402, 0.0), (406, 0.0), (412, 0.0), (413, 0.0), (417, 0.0), (420, 0.0), (427, 0.0), (433, 0.0), (444, 0.0), (450, 0.0), (452, 0.0), (453, 0.0), (457, 0.0), (462, 0.0), (466, 0.0), (468, 0.0), (469, 0.0), (481, 0.0), (485, 0.0), (486, 0.0), (489, 0.0), (490, 0.0), (491, 0.0), (494, 0.0), (495, 0.0), (500, 0.0), (508, 0.0), (511, 0.0), (515, 0.0), (516, 0.0), (518, 0.0), (530, 0.0), (531, 0.0), (536, 0.0), (540, 0.0), (577, 0.0), (581, 0.0), (584, 0.0), (585, 0.0), (596, 0.0), (597, 0.0), (599, 0.0), (600, 0.0), (604, 0.0), (608, 0.0), (613, 0.0), (624, 0.0), (628, 0.0), (629, 0.0), (634, 0.0), (641, 0.0), (642, 0.0), (649, 0.0), (654, 0.0), (655, 0.0), (657, 0.0), (664, 0.0), (675, 0.0), (679, 0.0), (684, 0.0), (689, 0.0), (690, 0.0), (696, 0.0), (701, 0.0), (702, 0.0), (705, 0.0), (707, 0.0), (708, 0.0), (710, 0.0), (711, 0.0), (712, 0.0), (716, 0.0), (722, 0.0), (723, 0.0), (726, 0.0), (727, 0.0), (728, 0.0), (734, 0.0), (738, 0.0), (739, 0.0), (742, 0.0), (747, 0.0), (748, 0.0), (756, 0.0), (759, 0.0), (763, 0.0), (764, 0.0), (771, 0.0), (772, 0.0), (774, 0.0), (775, 0.0), (776, 0.0), (781, 0.0), (790, 0.0), (796, 0.0), (797, 0.0), (810, 0.0), (814, 0.0), (815, 0.0), (816, 0.0), (817, 0.0), (818, 0.0), (820, 0.0), (824, 0.0), (825, 0.0), (830, 0.0), (833, 0.0), (854, 0.0), (859, 0.0), (863, 0.0), (872, 0.0), (877, 0.0), (882, 0.0), (886, 0.0), (893, 0.0), (894, 0.0), (895, 0.0), (900, 0.0), (904, 0.0), (905, 0.0), (906, 0.0), (908, 0.0), (914, 0.0), (916, 0.0), (922, 0.0), (945, 0.0), (948, 0.0), (952, 0.0), (954, 0.0), (955, 0.0), (957, 0.0), (962, 0.0), (967, 0.0), (969, 0.0), (970, 0.0), (971, 0.0), (973, 0.0), (974, 0.0), (981, 0.0), (992, 0.0), (1003, 0.0), (1004, 0.0), (1006, 0.0), (1007, 0.0), (1009, 0.0), (1010, 0.0), (1012, 0.0), (1016, 0.0), (1026, 0.0), (1030, 0.0), (1031, 0.0), (1035, 0.0), (1038, 0.0), (1044, 0.0), (1047, 0.0), (1048, 0.0), (1051, 0.0), (1058, 0.0), (1060, 0.0), (1065, 0.0), (1066, 0.0), (1067, 0.0), (1068, 0.0), (1070, 0.0), (1077, 0.0), (1079, 0.0), (1080, 0.0), (1086, 0.0), (1087, 0.0), (1090, 0.0), (1093, 0.0), (1094, 0.0), (1097, 0.0), (1098, 0.0), (1100, 0.0), (1101, 0.0), (1102, 0.0), (1110, 0.0), (1115, 0.0), (1118, 0.0), (1119, 0.0), (1128, 0.0), (1130, 0.0), (1131, 0.0), (1152, 0.0), (1156, 0.0), (1159, 0.0), (1162, 0.0), (1164, 0.0), (1165, 0.0), (1171, 0.0), (1176, 0.0), (1178, 0.0), (1183, 0.0), (1185, 0.0), (1186, 0.0), (1188, 0.0), (1189, 0.0), (1191, 0.0), (1193, 0.0), (1198, 0.0), (1205, 0.0), (1213, 0.0), (1216, 0.0), (1217, 0.0), (1230, 0.0), (1233, 0.0), (1237, 0.0), (1238, 0.0), (1241, 0.0), (1246, 0.0), (1248, 0.0), (1255, 0.0), (1256, 0.0), (1260, 0.0), (1282, 0.0), (1283, 0.0), (1284, 0.0), (1287, 0.0), (1293, 0.0), (1295, 0.0), (1296, 0.0), (1300, 0.0), (1302, 0.0), (1306, 0.0), (1315, 0.0), (1317, 0.0), (1319, 0.0), (1321, 0.0), (1322, 0.0), (1325, 0.0), (1327, 0.0), (1332, 0.0), (1334, 0.0), (1336, 0.0), (1341, 0.0), (1348, 0.0), (1357, 0.0), (1364, 0.0), (1369, 0.0), (1371, 0.0), (1379, 0.0), (1388, 0.0), (1389, 0.0), (1397, 0.0), (1400, 0.0), (1403, 0.0), (1408, 0.0), (1411, 0.0), (1412, 0.0), (1414, 0.0), (1421, 0.0), (1422, 0.0), (1427, 0.0), (1428, 0.0), (1429, 0.0), (1435, 0.0), (1436, 0.0), (1438, 0.0), (1439, 0.0), (1440, 0.0), (1441, 0.0), (1446, 0.0), (1447, 0.0), (1450, 0.0), (1451, 0.0), (1452, 0.0), (1457, 0.0), (1461, 0.0), (1463, 0.0), (1465, 0.0), (1466, 0.0), (1467, 0.0), (1469, 0.0), (1471, 0.0), (1488, 0.0), (1489, 0.0), (1492, 0.0), (1493, 0.0), (1497, 0.0), (1498, 0.0), (1500, 0.0), (1501, 0.0), (1504, 0.0), (1505, 0.0), (1506, 0.0), (1507, 0.0), (1509, 0.0), (1510, 0.0), (1511, 0.0), (1512, 0.0), (1513, 0.0), (1515, 0.0), (1516, 0.0), (1520, 0.0), (1526, 0.0), (1531, 0.0), (1538, 0.0), (1539, 0.0), (1541, 0.0), (1542, 0.0), (1547, 0.0), (1554, 0.0), (1556, 0.0), (1559, 0.0), (1563, 0.0), (1564, 0.0), (1567, 0.0), (1586, 0.0), (1587, 0.0), (1590, 0.0), (1593, 0.0), (1602, 0.0), (1610, 0.0), (1612, 0.0), (1613, 0.0), (1615, 0.0), (1616, 0.0), (1624, 0.0), (1625, 0.0), (1626, 0.0), (1628, 0.0), (1634, 0.0), (1636, 0.0), (1639, 0.0), (1644, 0.0), (1645, 0.0), (1652, 0.0), (1657, 0.0), (1658, 0.0), (1660, 0.0), (1662, 0.0), (1663, 0.0), (1665, 0.0), (1668, 0.0), (1671, 0.0), (1673, 0.0), (1674, 0.0), (1677, 0.0), (1679, 0.0), (1680, 0.0), (1681, 0.0), (1684, 0.0), (1686, 0.0), (1688, 0.0), (1689, 0.0), (1690, 0.0), (1691, 0.0), (1692, 0.0), (1694, 0.0), (1699, 0.0), (1706, 0.0), (1707, 0.0), (1708, 0.0), (1710, 0.0), (1716, 0.0), (1722, 0.0), (1725, 0.0), (1727, 0.0), (1734, 0.0), (1735, 0.0), (1737, 0.0), (1744, 0.0), (1745, 0.0), (1754, 0.0), (1756, 0.0), (1757, 0.0), (1760, 0.0), (1763, 0.0), (1766, 0.0), (1769, 0.0), (1770, 0.0), (1771, 0.0), (1773, 0.0), (1778, 0.0), (1779, 0.0), (1782, 0.0), (1789, 0.0), (1790, 0.0), (1791, 0.0), (1793, 0.0), (1796, 0.0), (1798, 0.0), (1799, 0.0), (1802, 0.0), (1809, 0.0), (1810, 0.0), (1813, 0.0), (1814, 0.0), (1815, 0.0), (1816, 0.0), (1819, 0.0), (1826, 0.0), (1828, 0.0), (1830, 0.0), (1832, 0.0), (1835, 0.0), (1836, 0.0), (1840, 0.0), (1848, 0.0), (1849, 0.0), (1859, 0.0), (1861, 0.0), (1863, 0.0), (1867, 0.0), (1869, 0.0), (1872, 0.0), (1873, 0.0), (1876, 0.0), (1877, 0.0), (1880, 0.0), (1883, 0.0), (1885, 0.0), (1886, 0.0), (1889, 0.0), (1897, 0.0), (1898, 0.0), (1901, 0.0), (1903, 0.0), (1907, 0.0), (1911, 0.0), (1913, 0.0), (1927, 0.0), (1935, 0.0), (1937, 0.0), (1939, 0.0), (1942, 0.0), (1945, 0.0), (1947, 0.0), (1948, 0.0), (1949, 0.0), (1953, 0.0), (1956, 0.0), (1957, 0.0), (1961, 0.0), (1962, 0.0), (1965, 0.0), (1966, 0.0), (1971, 0.0), (1975, 0.0), (1976, 0.0), (1979, 0.0), (1981, 0.0), (1983, 0.0), (1988, 0.0), (1990, 0.0), (1991, 0.0), (1995, 0.0), (1998, 0.0), (2007, 0.0), (2015, 0.0), (2017, 0.0), (2020, 0.0), (2021, 0.0), (2022, 0.0), (2024, 0.0), (2026, 0.0), (2039, 0.0), (2040, 0.0), (2043, 0.0), (2045, 0.0), (2048, 0.0), (2049, 0.0), (2050, 0.0), (2052, 0.0), (2054, 0.0), (2056, 0.0), (2060, 0.0), (2061, 0.0), (2063, 0.0), (2068, 0.0), (2069, 0.0), (2072, 0.0), (2074, 0.0), (2077, 0.0), (2083, 0.0), (2089, 0.0), (2090, 0.0), (2091, 0.0), (2092, 0.0), (2097, 0.0), (2101, 0.0), (2102, 0.0), (2105, 0.0), (2109, 0.0), (2111, 0.0), (2116, 0.0), (2117, 0.0), (2119, 0.0), (2123, 0.0), (2125, 0.0), (2126, 0.0), (2127, 0.0), (2130, 0.0), (2132, 0.0), (2138, 0.0), (2139, 0.0), (2140, 0.0), (2147, 0.0), (2158, 0.0), (2165, 0.0), (2166, 0.0), (2171, 0.0), (2177, 0.0), (2187, 0.0), (2192, 0.0), (2194, 0.0), (2195, 0.0), (2196, 0.0), (2202, 0.0), (2205, 0.0), (2208, 0.0), (2211, 0.0), (2212, 0.0), (2216, 0.0), (2218, 0.0), (2229, 0.0), (2230, 0.0), (2231, 0.0), (2232, 0.0), (2233, 0.0), (2235, 0.0), (2236, 0.0), (2245, 0.0), (2250, 0.0), (2254, 0.0), (2255, 0.0), (2257, 0.0), (2258, 0.0), (2262, 0.0), (2263, 0.0), (2264, 0.0), (2269, 0.0), (2273, 0.0), (2275, 0.0), (2281, 0.0), (2282, 0.0), (2283, 0.0), (2286, 0.0), (2289, 0.0), (2291, 0.0), (2294, 0.0), (2302, 0.0), (2304, 0.0), (2308, 0.0), (2309, 0.0), (2313, 0.0), (2315, 0.0), (2316, 0.0), (2318, 0.0), (2320, 0.0), (2321, 0.0), (2322, 0.0), (2326, 0.0), (2329, 0.0), (2334, 0.0), (2335, 0.0), (2337, 0.0), (2347, 0.0), (2351, 0.0), (2353, 0.0), (2355, 0.0), (2356, 0.0), (2357, 0.0), (2358, 0.0), (2367, 0.0), (2369, 0.0), (2372, 0.0), (2376, 0.0), (2380, 0.0), (2382, 0.0), (2387, 0.0), (2389, 0.0), (2391, 0.0), (2395, 0.0), (2397, 0.0), (2398, 0.0), (2399, 0.0), (2402, 0.0), (2404, 0.0), (2414, 0.0), (2417, 0.0), (2422, 0.0), (2423, 0.0), (2426, 0.0), (2427, 0.0), (2430, 0.0), (2432, 0.0), (2433, 0.0), (2435, 0.0), (2440, 0.0), (2441, 0.0), (2442, 0.0), (2448, 0.0), (2450, 0.0), (2451, 0.0), (2454, 0.0), (2455, 0.0), (2458, 0.0), (2460, 0.0), (2461, 0.0), (2464, 0.0), (2466, 0.0), (2469, 0.0), (2472, 0.0), (2475, 0.0), (2481, 0.0), (2494, 0.0), (2496, 0.0), (2497, 0.0), (2498, 0.0), (2499, 0.0), (2500, 0.0), (2501, 0.0), (2508, 0.0), (2512, 0.0), (2516, 0.0), (2519, 0.0), (2520, 0.0), (2524, 0.0), (2528, 0.0), (2529, 0.0), (2531, 0.0), (2532, 0.0), (2533, 0.0), (2536, 0.0), (2545, 0.0), (2549, 0.0), (2550, 0.0), (2552, 0.0), (2554, 0.0), (2555, 0.0), (2556, 0.0), (2559, 0.0), (2560, 0.0), (2563, 0.0), (2567, 0.0), (2568, 0.0), (2571, 0.0), (2573, 0.0), (2577, 0.0), (2580, 0.0), (2582, 0.0), (2585, 0.0), (2587, 0.0), (2590, 0.0), (2591, 0.0), (2600, 0.0), (2614, 0.0), (2619, 0.0), (2622, 0.0), (2623, 0.0), (2624, 0.0), (2626, 0.0), (2633, 0.0), (2635, 0.0), (2636, 0.0), (2637, 0.0), (2642, 0.0), (2644, 0.0), (2645, 0.0), (2646, 0.0), (2648, 0.0), (2653, 0.0), (2657, 0.0), (2661, 0.0), (2665, 0.0), (2666, 0.0), (2670, 0.0), (2679, 0.0), (2680, 0.0), (2684, 0.0), (2689, 0.0), (2690, 0.0), (2694, 0.0), (2695, 0.0), (2696, 0.0), (2699, 0.0), (2703, 0.0), (2705, 0.0), (2710, 0.0), (2711, 0.0), (2713, 0.0), (2718, 0.0), (2719, 0.0), (2729, 0.0), (2734, 0.0), (2739, 0.0), (2740, 0.0), (2741, 0.0), (2749, 0.0), (2750, 0.0), (2753, 0.0), (2755, 0.0), (2761, 0.0), (2763, 0.0), (2765, 0.0), (2780, 0.0), (2783, 0.0), (2784, 0.0), (2786, 0.0), (2791, 0.0), (2797, 0.0), (2799, 0.0), (2800, 0.0), (2810, 0.0), (2811, 0.0), (2812, 0.0), (2813, 0.0), (2815, 0.0), (2816, 0.0), (2830, 0.0), (2834, 0.0), (2840, 0.0), (2860, 0.0), (2862, 0.0), (2863, 0.0), (2866, 0.0), (2867, 0.0), (2870, 0.0), (2871, 0.0), (2872, 0.0), (2875, 0.0), (2876, 0.0), (2880, 0.0), (2884, 0.0), (2889, 0.0), (2893, 0.0), (2895, 0.0), (2901, 0.0), (2902, 0.0), (2905, 0.0), (2908, 0.0), (2909, 0.0), (2912, 0.0), (2914, 0.0), (2915, 0.0), (2916, 0.0), (2924, 0.0), (2925, 0.0), (2928, 0.0), (2930, 0.0), (2933, 0.0), (2940, 0.0), (2941, 0.0), (2942, 0.0), (2945, 0.0), (2959, 0.0), (2960, 0.0), (2962, 0.0), (2966, 0.0), (2967, 0.0), (2973, 0.0), (2975, 0.0), (2986, 0.0), (2995, 0.0), (2997, 0.0), (2998, 0.0), (2999, 0.0), (3004, 0.0), (3005, 0.0), (3007, 0.0), (3008, 0.0), (3009, 0.0), (3010, 0.0), (3011, 0.0), (3014, 0.0), (3017, 0.0), (3025, 0.0), (3033, 0.0), (3041, 0.0), (3043, 0.0), (3045, 0.0), (3049, 0.0), (3050, 0.0), (3056, 0.0), (3058, 0.0), (3063, 0.0), (3064, 0.0), (3065, 0.0), (3067, 0.0), (3070, 0.0), (3071, 0.0), (3075, 0.0), (3076, 0.0), (3087, 0.0), (3088, 0.0), (3090, 0.0), (3091, 0.0), (3092, 0.0), (3099, 0.0), (3104, 0.0), (3105, 0.0), (3107, 0.0), (3111, 0.0), (3112, 0.0), (3116, 0.0), (3117, 0.0), (3119, 0.0), (3123, 0.0), (3124, 0.0), (3127, 0.0), (3134, 0.0), (3136, 0.0), (3137, 0.0), (3141, 0.0), (3150, 0.0), (3155, 0.0), (3156, 0.0), (3158, 0.0), (3160, 0.0), (3161, 0.0), (3163, 0.0), (3168, 0.0), (3171, 0.0), (3172, 0.0), (3177, 0.0), (3179, 0.0), (3189, 0.0), (3191, 0.0), (3192, 0.0), (3196, 0.0), (3197, 0.0), (3198, 0.0), (3201, 0.0), (3202, 0.0), (3216, 0.0), (3218, 0.0), (3219, 0.0), (3220, 0.0), (3231, 0.0), (3232, 0.0), (3233, 0.0), (3236, 0.0), (3237, 0.0), (3238, 0.0), (3241, 0.0), (3243, 0.0), (3246, 0.0), (3252, 0.0), (3255, 0.0), (3257, 0.0), (3259, 0.0), (3260, 0.0), (3273, 0.0), (3281, 0.0), (3282, 0.0), (3283, 0.0), (3285, 0.0), (3290, 0.0), (3291, 0.0), (3295, 0.0), (3296, 0.0), (3298, 0.0), (3302, 0.0), (3303, 0.0), (3304, 0.0), (3308, 0.0), (3309, 0.0), (3315, 0.0), (3316, 0.0), (3318, 0.0), (3319, 0.0), (3328, 0.0), (3331, 0.0), (3332, 0.0), (3333, 0.0), (3336, 0.0), (3340, 0.0), (3348, 0.0), (3349, 0.0), (3354, 0.0), (3357, 0.0), (3362, 0.0), (3363, 0.0), (3364, 0.0), (3367, 0.0), (3371, 0.0), (3372, 0.0), (3382, 0.0), (3383, 0.0), (3386, 0.0), (3387, 0.0), (3388, 0.0), (3392, 0.0), (3398, 0.0), (3399, 0.0), (3400, 0.0), (3401, 0.0), (3403, 0.0), (3404, 0.0), (3405, 0.0), (3408, 0.0), (3409, 0.0), (3410, 0.0), (3411, 0.0), (3413, 0.0), (3418, 0.0), (3420, 0.0), (3422, 0.0), (3426, 0.0), (3428, 0.0), (3430, 0.0), (3431, 0.0), (3432, 0.0), (3433, 0.0), (3434, 0.0), (3443, 0.0), (3444, 0.0), (3447, 0.0), (3448, 0.0), (3449, 0.0), (3451, 0.0), (3452, 0.0), (3453, 0.0), (3458, 0.0), (3459, 0.0), (3461, 0.0), (3463, 0.0), (3465, 0.0), (3469, 0.0), (3472, 0.0), (3476, 0.0), (3480, 0.0), (3483, 0.0), (3485, 0.0), (3488, 0.0), (3490, 0.0), (3493, 0.0), (3494, 0.0), (3495, 0.0), (3497, 0.0), (3499, 0.0), (3504, 0.0), (3509, 0.0), (3510, 0.0), (3511, 0.0), (3514, 0.0), (3516, 0.0), (3521, 0.0), (3524, 0.0), (3525, 0.0), (3531, 0.0), (3533, 0.0), (3534, 0.0), (3535, 0.0), (3537, 0.0), (3539, 0.0), (3540, 0.0), (3543, 0.0), (3545, 0.0), (3546, 0.0), (3549, 0.0), (3550, 0.0), (3551, 0.0), (3552, 0.0), (3553, 0.0), (3557, 0.0), (3559, 0.0), (3560, 0.0), (3567, 0.0), (3568, 0.0), (3569, 0.0), (3572, 0.0), (3576, 0.0), (3577, 0.0), (3586, 0.0), (3591, 0.0), (3593, 0.0), (3599, 0.0), (3600, 0.0), (3602, 0.0), (3604, 0.0), (3606, 0.0), (3610, 0.0), (3611, 0.0), (3612, 0.0), (3617, 0.0), (3618, 0.0), (3620, 0.0), (3622, 0.0), (3625, 0.0), (3628, 0.0), (3631, 0.0), (3633, 0.0), (3634, 0.0), (3636, 0.0), (3639, 0.0), (3640, 0.0), (3644, 0.0), (3645, 0.0), (3646, 0.0), (3650, 0.0), (3652, 0.0), (3655, 0.0), (3664, 0.0), (3667, 0.0), (3668, 0.0), (3669, 0.0), (3670, 0.0), (3674, 0.0), (3677, 0.0), (3678, 0.0), (3679, 0.0), (3682, 0.0), (3684, 0.0), (3686, 0.0), (3691, 0.0), (3694, 0.0), (3696, 0.0), (3697, 0.0), (3698, 0.0), (3704, 0.0), (3705, 0.0), (3706, 0.0), (3707, 0.0), (3709, 0.0), (3712, 0.0), (3713, 0.0), (3715, 0.0), (3717, 0.0), (3718, 0.0), (3722, 0.0), (3724, 0.0), (3727, 0.0), (3729, 0.0), (3731, 0.0), (3735, 0.0)]\n"
          ]
        }
      ]
    },
    {
      "cell_type": "code",
      "source": [
        "# print the name of similar movies based on the index\n",
        "\n",
        "print('Top 30 Movies Suggested for You :\\ n ')\n",
        "\n",
        "i=1\n",
        "\n",
        "for movie in Sorted_Similar_Movies:\n",
        "   index = movie[0]\n",
        "   title_from_index = df [df.index==index]['Movie_Title'].values[0]\n",
        "   if (i<31):\n",
        "    print(i, '.',title_from_index)\n",
        "    i+=1"
      ],
      "metadata": {
        "id": "FnM9k7sWvi-R",
        "colab": {
          "base_uri": "https://localhost:8080/"
        },
        "outputId": "6303c3e1-20bd-4cb8-dfd3-7291d31b7922"
      },
      "execution_count": 54,
      "outputs": [
        {
          "output_type": "stream",
          "name": "stdout",
          "text": [
            "Top 30 Movies Suggested for You :\\ n \n",
            "1 . Apocalypto\n",
            "2 . Flash Gordon\n",
            "3 . Darkness\n",
            "4 . Little Shop of Horrors\n",
            "5 . The Man in the Iron Mask\n",
            "6 . Mad Max 2: The Road Warrior\n",
            "7 . Switchback\n",
            "8 . From Hell\n",
            "9 . The Count of Monte Cristo\n",
            "10 . Death Sentence\n",
            "11 . Jeff, Who Lives at Home\n",
            "12 . Assassins\n",
            "13 . Kick-Ass 2\n",
            "14 . Under the Tuscan Sun\n",
            "15 . Braveheart\n",
            "16 . A Streetcar Named Desire\n",
            "17 . Underworld: Rise of the Lycans\n",
            "18 . Wanted\n",
            "19 . Nancy Drew\n",
            "20 . AVP: Alien vs. Predator\n",
            "21 . Star Trek: Generations\n",
            "22 . Birth\n",
            "23 . This Christmas\n",
            "24 . Tomorrowland\n",
            "25 . Spy Kids 3-D: Game Over\n",
            "26 . Shrek 2\n",
            "27 . Puss in Boots\n",
            "28 . The Godfather: Part III\n",
            "29 . 12 Years a Slave\n",
            "30 . The Hammer\n"
          ]
        }
      ]
    },
    {
      "cell_type": "markdown",
      "source": [
        "# **Top 10 Movies Recommended Based on Your Favorite Movie**\n"
      ],
      "metadata": {
        "id": "f3WmuvMQyHUg"
      }
    },
    {
      "cell_type": "code",
      "source": [
        "import difflib\n",
        "\n",
        "Movie_Name = input('Enter your favorite movie name: ')\n",
        "\n",
        "list_of_all_titles = df['Movie_Title'].tolist()\n",
        "\n",
        "# Find close matches to the input movie name\n",
        "close_matches = difflib.get_close_matches(Movie_Name, list_of_all_titles)\n",
        "\n",
        "if close_matches:\n",
        "    closest_match = close_matches[0]  # Get the closest match\n",
        "    Index_of_Movie = df[df.Movie_Title == closest_match]['Movie_ID'].values[0]\n",
        "\n",
        "    Recommendation_Score = list(enumerate(Similarity_Score[Index_of_Movie]))\n",
        "\n",
        "    sorted_similar_movies = sorted(Recommendation_Score, key=lambda x: x[1], reverse=True)\n",
        "\n",
        "    print('Top 10 Movies suggested for you: \\n')\n",
        "\n",
        "    i = 1\n",
        "\n",
        "    for movie in sorted_similar_movies:\n",
        "        index = movie[0]\n",
        "        if index < len(df):\n",
        "            title_from_index = df[df.Movie_ID == index]['Movie_Title'].values[0]\n",
        "            print(i, '.', title_from_index)\n",
        "            i += 1\n",
        "        else:\n",
        "            print(\"Invalid index:\", index)\n",
        "\n",
        "        if i > 10:\n",
        "            break\n",
        "else:\n",
        "    print('No close matches found for the entered movie name.')\n"
      ],
      "metadata": {
        "id": "dzYW8eWH0tKP",
        "colab": {
          "base_uri": "https://localhost:8080/"
        },
        "outputId": "eabc5aad-56f1-42fb-e65a-c24126820a5b"
      },
      "execution_count": 55,
      "outputs": [
        {
          "output_type": "stream",
          "name": "stdout",
          "text": [
            "Enter your favorite movie name: harry potter\n",
            "Top 10 Movies suggested for you: \n",
            "\n",
            "1 . Party Monster\n",
            "2 . The Blair Witch Project\n",
            "3 . The Doors\n",
            "4 . Moby Dick\n",
            "5 . Alfie\n",
            "6 . Run, Fatboy, Run\n",
            "7 . The Replacements\n",
            "8 . A Hard Day's Night\n",
            "9 . Darkness Falls\n",
            "10 . The Animal\n"
          ]
        }
      ]
    }
  ]
}
