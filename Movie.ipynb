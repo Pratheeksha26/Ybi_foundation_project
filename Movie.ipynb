{
  "cells": [
    {
      "cell_type": "code",
      "execution_count": 1,
      "metadata": {
        "colab": {
          "base_uri": "https://localhost:8080/"
        },
        "id": "Z3EXIHovJBrA",
        "outputId": "3b3b7b5b-d351-4aad-95e0-36d567b80f42"
      },
      "outputs": [
        {
          "output_type": "stream",
          "name": "stdout",
          "text": [
            "Drive already mounted at /content/drive; to attempt to forcibly remount, call drive.mount(\"/content/drive\", force_remount=True).\n"
          ]
        }
      ],
      "source": [
        "from google.colab import drive\n",
        "drive.mount('/content/drive')"
      ]
    },
    {
      "cell_type": "code",
      "execution_count": 2,
      "metadata": {
        "id": "BhUVF2-rQPVT"
      },
      "outputs": [],
      "source": [
        "import pandas as pd"
      ]
    },
    {
      "cell_type": "code",
      "source": [
        "# Load the dataset\n",
        "file_path = '/content/drive/MyDrive/Movies Recommendation.csv'\n",
        "movies_df = pd.read_csv(file_path)"
      ],
      "metadata": {
        "id": "aBPjtd0Qr7jm"
      },
      "execution_count": 3,
      "outputs": []
    },
    {
      "cell_type": "code",
      "source": [
        "# Remove unnecessary columns\n",
        "columns_to_drop = [\n",
        "    'Movie_Homepage', 'Movie_Production_House', 'Movie_Production_Country',\n",
        "    'Movie_Spoken_Language', 'Movie_Crew'\n",
        "]\n",
        "cleaned_movies_df = movies_df.drop(columns=columns_to_drop)"
      ],
      "metadata": {
        "id": "SQ80TUlWsBQp"
      },
      "execution_count": 4,
      "outputs": []
    },
    {
      "cell_type": "code",
      "source": [
        "# Handle missing values by dropping rows with missing data\n",
        "cleaned_movies_df = cleaned_movies_df.dropna()"
      ],
      "metadata": {
        "id": "USc-JC5TsFbB"
      },
      "execution_count": 5,
      "outputs": []
    },
    {
      "cell_type": "code",
      "source": [
        "# Ensure consistency in date formats\n",
        "cleaned_movies_df['Movie_Release_Date'] = pd.to_datetime(cleaned_movies_df['Movie_Release_Date'], format='%d-%m-%Y')"
      ],
      "metadata": {
        "id": "WvfBx57TsIm9"
      },
      "execution_count": 6,
      "outputs": []
    },
    {
      "cell_type": "code",
      "source": [
        "# Display the cleaned dataset\n",
        "print(cleaned_movies_df.head())"
      ],
      "metadata": {
        "colab": {
          "base_uri": "https://localhost:8080/"
        },
        "id": "0W--yxNqsL_5",
        "outputId": "e880261f-f9d9-414e-f4ca-68f073c4cacc"
      },
      "execution_count": 7,
      "outputs": [
        {
          "output_type": "stream",
          "name": "stdout",
          "text": [
            "   Movie_ID      Movie_Title                       Movie_Genre Movie_Language  \\\n",
            "0         1       Four Rooms                      Crime Comedy             en   \n",
            "1         2        Star Wars  Adventure Action Science Fiction             en   \n",
            "2         3     Finding Nemo                  Animation Family             en   \n",
            "3         4     Forrest Gump              Comedy Drama Romance             en   \n",
            "4         5  American Beauty                             Drama             en   \n",
            "\n",
            "   Movie_Budget  Movie_Popularity Movie_Release_Date  Movie_Revenue  \\\n",
            "0       4000000         22.876230         1995-12-09        4300000   \n",
            "1      11000000        126.393695         1977-05-25      775398007   \n",
            "2      94000000         85.688789         2003-05-30      940335536   \n",
            "3      55000000        138.133331         1994-07-06      677945399   \n",
            "4      15000000         80.878605         1999-09-15      356296601   \n",
            "\n",
            "   Movie_Runtime  Movie_Vote  Movie_Vote_Count  \\\n",
            "0           98.0         6.5               530   \n",
            "1          121.0         8.1              6624   \n",
            "2          100.0         7.6              6122   \n",
            "3          142.0         8.2              7927   \n",
            "4          122.0         7.9              3313   \n",
            "\n",
            "                                      Movie_Keywords  \\\n",
            "0          hotel new year's eve witch bet hotel room   \n",
            "1        android galaxy hermit death star lightsaber   \n",
            "2  father son relationship harbor underwater fish...   \n",
            "3  vietnam veteran hippie mentally disabled runni...   \n",
            "4  male nudity female nudity adultery midlife cri...   \n",
            "\n",
            "                                      Movie_Overview  \\\n",
            "0  It's Ted the Bellhop's first night on the job....   \n",
            "1  Princess Leia is captured and held hostage by ...   \n",
            "2  Nemo, an adventurous young clownfish, is unexp...   \n",
            "3  A man with a low IQ has accomplished great thi...   \n",
            "4  Lester Burnham, a depressed suburban father in...   \n",
            "\n",
            "                                       Movie_Tagline  \\\n",
            "0  Twelve outrageous guests. Four scandalous requ...   \n",
            "1       A long time ago in a galaxy far, far away...   \n",
            "2  There are 3.7 trillion fish in the ocean, they...   \n",
            "3  The world will never be the same, once you've ...   \n",
            "4                                       Look closer.   \n",
            "\n",
            "                                          Movie_Cast   Movie_Director  \n",
            "0  Tim Roth Antonio Banderas Jennifer Beals Madon...   Allison Anders  \n",
            "1  Mark Hamill Harrison Ford Carrie Fisher Peter ...     George Lucas  \n",
            "2  Albert Brooks Ellen DeGeneres Alexander Gould ...   Andrew Stanton  \n",
            "3  Tom Hanks Robin Wright Gary Sinise Mykelti Wil...  Robert Zemeckis  \n",
            "4  Kevin Spacey Annette Bening Thora Birch Wes Be...       Sam Mendes  \n"
          ]
        }
      ]
    },
    {
      "cell_type": "code",
      "source": [
        "# Save the cleaned dataset to a new CSV file\n",
        "cleaned_movies_df.to_csv('/content/drive/MyDrive/cleaned.csv', index=False)"
      ],
      "metadata": {
        "id": "8lM5_7y9sRbP"
      },
      "execution_count": 8,
      "outputs": []
    }
  ],
  "metadata": {
    "colab": {
      "provenance": []
    },
    "kernelspec": {
      "display_name": "Python 3",
      "name": "python3"
    },
    "language_info": {
      "name": "python"
    }
  },
  "nbformat": 4,
  "nbformat_minor": 0
}